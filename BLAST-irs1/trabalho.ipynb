{
 "cells": [
  {
   "cell_type": "code",
   "execution_count": 1,
   "id": "c33fec73",
   "metadata": {},
   "outputs": [],
   "source": [
    "from Bio.Seq import Seq\n",
    "from Bio import SeqIO\n",
    "from Bio.Data import CodonTable\n",
    "from Bio.SeqRecord import SeqRecord\n",
    "from Bio import SeqFeature\n",
    "\n",
    "from Bio.Blast import NCBIXML \n",
    "from Bio.Blast import NCBIWWW "
   ]
  },
  {
   "cell_type": "markdown",
   "id": "1bbbdf8f",
   "metadata": {},
   "source": [
    "# ---------------------------------------------"
   ]
  },
  {
   "cell_type": "markdown",
   "id": "1549bc40",
   "metadata": {},
   "source": [
    "Gene = IRS1 variante rs2972144\n",
    "Fazendo pesquisa no NCBI: https://www.ncbi.nlm.nih.gov/snp/rs2972144#history\n"
   ]
  },
  {
   "cell_type": "code",
   "execution_count": 23,
   "id": "e26805cc",
   "metadata": {},
   "outputs": [],
   "source": [
    "info = SeqIO.read(\"irs1_variant_incomplete\",\"fasta\") \n",
    "seq_irs1_incomplete = info.seq #seq de nucleótidos"
   ]
  },
  {
   "cell_type": "markdown",
   "id": "d65819b1",
   "metadata": {},
   "source": [
    "Pesquisando a seq incompleta da variante IRS1, encontramos: https://www.ncbi.nlm.nih.gov/nuccore/AC062015.7?report=fasta  que não é a mesma variante"
   ]
  },
  {
   "cell_type": "code",
   "execution_count": 28,
   "id": "53866acb",
   "metadata": {},
   "outputs": [],
   "source": [
    "seq_irs1_complete = SeqIO.read(\"irs1_variante.fasta\",\"fasta\") "
   ]
  },
  {
   "cell_type": "markdown",
   "id": "42ca63aa",
   "metadata": {},
   "source": [
    "Info encontrada para essa variante: https://www.ncbi.nlm.nih.gov/pmc/?term=rs2972144%20irs1"
   ]
  },
  {
   "cell_type": "markdown",
   "id": "a6891712",
   "metadata": {},
   "source": [
    "\"One of the few T2D loci associated with insulin resistance (IR) encodes insulin receptor substrate 1 (IRS1), a key protein central to the insulin signaling pathway (3). A common genetic variant (rs2943641) in the neighborhood of IRS1 is associated with T2D, IR, and hyperinsulinemia in GWAS of Euro-pean populations, and this variant may disrupt the insulin signaling pathway.\"\n",
    "\n",
    "Conclusion: \"Participants with different genotypes of IRS1 rs2943641 exhibit differential benefit from high circulating 25(OH)D for the reduction of insulin resistance and T2D risk.\"\\\n",
    "artigo: https://www.ncbi.nlm.nih.gov/pmc/articles/PMC4026060/\n",
    "\n",
    "(Mais um artigo: https://www.ncbi.nlm.nih.gov/pmc/articles/PMC3657179/)"
   ]
  },
  {
   "cell_type": "markdown",
   "id": "e06c57e6",
   "metadata": {},
   "source": [
    "Portanto, podemos fazer alinhamento multiplo dessa variante de IRS1 com outras mais comuns. Pesquisa no pubmed com keywords: ((rs2943641) AND (irs1)) AND (diabetis): https://pubmed.ncbi.nlm.nih.gov/?term=%28%28rs2943641%29+AND+%28irs1%29%29+AND+%28diabetis%29&sort="
   ]
  },
  {
   "cell_type": "markdown",
   "id": "11ee912e",
   "metadata": {},
   "source": [
    "https://www.ebi.ac.uk/Tools/msa/clustalo/"
   ]
  },
  {
   "cell_type": "markdown",
   "id": "4b368066",
   "metadata": {},
   "source": [
    "# ---------------------------------------------"
   ]
  },
  {
   "cell_type": "markdown",
   "id": "e4a85223",
   "metadata": {},
   "source": [
    "Pesquisando \"IRS1\" em NCBI, apenas encontramos esta seq para Homo Sapiens: NG_015830.1"
   ]
  },
  {
   "cell_type": "code",
   "execution_count": 2,
   "id": "268556aa",
   "metadata": {},
   "outputs": [],
   "source": [
    "seq_irs1 = SeqIO.read(\"NG_015830_1.fasta\",\"fasta\") "
   ]
  },
  {
   "cell_type": "markdown",
   "id": "87a6551b",
   "metadata": {},
   "source": [
    "Corremo-la no blastn para encontrar sequênicas homólogas -> ficheiro my_NG_015830.1.xml"
   ]
  },
  {
   "cell_type": "code",
   "execution_count": 3,
   "id": "13343474",
   "metadata": {},
   "outputs": [],
   "source": [
    "seq = SeqIO.read(\"NG_015830_1.fasta\",\"fasta\") \n",
    "result_seq = NCBIWWW.qblast(\"blastn\", \"nt\", seq.format(\"fasta\"), entrez_query = \"Homo Sapiens[organism]\")\n"
   ]
  },
  {
   "cell_type": "code",
   "execution_count": 17,
   "id": "52f10351",
   "metadata": {},
   "outputs": [],
   "source": [
    "# Não é possível correr este script uma vez que a sequencia de NG_015830_1 é muito grande\n",
    "\n",
    "# save_file_seq = open(\"my_HS_NG_015830_1.xml\", \"w\")\n",
    "# save_file_seq.write(result_seq.read()) \n",
    "# save_file_seq.close() \n",
    "# result_seq.close()"
   ]
  },
  {
   "cell_type": "code",
   "execution_count": 18,
   "id": "2d4df50e",
   "metadata": {},
   "outputs": [],
   "source": [
    "# result_seq = open(\"my_HS_NG_015830_1.xml\")\n",
    "# blast_results = NCBIXML.read(result_seq)\n",
    "# blast_results.alignments[0]\n"
   ]
  },
  {
   "cell_type": "code",
   "execution_count": 12,
   "id": "b16f3062",
   "metadata": {},
   "outputs": [],
   "source": [
    "seq = SeqIO.read(\"irs1_variant_incomplete.fasta\",\"fasta\") \n",
    "result_seq = NCBIWWW.qblast(\"blastn\", \"nt\", seq.format(\"fasta\"), entrez_query = \"Homo Sapiens[organism]\")\n",
    "save_file_seq = open(\"blast_irs1_variant_incomplete.xml\", \"w\")\n",
    "save_file_seq.write(result_seq.read()) \n",
    "save_file_seq.close() \n",
    "result_seq.close()"
   ]
  },
  {
   "cell_type": "code",
   "execution_count": 13,
   "id": "c9c3a15a",
   "metadata": {},
   "outputs": [
    {
     "name": "stdout",
     "output_type": "stream",
     "text": [
      "gi|13677110|gb|AC062015.7| Homo sapiens BAC clone CTD-2031E17 from 2, complete sequence\n",
      "           Length = 144223\n",
      "\n",
      "gi|1083260056|ref|NG_028216.2| Homo sapiens anoctamin 10 (ANO10), RefSeqGene on chromosome 3\n",
      "           Length = 332269\n",
      "\n",
      "gi|20340478|gb|AC105903.2| Homo sapiens chromosome 3 clone RP11-606H24, complete sequence\n",
      "           Length = 186951\n",
      "\n",
      "gi|293337318|gb|AC240509.1| Homo sapiens FOSMID clone ABC14-50083900N23 from chromosome unknown, complete sequence\n",
      "           Length = 37784\n",
      "\n",
      "gi|154091212|gb|AC203630.3| Homo sapiens FOSMID clone ABC10-45505500C8 from chromosome 9, complete sequence\n",
      "           Length = 38940\n",
      "\n",
      "gi|14715668|emb|AL355975.10| Human DNA sequence from clone RP11-468C2 on chromosome 9, complete sequence\n",
      "           Length = 131705\n",
      "\n",
      "gi|1543379894|ref|NG_029119.2| Homo sapiens semaphorin 6D (SEMA6D), RefSeqGene on chromosome 15\n",
      "           Length = 597018\n",
      "\n",
      "gi|2033711141|gb|CP068263.2| Homo sapiens isolate CHM13 chromosome 15\n",
      "           Length = 99753195\n",
      "\n",
      "gi|1909942456|dbj|AP023475.1| Homo sapiens DNA, chromosome 15, nearly complete genome\n",
      "           Length = 95537968\n",
      "\n",
      "gi|212549702|ref|NG_008951.1| Homo sapiens ATR serine/threonine kinase (ATR), RefSeqGene (LRG_1403) on chromosome 3\n",
      "           Length = 136592\n",
      "\n",
      "gi|24371350|gb|AC134509.2| Homo sapiens 3 BAC RP11-427D1 (Roswell Park Cancer Institute Human BAC Library) complete sequence\n",
      "           Length = 86901\n",
      "\n",
      "gi|10186578|emb|AL359394.9| Human DNA sequence from clone RP11-264M20 on chromosome 13, complete sequence\n",
      "           Length = 137246\n",
      "\n",
      "gi|11602939|gb|AC012050.7|AC012050 Homo sapiens chromosome 15 clone RP11-552E10 map 15q21.1, complete sequence\n",
      "           Length = 191286\n",
      "\n",
      "gi|11225364|gb|AC044787.6|AC044787 Homo sapiens chromosome 15 clone CTD-2270N23 map 15q21, complete sequence\n",
      "           Length = 148147\n",
      "\n"
     ]
    }
   ],
   "source": [
    "teste = open(\"blast_irs1_variant_incomplete.xml\")\n",
    "teste_ler= NCBIXML.read(teste)\n",
    "for i in teste_ler.alignments:\n",
    "    print(i)"
   ]
  },
  {
   "cell_type": "code",
   "execution_count": 20,
   "id": "d2720f1d",
   "metadata": {},
   "outputs": [],
   "source": [
    "cds = SeqIO.read(\"cds.fasta\",\"fasta\") \n",
    "result_cds = NCBIWWW.qblast(\"blastp\", \"nr\", cds.format(\"fasta\"), entrez_query = \"Homo Sapiens[organism]\")\n",
    "save_file_cds = open(\"cds.xml\", \"w\")\n",
    "save_file_cds.write(result_cds.read()) \n",
    "save_file_cds.close() \n",
    "result_cds.close()"
   ]
  },
  {
   "cell_type": "code",
   "execution_count": 10,
   "id": "88cbfe9e",
   "metadata": {},
   "outputs": [
    {
     "name": "stdout",
     "output_type": "stream",
     "text": [
      "base de dados usada:  nr\n",
      "matriz:  BLOSUM62\n",
      "parâmetros para os espaçamentos:  (11, 1)\n"
     ]
    }
   ],
   "source": [
    "cds_xml = open(\"cds.xml\")\n",
    "cds_homo_sap= NCBIXML.parse(cds_xml)\n",
    "for info in cds_homo_sap:\n",
    "    print('base de dados usada: ', info.database)\n",
    "    print('matriz: ', info.matrix)\n",
    "    print('parâmetros para os espaçamentos: ', info.gap_penalties)\n",
    "cds_xml.close()"
   ]
  },
  {
   "cell_type": "code",
   "execution_count": 43,
   "id": "a4a5adbe",
   "metadata": {},
   "outputs": [
    {
     "name": "stdout",
     "output_type": "stream",
     "text": [
      "ID accession:  NP_005535\n",
      "identidade:  1242\n",
      "E-value:  0.0\n",
      "comprimento dos alinhamentos:  1242\n",
      "\n",
      "ID accession:  AAB21608\n",
      "identidade:  1240\n",
      "E-value:  0.0\n",
      "comprimento dos alinhamentos:  1243\n",
      "\n",
      "ID accession:  1QQG_A\n",
      "identidade:  264\n",
      "E-value:  0.0\n",
      "comprimento dos alinhamentos:  264\n",
      "\n",
      "ID accession:  AAK83053\n",
      "identidade:  421\n",
      "E-value:  3.34261e-159\n",
      "comprimento dos alinhamentos:  971\n",
      "\n",
      "identidade:  71\n",
      "E-value:  8.10643e-06\n",
      "comprimento dos alinhamentos:  219\n",
      "\n",
      "ID accession:  AAK66751\n",
      "identidade:  421\n",
      "E-value:  2.63985e-158\n",
      "comprimento dos alinhamentos:  971\n",
      "\n",
      "identidade:  71\n",
      "E-value:  8.82272e-06\n",
      "comprimento dos alinhamentos:  219\n",
      "\n",
      "ID accession:  NP_003740\n",
      "identidade:  421\n",
      "E-value:  2.69495e-158\n",
      "comprimento dos alinhamentos:  971\n",
      "\n",
      "identidade:  71\n",
      "E-value:  8.82272e-06\n",
      "comprimento dos alinhamentos:  219\n",
      "\n",
      "ID accession:  AAK66750\n",
      "identidade:  421\n",
      "E-value:  2.69508e-158\n",
      "comprimento dos alinhamentos:  971\n",
      "\n",
      "identidade:  71\n",
      "E-value:  8.82397e-06\n",
      "comprimento dos alinhamentos:  219\n",
      "\n",
      "ID accession:  KAI4063792\n",
      "identidade:  421\n",
      "E-value:  2.98818e-158\n",
      "comprimento dos alinhamentos:  971\n",
      "\n",
      "identidade:  71\n",
      "E-value:  9.36052e-06\n",
      "comprimento dos alinhamentos:  219\n",
      "\n",
      "ID accession:  EAX09105\n",
      "identidade:  421\n",
      "E-value:  4.79944e-158\n",
      "comprimento dos alinhamentos:  971\n",
      "\n",
      "identidade:  71\n",
      "E-value:  9.38011e-06\n",
      "comprimento dos alinhamentos:  219\n",
      "\n",
      "ID accession:  BAA24500\n",
      "identidade:  417\n",
      "E-value:  4.19846e-157\n",
      "comprimento dos alinhamentos:  971\n",
      "\n",
      "identidade:  70\n",
      "E-value:  4.35092e-05\n",
      "comprimento dos alinhamentos:  219\n",
      "\n",
      "ID accession:  AAD21531\n",
      "identidade:  418\n",
      "E-value:  8.59507e-155\n",
      "comprimento dos alinhamentos:  971\n",
      "\n",
      "identidade:  71\n",
      "E-value:  1.05365e-05\n",
      "comprimento dos alinhamentos:  219\n",
      "\n",
      "ID accession:  AHG12644\n",
      "identidade:  132\n",
      "E-value:  9.48496e-88\n",
      "comprimento dos alinhamentos:  133\n",
      "\n",
      "ID accession:  AHG12643\n",
      "identidade:  132\n",
      "E-value:  1.17142e-87\n",
      "comprimento dos alinhamentos:  133\n",
      "\n",
      "ID accession:  AHG12642\n",
      "identidade:  132\n",
      "E-value:  1.52124e-87\n",
      "comprimento dos alinhamentos:  133\n",
      "\n",
      "ID accession:  AGG19177\n",
      "identidade:  138\n",
      "E-value:  4.68806e-81\n",
      "comprimento dos alinhamentos:  140\n",
      "\n",
      "ID accession:  XP_006724776\n",
      "identidade:  171\n",
      "E-value:  2.07218e-77\n",
      "comprimento dos alinhamentos:  405\n",
      "\n",
      "ID accession:  NP_001366079\n",
      "identidade:  171\n",
      "E-value:  2.07218e-77\n",
      "comprimento dos alinhamentos:  405\n",
      "\n",
      "ID accession:  NP_003595\n",
      "identidade:  171\n",
      "E-value:  2.1441e-77\n",
      "comprimento dos alinhamentos:  405\n",
      "\n",
      "ID accession:  XP_011529363\n",
      "identidade:  171\n",
      "E-value:  2.94904e-77\n",
      "comprimento dos alinhamentos:  405\n",
      "\n",
      "ID accession:  1IRS_A\n",
      "identidade:  111\n",
      "E-value:  8.18833e-73\n",
      "comprimento dos alinhamentos:  111\n",
      "\n",
      "ID accession:  AGG19176\n",
      "identidade:  119\n",
      "E-value:  1.41272e-68\n",
      "comprimento dos alinhamentos:  120\n",
      "\n",
      "ID accession:  5U1M_A\n",
      "identidade:  104\n",
      "E-value:  9.42178e-67\n",
      "comprimento dos alinhamentos:  105\n",
      "\n",
      "ID accession:  AGG19175\n",
      "identidade:  77\n",
      "E-value:  1.58788e-42\n",
      "comprimento dos alinhamentos:  79\n",
      "\n",
      "ID accession:  NP_536739\n",
      "identidade:  36\n",
      "E-value:  1.7883e-07\n",
      "comprimento dos alinhamentos:  137\n",
      "\n",
      "ID accession:  XP_024304550\n",
      "identidade:  31\n",
      "E-value:  5.25568e-07\n",
      "comprimento dos alinhamentos:  118\n",
      "\n",
      "ID accession:  XP_016863457\n",
      "identidade:  26\n",
      "E-value:  5.43809e-05\n",
      "comprimento dos alinhamentos:  89\n",
      "\n",
      "ID accession:  XP_016863455\n",
      "identidade:  26\n",
      "E-value:  5.61022e-05\n",
      "comprimento dos alinhamentos:  89\n",
      "\n",
      "ID accession:  KAI2536027\n",
      "identidade:  27\n",
      "E-value:  0.00207536\n",
      "comprimento dos alinhamentos:  89\n",
      "\n",
      "ID accession:  EAW76521\n",
      "identidade:  26\n",
      "E-value:  0.00451219\n",
      "comprimento dos alinhamentos:  85\n",
      "\n",
      "ID accession:  AAC78802\n",
      "identidade:  26\n",
      "E-value:  0.00624346\n",
      "comprimento dos alinhamentos:  85\n",
      "\n"
     ]
    }
   ],
   "source": [
    "cds_xml = open(\"cds.xml\")\n",
    "cds_homo_sap= NCBIXML.parse(cds_xml)\n",
    "for parametros in cds_homo_sap:\n",
    "    for info in parametros.alignments:\n",
    "        print(\"ID accession: \", info.accession) \n",
    "        #print('descrição: ', info.hit_def)\n",
    "        for hsp in info.hsps:\n",
    "            print('identidade: ',hsp.identities)\n",
    "            print('E-value: ', hsp.expect)\n",
    "            print('comprimento dos alinhamentos: ', hsp.align_length)\n",
    "            print()"
   ]
  },
  {
   "cell_type": "code",
   "execution_count": 48,
   "id": "06234d23",
   "metadata": {},
   "outputs": [
    {
     "name": "stdout",
     "output_type": "stream",
     "text": [
      "30\n",
      "2\n",
      "[1, 1, 1, 2, 2, 2, 2, 2, 2, 2, 2, 1, 1, 1, 1, 1, 1, 1, 1, 1, 1, 1, 1, 1, 1, 1, 1, 1, 1, 1]\n"
     ]
    }
   ],
   "source": [
    "cds_xml = open(\"cds.xml\")\n",
    "cds_homo_sap= NCBIXML.parse(cds_xml)\n",
    "for parametros in cds_homo_sap:\n",
    "    print(len(parametros.alignments))\n",
    "    print(max([len(parametros.alignments[a].hsps) for a,b in enumerate (parametros.alignments)]))\n",
    "    print([len(parametros.alignments[a].hsps) for a,b in enumerate (parametros.alignments)])"
   ]
  }
 ],
 "metadata": {
  "kernelspec": {
   "display_name": "Python 3 (ipykernel)",
   "language": "python",
   "name": "python3"
  },
  "language_info": {
   "codemirror_mode": {
    "name": "ipython",
    "version": 3
   },
   "file_extension": ".py",
   "mimetype": "text/x-python",
   "name": "python",
   "nbconvert_exporter": "python",
   "pygments_lexer": "ipython3",
   "version": "3.9.12"
  }
 },
 "nbformat": 4,
 "nbformat_minor": 5
}
