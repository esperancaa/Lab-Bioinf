{
 "cells": [
  {
   "cell_type": "code",
   "execution_count": 1,
   "id": "0c9892e7",
   "metadata": {},
   "outputs": [],
   "source": [
    "from Bio.Blast import NCBIXML \n",
    "from Bio.Blast import NCBIWWW\n",
    "import requests, sys, json\n",
    "import re\n",
    "from Bio import SeqIO\n",
    "from Bio import Entrez\n",
    "from Bio import Medline\n",
    "import pandas as pd\n",
    "import numpy as np\n",
    "from tqdm import tqdm\n",
    "from Bio import SearchIO\n",
    "from Bio.SwissProt import KeyWList\n",
    "from Bio import SwissProt\n",
    "from Bio import ExPASy\n",
    "from Bio.SeqRecord import SeqRecord\n",
    "from Bio.Align import MultipleSeqAlignment\n",
    "from Bio.Seq import Seq\n",
    "from Bio import AlignIO\n",
    "from Bio.Align.Applications import ClustalwCommandline\n",
    "from Bio.Align import AlignInfo\n",
    "from Bio.SeqFeature import SeqFeature, FeatureLocation\n",
    "from Bio.Phylo.TreeConstruction import DistanceCalculator\n",
    "from Bio.Phylo.TreeConstruction import DistanceTreeConstructor\n",
    "from Bio import Phylo"
   ]
  },
  {
   "cell_type": "markdown",
   "id": "1cc2e238",
   "metadata": {},
   "source": [
    "# Alignment and Phylo"
   ]
  },
  {
   "cell_type": "code",
   "execution_count": 5,
   "id": "cb0d86e2",
   "metadata": {
    "scrolled": true
   },
   "outputs": [
    {
     "name": "stdout",
     "output_type": "stream",
     "text": [
      "\"C:\\Program files (x86)\\ClustalW2\\clustalw2\" -infile=ddx18_blastp_file.fasta\n"
     ]
    }
   ],
   "source": [
    "\n",
    "dir =r'C:\\Program files (x86)\\ClustalW2\\clustalw2'\n",
    "in_file =r'ddx18_blastp_file.fasta'\n",
    "\n",
    "clustalw_cline = ClustalwCommandline(dir, infile=in_file)\n",
    "clustalw_cline()\n",
    "print(clustalw_cline)\n"
   ]
  },
  {
   "cell_type": "code",
   "execution_count": 6,
   "id": "c52a0097",
   "metadata": {},
   "outputs": [
    {
     "data": {
      "text/plain": [
       "ClustalwCommandline(cmd='clustalw', infile='ddx18_blastp_file.fasta', outfile='ddx18_blastp_file.aln')"
      ]
     },
     "execution_count": 6,
     "metadata": {},
     "output_type": "execute_result"
    }
   ],
   "source": [
    "cline = ClustalwCommandline(\"clustalw\", infile=\"ddx18_blastp_file.fasta\", outfile=\"ddx18_blastp_file.aln\")\n",
    "cline"
   ]
  },
  {
   "cell_type": "code",
   "execution_count": 7,
   "id": "06a05285",
   "metadata": {},
   "outputs": [
    {
     "name": "stdout",
     "output_type": "stream",
     "text": [
      "CLUSTAL 2.1 multiple sequence alignment\n",
      "\n",
      "\n",
      "_A4R8B5_Pyricularia_oryzae_70-      -------MDDRSSKKRKLKDVNGAKASGAATDVTV-------KPKKLKKA\n",
      "_Q7S2N9_Neurospora_crassa_OR74      -------MASEFSKKRKLKDAKIATEDGAATDK---------KTKKVKKD\n",
      "_A2Q9T6_Aspergillus_niger_CBS_      ---MPIPVDTAKSINKKRKRKHGARAATDADDASPKPAVENGETTEVTET\n",
      "_A3LNR6_Scheffersomyces_stipit      ---------MAKNVNSKANGKKSGSVKRALKEK------------KQPEP\n",
      "Q9NVP1_Homo_sapiens                 MSHLPMKLLRKKIEKRNLKLRQRNLKFQGASNLTLSETQNGDVSEETMGS\n",
      "_Q8K363_Mus_musculus                MSQLQMKLLRRKIEKRNAKLRQRNLKLQETSDTSLSQPQNGDVPKETGKG\n",
      "                                                  : : :  :         :             :    \n",
      "\n",
      "_A4R8B5_Pyricularia_oryzae_70-      QSQEEVEP--------KVEKGSKKEEEE-----NDWSDEEENEAADDAGH\n",
      "_Q7S2N9_Neurospora_crassa_OR74      KKEKKAAE--------EVVEDATPEEE------NDAQKAEEQQDGDEVIP\n",
      "_A2Q9T6_Aspergillus_niger_CBS_      PTEKKSKK--------KAAKESEKEEKPKKRKVDDSSNEDENDSEEEVRE\n",
      "_A3LNR6_Scheffersomyces_stipit      EFSDSEDD--------EVDQEKLVEEL------DEDFDEVANMLGADVTD\n",
      "Q9NVP1_Homo_sapiens                 RKVKKSKQKPMNVGLSETQNGGMSQEAVGNIKVTKSPQKSTVLTNGEAAM\n",
      "_Q8K363_Mus_musculus                GKVKKALKRSVPVDSAEAQSGGMPEETLENGKVKKSPQKLTTLANGEAAP\n",
      "                                       ..           :. .    :*        .  .        :.  \n",
      "\n",
      "_A4R8B5_Pyricularia_oryzae_70-      SSD--SDVDEGDDTIAAPAKEADGD--------------IPGDLTLPTTA\n",
      "_Q7S2N9_Neurospora_crassa_OR74      TGN--GDKEDSDDKDAEAGDELT----------------KTNDSLIAPSI\n",
      "_A2Q9T6_Aspergillus_niger_CBS_      ADP--EDEDDNEGKEDGNGADLP-----------------SLDAVRLPQT\n",
      "_A3LNR6_Scheffersomyces_stipit      PEE--KKQSKLERKRKRD-EEATAE--------------YTKPEVVDNED\n",
      "Q9NVP1_Homo_sapiens                 QSS-NSESKKKKKKKRKMVNDAEPDTKKAKTENKGKSEEESAETTKETEN\n",
      "_Q8K363_Mus_musculus                TPPPDSEVKKKKKKKRKMANDAGPDTKKAKT-------EESAEACEEPED\n",
      "                                          . .. . .      :                   .         \n",
      "\n",
      "_A4R8B5_Pyricularia_oryzae_70-      ES-----------------------EAQAFSELN--LSENTMKAIEEMGF\n",
      "_Q7S2N9_Neurospora_crassa_OR74      AT-----------------------NATDFSELN--LSDKTMKAIAEMGF\n",
      "_A2Q9T6_Aspergillus_niger_CBS_      DG-----------------------EPKKFTELN--LSEKTMKGIQDMGF\n",
      "_A3LNR6_Scheffersomyces_stipit      DA-----------------------QNDKFEDAG--LSEPTMRAISDMGF\n",
      "Q9NVP1_Homo_sapiens                 NVEKPDNDEDESEVPSLPLGLTGAFEDTSFASLCNLVNENTLKAIKEMGF\n",
      "_Q8K363_Mus_musculus                DVKKAD----DSEVPSLPLGLTGAFEDTSFASLSNLVNENTLKAIEEMGF\n",
      "                                                             :   * .    :.: *::.* :***\n",
      "\n",
      "_A4R8B5_Pyricularia_oryzae_70-      TKMTEIQRRGIPPLLAGKDVLGAAKTGSGKTLAFLIPAVEMLRSLKFKPR\n",
      "_Q7S2N9_Neurospora_crassa_OR74      TKMTEIQRRGIPPLLAGKDVLGAAKTGSGKTLAFLIPAIEMLSSLRFKPR\n",
      "_A2Q9T6_Aspergillus_niger_CBS_      ETMTEIQQRTIPPLLAGRDVLGAAKTGSGKTLSFLIPAVEMLSALRFKPR\n",
      "_A3LNR6_Scheffersomyces_stipit      KTMTKVQAKTIPPLLAGKDVLGAAKTGSGKTLAFLIPAIELLYSLKFKPR\n",
      "Q9NVP1_Homo_sapiens                 TNMTEIQHKSIRPLLEGRDLLAAAKTGSGKTLAFLIPAVELIVKLRFMPR\n",
      "_Q8K363_Mus_musculus                KRMTEIQHKSIRPLLEGRDLLAAAKTGSGKTLAFLIPVIELIVKLKFMPR\n",
      "                                      **::* : * *** *:*:*.**********:****.:*::  *:* **\n",
      "\n",
      "_A4R8B5_Pyricularia_oryzae_70-      NGTGVIVVSPTRELALQIFGVARDLMKHHSQTYGIVIGGANRRAEAEKLS\n",
      "_Q7S2N9_Neurospora_crassa_OR74      NGTGAIVVTPTRELALQIFGVARELMKNHSQTYGVVIGGANRRAEAEKLG\n",
      "_A2Q9T6_Aspergillus_niger_CBS_      NGTGVLVVSPTRELALQIFGVARELMAHHSQTYGIVIGGANRRAEAEKLT\n",
      "_A3LNR6_Scheffersomyces_stipit      NGTGVIVVSPTRELALQIFGVARELMAHHTQTFGIVIGGANRRQEAEKLA\n",
      "Q9NVP1_Homo_sapiens                 NGTGVLILSPTRELAMQTFGVLKELMTHHVHTYGLIMGGSNRSAEAQKLG\n",
      "_Q8K363_Mus_musculus                NGTGVLILSPTRELAMQTFGVLKELMTHHVHTYGLIMGGSNRSAEVQKLL\n",
      "                                    ****.::::******:* *** ::** :* :*:*:::**:**  *.:** \n",
      "\n",
      "_A4R8B5_Pyricularia_oryzae_70-      KGVNLLIATPGRLLDHLQNTP-FVFKNLRSLVIDEADRILEIGFEDEMRQ\n",
      "_Q7S2N9_Neurospora_crassa_OR74      KGVNLLIATPGRLLDHLQNTP-FVFKNMRSLIIDEADRILEIGFEDEMRQ\n",
      "_A2Q9T6_Aspergillus_niger_CBS_      KGVNLLIATPGRLLDHLQNTPGFVFKNLKTLVIDEADRILEVGFEDEMRQ\n",
      "_A3LNR6_Scheffersomyces_stipit      KGVNLLIATPGRLLDHLQNTQGFVFKNLKALVIDEADRILEIGFEEEMKQ\n",
      "Q9NVP1_Homo_sapiens                 NGINIIVATPGRLLDHMQNTPGFMYKNLQCLVIDEADRILDVGFEEELKQ\n",
      "_Q8K363_Mus_musculus                NGINIIVATPGRLLDHMQNTPGFMYKNLQCLVIDEADRILDVGFEEELKQ\n",
      "                                    :*:*:::*********:***  *::**:: *:********::***:*::*\n",
      "\n",
      "_A4R8B5_Pyricularia_oryzae_70-      IIKILPKE-RQSMLFSATQTTKVEDLARVSLRPGPLYLNVDEEKEYSTVE\n",
      "_Q7S2N9_Neurospora_crassa_OR74      IIKILPKEDRQTMLFSATQTTKVEDLARISLRPGPLYVNVDEEKQFSTVE\n",
      "_A2Q9T6_Aspergillus_niger_CBS_      IVKILPSEERQTMLFSATQTTKVEDLARISLRPGPLYINVDHRKEHSTVE\n",
      "_A3LNR6_Scheffersomyces_stipit      IIKILPKEERQSMLFSATQTTKVEDLARISLRPGPLYINVVPETAASTAD\n",
      "Q9NVP1_Homo_sapiens                 IIKLLPTR-RQTMLFSATQTRKVEDLARISLKKEPLYVGVDDDKANATVD\n",
      "_Q8K363_Mus_musculus                IIKLLPAR-RQTMLFSATQTRKVEDLARISLKKEPLYVGVDDDKEVATVD\n",
      "                                    *:*:** . **:******** *******:**:  ***:.*   .  :*.:\n",
      "\n",
      "_A4R8B5_Pyricularia_oryzae_70-      GLEQGYVVCEADKRFILLFSFLQKMKKKKIIVFFSSCNSVKYYAELLNYI\n",
      "_Q7S2N9_Neurospora_crassa_OR74      GLDQGYVVVDADKRFLLLFSFLKKMQKKKVIVFFSSCNSVKYYSELLQYI\n",
      "_A2Q9T6_Aspergillus_niger_CBS_      GLEQGYVICEADKRFLLLFSFLKRNLKKKIIVFFSSCNCVKYHAELLNYI\n",
      "_A3LNR6_Scheffersomyces_stipit      GLEQGYVVCDSDKRFLLLFSFLKKYSKKKIIVFLSSCNSVKYFGELLNYI\n",
      "Q9NVP1_Homo_sapiens                 GLEQGYVVCPSEKRFLLLFTFLKKNRKKKLMVFFSSCMSVKYHYELLNYI\n",
      "_Q8K363_Mus_musculus                GLEQGYVVCPSEKRFLLLFTFLKKNRKKKVMVFFSSCMSVKYHYELLNYI\n",
      "                                    **:****:  ::***:***:**::  ***::**:*** .***. ***:**\n",
      "\n",
      "_A4R8B5_Pyricularia_oryzae_70-      DCQVLDLHGKQKQQKRTNTFFEFCNADRGTLICTDVAARGLDIPAVDWIV\n",
      "_Q7S2N9_Neurospora_crassa_OR74      DLQVLDLHGKQKQQKRTNTFFEFCNAKQGTLICTDVAARGLDIPAVDWIV\n",
      "_A2Q9T6_Aspergillus_niger_CBS_      DLPVLELHGKQKQQKRTNTFFEFCNAKQGTLICTDVAARGLDIPAVDWII\n",
      "_A3LNR6_Scheffersomyces_stipit      DLPVLDLHGKQKQQKRTNTFFEFCNAKQGTLVCTDVAARGLDIPAVDWII\n",
      "Q9NVP1_Homo_sapiens                 DLPVLAIHGKQKQNKRTTTFFQFCNADSGTLLCTDVAARGLDIPEVDWIV\n",
      "_Q8K363_Mus_musculus                DLPVLAIHGKQKQNKRTTTFFQFCNADSGILLCTDVAARGLDIPEVDWIV\n",
      "                                    *  ** :******:***.***:****. * *:************ ****:\n",
      "\n",
      "_A4R8B5_Pyricularia_oryzae_70-      QFDPPDDPRDYIHRVGRTARGTNKKGRSLMFLLPSEVGFLTYLKQARVPV\n",
      "_Q7S2N9_Neurospora_crassa_OR74      QFDPPDDPRDYIHRVGRTARGNNTKGRSLLFLQPNELGFLAHLKAAKVPV\n",
      "_A2Q9T6_Aspergillus_niger_CBS_      QFDPPDDTRDYVHRVGRTARGVNGKGRSLMFLQPSEVGFLKHLKEARVPV\n",
      "_A3LNR6_Scheffersomyces_stipit      QFDPPDDPRDYIHRVGRTARGSNGKGKSLMFLTPSELGFLRYLKAANVPL\n",
      "Q9NVP1_Homo_sapiens                 QYDPPDDPKEYIHRVGRTARGLNGRGHALLILRPEELGFLRYLKQSKVPL\n",
      "_Q8K363_Mus_musculus                QYDPPDDPKEYIHRVGRTARGLNGRGHALLILRPEELGFLRYLKQSKVPL\n",
      "                                    *:*****.::*:********* * :*::*::* *.*:*** :** :.**:\n",
      "\n",
      "_A4R8B5_Pyricularia_oryzae_70-      VEFDFPTKSIKNVQSQLEKLIGKNYYLNSSAKDGFRSYLHAYASHSLRSV\n",
      "_Q7S2N9_Neurospora_crassa_OR74      VEYDFPKSKILNVQSQLEKLIGQNYYLNQSAKDGYRSYLHAYASHSLRSV\n",
      "_A2Q9T6_Aspergillus_niger_CBS_      VEFDFPANKIVNVQSQLEKLIGQNYYLNKSAKEGYRAYLQAYASHSLRSV\n",
      "_A3LNR6_Scheffersomyces_stipit      NEYEFPTNKIVNIQSQLSKLIKSNYWLHQSAKDGYRSYLQAYASHHLKTV\n",
      "Q9NVP1_Homo_sapiens                 SEFDFSWSKISDIQSQLEKLIEKNYFLHKSAQEAYKSYIRAYDSHSLKQI\n",
      "_Q8K363_Mus_musculus                NQFDFSWSKVSDIQSQLEKLIEKNYFLHKSAQEAYKSYIRAYDSHSLKQI\n",
      "                                     :::*. ..: ::****.*** .**:*:.**::.:::*::** ** *: :\n",
      "\n",
      "_A4R8B5_Pyricularia_oryzae_70-      FDINKLDLAKVAKSFGFATPPRVDIQLGAS-MSKDKKAG--GRRAYGSQP\n",
      "_Q7S2N9_Neurospora_crassa_OR74      FDIHKLDLVKVAKSFGFSTPPRVDITLASS-MSRDKKQT--SRRAYGSQP\n",
      "_A2Q9T6_Aspergillus_niger_CBS_      FDVHKLDLVKIAKGFGFSTPPRIDIQLGSS-LSRDKKQQQQGRRNYGSQP\n",
      "_A3LNR6_Scheffersomyces_stipit      YQIDKLDLVKVAKSFGFDVPPKVNITIGASGKSIEKKHK--------KQK\n",
      "Q9NVP1_Homo_sapiens                 FNVNNLNLPQVALSFGFKVPPFVDLNVNSN-EGKQKKRGGGGGFGYQKTK\n",
      "_Q8K363_Mus_musculus                FNVNNLNLPQVALSFGFKVPPFVDLNVSSH-DGKLKKRGGGGGFGYQKTK\n",
      "                                    :::.:*:* ::* .*** .** ::: : :   .  **          .  \n",
      "\n",
      "_A4R8B5_Pyricularia_oryzae_70-      RQGGTYGKRR-------------\n",
      "_Q7S2N9_Neurospora_crassa_OR74      KQNRH------------------\n",
      "_A2Q9T6_Aspergillus_niger_CBS_      KGLKFKRKHEDD-----------\n",
      "_A3LNR6_Scheffersomyces_stipit      RA---------------------\n",
      "Q9NVP1_Homo_sapiens                 KVEKSKIFKHISKKSSDSRQFSH\n",
      "_Q8K363_Mus_musculus                KVEKSKIFKHISKKPADRRQFSH\n",
      "                                    :                      \n",
      "\n",
      "\n",
      "\n"
     ]
    }
   ],
   "source": [
    "\n",
    "align = AlignIO.read(\"ddx18_blastp_file.aln\", \"clustal\")\n",
    "\n",
    "print(format(align, \"clustal\")) #formato string"
   ]
  },
  {
   "cell_type": "code",
   "execution_count": 8,
   "id": "1eea971b",
   "metadata": {},
   "outputs": [
    {
     "name": "stdout",
     "output_type": "stream",
     "text": [
      "Alignment with 6 rows and 673 columns\n",
      "-------MDDRSSKKRKLKDVNGAKASGAATDVTV-------KP...--- _A4R8B5_Pyricularia_oryzae_70-\n",
      "-------MASEFSKKRKLKDAKIATEDGAATDK---------KT...--- _Q7S2N9_Neurospora_crassa_OR74\n",
      "---MPIPVDTAKSINKKRKRKHGARAATDADDASPKPAVENGET...--- _A2Q9T6_Aspergillus_niger_CBS_\n",
      "---------MAKNVNSKANGKKSGSVKRALKEK-----------...--- _A3LNR6_Scheffersomyces_stipit\n",
      "MSHLPMKLLRKKIEKRNLKLRQRNLKFQGASNLTLSETQNGDVS...FSH Q9NVP1_Homo_sapiens\n",
      "MSQLQMKLLRRKIEKRNAKLRQRNLKLQETSDTSLSQPQNGDVP...FSH _Q8K363_Mus_musculus\n",
      "Número de linhas: 6\n",
      "CLUSTAL 2.1 multiple sequence alignment\n",
      "\n",
      "\n",
      "_A4R8B5_Pyricularia_oryzae_70-      -------MDDRSSKKRKLKDVNGAKASGAATDVTV-------KPKKLKKA\n",
      "_Q7S2N9_Neurospora_crassa_OR74      -------MASEFSKKRKLKDAKIATEDGAATDK---------KTKKVKKD\n",
      "_A2Q9T6_Aspergillus_niger_CBS_      ---MPIPVDTAKSINKKRKRKHGARAATDADDASPKPAVENGETTEVTET\n",
      "_A3LNR6_Scheffersomyces_stipit      ---------MAKNVNSKANGKKSGSVKRALKEK------------KQPEP\n",
      "Q9NVP1_Homo_sapiens                 MSHLPMKLLRKKIEKRNLKLRQRNLKFQGASNLTLSETQNGDVSEETMGS\n",
      "_Q8K363_Mus_musculus                MSQLQMKLLRRKIEKRNAKLRQRNLKLQETSDTSLSQPQNGDVPKETGKG\n",
      "                                                  : : :  :         :             :    \n",
      "\n",
      "_A4R8B5_Pyricularia_oryzae_70-      QSQEEVEP--------KVEKGSKKEEEE-----NDWSDEEENEAADDAGH\n",
      "_Q7S2N9_Neurospora_crassa_OR74      KKEKKAAE--------EVVEDATPEEE------NDAQKAEEQQDGDEVIP\n",
      "_A2Q9T6_Aspergillus_niger_CBS_      PTEKKSKK--------KAAKESEKEEKPKKRKVDDSSNEDENDSEEEVRE\n",
      "_A3LNR6_Scheffersomyces_stipit      EFSDSEDD--------EVDQEKLVEEL------DEDFDEVANMLGADVTD\n",
      "Q9NVP1_Homo_sapiens                 RKVKKSKQKPMNVGLSETQNGGMSQEAVGNIKVTKSPQKSTVLTNGEAAM\n",
      "_Q8K363_Mus_musculus                GKVKKALKRSVPVDSAEAQSGGMPEETLENGKVKKSPQKLTTLANGEAAP\n",
      "                                       ..           :. .    :*        .  .        :.  \n",
      "\n",
      "_A4R8B5_Pyricularia_oryzae_70-      SSD--SDVDEGDDTIAAPAKEADGD--------------IPGDLTLPTTA\n",
      "_Q7S2N9_Neurospora_crassa_OR74      TGN--GDKEDSDDKDAEAGDELT----------------KTNDSLIAPSI\n",
      "_A2Q9T6_Aspergillus_niger_CBS_      ADP--EDEDDNEGKEDGNGADLP-----------------SLDAVRLPQT\n",
      "_A3LNR6_Scheffersomyces_stipit      PEE--KKQSKLERKRKRD-EEATAE--------------YTKPEVVDNED\n",
      "Q9NVP1_Homo_sapiens                 QSS-NSESKKKKKKKRKMVNDAEPDTKKAKTENKGKSEEESAETTKETEN\n",
      "_Q8K363_Mus_musculus                TPPPDSEVKKKKKKKRKMANDAGPDTKKAKT-------EESAEACEEPED\n",
      "                                          . .. . .      :                   .         \n",
      "\n",
      "_A4R8B5_Pyricularia_oryzae_70-      ES-----------------------EAQAFSELN--LSENTMKAIEEMGF\n",
      "_Q7S2N9_Neurospora_crassa_OR74      AT-----------------------NATDFSELN--LSDKTMKAIAEMGF\n",
      "_A2Q9T6_Aspergillus_niger_CBS_      DG-----------------------EPKKFTELN--LSEKTMKGIQDMGF\n",
      "_A3LNR6_Scheffersomyces_stipit      DA-----------------------QNDKFEDAG--LSEPTMRAISDMGF\n",
      "Q9NVP1_Homo_sapiens                 NVEKPDNDEDESEVPSLPLGLTGAFEDTSFASLCNLVNENTLKAIKEMGF\n",
      "_Q8K363_Mus_musculus                DVKKAD----DSEVPSLPLGLTGAFEDTSFASLSNLVNENTLKAIEEMGF\n",
      "                                                             :   * .    :.: *::.* :***\n",
      "\n",
      "_A4R8B5_Pyricularia_oryzae_70-      TKMTEIQRRGIPPLLAGKDVLGAAKTGSGKTLAFLIPAVEMLRSLKFKPR\n",
      "_Q7S2N9_Neurospora_crassa_OR74      TKMTEIQRRGIPPLLAGKDVLGAAKTGSGKTLAFLIPAIEMLSSLRFKPR\n",
      "_A2Q9T6_Aspergillus_niger_CBS_      ETMTEIQQRTIPPLLAGRDVLGAAKTGSGKTLSFLIPAVEMLSALRFKPR\n",
      "_A3LNR6_Scheffersomyces_stipit      KTMTKVQAKTIPPLLAGKDVLGAAKTGSGKTLAFLIPAIELLYSLKFKPR\n",
      "Q9NVP1_Homo_sapiens                 TNMTEIQHKSIRPLLEGRDLLAAAKTGSGKTLAFLIPAVELIVKLRFMPR\n",
      "_Q8K363_Mus_musculus                KRMTEIQHKSIRPLLEGRDLLAAAKTGSGKTLAFLIPVIELIVKLKFMPR\n",
      "                                      **::* : * *** *:*:*.**********:****.:*::  *:* **\n",
      "\n",
      "_A4R8B5_Pyricularia_oryzae_70-      NGTGVIVVSPTRELALQIFGVARDLMKHHSQTYGIVIGGANRRAEAEKLS\n",
      "_Q7S2N9_Neurospora_crassa_OR74      NGTGAIVVTPTRELALQIFGVARELMKNHSQTYGVVIGGANRRAEAEKLG\n",
      "_A2Q9T6_Aspergillus_niger_CBS_      NGTGVLVVSPTRELALQIFGVARELMAHHSQTYGIVIGGANRRAEAEKLT\n",
      "_A3LNR6_Scheffersomyces_stipit      NGTGVIVVSPTRELALQIFGVARELMAHHTQTFGIVIGGANRRQEAEKLA\n",
      "Q9NVP1_Homo_sapiens                 NGTGVLILSPTRELAMQTFGVLKELMTHHVHTYGLIMGGSNRSAEAQKLG\n",
      "_Q8K363_Mus_musculus                NGTGVLILSPTRELAMQTFGVLKELMTHHVHTYGLIMGGSNRSAEVQKLL\n",
      "                                    ****.::::******:* *** ::** :* :*:*:::**:**  *.:** \n",
      "\n",
      "_A4R8B5_Pyricularia_oryzae_70-      KGVNLLIATPGRLLDHLQNTP-FVFKNLRSLVIDEADRILEIGFEDEMRQ\n",
      "_Q7S2N9_Neurospora_crassa_OR74      KGVNLLIATPGRLLDHLQNTP-FVFKNMRSLIIDEADRILEIGFEDEMRQ\n",
      "_A2Q9T6_Aspergillus_niger_CBS_      KGVNLLIATPGRLLDHLQNTPGFVFKNLKTLVIDEADRILEVGFEDEMRQ\n",
      "_A3LNR6_Scheffersomyces_stipit      KGVNLLIATPGRLLDHLQNTQGFVFKNLKALVIDEADRILEIGFEEEMKQ\n",
      "Q9NVP1_Homo_sapiens                 NGINIIVATPGRLLDHMQNTPGFMYKNLQCLVIDEADRILDVGFEEELKQ\n",
      "_Q8K363_Mus_musculus                NGINIIVATPGRLLDHMQNTPGFMYKNLQCLVIDEADRILDVGFEEELKQ\n",
      "                                    :*:*:::*********:***  *::**:: *:********::***:*::*\n",
      "\n",
      "_A4R8B5_Pyricularia_oryzae_70-      IIKILPKE-RQSMLFSATQTTKVEDLARVSLRPGPLYLNVDEEKEYSTVE\n",
      "_Q7S2N9_Neurospora_crassa_OR74      IIKILPKEDRQTMLFSATQTTKVEDLARISLRPGPLYVNVDEEKQFSTVE\n",
      "_A2Q9T6_Aspergillus_niger_CBS_      IVKILPSEERQTMLFSATQTTKVEDLARISLRPGPLYINVDHRKEHSTVE\n",
      "_A3LNR6_Scheffersomyces_stipit      IIKILPKEERQSMLFSATQTTKVEDLARISLRPGPLYINVVPETAASTAD\n",
      "Q9NVP1_Homo_sapiens                 IIKLLPTR-RQTMLFSATQTRKVEDLARISLKKEPLYVGVDDDKANATVD\n",
      "_Q8K363_Mus_musculus                IIKLLPAR-RQTMLFSATQTRKVEDLARISLKKEPLYVGVDDDKEVATVD\n",
      "                                    *:*:** . **:******** *******:**:  ***:.*   .  :*.:\n",
      "\n",
      "_A4R8B5_Pyricularia_oryzae_70-      GLEQGYVVCEADKRFILLFSFLQKMKKKKIIVFFSSCNSVKYYAELLNYI\n",
      "_Q7S2N9_Neurospora_crassa_OR74      GLDQGYVVVDADKRFLLLFSFLKKMQKKKVIVFFSSCNSVKYYSELLQYI\n",
      "_A2Q9T6_Aspergillus_niger_CBS_      GLEQGYVICEADKRFLLLFSFLKRNLKKKIIVFFSSCNCVKYHAELLNYI\n",
      "_A3LNR6_Scheffersomyces_stipit      GLEQGYVVCDSDKRFLLLFSFLKKYSKKKIIVFLSSCNSVKYFGELLNYI\n",
      "Q9NVP1_Homo_sapiens                 GLEQGYVVCPSEKRFLLLFTFLKKNRKKKLMVFFSSCMSVKYHYELLNYI\n",
      "_Q8K363_Mus_musculus                GLEQGYVVCPSEKRFLLLFTFLKKNRKKKVMVFFSSCMSVKYHYELLNYI\n",
      "                                    **:****:  ::***:***:**::  ***::**:*** .***. ***:**\n",
      "\n",
      "_A4R8B5_Pyricularia_oryzae_70-      DCQVLDLHGKQKQQKRTNTFFEFCNADRGTLICTDVAARGLDIPAVDWIV\n",
      "_Q7S2N9_Neurospora_crassa_OR74      DLQVLDLHGKQKQQKRTNTFFEFCNAKQGTLICTDVAARGLDIPAVDWIV\n",
      "_A2Q9T6_Aspergillus_niger_CBS_      DLPVLELHGKQKQQKRTNTFFEFCNAKQGTLICTDVAARGLDIPAVDWII\n",
      "_A3LNR6_Scheffersomyces_stipit      DLPVLDLHGKQKQQKRTNTFFEFCNAKQGTLVCTDVAARGLDIPAVDWII\n",
      "Q9NVP1_Homo_sapiens                 DLPVLAIHGKQKQNKRTTTFFQFCNADSGTLLCTDVAARGLDIPEVDWIV\n",
      "_Q8K363_Mus_musculus                DLPVLAIHGKQKQNKRTTTFFQFCNADSGILLCTDVAARGLDIPEVDWIV\n",
      "                                    *  ** :******:***.***:****. * *:************ ****:\n",
      "\n",
      "_A4R8B5_Pyricularia_oryzae_70-      QFDPPDDPRDYIHRVGRTARGTNKKGRSLMFLLPSEVGFLTYLKQARVPV\n",
      "_Q7S2N9_Neurospora_crassa_OR74      QFDPPDDPRDYIHRVGRTARGNNTKGRSLLFLQPNELGFLAHLKAAKVPV\n",
      "_A2Q9T6_Aspergillus_niger_CBS_      QFDPPDDTRDYVHRVGRTARGVNGKGRSLMFLQPSEVGFLKHLKEARVPV\n",
      "_A3LNR6_Scheffersomyces_stipit      QFDPPDDPRDYIHRVGRTARGSNGKGKSLMFLTPSELGFLRYLKAANVPL\n",
      "Q9NVP1_Homo_sapiens                 QYDPPDDPKEYIHRVGRTARGLNGRGHALLILRPEELGFLRYLKQSKVPL\n",
      "_Q8K363_Mus_musculus                QYDPPDDPKEYIHRVGRTARGLNGRGHALLILRPEELGFLRYLKQSKVPL\n",
      "                                    *:*****.::*:********* * :*::*::* *.*:*** :** :.**:\n",
      "\n",
      "_A4R8B5_Pyricularia_oryzae_70-      VEFDFPTKSIKNVQSQLEKLIGKNYYLNSSAKDGFRSYLHAYASHSLRSV\n",
      "_Q7S2N9_Neurospora_crassa_OR74      VEYDFPKSKILNVQSQLEKLIGQNYYLNQSAKDGYRSYLHAYASHSLRSV\n",
      "_A2Q9T6_Aspergillus_niger_CBS_      VEFDFPANKIVNVQSQLEKLIGQNYYLNKSAKEGYRAYLQAYASHSLRSV\n",
      "_A3LNR6_Scheffersomyces_stipit      NEYEFPTNKIVNIQSQLSKLIKSNYWLHQSAKDGYRSYLQAYASHHLKTV\n",
      "Q9NVP1_Homo_sapiens                 SEFDFSWSKISDIQSQLEKLIEKNYFLHKSAQEAYKSYIRAYDSHSLKQI\n",
      "_Q8K363_Mus_musculus                NQFDFSWSKVSDIQSQLEKLIEKNYFLHKSAQEAYKSYIRAYDSHSLKQI\n",
      "                                     :::*. ..: ::****.*** .**:*:.**::.:::*::** ** *: :\n",
      "\n",
      "_A4R8B5_Pyricularia_oryzae_70-      FDINKLDLAKVAKSFGFATPPRVDIQLGAS-MSKDKKAG--GRRAYGSQP\n",
      "_Q7S2N9_Neurospora_crassa_OR74      FDIHKLDLVKVAKSFGFSTPPRVDITLASS-MSRDKKQT--SRRAYGSQP\n",
      "_A2Q9T6_Aspergillus_niger_CBS_      FDVHKLDLVKIAKGFGFSTPPRIDIQLGSS-LSRDKKQQQQGRRNYGSQP\n",
      "_A3LNR6_Scheffersomyces_stipit      YQIDKLDLVKVAKSFGFDVPPKVNITIGASGKSIEKKHK--------KQK\n",
      "Q9NVP1_Homo_sapiens                 FNVNNLNLPQVALSFGFKVPPFVDLNVNSN-EGKQKKRGGGGGFGYQKTK\n",
      "_Q8K363_Mus_musculus                FNVNNLNLPQVALSFGFKVPPFVDLNVSSH-DGKLKKRGGGGGFGYQKTK\n",
      "                                    :::.:*:* ::* .*** .** ::: : :   .  **          .  \n",
      "\n",
      "_A4R8B5_Pyricularia_oryzae_70-      RQGGTYGKRR-------------\n",
      "_Q7S2N9_Neurospora_crassa_OR74      KQNRH------------------\n",
      "_A2Q9T6_Aspergillus_niger_CBS_      KGLKFKRKHEDD-----------\n",
      "_A3LNR6_Scheffersomyces_stipit      RA---------------------\n",
      "Q9NVP1_Homo_sapiens                 KVEKSKIFKHISKKSSDSRQFSH\n",
      "_Q8K363_Mus_musculus                KVEKSKIFKHISKKPADRRQFSH\n",
      "                                    :                      \n",
      "\n",
      "\n",
      "\n",
      "-------MDDRSSKKRKLKDVNGAKASGAATDVTV-------KPKKLKKAQSQEEVEP--------KVEKGSKKEEEE-----NDWSDEEENEAADDAGHSSD--SDVDEGDDTIAAPAKEADGD--------------IPGDLTLPTTAES-----------------------EAQAFSELN--LSENTMKAIEEMGFTKMTEIQRRGIPPLLAGKDVLGAAKTGSGKTLAFLIPAVEMLRSLKFKPRNGTGVIVVSPTRELALQIFGVARDLMKHHSQTYGIVIGGANRRAEAEKLSKGVNLLIATPGRLLDHLQNTP-FVFKNLRSLVIDEADRILEIGFEDEMRQIIKILPKE-RQSMLFSATQTTKVEDLARVSLRPGPLYLNVDEEKEYSTVEGLEQGYVVCEADKRFILLFSFLQKMKKKKIIVFFSSCNSVKYYAELLNYIDCQVLDLHGKQKQQKRTNTFFEFCNADRGTLICTDVAARGLDIPAVDWIVQFDPPDDPRDYIHRVGRTARGTNKKGRSLMFLLPSEVGFLTYLKQARVPVVEFDFPTKSIKNVQSQLEKLIGKNYYLNSSAKDGFRSYLHAYASHSLRSVFDINKLDLAKVAKSFGFATPPRVDIQLGAS-MSKDKKAG--GRRAYGSQPRQGGTYGKRR------------- - _A4R8B5_Pyricularia_oryzae_70-\n",
      "-------MASEFSKKRKLKDAKIATEDGAATDK---------KTKKVKKDKKEKKAAE--------EVVEDATPEEE------NDAQKAEEQQDGDEVIPTGN--GDKEDSDDKDAEAGDELT----------------KTNDSLIAPSIAT-----------------------NATDFSELN--LSDKTMKAIAEMGFTKMTEIQRRGIPPLLAGKDVLGAAKTGSGKTLAFLIPAIEMLSSLRFKPRNGTGAIVVTPTRELALQIFGVARELMKNHSQTYGVVIGGANRRAEAEKLGKGVNLLIATPGRLLDHLQNTP-FVFKNMRSLIIDEADRILEIGFEDEMRQIIKILPKEDRQTMLFSATQTTKVEDLARISLRPGPLYVNVDEEKQFSTVEGLDQGYVVVDADKRFLLLFSFLKKMQKKKVIVFFSSCNSVKYYSELLQYIDLQVLDLHGKQKQQKRTNTFFEFCNAKQGTLICTDVAARGLDIPAVDWIVQFDPPDDPRDYIHRVGRTARGNNTKGRSLLFLQPNELGFLAHLKAAKVPVVEYDFPKSKILNVQSQLEKLIGQNYYLNQSAKDGYRSYLHAYASHSLRSVFDIHKLDLVKVAKSFGFSTPPRVDITLASS-MSRDKKQT--SRRAYGSQPKQNRH------------------ - _Q7S2N9_Neurospora_crassa_OR74\n",
      "---MPIPVDTAKSINKKRKRKHGARAATDADDASPKPAVENGETTEVTETPTEKKSKK--------KAAKESEKEEKPKKRKVDDSSNEDENDSEEEVREADP--EDEDDNEGKEDGNGADLP-----------------SLDAVRLPQTDG-----------------------EPKKFTELN--LSEKTMKGIQDMGFETMTEIQQRTIPPLLAGRDVLGAAKTGSGKTLSFLIPAVEMLSALRFKPRNGTGVLVVSPTRELALQIFGVARELMAHHSQTYGIVIGGANRRAEAEKLTKGVNLLIATPGRLLDHLQNTPGFVFKNLKTLVIDEADRILEVGFEDEMRQIVKILPSEERQTMLFSATQTTKVEDLARISLRPGPLYINVDHRKEHSTVEGLEQGYVICEADKRFLLLFSFLKRNLKKKIIVFFSSCNCVKYHAELLNYIDLPVLELHGKQKQQKRTNTFFEFCNAKQGTLICTDVAARGLDIPAVDWIIQFDPPDDTRDYVHRVGRTARGVNGKGRSLMFLQPSEVGFLKHLKEARVPVVEFDFPANKIVNVQSQLEKLIGQNYYLNKSAKEGYRAYLQAYASHSLRSVFDVHKLDLVKIAKGFGFSTPPRIDIQLGSS-LSRDKKQQQQGRRNYGSQPKGLKFKRKHEDD----------- - _A2Q9T6_Aspergillus_niger_CBS_\n",
      "---------MAKNVNSKANGKKSGSVKRALKEK------------KQPEPEFSDSEDD--------EVDQEKLVEEL------DEDFDEVANMLGADVTDPEE--KKQSKLERKRKRD-EEATAE--------------YTKPEVVDNEDDA-----------------------QNDKFEDAG--LSEPTMRAISDMGFKTMTKVQAKTIPPLLAGKDVLGAAKTGSGKTLAFLIPAIELLYSLKFKPRNGTGVIVVSPTRELALQIFGVARELMAHHTQTFGIVIGGANRRQEAEKLAKGVNLLIATPGRLLDHLQNTQGFVFKNLKALVIDEADRILEIGFEEEMKQIIKILPKEERQSMLFSATQTTKVEDLARISLRPGPLYINVVPETAASTADGLEQGYVVCDSDKRFLLLFSFLKKYSKKKIIVFLSSCNSVKYFGELLNYIDLPVLDLHGKQKQQKRTNTFFEFCNAKQGTLVCTDVAARGLDIPAVDWIIQFDPPDDPRDYIHRVGRTARGSNGKGKSLMFLTPSELGFLRYLKAANVPLNEYEFPTNKIVNIQSQLSKLIKSNYWLHQSAKDGYRSYLQAYASHHLKTVYQIDKLDLVKVAKSFGFDVPPKVNITIGASGKSIEKKHK--------KQKRA--------------------- - _A3LNR6_Scheffersomyces_stipit\n",
      "MSHLPMKLLRKKIEKRNLKLRQRNLKFQGASNLTLSETQNGDVSEETMGSRKVKKSKQKPMNVGLSETQNGGMSQEAVGNIKVTKSPQKSTVLTNGEAAMQSS-NSESKKKKKKKRKMVNDAEPDTKKAKTENKGKSEEESAETTKETENNVEKPDNDEDESEVPSLPLGLTGAFEDTSFASLCNLVNENTLKAIKEMGFTNMTEIQHKSIRPLLEGRDLLAAAKTGSGKTLAFLIPAVELIVKLRFMPRNGTGVLILSPTRELAMQTFGVLKELMTHHVHTYGLIMGGSNRSAEAQKLGNGINIIVATPGRLLDHMQNTPGFMYKNLQCLVIDEADRILDVGFEEELKQIIKLLPTR-RQTMLFSATQTRKVEDLARISLKKEPLYVGVDDDKANATVDGLEQGYVVCPSEKRFLLLFTFLKKNRKKKLMVFFSSCMSVKYHYELLNYIDLPVLAIHGKQKQNKRTTTFFQFCNADSGTLLCTDVAARGLDIPEVDWIVQYDPPDDPKEYIHRVGRTARGLNGRGHALLILRPEELGFLRYLKQSKVPLSEFDFSWSKISDIQSQLEKLIEKNYFLHKSAQEAYKSYIRAYDSHSLKQIFNVNNLNLPQVALSFGFKVPPFVDLNVNSN-EGKQKKRGGGGGFGYQKTKKVEKSKIFKHISKKSSDSRQFSH - Q9NVP1_Homo_sapiens\n",
      "MSQLQMKLLRRKIEKRNAKLRQRNLKLQETSDTSLSQPQNGDVPKETGKGGKVKKALKRSVPVDSAEAQSGGMPEETLENGKVKKSPQKLTTLANGEAAPTPPPDSEVKKKKKKKRKMANDAGPDTKKAKT-------EESAEACEEPEDDVKKAD----DSEVPSLPLGLTGAFEDTSFASLSNLVNENTLKAIEEMGFKRMTEIQHKSIRPLLEGRDLLAAAKTGSGKTLAFLIPVIELIVKLKFMPRNGTGVLILSPTRELAMQTFGVLKELMTHHVHTYGLIMGGSNRSAEVQKLLNGINIIVATPGRLLDHMQNTPGFMYKNLQCLVIDEADRILDVGFEEELKQIIKLLPAR-RQTMLFSATQTRKVEDLARISLKKEPLYVGVDDDKEVATVDGLEQGYVVCPSEKRFLLLFTFLKKNRKKKVMVFFSSCMSVKYHYELLNYIDLPVLAIHGKQKQNKRTTTFFQFCNADSGILLCTDVAARGLDIPEVDWIVQYDPPDDPKEYIHRVGRTARGLNGRGHALLILRPEELGFLRYLKQSKVPLNQFDFSWSKVSDIQSQLEKLIEKNYFLHKSAQEAYKSYIRAYDSHSLKQIFNVNNLNLPQVALSFGFKVPPFVDLNVSSH-DGKLKKRGGGGGFGYQKTKKVEKSKIFKHISKKPADRRQFSH - _Q8K363_Mus_musculus\n"
     ]
    }
   ],
   "source": [
    "\n",
    "align = AlignIO.read(\"ddx18_blastp_file.aln\", \"clustal\")\n",
    "print(align)\n",
    "print(\"Número de linhas: %i\" % len(align)) \n",
    "print(format(align, \"clustal\"))\n",
    "\n",
    "for record in align:\n",
    "    print(\"%s - %s\" % (record.seq, record.id)) "
   ]
  },
  {
   "cell_type": "code",
   "execution_count": 9,
   "id": "dbaee51c",
   "metadata": {},
   "outputs": [
    {
     "name": "stdout",
     "output_type": "stream",
     "text": [
      "Convertidos 1 alinhamentos\n"
     ]
    }
   ],
   "source": [
    "count = AlignIO.convert(\"ddx18_blastp_file.aln\", \"clustal\",\"ddx18_blastp_file.sth\", \"stockholm\") \n",
    "print (\"Convertidos %i alinhamentos\" % count )"
   ]
  },
  {
   "cell_type": "code",
   "execution_count": 10,
   "id": "cc639e00",
   "metadata": {},
   "outputs": [],
   "source": [
    "alignment = AlignIO.read(\"ddx18_blastp_file.sth\", \"stockholm\")"
   ]
  },
  {
   "cell_type": "code",
   "execution_count": 11,
   "id": "1293c5b4",
   "metadata": {},
   "outputs": [
    {
     "name": "stdout",
     "output_type": "stream",
     "text": [
      "_A4R8B5_Pyricularia_oryzae_70-\t0\n",
      "_Q7S2N9_Neurospora_crassa_OR74\t0.2306907111262334\t0\n",
      "_A2Q9T6_Aspergillus_niger_CBS_\t0.2835671342685371\t0.2753132407720962\t0\n",
      "_A3LNR6_Scheffersomyces_stipit\t0.3435433344935608\t0.3419309864064134\t0.3245309242529535\t0\n",
      "Q9NVP1_Homo_sapiens\t0.4452968645763843\t0.4453125\t0.46394075981970384\t0.4397506925207756\t0\n",
      "_Q8K363_Mus_musculus\t0.4512803458596608\t0.44786729857819907\t0.46329684481648425\t0.4400690846286701\t0.12711111111111106\t0\n",
      "\t_A4R8B5_Pyricularia_oryzae_70-\t_Q7S2N9_Neurospora_crassa_OR74\t_A2Q9T6_Aspergillus_niger_CBS_\t_A3LNR6_Scheffersomyces_stipit\tQ9NVP1_Homo_sapiens\t_Q8K363_Mus_musculus\n"
     ]
    }
   ],
   "source": [
    "calculator = DistanceCalculator('blosum62')\n",
    "dm = calculator.get_distance(alignment)\n",
    "print(dm)"
   ]
  },
  {
   "cell_type": "code",
   "execution_count": 12,
   "id": "f63aa189",
   "metadata": {},
   "outputs": [
    {
     "name": "stdout",
     "output_type": "stream",
     "text": [
      "Tree(rooted=True)\n",
      "    Clade(branch_length=0, name='Inner5')\n",
      "        Clade(name='Inner1')\n",
      "            Clade(name='_Q8K363_Mus_musculus')\n",
      "            Clade(name='Q9NVP1_Homo_sapiens')\n",
      "        Clade(name='Inner4')\n",
      "            Clade(name='_A3LNR6_Scheffersomyces_stipit')\n",
      "            Clade(name='Inner3')\n",
      "                Clade(name='_A2Q9T6_Aspergillus_niger_CBS_')\n",
      "                Clade(name='Inner2')\n",
      "                    Clade(name='_Q7S2N9_Neurospora_crassa_OR74')\n",
      "                    Clade(name='_A4R8B5_Pyricularia_oryzae_70-')\n"
     ]
    }
   ],
   "source": [
    "constructor = DistanceTreeConstructor() \n",
    "upgmatree = constructor.upgma(dm)\n",
    "print(upgmatree)"
   ]
  },
  {
   "cell_type": "code",
   "execution_count": 13,
   "id": "2ba0e065",
   "metadata": {
    "scrolled": true
   },
   "outputs": [
    {
     "name": "stdout",
     "output_type": "stream",
     "text": [
      "Tree(rooted=False)\n",
      "    Clade(branch_length=0, name='Inner4')\n",
      "        Clade(name='_A4R8B5_Pyricularia_oryzae_70-')\n",
      "        Clade(name='_Q7S2N9_Neurospora_crassa_OR74')\n",
      "        Clade(name='Inner3')\n",
      "            Clade(name='Inner2')\n",
      "                Clade(name='Inner1')\n",
      "                    Clade(name='_Q8K363_Mus_musculus')\n",
      "                    Clade(name='Q9NVP1_Homo_sapiens')\n",
      "                Clade(name='_A3LNR6_Scheffersomyces_stipit')\n",
      "            Clade(name='_A2Q9T6_Aspergillus_niger_CBS_')\n"
     ]
    }
   ],
   "source": [
    "njtree = constructor.nj(dm)\n",
    "print(njtree)"
   ]
  },
  {
   "cell_type": "code",
   "execution_count": 14,
   "id": "f86bda73",
   "metadata": {},
   "outputs": [
    {
     "data": {
      "text/plain": [
       "2"
      ]
     },
     "execution_count": 14,
     "metadata": {},
     "output_type": "execute_result"
    }
   ],
   "source": [
    "Phylo.write([upgmatree, njtree],\"phylotree_DDX18.nhx\",\"newick\")"
   ]
  },
  {
   "cell_type": "code",
   "execution_count": 15,
   "id": "faf9cd16",
   "metadata": {},
   "outputs": [
    {
     "name": "stdout",
     "output_type": "stream",
     "text": [
      "  ______________ _A4R8B5_Pyricularia_oryzae_70-\n",
      " |\n",
      " |______________ _Q7S2N9_Neurospora_crassa_OR74\n",
      " |\n",
      "_|                                     ________ _Q8K363_Mus_musculus\n",
      " |        ____________________________|\n",
      " |   ____|                            |_______ Q9NVP1_Homo_sapiens\n",
      " |  |    |\n",
      " |__|    |_____________________ _A3LNR6_Scheffersomyces_stipit\n",
      "    |\n",
      "    |__________________ _A2Q9T6_Aspergillus_niger_CBS_\n",
      "\n"
     ]
    }
   ],
   "source": [
    "Phylo.draw_ascii(njtree)"
   ]
  },
  {
   "cell_type": "code",
   "execution_count": 16,
   "id": "fc041dde",
   "metadata": {
    "scrolled": true
   },
   "outputs": [
    {
     "name": "stdout",
     "output_type": "stream",
     "text": [
      "                                  _____________ _Q8K363_Mus_musculus\n",
      "  _______________________________|\n",
      " |                               |_____________ Q9NVP1_Homo_sapiens\n",
      "_|\n",
      " |           __________________________________ _A3LNR6_Scheffersomyces_stipit\n",
      " |__________|\n",
      "            |      ____________________________ _A2Q9T6_Aspergillus_niger_CBS_\n",
      "            |_____|\n",
      "                  |     _______________________ _Q7S2N9_Neurospora_crassa_OR74\n",
      "                  |____|\n",
      "                       |_______________________ _A4R8B5_Pyricularia_oryzae_70-\n",
      "\n"
     ]
    }
   ],
   "source": [
    "Phylo.draw_ascii(upgmatree)"
   ]
  }
 ],
 "metadata": {
  "kernelspec": {
   "display_name": "Python 3 (ipykernel)",
   "language": "python",
   "name": "python3"
  },
  "language_info": {
   "codemirror_mode": {
    "name": "ipython",
    "version": 3
   },
   "file_extension": ".py",
   "mimetype": "text/x-python",
   "name": "python",
   "nbconvert_exporter": "python",
   "pygments_lexer": "ipython3",
   "version": "3.9.12"
  }
 },
 "nbformat": 4,
 "nbformat_minor": 5
}
