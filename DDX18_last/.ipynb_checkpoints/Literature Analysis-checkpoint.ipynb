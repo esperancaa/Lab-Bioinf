{
 "cells": [
  {
   "cell_type": "code",
   "execution_count": 4,
   "id": "0c9892e7",
   "metadata": {},
   "outputs": [],
   "source": [
    "from Bio.Blast import NCBIXML \n",
    "from Bio.Blast import NCBIWWW\n",
    "import requests, sys, json\n",
    "import re\n",
    "from Bio import SeqIO\n",
    "from Bio import Entrez\n",
    "from Bio import Medline\n",
    "import pandas as pd\n",
    "import numpy as np\n",
    "from tqdm import tqdm\n",
    "from Bio import SearchIO\n",
    "from Bio.SwissProt import KeyWList\n",
    "from Bio import SwissProt\n",
    "from Bio import ExPASy\n",
    "from Bio.SeqRecord import SeqRecord\n",
    "from Bio.Align import MultipleSeqAlignment\n",
    "from Bio.Seq import Seq\n",
    "from Bio import AlignIO\n",
    "from Bio.Align.Applications import ClustalwCommandline\n",
    "from Bio.Align import AlignInfo\n",
    "from Bio.SeqFeature import SeqFeature, FeatureLocation\n",
    "from Bio.Phylo.TreeConstruction import DistanceCalculator\n",
    "from Bio.Phylo.TreeConstruction import DistanceTreeConstructor\n",
    "from Bio import Phylo"
   ]
  },
  {
   "cell_type": "markdown",
   "id": "74edc9a7",
   "metadata": {},
   "source": [
    "# Literature Analysis"
   ]
  },
  {
   "cell_type": "markdown",
   "id": "b8d00363",
   "metadata": {},
   "source": [
    "## Automated searches with Biopython"
   ]
  },
  {
   "cell_type": "markdown",
   "id": "6b3e0d9c",
   "metadata": {},
   "source": [
    "Two possible strategies for searching for articles.\n",
    "The first allows searching globally, the second is more targeted and involves a pre-selection of the articles."
   ]
  },
  {
   "cell_type": "code",
   "execution_count": 2,
   "id": "ef6b90da",
   "metadata": {},
   "outputs": [
    {
     "name": "stdout",
     "output_type": "stream",
     "text": [
      "title: Detection of Selection Signatures in Anqing Six-End-White Pigs Based on Resequencing Data.\n",
      "authors: ['Chen Y', 'Wu X', 'Wang J', 'Hou Y', 'Liu Y', 'Wang B', 'Hu X', 'Zheng X', 'Zhang X', 'Ding Y', 'Yin Z']\n",
      "source: Genes (Basel). 2022 Dec 8;13(12):2310. doi: 10.3390/genes13122310.\n",
      "\n",
      "title: DDX18 prevents R-loop-induced DNA damage and genome instability via PARP-1.\n",
      "authors: ['Lin WL', 'Chen JK', 'Wen X', 'He W', 'Zarceno GA', 'Chen Y', 'Chen S', 'Paull TT', 'Liu HW']\n",
      "source: Cell Rep. 2022 Jul 19;40(3):111089. doi: 10.1016/j.celrep.2022.111089.\n",
      "\n",
      "title: Identification of Important Modules and Hub Gene in Chronic Kidney Disease Based on WGCNA.\n",
      "authors: ['Wang J', 'Yin Y', 'Lu Q', 'Zhao YR', 'Hu YJ', 'Hu YZ', 'Wang ZY']\n",
      "source: J Immunol Res. 2022 May 4;2022:4615292. doi: 10.1155/2022/4615292. eCollection 2022.\n",
      "\n",
      "title: The RNA-Binding Protein DDX18 Promotes Gastric Cancer by Affecting the Maturation of MicroRNA-21.\n",
      "authors: ['Zhang Y', 'Yu F', 'Ni B', 'Li Q', 'Bae SW', 'Choi JH', 'Yang HK', 'Kong SH', 'Zhu C']\n",
      "source: Front Oncol. 2021 Jan 8;10:598238. doi: 10.3389/fonc.2020.598238. eCollection 2020.\n",
      "\n",
      "title: Identification of Key Modules and Hub Genes Involved in Esophageal Squamous Cell Carcinoma Tumorigenesis Using WCGNA.\n",
      "authors: ['Chen N', 'Zhang G', 'Fu J', 'Wu Q']\n",
      "source: Cancer Control. 2020 Jan-Dec;27(1):1073274820978817. doi: 10.1177/1073274820978817.\n",
      "\n"
     ]
    }
   ],
   "source": [
    "#First Strategie\n",
    "\n",
    "database = \"PubMed\"#For literature will be PubMed\n",
    "word = \"DDX18\"\n",
    "res= \"5\" #I choose a limit of thirty\n",
    "email= \"guilherme.lobo@ua.pt\"\n",
    "\n",
    "Entrez.email= email\n",
    "handle=Entrez.esearch(db = database, term=word, retmax= res)\n",
    "record=Entrez.read(handle)\n",
    "handle.close()\n",
    "idlist= record['IdList']\n",
    "\n",
    "handle = Entrez.efetch(db=database, id=idlist, rettype=\"medline\", retmode=\"text\") #para este caso em especifico devemos ter como database a PubMed(\"Medline\")\n",
    "records = Medline.parse(handle)\n",
    "\n",
    "for record in records:\n",
    "    #print(record) \n",
    "    #print(\"PMID:\",record.get(\"PMID\",\"-\"))\n",
    "    print(\"title:\", record.get(\"TI\", \"-\"))\n",
    "    #print('abstract:', record.get('AB', '-'))\n",
    "    print(\"authors:\", record.get(\"AU\", \"-\"))\n",
    "    print(\"source:\", record.get(\"SO\", \"-\"))\n",
    "    print(\"\")"
   ]
  },
  {
   "cell_type": "code",
   "execution_count": 3,
   "id": "95bf6dc7",
   "metadata": {},
   "outputs": [
    {
     "name": "stdout",
     "output_type": "stream",
     "text": [
      "title: Association of metformin exposure with low risks of frailty and adverse outcomes in patients with diabetes.\n",
      "authors: ['Liu P', 'Pan Y', 'Song Y', 'Zhou Y', 'Zhang W', 'Li X', 'Li J', 'Li Y', 'Ma L']\n",
      "source: Eur J Med Res. 2023 Feb 3;28(1):65. doi: 10.1186/s40001-023-01017-6.\n",
      "\n",
      "title: Dietary habits after a physical activity mHealth intervention: a randomized controlled trial.\n",
      "authors: ['Sjoblom L', 'Bonn SE', 'Alexandrou C', 'Dahlgren A', 'Eke H', 'Trolle Lagerros Y']\n",
      "source: BMC Nutr. 2023 Feb 2;9(1):23. doi: 10.1186/s40795-023-00682-4.\n",
      "\n",
      "title: Association of triglycerides to high-density lipoprotein cholesterol ratio to identify future prediabetes and type 2 diabetes mellitus: over one-decade follow-up in the Iranian population.\n",
      "authors: ['Tohidi M', 'Asgari S', 'Chary A', 'Safiee S', 'Azizi F', 'Hadaegh F']\n",
      "source: Diabetol Metab Syndr. 2023 Feb 2;15(1):13. doi: 10.1186/s13098-023-00988-0.\n",
      "\n",
      "title: Association of BMAL1 clock gene polymorphisms with fasting glucose in children.\n",
      "authors: ['Yang YD', 'Zeng Y', 'Li J', 'Zhou JH', 'He QY', 'Zheng CJ', 'Reichetzeder C', 'Kramer BK', 'Hocher B']\n",
      "source: Pediatr Res. 2023 Feb 2. doi: 10.1038/s41390-023-02467-8.\n",
      "\n",
      "title: Low thigh muscle strength in relation to myosteatosis in patients with type 2 diabetes mellitus.\n",
      "authors: ['Huang Y', 'Yan J', 'Zhu H', 'Zhang Z', 'Jiang Y', 'Zhang X', 'Wu Y', 'Lu J', 'Cun H', 'He B']\n",
      "source: Sci Rep. 2023 Feb 2;13(1):1957. doi: 10.1038/s41598-022-24002-1.\n",
      "\n"
     ]
    }
   ],
   "source": [
    "#Same strategie but for type II diabetes\n",
    "\n",
    "database = \"PubMed\"\n",
    "word = \"Type 2 Diabetes\"\n",
    "res= \"5\" \n",
    "email= \"guilherme.lobo@ua.pt\"\n",
    "\n",
    "Entrez.email= email\n",
    "handle=Entrez.esearch(db = database, term=word, retmax= res)\n",
    "record=Entrez.read(handle)\n",
    "handle.close()\n",
    "idlist= record['IdList']\n",
    "\n",
    "handle = Entrez.efetch(db=database, id=idlist, rettype=\"medline\", retmode=\"text\")\n",
    "records = Medline.parse(handle)\n",
    "\n",
    "for record in records:\n",
    "    print(\"title:\", record.get(\"TI\", \"-\"))\n",
    "    print(\"authors:\", record.get(\"AU\", \"-\"))\n",
    "    print(\"source:\", record.get(\"SO\", \"-\"))\n",
    "    print(\"\")"
   ]
  },
  {
   "cell_type": "code",
   "execution_count": 3,
   "id": "2c7018f5",
   "metadata": {},
   "outputs": [
    {
     "name": "stderr",
     "output_type": "stream",
     "text": [
      "5it [00:00, 2717.93it/s]"
     ]
    },
    {
     "name": "stdout",
     "output_type": "stream",
     "text": [
      "       PMID                                              Title\n",
      "1  33489896  The RNA-Binding Protein DDX18 Promotes Gastric...\n",
      "2  18351129                  Cellular studies of MrDb (DDX18).\n",
      "3  34603195  Non-Coding RNA as Biomarkers for Type 2 Diabet...\n",
      "4  33479058  The First Genome-Wide Association Study for Ty...\n",
      "5  30297969  Fine-mapping type 2 diabetes loci to single-va...\n"
     ]
    },
    {
     "name": "stderr",
     "output_type": "stream",
     "text": [
      "\n"
     ]
    }
   ],
   "source": [
    "#Second Strategie for myarticles_DDX18; articles used in literature analysis\n",
    "alldata=[]\n",
    "with open(\"Article_DDX18.txt\",encoding=\"utf-8\") as f: #For this examples I chosse articles from PubMed about Diabetes type II\n",
    "    pmids= Medline.parse(f)\n",
    "    for pmid in tqdm(pmids):\n",
    "        try:\n",
    "            pid=pmid[\"PMID\"]\n",
    "        except:\n",
    "            pid=\"-\"\n",
    "        try:\n",
    "            Title=pmid[\"TI\"]\n",
    "        except:\n",
    "            Title=\"-\"\n",
    "        #try:        \n",
    "            #Abstract=pmid[\"AB\"]\n",
    "        #except:\n",
    "            #Abstract=\"-\"\n",
    "        #try:\n",
    "            #Authors=pmid[\"AU\"]\n",
    "        #except:\n",
    "            #Authors=\"-\"\n",
    "        #try:\n",
    "            #Source=pmid[\"SO\"]\n",
    "        #except:\n",
    "            #Source=\"-\"\n",
    "        \n",
    "        dic={\"PMID\":pid,\n",
    "             \"Title\":Title,\n",
    "             #\"Abstract\":Abstract,\n",
    "             #\"Authors\":Authors,\n",
    "             #\"Source\":Source\n",
    "            }\n",
    "        alldata.append(dic)\n",
    "\n",
    "df = pd.DataFrame.from_records(alldata,index=['1', '2',\"3\",\"4\",\"5\"])\n",
    "print(df)\n",
    "#writer = pd.ExcelWriter('articles_ddx18.xlsx')\n",
    "#df.to_Exel(writer)\n",
    "#writer.save()\n",
    "#df=pd.DataFrame(alldata)\n",
    "#df.to_csv(\"articles_ddx18.csv\", index=False)"
   ]
  }
 ],
 "metadata": {
  "kernelspec": {
   "display_name": "Python 3 (ipykernel)",
   "language": "python",
   "name": "python3"
  },
  "language_info": {
   "codemirror_mode": {
    "name": "ipython",
    "version": 3
   },
   "file_extension": ".py",
   "mimetype": "text/x-python",
   "name": "python",
   "nbconvert_exporter": "python",
   "pygments_lexer": "ipython3",
   "version": "3.9.12"
  }
 },
 "nbformat": 4,
 "nbformat_minor": 5
}
