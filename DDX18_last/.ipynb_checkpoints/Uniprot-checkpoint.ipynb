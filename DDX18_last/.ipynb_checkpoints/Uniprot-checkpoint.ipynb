{
 "cells": [
  {
   "cell_type": "code",
   "execution_count": 1,
   "id": "0c9892e7",
   "metadata": {},
   "outputs": [],
   "source": [
    "from Bio.Blast import NCBIXML \n",
    "from Bio.Blast import NCBIWWW\n",
    "import requests, sys, json\n",
    "import re\n",
    "from Bio import SeqIO\n",
    "from Bio import Entrez\n",
    "from Bio import Medline\n",
    "import pandas as pd\n",
    "import numpy as np\n",
    "from tqdm import tqdm\n",
    "from Bio import SearchIO\n",
    "from Bio.SwissProt import KeyWList\n",
    "from Bio import SwissProt\n",
    "from Bio import ExPASy\n",
    "from Bio.SeqRecord import SeqRecord\n",
    "from Bio.Align import MultipleSeqAlignment\n",
    "from Bio.Seq import Seq\n",
    "from Bio import AlignIO\n",
    "from Bio.Align.Applications import ClustalwCommandline\n",
    "from Bio.Align import AlignInfo\n",
    "from Bio.SeqFeature import SeqFeature, FeatureLocation\n",
    "from Bio.Phylo.TreeConstruction import DistanceCalculator\n",
    "from Bio.Phylo.TreeConstruction import DistanceTreeConstructor\n",
    "from Bio import Phylo"
   ]
  },
  {
   "cell_type": "markdown",
   "id": "027ab88b",
   "metadata": {},
   "source": [
    "## Uniprot search of Blastp results"
   ]
  },
  {
   "cell_type": "code",
   "execution_count": 41,
   "id": "a33cb13c",
   "metadata": {},
   "outputs": [
    {
     "name": "stdout",
     "output_type": "stream",
     "text": [
      "Number of results: 2\n",
      "\n"
     ]
    }
   ],
   "source": [
    "WEBSITE_API=\"https://rest.uniprot.org\"\n",
    "def get_url(url,**kwargs):\n",
    "    response=requests.get(url,**kwargs);\n",
    "    if not response.ok:\n",
    "        print(response.text)\n",
    "        response.raise_for_status()\n",
    "        sys.exit()\n",
    "    return response\n",
    "r=get_url(f\"{WEBSITE_API}/uniprotkb/search?query=ddx18 AND (taxonomy_id:9606) AND (reviewed:true)\")#more detail possible\n",
    "data=r.json()\n",
    "n_results=len(data[\"results\"])\n",
    "print(f\"Number of results: {n_results}\\n\")\n",
    "total=r.headers.get(\"x-total-results\")\n",
    "page_total=len(data[\"results\"])"
   ]
  },
  {
   "cell_type": "code",
   "execution_count": 113,
   "id": "b80854a9",
   "metadata": {},
   "outputs": [],
   "source": [
    "# #one way to list the ids\n",
    "# r=get_url(f\"{WEBSITE_API}//uniprotkb/search?query=DDX18 AND (taxonomy_id:9606) AND (reviewed:true)&format=list&size=2\")\n",
    "# #r.text\n",
    "\n",
    "# accessions=[r.text.replace(\"\\n\",\",\")]\n",
    "# accessions"
   ]
  },
  {
   "cell_type": "code",
   "execution_count": 114,
   "id": "adba1a2e",
   "metadata": {},
   "outputs": [],
   "source": [
    "# #to format fasta that alow see the protein sequences and id in a form more familiary\n",
    "# r=get_url(f\"{WEBSITE_API}//uniprotkb/search?query=DDX18  AND (taxonomy_id:9606) AND (reviewed:true)&format=fasta\")\n",
    "# fasta=r.text\n",
    "# print(fasta)"
   ]
  },
  {
   "cell_type": "markdown",
   "id": "0d44add8",
   "metadata": {},
   "source": [
    "-we choose the first one the id Q9NVP1 "
   ]
  },
  {
   "cell_type": "code",
   "execution_count": 115,
   "id": "7f0f055a",
   "metadata": {},
   "outputs": [],
   "source": [
    "# with ExPASy.get_sprot_raw(\"Q9NVP1\") as handle:\n",
    "#     seq_record = SeqIO.read(handle, \"swiss\")\n",
    "#     #print(seq_record.id)\n",
    "#     #print(seq_record.entry_name, \"\\n\")\n",
    "#     #print(\", \".join(seq_record.accessions), \"\\n\")\n",
    "#     #print(seq_record.keywords, \"\\n\")\n",
    "#     #print(seq_record.organism, \"\\n\")\n",
    "#     #print(len(seq_record.sequence), \"aa\", \"\\n\")\n",
    "#     print(seq_record.seq)\n",
    "# #is not possible in my case!!!!!!!!!!!!!!!!!!!!1"
   ]
  },
  {
   "cell_type": "markdown",
   "id": "6a7ccb70",
   "metadata": {},
   "source": [
    "We can't understand why the id of ddx18 doesn't work and the other genes already work"
   ]
  },
  {
   "cell_type": "code",
   "execution_count": 42,
   "id": "4fa74550",
   "metadata": {},
   "outputs": [
    {
     "name": "stdout",
     "output_type": "stream",
     "text": [
      "['Q9NVP1_Homo_sapiens', '_Q8K363_Mus_musculus', '_A4R8B5_Pyricularia_oryzae_70-15', '_A2Q9T6_Aspergillus_niger_CBS_513.88', '_A3LNR6_Scheffersomyces_stipitis_CBS_6054', '_Q7S2N9_Neurospora_crassa_OR74A']\n"
     ]
    }
   ],
   "source": [
    "# print(lista_sem_repetidos)\n",
    "a=\", \".join(lista_sem_repetidos)\n",
    "b=a.replace(\" \",\"_\")\n",
    "c=b.split(\",\")\n",
    "print(c)"
   ]
  },
  {
   "cell_type": "code",
   "execution_count": 43,
   "id": "25e7c1e3",
   "metadata": {},
   "outputs": [
    {
     "name": "stdout",
     "output_type": "stream",
     "text": [
      "Q9NVP1 Homo sapiens\n",
      "MSHLPMKLLRKKIEKRNLKLRQRNLKFQGASNLTLSETQNGDVSEETMGSRKVKKSKQKPMNVGLSETQNGGMSQEAVGNIKVTKSPQKSTVLTNGEAAMQSSNSESKKKKKKKRKMVNDAEPDTKKAKTENKGKSEEESAETTKETENNVEKPDNDEDESEVPSLPLGLTGAFEDTSFASLCNLVNENTLKAIKEMGFTNMTEIQHKSIRPLLEGRDLLAAAKTGSGKTLAFLIPAVELIVKLRFMPRNGTGVLILSPTRELAMQTFGVLKELMTHHVHTYGLIMGGSNRSAEAQKLGNGINIIVATPGRLLDHMQNTPGFMYKNLQCLVIDEADRILDVGFEEELKQIIKLLPTRRQTMLFSATQTRKVEDLARISLKKEPLYVGVDDDKANATVDGLEQGYVVCPSEKRFLLLFTFLKKNRKKKLMVFFSSCMSVKYHYELLNYIDLPVLAIHGKQKQNKRTTTFFQFCNADSGTLLCTDVAARGLDIPEVDWIVQYDPPDDPKEYIHRVGRTARGLNGRGHALLILRPEELGFLRYLKQSKVPLSEFDFSWSKISDIQSQLEKLIEKNYFLHKSAQEAYKSYIRAYDSHSLKQIFNVNNLNLPQVALSFGFKVPPFVDLNVNSNEGKQKKRGGGGGFGYQKTKKVEKSKIFKHISKKSSDSRQFSH\n",
      "Q8K363 Mus musculus\n",
      "MSQLQMKLLRRKIEKRNAKLRQRNLKLQETSDTSLSQPQNGDVPKETGKGGKVKKALKRSVPVDSAEAQSGGMPEETLENGKVKKSPQKLTTLANGEAAPTPPPDSEVKKKKKKKRKMANDAGPDTKKAKTEESAEACEEPEDDVKKADDSEVPSLPLGLTGAFEDTSFASLSNLVNENTLKAIEEMGFKRMTEIQHKSIRPLLEGRDLLAAAKTGSGKTLAFLIPVIELIVKLKFMPRNGTGVLILSPTRELAMQTFGVLKELMTHHVHTYGLIMGGSNRSAEVQKLLNGINIIVATPGRLLDHMQNTPGFMYKNLQCLVIDEADRILDVGFEEELKQIIKLLPARRQTMLFSATQTRKVEDLARISLKKEPLYVGVDDDKEVATVDGLEQGYVVCPSEKRFLLLFTFLKKNRKKKVMVFFSSCMSVKYHYELLNYIDLPVLAIHGKQKQNKRTTTFFQFCNADSGILLCTDVAARGLDIPEVDWIVQYDPPDDPKEYIHRVGRTARGLNGRGHALLILRPEELGFLRYLKQSKVPLNQFDFSWSKVSDIQSQLEKLIEKNYFLHKSAQEAYKSYIRAYDSHSLKQIFNVNNLNLPQVALSFGFKVPPFVDLNVSSHDGKLKKRGGGGGFGYQKTKKVEKSKIFKHISKKPADRRQFSH\n",
      "A4R8B5 Pyricularia oryzae 70-15\n",
      "MDDRSSKKRKLKDVNGAKASGAATDVTVKPKKLKKAQSQEEVEPKVEKGSKKEEEENDWSDEEENEAADDAGHSSDSDVDEGDDTIAAPAKEADGDIPGDLTLPTTAESEAQAFSELNLSENTMKAIEEMGFTKMTEIQRRGIPPLLAGKDVLGAAKTGSGKTLAFLIPAVEMLRSLKFKPRNGTGVIVVSPTRELALQIFGVARDLMKHHSQTYGIVIGGANRRAEAEKLSKGVNLLIATPGRLLDHLQNTPFVFKNLRSLVIDEADRILEIGFEDEMRQIIKILPKERQSMLFSATQTTKVEDLARVSLRPGPLYLNVDEEKEYSTVEGLEQGYVVCEADKRFILLFSFLQKMKKKKIIVFFSSCNSVKYYAELLNYIDCQVLDLHGKQKQQKRTNTFFEFCNADRGTLICTDVAARGLDIPAVDWIVQFDPPDDPRDYIHRVGRTARGTNKKGRSLMFLLPSEVGFLTYLKQARVPVVEFDFPTKSIKNVQSQLEKLIGKNYYLNSSAKDGFRSYLHAYASHSLRSVFDINKLDLAKVAKSFGFATPPRVDIQLGASMSKDKKAGGRRAYGSQPRQGGTYGKRR\n",
      "A2Q9T6 Aspergillus niger CBS 513.88\n",
      "MPIPVDTAKSINKKRKRKHGARAATDADDASPKPAVENGETTEVTETPTEKKSKKKAAKESEKEEKPKKRKVDDSSNEDENDSEEEVREADPEDEDDNEGKEDGNGADLPSLDAVRLPQTDGEPKKFTELNLSEKTMKGIQDMGFETMTEIQQRTIPPLLAGRDVLGAAKTGSGKTLSFLIPAVEMLSALRFKPRNGTGVLVVSPTRELALQIFGVARELMAHHSQTYGIVIGGANRRAEAEKLTKGVNLLIATPGRLLDHLQNTPGFVFKNLKTLVIDEADRILEVGFEDEMRQIVKILPSEERQTMLFSATQTTKVEDLARISLRPGPLYINVDHRKEHSTVEGLEQGYVICEADKRFLLLFSFLKRNLKKKIIVFFSSCNCVKYHAELLNYIDLPVLELHGKQKQQKRTNTFFEFCNAKQGTLICTDVAARGLDIPAVDWIIQFDPPDDTRDYVHRVGRTARGVNGKGRSLMFLQPSEVGFLKHLKEARVPVVEFDFPANKIVNVQSQLEKLIGQNYYLNKSAKEGYRAYLQAYASHSLRSVFDVHKLDLVKIAKGFGFSTPPRIDIQLGSSLSRDKKQQQQGRRNYGSQPKGLKFKRKHEDD\n",
      "A3LNR6 Scheffersomyces stipitis CBS 6054\n",
      "MAKNVNSKANGKKSGSVKRALKEKKQPEPEFSDSEDDEVDQEKLVEELDEDFDEVANMLGADVTDPEEKKQSKLERKRKRDEEATAEYTKPEVVDNEDDAQNDKFEDAGLSEPTMRAISDMGFKTMTKVQAKTIPPLLAGKDVLGAAKTGSGKTLAFLIPAIELLYSLKFKPRNGTGVIVVSPTRELALQIFGVARELMAHHTQTFGIVIGGANRRQEAEKLAKGVNLLIATPGRLLDHLQNTQGFVFKNLKALVIDEADRILEIGFEEEMKQIIKILPKEERQSMLFSATQTTKVEDLARISLRPGPLYINVVPETAASTADGLEQGYVVCDSDKRFLLLFSFLKKYSKKKIIVFLSSCNSVKYFGELLNYIDLPVLDLHGKQKQQKRTNTFFEFCNAKQGTLVCTDVAARGLDIPAVDWIIQFDPPDDPRDYIHRVGRTARGSNGKGKSLMFLTPSELGFLRYLKAANVPLNEYEFPTNKIVNIQSQLSKLIKSNYWLHQSAKDGYRSYLQAYASHHLKTVYQIDKLDLVKVAKSFGFDVPPKVNITIGASGKSIEKKHKKQKRA\n",
      "Q7S2N9 Neurospora crassa OR74A\n",
      "MASEFSKKRKLKDAKIATEDGAATDKKTKKVKKDKKEKKAAEEVVEDATPEEENDAQKAEEQQDGDEVIPTGNGDKEDSDDKDAEAGDELTKTNDSLIAPSIATNATDFSELNLSDKTMKAIAEMGFTKMTEIQRRGIPPLLAGKDVLGAAKTGSGKTLAFLIPAIEMLSSLRFKPRNGTGAIVVTPTRELALQIFGVARELMKNHSQTYGVVIGGANRRAEAEKLGKGVNLLIATPGRLLDHLQNTPFVFKNMRSLIIDEADRILEIGFEDEMRQIIKILPKEDRQTMLFSATQTTKVEDLARISLRPGPLYVNVDEEKQFSTVEGLDQGYVVVDADKRFLLLFSFLKKMQKKKVIVFFSSCNSVKYYSELLQYIDLQVLDLHGKQKQQKRTNTFFEFCNAKQGTLICTDVAARGLDIPAVDWIVQFDPPDDPRDYIHRVGRTARGNNTKGRSLLFLQPNELGFLAHLKAAKVPVVEYDFPKSKILNVQSQLEKLIGQNYYLNQSAKDGYRSYLHAYASHSLRSVFDIHKLDLVKVAKSFGFSTPPRVDITLASSMSRDKKQTSRRAYGSQPKQNRH\n"
     ]
    }
   ],
   "source": [
    "fileUniprot= open(\"protein_result_blastp.txt\", \"r\")\n",
    "fields=\"sequence\"\n",
    "WEBSITE_API=\"https://rest.uniprot.org\"\n",
    "seqs=[]\n",
    "\n",
    "for i in fileUniprot:\n",
    "    r=get_url(\"{}/uniprotkb/search?query={} AND (reviewed:true)&fields={}&size=1&format=tsv\".format(WEBSITE_API,i, fields))\n",
    "    seqs.append(str(r.content))\n",
    "\n",
    "with open('ddx18_blastp_file.fasta', 'w') as f:\n",
    "    for index, seq in enumerate(seqs):\n",
    "        existe = re.search(r'b\\'Sequence\\\\n(.+?(?=\\\\n\\'))', seq, re.DOTALL)\n",
    "        if existe:\n",
    "            m = re.match( r'b\\'Sequence\\\\n(.+?(?=\\\\n\\'))', seq, re.DOTALL )\n",
    "            print(lista_sem_repetidos[index])\n",
    "            f.write(f\">{c[index]}\\n{m.group(1)}\\n\\n\")                    \n",
    "            print(m.group(1))\n"
   ]
  },
  {
   "cell_type": "code",
   "execution_count": 44,
   "id": "07d24db7",
   "metadata": {},
   "outputs": [],
   "source": [
    "fileUniprot= open(\"protein_result_blastp.txt\", \"r\")\n",
    "fields=['accession','organism_name','protein_name','cc_function','cc_subcellular_location']\n",
    "WEBSITE_API=\"https://rest.uniprot.org\"\n",
    "\n",
    "def get_field_for_id(ID_PROT, field): \n",
    "    response = get_url(\"{}/uniprotkb/search?query={}&fields={}&size=1&format=tsv\".format(WEBSITE_API,ID_PROT,field))\n",
    "    return str(response.content)\n",
    "\n",
    "def get_info_uniprot(fileUniprot):\n",
    "    results = []\n",
    "    result = []\n",
    "    tmp = []\n",
    "    uniprot_final_list=[]\n",
    "    \n",
    "    for first_index in fileUniprot:\n",
    "        tmp= []\n",
    "        for field in fields:\n",
    "            result = get_field_for_id(first_index, field)\n",
    "            tmp.append(result)\n",
    "        results.append(tmp)\n",
    "    for ind in results:\n",
    "        uniprot_list=[]\n",
    "        for i in ind:\n",
    "            entry = re.search(r'b\\'Entry\\\\n(.+?(?=\\\\n\\'))', str(i), re.DOTALL)\n",
    "            organism = re.search(r'b\\'Organism\\\\n(.+?(?=\\\\n\\'))', str(i), re.DOTALL)\n",
    "            protein = re.search(r'Protein names\\\\n(.+?(?=\\\\n))', str(i), re.DOTALL)\n",
    "            function = re.search(r'Function \\[CC\\]\\\\n.{9} (.+?(?=\\\\n))', str(i), re.DOTALL )\n",
    "            location_exist = re.search(r'b\\'Subcellular location \\[CC\\]\\\\nSUBCELLULAR LOCATION: (.+?(?=\\\\n\\'))', str(i), re.DOTALL )\n",
    "            location_notexist = re.search( r'b\\'Subcellular location \\[CC\\]\\\\n\\\\n\\'',str(i), re.DOTALL )   \n",
    "            if entry:\n",
    "                uniprot_list.append(entry.group(1))\n",
    "            if organism:\n",
    "                uniprot_list.append(organism.group(1))\n",
    "            if protein:\n",
    "                uniprot_list.append(protein.group(1))\n",
    "            if location_exist:\n",
    "                uniprot_list.append(location_exist.group(1))\n",
    "            if location_notexist:\n",
    "                uniprot_list.append('N/A')\n",
    "            if function:\n",
    "                uniprot_list.append(function.group(1))\n",
    "        uniprot_final_list.append(uniprot_list)\n",
    "    return uniprot_final_list\n"
   ]
  },
  {
   "cell_type": "code",
   "execution_count": 45,
   "id": "a3797b5d",
   "metadata": {},
   "outputs": [
    {
     "data": {
      "text/plain": [
       "[['Q9NVP1',\n",
       "  'Homo sapiens (Human)',\n",
       "  'ATP-dependent RNA helicase DDX18 (EC 3.6.4.13) (DEAD box protein 18) (Myc-regulated DEAD box protein) (MrDb)',\n",
       "  'Probable RNA-dependent helicase.',\n",
       "  'Nucleus, nucleolus {ECO:0000269|PubMed:16963496}. Chromosome {ECO:0000269|PubMed:20813266}.'],\n",
       " ['Q8K363',\n",
       "  'Mus musculus (Mouse)',\n",
       "  'ATP-dependent RNA helicase DDX18 (EC 3.6.4.13) (DEAD box protein 18)',\n",
       "  'Probable RNA-dependent helicase.',\n",
       "  'Nucleus, nucleolus {ECO:0000250|UniProtKB:Q9NVP1}. Chromosome {ECO:0000250|UniProtKB:Q9NVP1}.'],\n",
       " ['A4R8B5',\n",
       "  'Magnaporthe oryzae (strain 70-15 / ATCC MYA-4617 / FGSC 8958) (Rice blast fungus) (Pyricularia oryzae)',\n",
       "  'ATP-dependent RNA helicase HAS1 (EC 3.6.4.13)',\n",
       "  'ATP-dependent RNA helicase involved in 40S ribosomal subunit biogenesis. Required for the processing and cleavage of 35S pre-rRNA at sites A0, A1, and A2, leading to mature 18S rRNA.',\n",
       "  'Nucleus, nucleolus {ECO:0000250}.'],\n",
       " ['A2Q9T6',\n",
       "  'Aspergillus niger (strain CBS 513.88 / FGSC A1513)',\n",
       "  'ATP-dependent RNA helicase has1 (EC 3.6.4.13)',\n",
       "  'ATP-dependent RNA helicase involved in 40S ribosomal subunit biogenesis. Required for the processing and cleavage of 35S pre-rRNA at sites A0, A1, and A2, leading to mature 18S rRNA.',\n",
       "  'Nucleus, nucleolus {ECO:0000250}.'],\n",
       " ['A3LNR6',\n",
       "  'Scheffersomyces stipitis (strain ATCC 58785 / CBS 6054 / NBRC 10063 / NRRL Y-11545) (Yeast) (Pichia stipitis)',\n",
       "  'ATP-dependent RNA helicase HAS1 (EC 3.6.4.13)',\n",
       "  'ATP-dependent RNA helicase involved in 40S ribosomal subunit biogenesis. Required for the processing and cleavage of 35S pre-rRNA at sites A0, A1, and A2, leading to mature 18S rRNA.',\n",
       "  'Nucleus, nucleolus {ECO:0000250}.'],\n",
       " ['Q7S2N9',\n",
       "  'Neurospora crassa (strain ATCC 24698 / 74-OR23-1A / CBS 708.71 / DSM 1257 / FGSC 987)',\n",
       "  'ATP-dependent RNA helicase has-1 (EC 3.6.4.13)',\n",
       "  'ATP-dependent RNA helicase involved in 40S ribosomal subunit biogenesis. Required for the processing and cleavage of 35S pre-rRNA at sites A0, A1, and A2, leading to mature 18S rRNA.',\n",
       "  'Nucleus, nucleolus {ECO:0000250}.']]"
      ]
     },
     "execution_count": 45,
     "metadata": {},
     "output_type": "execute_result"
    }
   ],
   "source": [
    "get_info_uniprot(fileUniprot)"
   ]
  },
  {
   "cell_type": "code",
   "execution_count": 46,
   "id": "ea51b112",
   "metadata": {},
   "outputs": [
    {
     "name": "stdout",
     "output_type": "stream",
     "text": [
      "Id: Q9NVP1\n",
      "Organism: Homo sapiens (Human)\n",
      "Protein name: ATP-dependent RNA helicase DDX18 (EC 3.6.4.13) (DEAD box protein 18) (Myc-regulated DEAD box protein) (MrDb)\n",
      "Subcelular location: Nucleus, nucleolus {ECO:0000269|PubMed:16963496}. Chromosome {ECO:0000269|PubMed:20813266}.\n",
      "Function:  Probable RNA-dependent helicase.\n",
      "\n",
      "\n",
      "Id: Q8K363\n",
      "Organism: Mus musculus (Mouse)\n",
      "Protein name: ATP-dependent RNA helicase DDX18 (EC 3.6.4.13) (DEAD box protein 18)\n",
      "Subcelular location: Nucleus, nucleolus {ECO:0000250|UniProtKB:Q9NVP1}. Chromosome {ECO:0000250|UniProtKB:Q9NVP1}.\n",
      "Function:  Probable RNA-dependent helicase.\n",
      "\n",
      "\n",
      "Id: A4R8B5\n",
      "Organism: Magnaporthe oryzae (strain 70-15 / ATCC MYA-4617 / FGSC 8958) (Rice blast fungus) (Pyricularia oryzae)\n",
      "Protein name: ATP-dependent RNA helicase HAS1 (EC 3.6.4.13)\n",
      "Subcelular location: Nucleus, nucleolus {ECO:0000250}.\n",
      "Function:  ATP-dependent RNA helicase involved in 40S ribosomal subunit biogenesis. Required for the processing and cleavage of 35S pre-rRNA at sites A0, A1, and A2, leading to mature 18S rRNA.\n",
      "\n",
      "\n",
      "Id: A2Q9T6\n",
      "Organism: Aspergillus niger (strain CBS 513.88 / FGSC A1513)\n",
      "Protein name: ATP-dependent RNA helicase has1 (EC 3.6.4.13)\n",
      "Subcelular location: Nucleus, nucleolus {ECO:0000250}.\n",
      "Function:  ATP-dependent RNA helicase involved in 40S ribosomal subunit biogenesis. Required for the processing and cleavage of 35S pre-rRNA at sites A0, A1, and A2, leading to mature 18S rRNA.\n",
      "\n",
      "\n",
      "Id: A3LNR6\n",
      "Organism: Scheffersomyces stipitis (strain ATCC 58785 / CBS 6054 / NBRC 10063 / NRRL Y-11545) (Yeast) (Pichia stipitis)\n",
      "Protein name: ATP-dependent RNA helicase HAS1 (EC 3.6.4.13)\n",
      "Subcelular location: Nucleus, nucleolus {ECO:0000250}.\n",
      "Function:  ATP-dependent RNA helicase involved in 40S ribosomal subunit biogenesis. Required for the processing and cleavage of 35S pre-rRNA at sites A0, A1, and A2, leading to mature 18S rRNA.\n",
      "\n",
      "\n",
      "Id: Q7S2N9\n",
      "Organism: Neurospora crassa (strain ATCC 24698 / 74-OR23-1A / CBS 708.71 / DSM 1257 / FGSC 987)\n",
      "Protein name: ATP-dependent RNA helicase has-1 (EC 3.6.4.13)\n",
      "Subcelular location: Nucleus, nucleolus {ECO:0000250}.\n",
      "Function:  ATP-dependent RNA helicase involved in 40S ribosomal subunit biogenesis. Required for the processing and cleavage of 35S pre-rRNA at sites A0, A1, and A2, leading to mature 18S rRNA.\n",
      "\n",
      "\n"
     ]
    }
   ],
   "source": [
    "fileUniprot= open(\"protein_result_blastp.txt\", \"r\")\n",
    "allInfo=get_info_uniprot(fileUniprot)\n",
    "for index in allInfo:\n",
    "    print('Id: {}\\nOrganism: {}\\nProtein name: {}\\nSubcelular location: {}\\nFunction:  {}\\n\\n'.format(index[0], index[1], index[2], index[4], index[3]))\n",
    "    "
   ]
  },
  {
   "cell_type": "code",
   "execution_count": 47,
   "id": "b589a535",
   "metadata": {},
   "outputs": [],
   "source": [
    "# results_Blastp= open('blastp_file_ddx18.xml')\n",
    "# blastp_records = NCBIXML.read(results_Blastp)\n",
    "# titles_list=[]\n",
    "# for alignment in  blastp_records.alignments:   \n",
    "#     titles_list.append(alignment.title)\n",
    "\n",
    "# file= open(\"protein_result_blastp.txt\", \"r\")\n",
    "# fields=\"sequence\"\n",
    "# WEBSITE_API=\"https://rest.uniprot.org\"\n",
    "# seqs=[]\n",
    "\n",
    "# for i in file:\n",
    "#     r=get_url(\"{}/uniprotkb/search?query={} AND (reviewed:true)&fields={}&size=1&format=tsv\".format(WEBSITE_API,i, fields))\n",
    "#     seqs.append(str(r.content))\n",
    "\n",
    "# with open('ddx18_blastp_file.fasta', 'w') as f:\n",
    "#     for index, seq in enumerate(seqs):\n",
    "#         existe = re.search(r'b\\'Sequence\\\\n(.+?(?=\\\\n\\'))', seq, re.DOTALL)\n",
    "#         if existe:\n",
    "#             m = re.match( r'b\\'Sequence\\\\n(.+?(?=\\\\n\\'))', seq, re.DOTALL )\n",
    "#             f.write(f\">{titles_list[index]}\\n{m.group(1)}\\n\\n\")                    \n",
    "# #             print(m.group(1))      "
   ]
  },
  {
   "cell_type": "code",
   "execution_count": 48,
   "id": "b528a176",
   "metadata": {},
   "outputs": [],
   "source": [
    "# file= open(\"blastp_files_ID_ddx18.txt\", \"r\")\n",
    "# fields=\"accession,organism_name,protein_name,cc_subcellular_location,cc_function\"\n",
    "# WEBSITE_API=\"https://rest.uniprot.org\"\n",
    "# with open('uniprot_result_CDS_filtered.txt', 'w',encoding='utf-8') as f:\n",
    "#     for i in file:\n",
    "#         r=get_url(\"{}/uniprotkb/search?query={} AND (reviewed:true)&fields={}&size=1&format=tsv\".format(WEBSITE_API,i, fields))\n",
    "#         print(r.text)\n",
    "#         f.write(r.text)\n",
    "#         f.write('\\n')"
   ]
  }
 ],
 "metadata": {
  "kernelspec": {
   "display_name": "Python 3 (ipykernel)",
   "language": "python",
   "name": "python3"
  },
  "language_info": {
   "codemirror_mode": {
    "name": "ipython",
    "version": 3
   },
   "file_extension": ".py",
   "mimetype": "text/x-python",
   "name": "python",
   "nbconvert_exporter": "python",
   "pygments_lexer": "ipython3",
   "version": "3.9.12"
  }
 },
 "nbformat": 4,
 "nbformat_minor": 5
}
