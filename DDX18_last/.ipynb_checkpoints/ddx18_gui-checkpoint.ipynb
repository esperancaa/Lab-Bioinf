{
 "cells": [
  {
   "cell_type": "markdown",
   "id": "50e6a2c4",
   "metadata": {},
   "source": [
    "# Literature Analysis"
   ]
  },
  {
   "cell_type": "markdown",
   "id": "5f8c3ec5",
   "metadata": {},
   "source": [
    "## Automated searches with Biopython"
   ]
  },
  {
   "cell_type": "code",
   "execution_count": 1,
   "id": "f2050b85",
   "metadata": {},
   "outputs": [],
   "source": [
    "from Bio.Blast import NCBIXML \n",
    "from Bio.Blast import NCBIWWW\n",
    "import requests, sys, json\n",
    "import re\n",
    "from Bio import SeqIO\n",
    "from Bio import Entrez\n",
    "from Bio import Medline\n",
    "import pandas as pd\n",
    "import numpy as np\n",
    "from tqdm import tqdm\n",
    "from Bio import SearchIO\n",
    "from Bio.SwissProt import KeyWList\n",
    "from Bio import SwissProt\n",
    "from Bio import ExPASy\n",
    "from Bio.SeqRecord import SeqRecord\n",
    "from Bio.Align import MultipleSeqAlignment\n",
    "from Bio.Seq import Seq\n",
    "from Bio import AlignIO\n",
    "from Bio.Align import AlignInfo\n",
    "from Bio.SeqFeature import SeqFeature, FeatureLocation\n",
    "from Bio.Phylo.TreeConstruction import DistanceCalculator\n",
    "from Bio.Phylo.TreeConstruction import DistanceTreeConstructor\n",
    "from Bio import Phylo"
   ]
  },
  {
   "cell_type": "code",
   "execution_count": 2,
   "id": "1d5f7759",
   "metadata": {
    "scrolled": false
   },
   "outputs": [
    {
     "name": "stdout",
     "output_type": "stream",
     "text": [
      "database: PubMed\n",
      "query a procurar: ddx18\n",
      "resultados maximos: 30\n",
      "title: Detection of Selection Signatures in Anqing Six-End-White Pigs Based on Resequencing Data.\n",
      "authors: ['Chen Y', 'Wu X', 'Wang J', 'Hou Y', 'Liu Y', 'Wang B', 'Hu X', 'Zheng X', 'Zhang X', 'Ding Y', 'Yin Z']\n",
      "source: Genes (Basel). 2022 Dec 8;13(12):2310. doi: 10.3390/genes13122310.\n",
      "\n",
      "title: DDX18 prevents R-loop-induced DNA damage and genome instability via PARP-1.\n",
      "authors: ['Lin WL', 'Chen JK', 'Wen X', 'He W', 'Zarceno GA', 'Chen Y', 'Chen S', 'Paull TT', 'Liu HW']\n",
      "source: Cell Rep. 2022 Jul 19;40(3):111089. doi: 10.1016/j.celrep.2022.111089.\n",
      "\n",
      "title: Identification of Important Modules and Hub Gene in Chronic Kidney Disease Based on WGCNA.\n",
      "authors: ['Wang J', 'Yin Y', 'Lu Q', 'Zhao YR', 'Hu YJ', 'Hu YZ', 'Wang ZY']\n",
      "source: J Immunol Res. 2022 May 4;2022:4615292. doi: 10.1155/2022/4615292. eCollection 2022.\n",
      "\n",
      "title: The RNA-Binding Protein DDX18 Promotes Gastric Cancer by Affecting the Maturation of MicroRNA-21.\n",
      "authors: ['Zhang Y', 'Yu F', 'Ni B', 'Li Q', 'Bae SW', 'Choi JH', 'Yang HK', 'Kong SH', 'Zhu C']\n",
      "source: Front Oncol. 2021 Jan 8;10:598238. doi: 10.3389/fonc.2020.598238. eCollection 2020.\n",
      "\n",
      "title: Identification of Key Modules and Hub Genes Involved in Esophageal Squamous Cell Carcinoma Tumorigenesis Using WCGNA.\n",
      "authors: ['Chen N', 'Zhang G', 'Fu J', 'Wu Q']\n",
      "source: Cancer Control. 2020 Jan-Dec;27(1):1073274820978817. doi: 10.1177/1073274820978817.\n",
      "\n",
      "title: Identification of the Significant Genes Regulated by Estrogen Receptor in Estrogen Receptor-Positive Breast Cancer and Their Expression Pattern Changes When Tamoxifen or Fulvestrant Resistance Occurs.\n",
      "authors: ['Cheng R', 'Qi L', 'Kong X', 'Wang Z', 'Fang Y', 'Wang J']\n",
      "source: Front Genet. 2020 Sep 29;11:538734. doi: 10.3389/fgene.2020.538734. eCollection 2020.\n",
      "\n",
      "title: Identification of key gene modules and genes in colorectal cancer by co-expression analysis weighted gene co-expression network analysis.\n",
      "authors: ['Wang P', 'Zheng H', 'Zhang J', 'Wang Y', 'Liu P', 'Xuan X', 'Li Q', 'Du Y']\n",
      "source: Biosci Rep. 2020 Sep 30;40(9):BSR20202044. doi: 10.1042/BSR20202044.\n",
      "\n",
      "title: DEAD-Box Helicase 18 Counteracts PRC2 to Safeguard Ribosomal DNA in Pluripotency Regulation.\n",
      "authors: ['Zhang H', 'Wu Z', 'Lu JY', 'Huang B', 'Zhou H', 'Xie W', 'Wang J', 'Shen X']\n",
      "source: Cell Rep. 2020 Jan 7;30(1):81-97.e7. doi: 10.1016/j.celrep.2019.12.021.\n",
      "\n",
      "title: Genome-wide scan identifies opioid overdose risk locus close to MCOLN1.\n",
      "authors: ['Cheng Z', 'Yang BZ', 'Zhou H', 'Nunez Y', 'Kranzler HR', 'Gelernter J']\n",
      "source: Addict Biol. 2020 Mar;25(2):e12811. doi: 10.1111/adb.12811. Epub 2019 Jul 30.\n",
      "\n",
      "title: Integrated network analysis and machine learning approach for the identification of key genes of triple-negative breast cancer.\n",
      "authors: ['Naorem LD', 'Muthaiyan M', 'Venkatesan A']\n",
      "source: J Cell Biochem. 2019 Apr;120(4):6154-6167. doi: 10.1002/jcb.27903. Epub 2018 Oct 9.\n",
      "\n",
      "title: PNPLA3 and TM6SF2 variants as risk factors of hepatocellular carcinoma across various etiologies and severity of underlying liver diseases.\n",
      "authors: ['Yang J', 'Trepo E', 'Nahon P', 'Cao Q', 'Moreno C', 'Letouze E', 'Imbeaud S', 'Gustot T', 'Deviere J', 'Debette S', 'Amouyel P', 'Bioulac-Sage P', 'Calderaro J', 'Ganne-Carrie N', 'Laurent A', 'Blanc JF', 'Guyot E', 'Sutton A', 'Ziol M', 'Zucman-Rossi J', 'Nault JC']\n",
      "source: Int J Cancer. 2019 Feb 1;144(3):533-544. doi: 10.1002/ijc.31910. Epub 2018 Nov 9.\n",
      "\n",
      "title: [Data mining of esophageal squamous cell carcinoma from The Cancer Genome Atlas database].\n",
      "authors: ['He SY', 'Wang XB', 'Jiao YC']\n",
      "source: Zhonghua Zhong Liu Za Zhi. 2018 Jul 23;40(7):517-522. doi: 10.3760/cma.j.issn.0253-3766.2018.07.007.\n",
      "\n",
      "title: Cellular DEAD-box RNA helicase 18 (DDX18) Promotes the PRRSV Replication via Interaction with Virus nsp2 and nsp10.\n",
      "authors: ['Jin H', 'Zhou L', 'Ge X', 'Zhang H', 'Zhang R', 'Wang C', 'Wang L', 'Zhang Z', 'Yang H', 'Guo X']\n",
      "source: Virus Res. 2017 Jun 15;238:204-212. doi: 10.1016/j.virusres.2017.05.028. Epub 2017 Jun 22.\n",
      "\n",
      "title: Genomic interaction between ER and HMGB2 identifies DDX18 as a novel driver of endocrine resistance in breast cancer cells.\n",
      "authors: ['Redmond AM', 'Byrne C', 'Bane FT', 'Brown GD', 'Tibbitts P', \"O'Brien K\", 'Hill AD', 'Carroll JS', 'Young LS']\n",
      "source: Oncogene. 2015 Jul;34(29):3871-80. doi: 10.1038/onc.2014.323. Epub 2014 Oct 6.\n",
      "\n",
      "title: Ddx18 is essential for cell-cycle progression in zebrafish hematopoietic cells and is mutated in human AML.\n",
      "authors: ['Payne EM', 'Bolli N', 'Rhodes J', 'Abdel-Wahab OI', 'Levine R', 'Hedvat CV', 'Stone R', 'Khanna-Gupta A', 'Sun H', 'Kanki JP', 'Gazda HT', 'Beggs AH', 'Cotter FE', 'Look AT']\n",
      "source: Blood. 2011 Jul 28;118(4):903-15. doi: 10.1182/blood-2010-11-318022. Epub 2011 Jun 7.\n",
      "\n",
      "title: Comparative structural analysis of human DEAD-box RNA helicases.\n",
      "authors: ['Schutz P', 'Karlberg T', 'van den Berg S', 'Collins R', 'Lehtio L', 'Hogbom M', 'Holmberg-Schiavone L', 'Tempel W', 'Park HW', 'Hammarstrom M', 'Moche M', 'Thorsell AG', 'Schuler H']\n",
      "source: PLoS One. 2010 Sep 30;5(9):e12791. doi: 10.1371/journal.pone.0012791.\n",
      "\n",
      "title: Enriching protein-protein and functional interaction networks in human embryonic stem cells.\n",
      "authors: ['Zuo C', 'Liang S', 'Wang Z', 'Li H', 'Zheng W', 'Ma W']\n",
      "source: Int J Mol Med. 2009 Jun;23(6):811-9. doi: 10.3892/ijmm_00000197.\n",
      "\n",
      "title: Cellular studies of MrDb (DDX18).\n",
      "authors: ['Dubaele S', 'Chene P']\n",
      "source: Oncol Res. 2007;16(12):549-56. doi: 10.3727/000000007783630015.\n",
      "\n"
     ]
    }
   ],
   "source": [
    "#First Strategie\n",
    "\n",
    "database = input('database: ')#For literature will be PubMed\n",
    "word = input('query a procurar: ') #I put ddx18\n",
    "res= int(input('resultados maximos: '))#I choose a limit of thirty\n",
    "email= \"guilherme.lobo@ua.pt\"\n",
    "\n",
    "Entrez.email= email\n",
    "handle=Entrez.esearch(db = database, term=word, retmax= res)\n",
    "record=Entrez.read(handle)\n",
    "handle.close()\n",
    "idlist= record['IdList']\n",
    "\n",
    "handle = Entrez.efetch(db=database, id=idlist, rettype=\"medline\", retmode=\"text\") #para este caso em especifico devemos ter como database a PubMed(\"Medline\")\n",
    "records = Medline.parse(handle)\n",
    "\n",
    "\n",
    "for record in records:\n",
    "    #print(record) \n",
    "    #print(\"PMID:\",record.get(\"PMID\",\"-\"))\n",
    "    print(\"title:\", record.get(\"TI\", \"-\"))\n",
    "    #print('abstract:', record.get('AB', '-'))\n",
    "    print(\"authors:\", record.get(\"AU\", \"-\"))\n",
    "    print(\"source:\", record.get(\"SO\", \"-\"))\n",
    "    print(\"\")"
   ]
  },
  {
   "cell_type": "markdown",
   "id": "e57a99e8",
   "metadata": {},
   "source": [
    "-Same thing as above with the difference that we are the ones who have to make a prior choice of articles and download a file accordingly-(pubmed-irs-1ANDdi-set.txt).\\\n",
    "-We think that this way is more suitable, despite not being completely automated, because when choosing articles it is always necessary to make an adequate pre-selection"
   ]
  },
  {
   "cell_type": "code",
   "execution_count": 3,
   "id": "627372e0",
   "metadata": {},
   "outputs": [
    {
     "name": "stderr",
     "output_type": "stream",
     "text": [
      "6it [00:00, 5991.86it/s]"
     ]
    },
    {
     "name": "stdout",
     "output_type": "stream",
     "text": [
      "       PMID                                              Title  \\\n",
      "1  15727801  IRS-1 and vascular complications in diabetes m...   \n",
      "2  14584587            IRS-1 regulation in health and disease.   \n",
      "3  26704265  Novel compounds reducing IRS-1 serine phosphor...   \n",
      "4  12169433      IRS proteins and the common path to diabetes.   \n",
      "5  10593864  Low cellular IRS 1 gene and protein expression...   \n",
      "6  11272176               IRS proteins and beta-cell function.   \n",
      "\n",
      "                                            Abstract  \\\n",
      "1  The expected explosive increase in the number ...   \n",
      "2  The global incidence of diabetes is increasing...   \n",
      "3  Activation of various interacting stress kinas...   \n",
      "4  Although a full understanding of insulin/insul...   \n",
      "5  We examined the gene and protein expression of...   \n",
      "6  Insulin receptor substrate (IRS) proteins medi...   \n",
      "\n",
      "                                             Authors  \\\n",
      "1                  [Andrade Ferreira I, Akkerman JW]   \n",
      "2                  [Schmitz-Peiffer C, Whitehead JP]   \n",
      "3  [Simon-Szabó L, Kokas M, Greff Z, Boros S, Bán...   \n",
      "4                                         [White MF]   \n",
      "5  [Carvalho E, Jansson PA, Axelsen M, Eriksson J...   \n",
      "6                               [Burks DJ, White MF]   \n",
      "\n",
      "                                              Source  \n",
      "1  Vitam Horm. 2005;70:25-67. doi: 10.1016/S0083-...  \n",
      "2  IUBMB Life. 2003 Jul;55(7):367-74. doi: 10.108...  \n",
      "3  Bioorg Med Chem Lett. 2016 Jan 15;26(2):424-42...  \n",
      "4  Am J Physiol Endocrinol Metab. 2002 Sep;283(3)...  \n",
      "5  FASEB J. 1999 Dec;13(15):2173-8. doi: 10.1096/...  \n",
      "6  Diabetes. 2001 Feb;50 Suppl 1:S140-5. doi: 10....  \n"
     ]
    },
    {
     "name": "stderr",
     "output_type": "stream",
     "text": [
      "\n"
     ]
    }
   ],
   "source": [
    "#Second Strategie\n",
    "alldata=[]\n",
    "with open(\"pubmed-irs-1ANDdi-set.txt\",encoding=\"utf-8\") as f: #For this examples I chosse articles from PubMed about Diabetes type II\n",
    "    pmids= Medline.parse(f)\n",
    "    for pmid in tqdm(pmids):\n",
    "        try:\n",
    "            pid=pmid[\"PMID\"]\n",
    "        except:\n",
    "            pid=\"-\"\n",
    "        try:\n",
    "            Title=pmid[\"TI\"]\n",
    "        except:\n",
    "            Title=\"-\"\n",
    "        try:        \n",
    "            Abstract=pmid[\"AB\"]\n",
    "        except:\n",
    "            Abstract=\"-\"\n",
    "        try:\n",
    "            Authors=pmid[\"AU\"]\n",
    "        except:\n",
    "            Authors=\"-\"\n",
    "        try:\n",
    "            Source=pmid[\"SO\"]\n",
    "        except:\n",
    "            Source=\"-\"\n",
    "        \n",
    "        dic={\"PMID\":pid,\n",
    "             \"Title\":Title,\n",
    "             \"Abstract\":Abstract,\n",
    "             \"Authors\":Authors,\n",
    "             \"Source\":Source\n",
    "            }\n",
    "        alldata.append(dic)\n",
    "#print(alldata)\n",
    "df = pd.DataFrame.from_records(alldata,index=['1', '2',\"3\",\"4\",\"5\",\"6\"])\n",
    "print(df)\n",
    "#writer = pd.ExcelWriter('articles_diabetes.xlsx')\n",
    "#df.to_Exel(writer)\n",
    "#writer.save()\n",
    "#df=pd.DataFrame(alldata)\n",
    "#df.to_csv(\"articles.csv\", index=False)"
   ]
  },
  {
   "cell_type": "markdown",
   "id": "bc561e03",
   "metadata": {},
   "source": [
    "# Analysis of the sequence and features present in the NCBI"
   ]
  },
  {
   "cell_type": "markdown",
   "id": "54b6f5ae",
   "metadata": {},
   "source": [
    "## DDX18"
   ]
  },
  {
   "cell_type": "code",
   "execution_count": null,
   "id": "9d6548da",
   "metadata": {},
   "outputs": [],
   "source": [
    "ddx18 and homo sapiens and Chromosome 2 and not predicted and not unverified"
   ]
  },
  {
   "cell_type": "code",
   "execution_count": 4,
   "id": "46da6e87",
   "metadata": {},
   "outputs": [
    {
     "name": "stdout",
     "output_type": "stream",
     "text": [
      "NM_006773.4 Homo sapiens DEAD-box helicase 18 (DDX18), mRNA\n",
      "AC009312.4 Homo sapiens BAC clone RP11-425F6 from 2, complete sequence\n",
      "AC009404.5 Homo sapiens BAC clone RP11-28H22 from 2, complete sequence\n",
      "CM000253.1 Homo sapiens chromosome 2, whole genome shotgun sequence\n",
      "CH471103.1 Homo sapiens 211000035839809 genomic scaffold, whole genome shotgun sequence\n",
      "DQ655976.2 Homo sapiens clone Affy08254D01, mRNA sequence\n",
      "DQ655975.2 Homo sapiens clone Affy08248B12, mRNA sequence\n",
      "NT_086328.2 Homo sapiens chromosome 2 sequence, ENCODE region ENr121\n"
     ]
    }
   ],
   "source": [
    "database =\"nucleotide\"\n",
    "word = \"ddx18 and homo sapiens and Chromosome 2 and not predicted and not unverified\"\n",
    "res= \"30\"\n",
    "Entrez.email=\"guilherme.lobo@ua.pt\"\n",
    "handle=Entrez.esearch(db = database, term=word, retmax= res)\n",
    "record=Entrez.read(handle)\n",
    "handle.close()\n",
    "idlist= record['IdList']\n",
    "\n",
    "handle = Entrez.efetch(db=database, id=idlist, rettype=\"gb\") \n",
    "records = list(SeqIO.parse(handle,\"gb\"))\n",
    "handle.close()\n",
    "for x in records:\n",
    "    print(x.id,x.description)"
   ]
  },
  {
   "cell_type": "markdown",
   "id": "c39e60f8",
   "metadata": {},
   "source": [
    "Taking into account the description given, we think that the id (\"NM_006773.4\") would be the most appropriate and, as such, will be used from now on."
   ]
  },
  {
   "cell_type": "code",
   "execution_count": 5,
   "id": "ed443da9",
   "metadata": {},
   "outputs": [
    {
     "name": "stdout",
     "output_type": "stream",
     "text": [
      "Record sequence length:  3753\n",
      "Record features count:  27\n",
      "Nuclleotide sequence: ACGTGCGGCCGGAAGGGAAGTAACGTCAGCCTGAGAACTGAGTAGCTGTACTGTGTGGCGCCTTATTCTAGGCACTTGTTGGGCAGAATGTCACACCTGCCGATGAAACTCCTGCGTAAGAAGATCGAGAAGCGGAACCTCAAATTGCGGCAGCGGAACCTAAAGTTTCAGGGGGCCTCAAATCTGACCCTATCGGAAACTCAAAATGGAGATGTATCTGAAGAAACAATGGGAAGTAGAAAGGTTAAAAAATCAAAACAAAAGCCCATGAATGTGGGCTTATCAGAAACTCAAAATGGAGGCATGTCTCAAGAAGCAGTGGGAAATATAAAAGTTACAAAGTCTCCCCAGAAATCCACTGTATTAACCAATGGAGAAGCAGCAATGCAGTCTTCCAATTCAGAATCAAAAAAGAAAAAGAAGAAAAAGAGAAAAATGGTGAATGATGCTGAGCCTGATACGAAAAAAGCAAAAACTGAAAACAAAGGGAAATCTGAAGAAGAAAGTGCCGAGACTACTAAAGAAACAGAAAATAATGTGGAGAAGCCAGATAATGATGAAGATGAGAGTGAGGTGCCCAGTCTGCCCCTGGGACTGACAGGAGCTTTTGAGGATACTTCGTTTGCTTCTCTATGTAATCTTGTCAATGAAAACACTCTGAAGGCAATAAAAGAAATGGGTTTTACAAACATGACTGAAATTCAGCATAAAAGTATCAGACCACTTCTGGAAGGCAGGGATCTTCTAGCAGCTGCAAAAACAGGCAGTGGTAAAACCCTGGCTTTTCTCATCCCTGCAGTTGAACTCATTGTTAAGTTAAGGTTCATGCCCAGGAATGGAACAGGAGTCCTTATTCTCTCACCTACTAGAGAACTAGCCATGCAAACCTTTGGTGTTCTTAAGGAGCTGATGACTCACCACGTGCATACCTATGGCTTGATAATGGGTGGCAGTAACAGATCTGCTGAAGCACAGAAACTTGGTAATGGGATCAACATCATTGTGGCCACACCAGGCCGTCTGCTGGACCATATGCAGAATACCCCAGGATTTATGTATAAAAACCTGCAGTGTCTGGTTATTGATGAAGCTGATCGTATCTTGGATGTGGGGTTTGAAGAGGAATTAAAGCAAATTATTAAACTTTTGCCAACACGTAGACAGACTATGCTCTTTTCTGCCACCCAAACTCGAAAAGTTGAAGACCTGGCAAGGATTTCTCTGAAAAAGGAGCCATTGTATGTTGGCGTTGATGATGATAAAGCGAATGCAACAGTGGATGGTCTTGAACAGGGATATGTTGTTTGTCCTTCTGAAAAGAGATTCCTTCTGCTCTTTACATTCCTTAAGAAGAACCGAAAGAAGAAGCTTATGGTCTTCTTTTCATCTTGTATGTCTGTGAAATACCACTATGAGTTGCTGAACTACATTGATTTGCCCGTCTTGGCCATTCATGGAAAGCAAAAGCAAAATAAGCGTACAACCACATTCTTCCAGTTCTGCAATGCAGATTCGGGAACACTATTGTGTACGGATGTGGCAGCGAGAGGACTAGACATTCCTGAAGTCGACTGGATTGTTCAGTATGACCCTCCGGATGACCCTAAGGAATATATTCATCGTGTGGGTAGAACAGCCAGAGGCCTAAATGGGAGAGGGCATGCCTTGCTCATTTTGCGCCCAGAAGAATTGGGTTTTCTTCGCTACTTGAAACAATCCAAGGTTCCATTAAGTGAATTTGACTTTTCCTGGTCTAAAATTTCTGACATTCAGTCTCAGCTTGAGAAATTGATTGAAAAGAATTACTTTCTTCATAAGTCAGCCCAGGAAGCATATAAGTCATACATACGAGCCTATGATTCCCATTCTCTGAAACAGATCTTTAATGTTAATAACCTAAATTTGCCTCAGGTTGCTCTGTCATTTGGTTTCAAGGTGCCTCCCTTCGTTGATCTGAACGTCAACAGTAATGAAGGCAAGCAGAAAAAGCGAGGAGGTGGTGGTGGATTTGGCTACCAGAAAACCAAGAAAGTTGAGAAATCCAAAATCTTTAAACACATTAGCAAGAAATCATCTGACAGCAGGCAGTTCTCTCACTGAACACATGCCTTCCTTTCATCTTGAATAACTTTGTCCTAAAATGAATTTTTTTTCCCCTTGATTTAACAGGATTTTTGTAGACTTTAGAATTTGGACTTACCTAACAAGAGTATAAATTGACTTGGGTTGCAAGCACTGAGCACTGTTACTTCTATCACGTCTCTCTTTTATTTCTGGGATATAAAACAGGCTTTAAGTTTCTTGGTTGCCCAAGGGCAGAGCAAGGAATATCTGGTGTTTCTTGTGATGATAATATTTTAATTTTAAATATCCCTCCCTCATACAAGTGTATGTTACCATTTTAATATAATTCTTTTTGTACCTTTCCTTCTTGTTTTGCGAAGATTTTTGTGGCATGGATTGCTGTGCTCACTGCTGTAAAAGGTGACCTAGTGTACTGGGCAGCTGGTGGCGGTGCAGAAAAGAGTCTCAGGTTATTTTTTGTTTTTAGTTATTTCTTGGACCTTGACAGTATCTAATGACTCCTCCTGAAAATGCTGCAGTATAAAAGAGCAAAGAGCTTTGGGAAATACCTAAGAAGCACCTTAAGATTAGGGTGGCATTGCTTTTATAGATTCTTGATTTTAAAGCAACAGGCCTTTCTCAGGTGTTGCATTTTTTGGAGCAAAAACTATGGGTTGTAATTTGAATAAAGTGTCACTAAGCAGTTATAACGTTTGATGGCTGGGGGGTAGGAAGAGGATGGAATTGAGATGTTTGAGCCTCATTTACATCAATAGAGGTGTAATGTACTGCATTTCTTCATTTGGTAACATAACAAAGACTTTCATACAAAGAACGATGATGCTCCTCATTAAGATTTGTTTAATTCAAGGTGGTTTGGATTTGGTAAGCCTTTGCACTCTGTAGAGTACTTAGAAGACAAGGGCAACTTACTTGGAGTTAGAGCCAAGCTGTCAGACGGTGCCCAGCACACATTAATGTTAGCTTCTTTCTGAGAAAAAAATACCTCTTCCAGGCCCTGAAACAAAAAATACATTTGCTGTGAAGATTGAAAATGAACAAAGTTAGAAAAAAAAACAGCAAAATCAGTGATTTAGTCAGATGAGTTTTTCGTTGTAGGAGCACTTGATTTCTAGTGTGTTTTGTACAGTATATAACTACAAGATAGTACATTTTGTAGCAGTTCAAAGCCAAAGTTGCTAGCATCATTTTGCTGTTGTGCCAGTTAATCATAGGATCCCATTAAATAAGTGTGCTAACATCGAATATAGAGAAAACTGGTAAAGAACATTCCAGTAGGAAAAGAAAAGAACAATCTTCCATTTCTGGGCTTGGCCACCATCACCCTGGTCGGACCTGTCCTGGACTTCCAACCTTGACTGCTGAGCTCCTGGCTTAGCTTCTTGGGTTCCTAATTCCTGGTGTTTAATAATTCTCTCCACGATCATGTTTTTCTGATTTTTTTTTTCAGAAATAATGTTTTTTAAAAGACAAAAACAAAGGGAAGAATATTTAATTACTGAGCAGAAGTAAATACTGTTGGCATTTTGTACATAATCTAATTTTTATATGCATGTTCATGCTTTTTAATTTTTTTATCAAAAATTAAGTCATCTACCTACTACTTGTAACCAGCTTGTTTCATAACATGTTATTTTCCTGTGTCATTAAATAATTACTTCAATGTTG\n",
      "ddx18 gene synonyms: ['Has1; MrDb']\n",
      "name: ['ATP-dependent RNA helicase DDX18']\n",
      "Protein sequence: ['MSHLPMKLLRKKIEKRNLKLRQRNLKFQGASNLTLSETQNGDVSEETMGSRKVKKSKQKPMNVGLSETQNGGMSQEAVGNIKVTKSPQKSTVLTNGEAAMQSSNSESKKKKKKKRKMVNDAEPDTKKAKTENKGKSEEESAETTKETENNVEKPDNDEDESEVPSLPLGLTGAFEDTSFASLCNLVNENTLKAIKEMGFTNMTEIQHKSIRPLLEGRDLLAAAKTGSGKTLAFLIPAVELIVKLRFMPRNGTGVLILSPTRELAMQTFGVLKELMTHHVHTYGLIMGGSNRSAEAQKLGNGINIIVATPGRLLDHMQNTPGFMYKNLQCLVIDEADRILDVGFEEELKQIIKLLPTRRQTMLFSATQTRKVEDLARISLKKEPLYVGVDDDKANATVDGLEQGYVVCPSEKRFLLLFTFLKKNRKKKLMVFFSSCMSVKYHYELLNYIDLPVLAIHGKQKQNKRTTTFFQFCNADSGTLLCTDVAARGLDIPEVDWIVQYDPPDDPKEYIHRVGRTARGLNGRGHALLILRPEELGFLRYLKQSKVPLSEFDFSWSKISDIQSQLEKLIEKNYFLHKSAQEAYKSYIRAYDSHSLKQIFNVNNLNLPQVALSFGFKVPPFVDLNVNSNEGKQKKRGGGGGFGYQKTKKVEKSKIFKHISKKSSDSRQFSH']\n",
      "Location: [0:3753](+)\n",
      "Gene: ['DDX18']\n"
     ]
    }
   ],
   "source": [
    "for rec in records:\n",
    "    #print(rec)\n",
    "    if rec.id == \"NM_006773.4\":\n",
    "        print(\"Record sequence length: \", len(rec.seq))\n",
    "        print(\"Record features count: \", len(rec.features))\n",
    "        print( \"Nuclleotide sequence:\", str(rec.seq)) #useful for blastn\n",
    "        \n",
    "        cds = []\n",
    "        for i,feature in enumerate(rec.features):\n",
    "            if feature.type==\"CDS\":\n",
    "                cds.append(i)\n",
    "                for k in cds:\n",
    "                    print(\"ddx18 gene synonyms:\",rec.features[k].qualifiers[\"gene_synonym\"])#can help latter in the search\n",
    "                    print(\"name:\",rec.features[k].qualifiers[\"product\"])\n",
    "                    sequence_protein=rec.features[k].qualifiers[\"translation\"]#get the protein seq of my cds\n",
    "                    print(\"Protein sequence:\",sequence_protein)\n",
    "        gene = []\n",
    "        for j in range(len(rec.features)):\n",
    "            if rec.features[j].type == \"gene\":\n",
    "                gene.append(j)\n",
    "                for g in gene:\n",
    "                    print(\"Location:\",rec.features[g].location) \n",
    "                    print(\"Gene:\",rec.features[g].qualifiers[\"gene\"])"
   ]
  },
  {
   "cell_type": "code",
   "execution_count": 10,
   "id": "57b0950e",
   "metadata": {},
   "outputs": [
    {
     "data": {
      "text/plain": [
       "'MSHLPMKLLRKKIEKRNLKLRQRNLKFQGASNLTLSETQNGDVSEETMGSRKVKKSKQKPMNVGLSETQNGGMSQEAVGNIKVTKSPQKSTVLTNGEAAMQSSNSESKKKKKKKRKMVNDAEPDTKKAKTENKGKSEEESAETTKETENNVEKPDNDEDESEVPSLPLGLTGAFEDTSFASLCNLVNENTLKAIKEMGFTNMTEIQHKSIRPLLEGRDLLAAAKTGSGKTLAFLIPAVELIVKLRFMPRNGTGVLILSPTRELAMQTFGVLKELMTHHVHTYGLIMGGSNRSAEAQKLGNGINIIVATPGRLLDHMQNTPGFMYKNLQCLVIDEADRILDVGFEEELKQIIKLLPTRRQTMLFSATQTRKVEDLARISLKKEPLYVGVDDDKANATVDGLEQGYVVCPSEKRFLLLFTFLKKNRKKKLMVFFSSCMSVKYHYELLNYIDLPVLAIHGKQKQNKRTTTFFQFCNADSGTLLCTDVAARGLDIPEVDWIVQYDPPDDPKEYIHRVGRTARGLNGRGHALLILRPEELGFLRYLKQSKVPLSEFDFSWSKISDIQSQLEKLIEKNYFLHKSAQEAYKSYIRAYDSHSLKQIFNVNNLNLPQVALSFGFKVPPFVDLNVNSNEGKQKKRGGGGGFGYQKTKKVEKSKIFKHISKKSSDSRQFSH'"
      ]
     },
     "execution_count": 10,
     "metadata": {},
     "output_type": "execute_result"
    }
   ],
   "source": [
    "seq_p_ddx18=\"\".join(sequence_protein)\n",
    "seq_p_ddx18\n",
    "#this is to put my sequence protein of cds in a string "
   ]
  },
  {
   "cell_type": "code",
   "execution_count": 8,
   "id": "188972e4",
   "metadata": {},
   "outputs": [],
   "source": [
    "#The correspondent information of NM_006773.4 was downloaded to a file\n",
    "import os\n",
    "Entrez.email = \"guilherme.lobo@ua.pt\"\n",
    "filename = \"NM_006773.4.gb\"\n",
    "if not os.path.isfile(filename):\n",
    "    net_handle = Entrez.efetch(db=\"nucleotide\", id=\"NM_006773.4\", rettype=\"gb\", retmode=\"text\")\n",
    "    out_handle = open(filename, \"w\")\n",
    "    out_handle.write(net_handle.read())\n",
    "    out_handle.close()\n",
    "    net_handle.close()"
   ]
  },
  {
   "cell_type": "code",
   "execution_count": 9,
   "id": "6da08948",
   "metadata": {},
   "outputs": [
    {
     "name": "stdout",
     "output_type": "stream",
     "text": [
      "The length of the sequence: 3753\n",
      "\n",
      "Type of features: {'source': 1, 'gene': 1, 'exon': 14, 'misc_feature': 4, 'CDS': 1, 'regulatory': 3, 'polyA_site': 3}\n",
      "\n",
      "Comment from NCBI: REVIEWED REFSEQ: This record has been curated by NCBI staff. The\n",
      "reference sequence was derived from BU599536.1, BC024739.1 and\n",
      "AK091227.1.\n",
      "On Nov 22, 2018 this sequence version replaced NM_006773.3.\n",
      "Summary: DEAD box proteins, characterized by the conserved motif\n",
      "Asp-Glu-Ala-Asp (DEAD), are putative RNA helicases. They are\n",
      "implicated in a number of cellular processes involving alteration\n",
      "of RNA secondary structure such as translation initiation, nuclear\n",
      "and mitochondrial splicing, and ribosome and spliceosome assembly.\n",
      "Based on their distribution patterns, some members of this family\n",
      "are believed to be involved in embryogenesis, spermatogenesis, and\n",
      "cellular growth and division. This gene encodes a DEAD box protein,\n",
      "and it is activated by Myc protein. [provided by RefSeq, Jul 2008].\n",
      "Publication Note:  This RefSeq record includes a subset of the\n",
      "publications that are available for this gene. Please see the Gene\n",
      "record to access additional publications.\n",
      "COMPLETENESS: full length.\n",
      "\n",
      "Location of the CDS on the original sequence: [87:2100](+)\n"
     ]
    }
   ],
   "source": [
    "record = SeqIO.read(open(\"NM_006773.4.gb\"), format=\"genbank\")\n",
    "position=0\n",
    "record_types={}\n",
    "for x in record.features:\n",
    "    record_types[x.type]=record_types.get(x.type,0)+1\n",
    "for i in range(len(record.features)):\n",
    "    if record.features[i].type == \"CDS\":\n",
    "        position=i\n",
    "print(\"The length of the sequence: {}\\n\".format(len(record.seq)))\n",
    "print(\"Type of features: {}\\n\".format(record_types))\n",
    "print(\"Comment from NCBI: {}\\n\".format(record.annotations[\"comment\"]))\n",
    "#checking the location of the CDS on the original sequence\n",
    "print(\"Location of the CDS on the original sequence: {}\".format(record.features[position].location))"
   ]
  },
  {
   "cell_type": "code",
   "execution_count": 11,
   "id": "8faa0018",
   "metadata": {},
   "outputs": [],
   "source": [
    "CDS_nuc_seq_location=record.seq[int(record.features[position].location.start):int(record.features[position].location.end)]"
   ]
  },
  {
   "cell_type": "code",
   "execution_count": 13,
   "id": "424ac9fe",
   "metadata": {},
   "outputs": [],
   "source": [
    "#saving the CDS_nucleotides and CD_aminoacid seqs in files\n",
    "filename = \"NM_006773.4.gb\"\n",
    "filename_CDS_prot = \"CDS_prot_seq.fasta\"\n",
    "input_handle  = open(filename, \"r\")\n",
    "output_handle_prot = open(filename_CDS_prot, \"w\")\n",
    "for seq_record in SeqIO.parse(input_handle, \"genbank\") :\n",
    "    output_handle_prot.write(\">\\n%s\" % (\"\".join(record.features[position].qualifiers['translation']))) #without join, output is a list\n",
    "    \n",
    "output_handle_nucl.close()\n",
    "output_handle_prot.close()\n",
    "input_handle.close()"
   ]
  },
  {
   "cell_type": "markdown",
   "id": "c8008dae",
   "metadata": {},
   "source": [
    "# Homology analysis by BLAST or Diamond"
   ]
  },
  {
   "cell_type": "markdown",
   "id": "e7734736",
   "metadata": {},
   "source": [
    "## DDX18"
   ]
  },
  {
   "cell_type": "code",
   "execution_count": 16,
   "id": "0105965a",
   "metadata": {},
   "outputs": [
    {
     "ename": "KeyboardInterrupt",
     "evalue": "",
     "output_type": "error",
     "traceback": [
      "\u001b[1;31m---------------------------------------------------------------------------\u001b[0m",
      "\u001b[1;31mKeyboardInterrupt\u001b[0m                         Traceback (most recent call last)",
      "Input \u001b[1;32mIn [16]\u001b[0m, in \u001b[0;36m<cell line: 1>\u001b[1;34m()\u001b[0m\n\u001b[1;32m----> 1\u001b[0m result_handle\u001b[38;5;241m=\u001b[39m\u001b[43mNCBIWWW\u001b[49m\u001b[38;5;241;43m.\u001b[39;49m\u001b[43mqblast\u001b[49m\u001b[43m(\u001b[49m\u001b[38;5;124;43m\"\u001b[39;49m\u001b[38;5;124;43mblastn\u001b[39;49m\u001b[38;5;124;43m\"\u001b[39;49m\u001b[43m,\u001b[49m\u001b[38;5;124;43m\"\u001b[39;49m\u001b[38;5;124;43mnt\u001b[39;49m\u001b[38;5;124;43m\"\u001b[39;49m\u001b[43m,\u001b[49m\u001b[43mrec\u001b[49m\u001b[38;5;241;43m.\u001b[39;49m\u001b[43mseq\u001b[49m\u001b[43m)\u001b[49m\n\u001b[0;32m      2\u001b[0m \u001b[38;5;28;01mwith\u001b[39;00m \u001b[38;5;28mopen\u001b[39m(\u001b[38;5;124m\"\u001b[39m\u001b[38;5;124mblastn_file_ddx18.xml\u001b[39m\u001b[38;5;124m\"\u001b[39m,\u001b[38;5;124m\"\u001b[39m\u001b[38;5;124mw\u001b[39m\u001b[38;5;124m\"\u001b[39m) \u001b[38;5;28;01mas\u001b[39;00m out_handle: \n\u001b[0;32m      3\u001b[0m     out_handle\u001b[38;5;241m.\u001b[39mwrite(result_handle\u001b[38;5;241m.\u001b[39mread())\n",
      "File \u001b[1;32m~\\anaconda3\\lib\\site-packages\\Bio\\Blast\\NCBIWWW.py:246\u001b[0m, in \u001b[0;36mqblast\u001b[1;34m(program, database, sequence, url_base, auto_format, composition_based_statistics, db_genetic_code, endpoints, entrez_query, expect, filter, gapcosts, genetic_code, hitlist_size, i_thresh, layout, lcase_mask, matrix_name, nucl_penalty, nucl_reward, other_advanced, perc_ident, phi_pattern, query_file, query_believe_defline, query_from, query_to, searchsp_eff, service, threshold, ungapped_alignment, word_size, short_query, alignments, alignment_view, descriptions, entrez_links_new_window, expect_low, expect_high, format_entrez_query, format_object, format_type, ncbi_gi, results_file, show_overview, megablast, template_type, template_length)\u001b[0m\n\u001b[0;32m    244\u001b[0m wait \u001b[38;5;241m=\u001b[39m qblast\u001b[38;5;241m.\u001b[39m_previous \u001b[38;5;241m+\u001b[39m delay \u001b[38;5;241m-\u001b[39m current\n\u001b[0;32m    245\u001b[0m \u001b[38;5;28;01mif\u001b[39;00m wait \u001b[38;5;241m>\u001b[39m \u001b[38;5;241m0\u001b[39m:\n\u001b[1;32m--> 246\u001b[0m     \u001b[43mtime\u001b[49m\u001b[38;5;241;43m.\u001b[39;49m\u001b[43msleep\u001b[49m\u001b[43m(\u001b[49m\u001b[43mwait\u001b[49m\u001b[43m)\u001b[49m\n\u001b[0;32m    247\u001b[0m     qblast\u001b[38;5;241m.\u001b[39m_previous \u001b[38;5;241m=\u001b[39m current \u001b[38;5;241m+\u001b[39m wait\n\u001b[0;32m    248\u001b[0m \u001b[38;5;28;01melse\u001b[39;00m:\n",
      "\u001b[1;31mKeyboardInterrupt\u001b[0m: "
     ]
    }
   ],
   "source": [
    "result_handle=NCBIWWW.qblast(\"blastn\",\"nt\",rec.seq)\n",
    "with open(\"blastn_file_ddx18.xml\",\"w\") as out_handle: \n",
    "    out_handle.write(result_handle.read())\n",
    "result_handle.close()\n"
   ]
  },
  {
   "cell_type": "code",
   "execution_count": 15,
   "id": "080e3130",
   "metadata": {},
   "outputs": [
    {
     "ename": "FileNotFoundError",
     "evalue": "[Errno 2] No such file or directory: 'blastn_file_ddx18.xml'",
     "output_type": "error",
     "traceback": [
      "\u001b[1;31m---------------------------------------------------------------------------\u001b[0m",
      "\u001b[1;31mFileNotFoundError\u001b[0m                         Traceback (most recent call last)",
      "Input \u001b[1;32mIn [15]\u001b[0m, in \u001b[0;36m<cell line: 1>\u001b[1;34m()\u001b[0m\n\u001b[1;32m----> 1\u001b[0m Blast\u001b[38;5;241m=\u001b[39m\u001b[38;5;28;43mopen\u001b[39;49m\u001b[43m(\u001b[49m\u001b[38;5;124;43m\"\u001b[39;49m\u001b[38;5;124;43mblastn_file_ddx18.xml\u001b[39;49m\u001b[38;5;124;43m\"\u001b[39;49m\u001b[43m)\u001b[49m\n\u001b[0;32m      2\u001b[0m Blast_record\u001b[38;5;241m=\u001b[39mNCBIXML\u001b[38;5;241m.\u001b[39mparse(Blast)\n\u001b[0;32m      3\u001b[0m \u001b[38;5;28;01mfor\u001b[39;00m x \u001b[38;5;129;01min\u001b[39;00m Blast_record:\n",
      "\u001b[1;31mFileNotFoundError\u001b[0m: [Errno 2] No such file or directory: 'blastn_file_ddx18.xml'"
     ]
    }
   ],
   "source": [
    "Blast=open(\"blastn_file_ddx18.xml\")\n",
    "Blast_record=NCBIXML.parse(Blast)\n",
    "for x in Blast_record:\n",
    "    print(\"Exist {} alignments in the register\".format(len(x.alignments))) #by defaut\n",
    "    print(x.alignments[0])#best-one"
   ]
  },
  {
   "cell_type": "code",
   "execution_count": null,
   "id": "3338f9c3",
   "metadata": {
    "scrolled": false
   },
   "outputs": [],
   "source": [
    "result_seq = open(\"blastn_file_ddx18.xml\")\n",
    "blast_results = NCBIXML.read(result_seq)\n",
    "#print(\"Number of alignments:\",len(blast_results.alignments))\n",
    "for parameter in blast_results.alignments[0:5]:\n",
    "    print()\n",
    "    print('Accession: ', parameter.accession)\n",
    "    print('Definition: ', parameter.hit_def)    \n",
    "    for e_v in parameter.hsps:\n",
    "        print('E-value: ', e_v.expect)"
   ]
  },
  {
   "cell_type": "code",
   "execution_count": null,
   "id": "1d6406d9",
   "metadata": {},
   "outputs": [],
   "source": [
    "results_Blastn= open('blastn_file_ddx18.xml')\n",
    "blastn_records = NCBIXML.read(results_Blastn)\n",
    "E_VALUE_THRESH = 0.001\n",
    "count_preditc, count_homo=0,0\n",
    "list_filtered_alignments=[]\n",
    "for alignment in  blastn_records.alignments:\n",
    "    for hsp in alignment.hsps:\n",
    "        if hsp.expect < E_VALUE_THRESH:\n",
    "            exist = re.search(r'PREDICTED:\\s', alignment.title)\n",
    "            if exist:\n",
    "                # print( existe[0] )\n",
    "                pre = re.match(r'PREDICTED:\\s', exist[0] )\n",
    "                if pre:\n",
    "                    count_preditc+=1\n",
    "                    #print(id)\n",
    "            else:\n",
    "                list_filtered_alignments.append(alignment.accession)\n",
    "                homo=re.search(r'Homo\\ssapiens',alignment.title)\n",
    "                if homo:\n",
    "                    count_homo+=1\n",
    "print(list_filtered_alignments)\n",
    "print('Total {} PREDICTED seqs found and remaining {} ids are from Homo sapiens'.format(count_preditc, count_homo))"
   ]
  },
  {
   "cell_type": "code",
   "execution_count": null,
   "id": "d4254e07",
   "metadata": {},
   "outputs": [],
   "source": [
    "E_VALUE_THRESH = 0.001\n",
    "results_Blast= open('blastn_file_ddx18.xml')\n",
    "blast_records = NCBIXML.read(results_Blast)\n",
    "for alignment in  blast_records.alignments:\n",
    "    print (alignment)\n",
    "    for hsp in alignment.hsps:\n",
    "        if hsp.expect < E_VALUE_THRESH:\n",
    "            print('****Alignment****')\n",
    "            print('sequence: ', alignment.title)\n",
    "            print('lenght:', alignment.length)\n",
    "            print(hsp.query[0:75] + '...')\n",
    "            print(hsp.match[0:75] + '...')\n",
    "            print(hsp.sbjct[0:75] + '...')\n",
    "            print()\n",
    "            "
   ]
  },
  {
   "cell_type": "markdown",
   "id": "b3a5983a",
   "metadata": {},
   "source": [
    "# Blastp"
   ]
  },
  {
   "cell_type": "markdown",
   "id": "a1098927",
   "metadata": {},
   "source": [
    "## DDX18"
   ]
  },
  {
   "cell_type": "code",
   "execution_count": null,
   "id": "5316d7d5",
   "metadata": {},
   "outputs": [],
   "source": [
    "result_handle=NCBIWWW.qblast(\"blastp\",\"swissprot\",seq_p_ddx18)#blast with the protein translate of my cds\n",
    "with open(\"blastp_file_ddx18.xml\",\"w\") as out_handle:\n",
    "    out_handle.write(result_handle.read())\n",
    "result_handle.close()"
   ]
  },
  {
   "cell_type": "code",
   "execution_count": null,
   "id": "23069eec",
   "metadata": {},
   "outputs": [],
   "source": [
    "result_seq = open(\"blastp_file_ddx18.xml\")\n",
    "blast_results = NCBIXML.read(result_seq)\n",
    "#print(\"Number of alignments:\",len(blast_results.alignments))\n",
    "for parameter in blast_results.alignments[0:5]:\n",
    "    print()\n",
    "    print('Accession: ', parameter.accession)\n",
    "    print('Definition: ', parameter.hit_def)    \n",
    "    for e_v in parameter.hsps:\n",
    "        print('E-value: ', e_v.expect)"
   ]
  },
  {
   "cell_type": "code",
   "execution_count": null,
   "id": "0b23faf1",
   "metadata": {},
   "outputs": [],
   "source": [
    "results_Blastp= open('blastp_file_ddx18.xml')\n",
    "blastp_records = NCBIXML.read(results_Blastp)\n",
    "E_VALUE_THRESH = 0.001\n",
    "list_filtered_alignments,list_species=[],[]\n",
    "for alignment in  blastp_records.alignments:\n",
    "    for hsp in alignment.hsps:\n",
    "#         print(hsp.identities)    # maybe add more \n",
    "        if hsp.expect < E_VALUE_THRESH:\n",
    "            list_filtered_alignments.append(alignment.accession)\n",
    "            title_organism=re.search(r'\\[.+\\s.+\\]', alignment.title)\n",
    "            if title_organism:\n",
    "                m = re.match(r'\\[.+\\s.+\\]', title_organism[0] )\n",
    "                specie = m.group(0)\n",
    "                #print(specie)\n",
    "                list_species.append(specie)\n",
    "for x in sorted(set(list_species)):\n",
    "    print(\"number of times: {} that appeared specie: {}\".format(list_species.count(x),x))\n",
    "\n",
    "print(list_filtered_alignments)"
   ]
  },
  {
   "cell_type": "code",
   "execution_count": null,
   "id": "8c654d70",
   "metadata": {},
   "outputs": [],
   "source": [
    "with open('blastp_files_ddx18.txt', 'w') as f:\n",
    "    for line in list_filtered_alignments:\n",
    "        f.write(f\"{line}\\n\")"
   ]
  },
  {
   "cell_type": "code",
   "execution_count": null,
   "id": "3a05c13a",
   "metadata": {},
   "outputs": [],
   "source": [
    "Blast=open(\"blastp_file_ddx18.xml\")\n",
    "Blast_record=NCBIXML.parse(Blast)\n",
    "for x in Blast_record:\n",
    "    print(x.database)\n",
    "    print(x.matrix)\n",
    "    print(x.gap_penalties)\n",
    "    print(len(x.alignments))"
   ]
  },
  {
   "cell_type": "code",
   "execution_count": null,
   "id": "0129c939",
   "metadata": {},
   "outputs": [],
   "source": [
    "result_handle=open(\"blastp_file_ddx18.xml\")\n",
    "blast_record=NCBIXML.read(result_handle)\n",
    "E_VALUE_THRESH=0.01\n",
    "for alignment in blast_record.alignments:\n",
    "    for hsp in alignment.hsps:\n",
    "        if hsp.expect<E_VALUE_THRESH:\n",
    "            print(\"----Aligment----\")\n",
    "            print(\"sequence:\",alignment.title)\n",
    "            print(\"lenght:\",alignment.length)\n",
    "            print(\"e.value:\",hsp.expect) \n",
    "            print(hsp.query[0:75] + \"...\")\n",
    "            print(hsp.query[0:75] + \"...\")\n",
    "            print(hsp.sbjct[0:75] + \"...\")"
   ]
  },
  {
   "cell_type": "code",
   "execution_count": null,
   "id": "9929ee9e",
   "metadata": {},
   "outputs": [],
   "source": [
    "blast_qresult=SearchIO.read(\"blastp_file_ddx18.xml\",\"blast-xml\")\n",
    "blast_hsp=blast_qresult[0][0]\n",
    "print(blast_qresult[0][0])#best hsp\n",
    "print(blast_hsp.aln)"
   ]
  },
  {
   "cell_type": "markdown",
   "id": "c4cc51d4",
   "metadata": {},
   "source": [
    "## Uniprot research"
   ]
  },
  {
   "cell_type": "markdown",
   "id": "abb618c3",
   "metadata": {},
   "source": [
    "## DDX18"
   ]
  },
  {
   "cell_type": "code",
   "execution_count": null,
   "id": "3c81f64e",
   "metadata": {
    "scrolled": false
   },
   "outputs": [],
   "source": [
    "WEBSITE_API=\"https://rest.uniprot.org\"\n",
    "def get_url(url,**kwargs):\n",
    "    response=requests.get(url,**kwargs);\n",
    "    if not response.ok:\n",
    "        print(response.text)\n",
    "        response.raise_for_status()\n",
    "        sys.exit()\n",
    "    return response\n",
    "r=get_url(f\"{WEBSITE_API}/uniprotkb/search?query=ddx18 AND (taxonomy_id:9606) AND (reviewed:true)\")#more detail possible\n",
    "data=r.json()\n",
    "n_results=len(data[\"results\"])\n",
    "print(f\"Number of results: {n_results}\\n\")\n",
    "total=r.headers.get(\"x-total-results\")\n",
    "page_total=len(data[\"results\"])\n"
   ]
  },
  {
   "cell_type": "code",
   "execution_count": null,
   "id": "e82abbc1",
   "metadata": {},
   "outputs": [],
   "source": [
    "#one way to list the ids\n",
    "r=get_url(f\"{WEBSITE_API}//uniprotkb/search?query=DDX18 AND (taxonomy_id:9606) AND (reviewed:true)&format=list&size=2\")\n",
    "#r.text\n",
    "\n",
    "accessions=[r.text.replace(\"\\n\",\",\")]\n",
    "accessions"
   ]
  },
  {
   "cell_type": "code",
   "execution_count": null,
   "id": "3745a4be",
   "metadata": {},
   "outputs": [],
   "source": [
    "#to format fasta that alow see the protein sequences and id in a form more familiary\n",
    "r=get_url(f\"{WEBSITE_API}//uniprotkb/search?query=DDX18  AND (taxonomy_id:9606) AND (reviewed:true)&format=fasta\")\n",
    "fasta=r.text\n",
    "print(fasta)"
   ]
  },
  {
   "cell_type": "markdown",
   "id": "e25049da",
   "metadata": {},
   "source": [
    "-we choose the first one the id Q9NVP1 "
   ]
  },
  {
   "cell_type": "code",
   "execution_count": null,
   "id": "c0f55a08",
   "metadata": {},
   "outputs": [],
   "source": [
    "with ExPASy.get_sprot_raw(\"A4R8B5\") as handle:\n",
    "    seq_record = SeqIO.read(handle, \"swiss\")\n",
    "    #print(seq_record.id)\n",
    "    #print(seq_record.entry_name, \"\\n\")\n",
    "    #print(\", \".join(seq_record.accessions), \"\\n\")\n",
    "    #print(seq_record.keywords, \"\\n\")\n",
    "    #print(seq_record.organism, \"\\n\")\n",
    "    #print(len(seq_record.sequence), \"aa\", \"\\n\")\n",
    "    print(seq_record.seq)"
   ]
  },
  {
   "cell_type": "markdown",
   "id": "d8e6898a",
   "metadata": {},
   "source": [
    "We can't understand why the id of ddx18 doesn't work and the other genes already work"
   ]
  },
  {
   "cell_type": "code",
   "execution_count": null,
   "id": "65941ca9",
   "metadata": {},
   "outputs": [],
   "source": [
    "results_Blastp= open('blastp_file_ddx18.xml')\n",
    "blastp_records = NCBIXML.read(results_Blastp)\n",
    "titles_list=[]\n",
    "for alignment in  blastp_records.alignments:   \n",
    "    titles_list.append(alignment.title)\n",
    "\n",
    "file= open(\"blastp_files_ddx18.txt\", \"r\")\n",
    "fields=\"sequence\"\n",
    "WEBSITE_API=\"https://rest.uniprot.org\"\n",
    "seqs=[]\n",
    "\n",
    "for i in file:\n",
    "    r=get_url(\"{}/uniprotkb/search?query={} AND (reviewed:true)&fields={}&size=1&format=tsv\".format(WEBSITE_API,i, fields))\n",
    "    seqs.append(str(r.content))\n",
    "\n",
    "with open('blastp_file_ddx18.fasta', 'w') as f:\n",
    "    for index, seq in enumerate(seqs):\n",
    "        existe = re.search(r'b\\'Sequence\\\\n(.+?(?=\\\\n\\'))', seq, re.DOTALL)\n",
    "        if existe:\n",
    "            m = re.match( r'b\\'Sequence\\\\n(.+?(?=\\\\n\\'))', seq, re.DOTALL )\n",
    "            f.write(f\">{titles_list[index]}\\n{m.group(1)}\\n\\n\")                    \n",
    "            #print(m.group(1) )"
   ]
  },
  {
   "cell_type": "code",
   "execution_count": null,
   "id": "f94447ec",
   "metadata": {},
   "outputs": [],
   "source": [
    "file= open(\"blastp_files_ddx18.txt\", \"r\")\n",
    "fields=\"accession,organism_name,protein_name,cc_subcellular_location,cc_function\"\n",
    "WEBSITE_API=\"https://rest.uniprot.org\"\n",
    "with open('uniprot_result_CDS_filtered.txt', 'w',encoding='utf-8') as f:\n",
    "    for i in file:\n",
    "        r=get_url(\"{}/uniprotkb/search?query={} AND (reviewed:true)&fields={}&size=1&format=tsv\".format(WEBSITE_API,i, fields))\n",
    "        print(r.text)\n",
    "        f.write(r.text)\n",
    "        f.write('\\n')"
   ]
  },
  {
   "cell_type": "code",
   "execution_count": null,
   "id": "6f017152",
   "metadata": {},
   "outputs": [],
   "source": [
    "#if we choose to go to the net and download a swiss prot txt file\n",
    "handle=open(\"file.txt\")\n",
    "records=KeyWList.parse(handle)\n",
    "for record in records:\n",
    "    print(record[\"ID\"])"
   ]
  },
  {
   "cell_type": "code",
   "execution_count": null,
   "id": "f92799f9",
   "metadata": {},
   "outputs": [],
   "source": [
    "#in tuturorial we can explore prosite, maybe in the future"
   ]
  },
  {
   "cell_type": "markdown",
   "id": "0706b8b8",
   "metadata": {},
   "source": [
    "# Explore the 3D Strucuture"
   ]
  },
  {
   "cell_type": "markdown",
   "id": "ef6aa36e",
   "metadata": {},
   "source": [
    "## DDX18"
   ]
  },
  {
   "cell_type": "code",
   "execution_count": null,
   "id": "18e42025",
   "metadata": {},
   "outputs": [],
   "source": [
    "email= \"guilherme.lobo@ua.pt\"\n",
    "Entrez.email= email\n",
    "handle=Entrez.esearch(db = \"Structure\", term=\"ddx18\", retmax= \"20\")\n",
    "record=Entrez.read(handle)\n",
    "handle.close()\n",
    "print(record[\"IdList\"])\n",
    "#idlist= record['IdList']\n",
    "#print(record)\n",
    "#dir(record)\n",
    "handle = Entrez.efetch(db=\"Structure\", id=\"82027\", rettype=\"fasta\") \n",
    "records = handle.read()\n",
    "handle.close()\n",
    "records\n",
    "#Try to find the id or the identification to explore my protein in PDB"
   ]
  },
  {
   "cell_type": "code",
   "execution_count": null,
   "id": "2e9b299b",
   "metadata": {},
   "outputs": [],
   "source": [
    "#like we cant ind the id we go to the the web and choose the apropriate id- 3LY5\n",
    "from Bio.PDB import *\n",
    "pdb=PDBList()\n",
    "pdb.retrieve_pdb_file(\"3LY5\",pdir=\".\",file_format=\"pdb\")\n",
    "parser=PDBParser(PERMISSIVE=True,QUIET=True)\n",
    "data=parser.get_structure(\"3LY5\",\"pdb3LY5.ent\")\n",
    "print(data)"
   ]
  },
  {
   "cell_type": "code",
   "execution_count": null,
   "id": "9185e19c",
   "metadata": {},
   "outputs": [],
   "source": [
    "p = PDBParser()\n",
    "structure = p.get_structure('X', 'pdb3LY5.ent')\n",
    "for model in structure:\n",
    "    for chain in model:\n",
    "        for residue in chain:\n",
    "            for atom in residue:\n",
    "                print(atom)"
   ]
  },
  {
   "cell_type": "code",
   "execution_count": null,
   "id": "fee5e589",
   "metadata": {},
   "outputs": [],
   "source": [
    "residues = model.get_residues()\n",
    "for residue in residues:\n",
    "    print(residue)"
   ]
  },
  {
   "cell_type": "code",
   "execution_count": null,
   "id": "8e504619",
   "metadata": {},
   "outputs": [],
   "source": [
    "#some extra information maybe useless\n",
    "resolution = structure.header['resolution']\n",
    "print(resolution)\n",
    "structure_reference=structure.header[\"structure_method\"]\n",
    "print(structure_reference)\n",
    "#structure_method,name,head,deposition_date,release_date,journal_reference,author,compound"
   ]
  },
  {
   "cell_type": "markdown",
   "id": "8beb1bff",
   "metadata": {},
   "source": [
    "-the goal is print the 3d structure, bur for this we need pymol so:\n",
    "How can we install pymol or a package pymol??"
   ]
  },
  {
   "cell_type": "code",
   "execution_count": null,
   "id": "6e1fe3c3",
   "metadata": {},
   "outputs": [],
   "source": [
    "ID=\n",
    "    pdbl = PDBList()\n",
    "    file = pdbl.retrieve_pdb_file(ID, pdir='.', file_format='pdb')\n",
    "    pymol.finish_launching()\n",
    "\n",
    "    pymol.cmd.load(file, ID)\n",
    "    pymol.cmd.disable(\"all\")\n",
    "    pymol.cmd.enable(ID)\n",
    "    pymol.cmd.orient()\n",
    "    pymol.cmd.zoom()\n",
    "    pymol.cmd.png(\"ORF3a_6XDC.png\", 3000, 3000, dpi=500, ray=1)\n",
    "\n",
    "    pymol.cmd.quit()\n",
    "PDB(\"3ly5\")"
   ]
  },
  {
   "cell_type": "markdown",
   "id": "e230f6cf",
   "metadata": {},
   "source": [
    "# Multiple Alignment and Phylogenies"
   ]
  },
  {
   "cell_type": "markdown",
   "id": "28281ed8",
   "metadata": {},
   "source": [
    "## DDX18"
   ]
  },
  {
   "cell_type": "code",
   "execution_count": null,
   "id": "a4c4d727",
   "metadata": {},
   "outputs": [],
   "source": [
    "result_handle=NCBIWWW.qblast(\"blastp\",\"nr\",seq_p_ddx18)#blast with the protein translate of my cds\n",
    "with open(\"blastp_ddx18.txt\",\"w\") as out_handle:\n",
    "    out_handle.write(result_handle.read())\n",
    "result_handle.close()"
   ]
  },
  {
   "cell_type": "code",
   "execution_count": null,
   "id": "ba031397",
   "metadata": {},
   "outputs": [],
   "source": [
    "lista=[]\n",
    "results_Blast= open('blastp_file_ddx18.xml')\n",
    "blast_records = NCBIXML.read(results_Blast)\n",
    "for alignment in  blast_records.alignments:\n",
    "    #print (alignment.hit_id)\n",
    "    m = alignment.hit_id.replace(\"sp|\",\"\")\n",
    "    a=m[0:6]\n",
    "    #print (a)\n",
    "    with ExPASy.get_sprot_raw(a) as handle:\n",
    "        seq_record = SeqIO.read(handle, \"swiss\")\n",
    "        lista.append(len(seq_record.seq))\n",
    "        min(lista)"
   ]
  },
  {
   "cell_type": "code",
   "execution_count": null,
   "id": "7b010f32",
   "metadata": {},
   "outputs": [],
   "source": [
    "seq=[]\n",
    "results_Blast= open('blastp_file_ddx18.xml')\n",
    "blast_records = NCBIXML.read(results_Blast)\n",
    "for alignment in  blast_records.alignments:\n",
    "    #print (alignment.hit_id)\n",
    "    m = alignment.hit_id.replace(\"sp|\",\"\")\n",
    "    a=m[0:6]\n",
    "    with ExPASy.get_sprot_raw(a) as handle:\n",
    "        seq_record = SeqIO.read(handle, \"swiss\")\n",
    "        print(\">\",seq_record.id,\"\\n\",seq_record.seq[0:334])"
   ]
  }
 ],
 "metadata": {
  "kernelspec": {
   "display_name": "Python 3 (ipykernel)",
   "language": "python",
   "name": "python3"
  },
  "language_info": {
   "codemirror_mode": {
    "name": "ipython",
    "version": 3
   },
   "file_extension": ".py",
   "mimetype": "text/x-python",
   "name": "python",
   "nbconvert_exporter": "python",
   "pygments_lexer": "ipython3",
   "version": "3.9.12"
  }
 },
 "nbformat": 4,
 "nbformat_minor": 5
}
