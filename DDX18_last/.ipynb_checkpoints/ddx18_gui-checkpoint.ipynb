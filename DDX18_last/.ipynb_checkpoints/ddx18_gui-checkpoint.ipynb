{
 "cells": [
  {
   "cell_type": "markdown",
   "id": "50e6a2c4",
   "metadata": {},
   "source": [
    "# Literature Analysis"
   ]
  },
  {
   "cell_type": "markdown",
   "id": "5f8c3ec5",
   "metadata": {},
   "source": [
    "## Automated searches with Biopython"
   ]
  },
  {
   "cell_type": "code",
   "execution_count": 53,
   "id": "f2050b85",
   "metadata": {},
   "outputs": [],
   "source": [
    "from Bio import Entrez\n",
    "from Bio import Medline\n",
    "import pandas as pd\n",
    "import numpy as np\n",
    "from tqdm import tqdm\n",
    "from Bio.Blast import NCBIWWW\n",
    "from Bio import Entrez, SeqIO\n",
    "from Bio.Blast import NCBIXML\n",
    "from Bio import SearchIO\n",
    "import requests,sys,json\n",
    "from Bio.SwissProt import KeyWList\n",
    "from Bio import SwissProt\n",
    "from Bio import ExPASy"
   ]
  },
  {
   "cell_type": "code",
   "execution_count": null,
   "id": "1d5f7759",
   "metadata": {
    "scrolled": false
   },
   "outputs": [],
   "source": [
    "#First Strategie\n",
    "\n",
    "database = input('database: ')#For literature will be PubMed\n",
    "word = input('query a procurar: ') #I put ddx18\n",
    "res= int(input('resultados maximos: '))#I choose a limit of thirty\n",
    "email= \"guilherme.lobo@ua.pt\"\n",
    "\n",
    "Entrez.email= email\n",
    "handle=Entrez.esearch(db = database, term=word, retmax= res)\n",
    "record=Entrez.read(handle)\n",
    "handle.close()\n",
    "idlist= record['IdList']\n",
    "\n",
    "handle = Entrez.efetch(db=database, id=idlist, rettype=\"medline\", retmode=\"text\") #para este caso em especifico devemos ter como database a PubMed(\"Medline\")\n",
    "records = Medline.parse(handle)\n",
    "\n",
    "\n",
    "for record in records:\n",
    "    #print(record) \n",
    "    #print(\"PMID:\",record.get(\"PMID\",\"-\"))\n",
    "    print(\"title:\", record.get(\"TI\", \"-\"))\n",
    "    #print('abstract:', record.get('AB', '-'))\n",
    "    print(\"authors:\", record.get(\"AU\", \"-\"))\n",
    "    print(\"source:\", record.get(\"SO\", \"-\"))\n",
    "    print(\"\")"
   ]
  },
  {
   "cell_type": "markdown",
   "id": "e57a99e8",
   "metadata": {},
   "source": [
    "-Same thing as above with the difference that we are the ones who have to make a prior choice of articles and download a file accordingly-(pubmed-irs-1ANDdi-set.txt)\n",
    "-We think that this way is more suitable, despite not being completely automated, because when choosing articles it is always necessary to make an adequate pre-selection"
   ]
  },
  {
   "cell_type": "code",
   "execution_count": null,
   "id": "627372e0",
   "metadata": {},
   "outputs": [],
   "source": [
    "#Second Strategie\n",
    "alldata=[]\n",
    "with open(\"pubmed-irs-1ANDdi-set.txt\",encoding=\"utf-8\") as f: #For this examples I chosse articles from PubMed about Diabetes type II\n",
    "    pmids= Medline.parse(f)\n",
    "    for pmid in tqdm(pmids):\n",
    "        try:\n",
    "            pid=pmid[\"PMID\"]\n",
    "        except:\n",
    "            pid=\"-\"\n",
    "        try:\n",
    "            Title=pmid[\"TI\"]\n",
    "        except:\n",
    "            Title=\"-\"\n",
    "        try:        \n",
    "            Abstract=pmid[\"AB\"]\n",
    "        except:\n",
    "            Abstract=\"-\"\n",
    "        try:\n",
    "            Authors=pmid[\"AU\"]\n",
    "        except:\n",
    "            Authors=\"-\"\n",
    "        try:\n",
    "            Source=pmid[\"SO\"]\n",
    "        except:\n",
    "            Source=\"-\"\n",
    "        \n",
    "        dic={\"PMID\":pid,\n",
    "             \"Title\":Title,\n",
    "             \"Abstract\":Abstract,\n",
    "             \"Authors\":Authors,\n",
    "             \"Source\":Source\n",
    "            }\n",
    "        alldata.append(dic)\n",
    "#print(alldata)\n",
    "df = pd.DataFrame.from_records(alldata,index=['1', '2',\"3\",\"4\",\"5\",\"6\"])\n",
    "print(df)\n",
    "#writer = pd.ExcelWriter('articles_diabetes.xlsx')\n",
    "#df.to_Exel(writer)\n",
    "#writer.save()\n",
    "#df=pd.DataFrame(alldata)\n",
    "#df.to_csv(\"articles.csv\", index=False)"
   ]
  },
  {
   "cell_type": "markdown",
   "id": "bc561e03",
   "metadata": {},
   "source": [
    "# Analysis of the sequence and features present in the NCBI"
   ]
  },
  {
   "cell_type": "markdown",
   "id": "54b6f5ae",
   "metadata": {},
   "source": [
    "## DDX18"
   ]
  },
  {
   "cell_type": "code",
   "execution_count": null,
   "id": "7d9b3c58",
   "metadata": {},
   "outputs": [],
   "source": [
    "database = input('database: ')#nucleotide tem de ser pelos vistos\n",
    "word = input('query a procurar: ')#ddx18 and homo sapiens and Chromosome 2\n",
    "res= int(input('resultados maximos: '))#30\n",
    "Entrez.email=\"guilherme.lobo@ua.pt\"\n",
    "handle=Entrez.esearch(db = database, term=word, retmax= res)\n",
    "record=Entrez.read(handle)\n",
    "handle.close()\n",
    "idlist= record['IdList']\n",
    "\n",
    "handle = Entrez.efetch(db=database, id=idlist, rettype=\"gb\") \n",
    "records = list(SeqIO.parse(handle,\"gb\"))\n",
    "handle.close()\n",
    "for x in records:\n",
    "    print(x.id,x.description)"
   ]
  },
  {
   "cell_type": "markdown",
   "id": "c39e60f8",
   "metadata": {},
   "source": [
    "Taking into account the description given, we think that the id (\"NM_006773.4\") would be the most appropriate and, as such, will be used from now on."
   ]
  },
  {
   "cell_type": "code",
   "execution_count": null,
   "id": "ed443da9",
   "metadata": {},
   "outputs": [],
   "source": [
    "for rec in records:\n",
    "    #print(rec)\n",
    "    if rec.id == \"NM_006773.4\":\n",
    "        print(\"Record sequence length: \", len(rec.seq))\n",
    "        print(\"Record features count: \", len(rec.features))\n",
    "        print( \"Nuclleotide sequence:\", str(rec.seq)) #useful for blastn\n",
    "        \n",
    "        cds = []\n",
    "        for i,feature in enumerate(rec.features):\n",
    "            if feature.type==\"CDS\":\n",
    "                cds.append(i)\n",
    "                for k in cds:\n",
    "                    print(\"ddx18 gene synonyms:\",rec.features[k].qualifiers[\"gene_synonym\"])#can help latter in the search\n",
    "                    print(\"name:\",rec.features[k].qualifiers[\"product\"])\n",
    "                    sequence_protein=rec.features[k].qualifiers[\"translation\"]#get the protein seq of my cds\n",
    "                    print(\"Protein sequence:\",sequence_protein)\n",
    "        gene = []\n",
    "        for j in range(len(rec.features)):\n",
    "            if rec.features[j].type == \"gene\":\n",
    "                gene.append(j)\n",
    "                for g in gene:\n",
    "                    print(\"Location:\",rec.features[g].location) \n",
    "                    print(\"Gene:\",rec.features[g].qualifiers[\"gene\"])"
   ]
  },
  {
   "cell_type": "code",
   "execution_count": null,
   "id": "57b0950e",
   "metadata": {},
   "outputs": [],
   "source": [
    "seq_p_ddx18=\"\".join(sequence_protein)\n",
    "seq_p_ddx18\n",
    "#this is to put my sequence protein of cds in a string "
   ]
  },
  {
   "cell_type": "markdown",
   "id": "c8008dae",
   "metadata": {},
   "source": [
    "# Homology analysis by BLAST or Diamond"
   ]
  },
  {
   "cell_type": "markdown",
   "id": "e7734736",
   "metadata": {},
   "source": [
    "## DDX18"
   ]
  },
  {
   "cell_type": "code",
   "execution_count": null,
   "id": "0105965a",
   "metadata": {},
   "outputs": [],
   "source": [
    "result_handle=NCBIWWW.qblast(\"blastn\",\"nt\",rec.seq)#fazer o blast como tem no tuturial.pdf\n",
    "with open(\"blast_file_ddx18.txt\",\"w\") as out_handle: #guardar neste ficheirotenho em txt, e xml\n",
    "    out_handle.write(result_handle.read())\n",
    "result_handle.close()\n"
   ]
  },
  {
   "cell_type": "code",
   "execution_count": 3,
   "id": "080e3130",
   "metadata": {},
   "outputs": [
    {
     "name": "stdout",
     "output_type": "stream",
     "text": [
      "Exist 50 alignments in the register\n",
      "gi|1519243738|ref|NM_006773.4| Homo sapiens DEAD-box helicase 18 (DDX18), mRNA\n",
      "           Length = 3753\n",
      "\n"
     ]
    }
   ],
   "source": [
    "Blast=open(\"blast_file_ddx18.txt\")\n",
    "Blast_record=NCBIXML.parse(Blast)\n",
    "for x in Blast_record:\n",
    "    print(\"Exist {} alignments in the register\".format(len(x.alignments))) #by defaut\n",
    "    print(x.alignments[0])#best-one"
   ]
  },
  {
   "cell_type": "code",
   "execution_count": 50,
   "id": "3338f9c3",
   "metadata": {
    "scrolled": false
   },
   "outputs": [
    {
     "name": "stdout",
     "output_type": "stream",
     "text": [
      "\n",
      "Accession:  NM_006773\n",
      "Definition:  Homo sapiens DEAD-box helicase 18 (DDX18), mRNA\n",
      "E-value:  0.0\n",
      "E-value:  0.0214472\n",
      "E-value:  0.0214472\n",
      "\n",
      "Accession:  BC024739\n",
      "Definition:  Homo sapiens DEAD (Asp-Glu-Ala-Asp) box polypeptide 18, mRNA (cDNA clone MGC:29902 IMAGE:4995871), complete cds\n",
      "E-value:  0.0\n",
      "E-value:  0.0214472\n",
      "E-value:  0.0214472\n",
      "\n",
      "Accession:  XM_003819127\n",
      "Definition:  PREDICTED: Pan paniscus DEAD-box helicase 18 (DDX18), mRNA\n",
      "E-value:  0.0\n",
      "E-value:  0.000504389\n",
      "E-value:  0.0214472\n",
      "\n",
      "Accession:  XM_515753\n",
      "Definition:  PREDICTED: Pan troglodytes DEAD-box helicase 18 (DDX18), mRNA\n",
      "E-value:  0.0\n",
      "E-value:  0.0214472\n",
      "E-value:  0.0214472\n",
      "\n",
      "Accession:  XM_004031662\n",
      "Definition:  PREDICTED: Gorilla gorilla gorilla DEAD-box helicase 18 (DDX18), mRNA\n",
      "E-value:  0.0\n",
      "E-value:  9.737e-07\n",
      "E-value:  0.000504389\n"
     ]
    }
   ],
   "source": [
    "result_seq = open(\"blast_file_ddx18.xml\")\n",
    "blast_results = NCBIXML.read(result_seq)\n",
    "#print(\"Number of alignments:\",len(blast_results.alignments))\n",
    "for parameter in blast_results.alignments[0:5]:\n",
    "    print()\n",
    "    print('Accession: ', parameter.accession)\n",
    "    print('Definition: ', parameter.hit_def)    \n",
    "    for e_v in parameter.hsps:\n",
    "        print('E-value: ', e_v.expect)"
   ]
  },
  {
   "cell_type": "code",
   "execution_count": 49,
   "id": "1d6406d9",
   "metadata": {},
   "outputs": [
    {
     "name": "stdout",
     "output_type": "stream",
     "text": [
      "['NM_006773', 'BC024739', 'NM_001132808', 'NM_001132808', 'NM_001132808', 'AK091227', 'AK001467', 'BC003360', 'BC001238', 'X98743', 'X98743', 'NG_008704', 'NG_008704', 'NG_008704', 'AL365434', 'AL365434', 'AL365434', 'LT744377', 'KJ897930', 'AB209392', 'AB209392', 'AB209392', 'CP034492', 'CP034492', 'NG_002480', 'NG_002480', 'AL391262', 'AL391262', 'NG_008706', 'AL138725']\n",
      "total 67 PREDICTED seqs found and remaining 18 ids are from Homo sapiens\n"
     ]
    }
   ],
   "source": [
    "import re\n",
    "results_Blastn= open('blast_file_ddx18.xml')\n",
    "blastn_records = NCBIXML.read(results_Blastn)\n",
    "E_VALUE_THRESH = 0.001\n",
    "count_preditc, count_homo=0,0\n",
    "list_filtered_alignments=[]\n",
    "for alignment in  blastn_records.alignments:\n",
    "    for hsp in alignment.hsps:\n",
    "        if hsp.expect < E_VALUE_THRESH:\n",
    "            exist = re.search(r'PREDICTED:\\s', alignment.title)\n",
    "            if exist:\n",
    "                # print( existe[0] )\n",
    "                pre = re.match(r'PREDICTED:\\s', exist[0] )\n",
    "                if pre:\n",
    "                    count_preditc+=1\n",
    "                    #print(id)\n",
    "            else:\n",
    "                list_filtered_alignments.append(alignment.accession)\n",
    "                homo=re.search(r'Homo\\ssapiens',alignment.title)\n",
    "                if homo:\n",
    "                    count_homo+=1\n",
    "print(list_filtered_alignments)\n",
    "print('Total {} PREDICTED seqs found and remaining {} ids are from Homo sapiens'.format(count_preditc, count_homo))"
   ]
  },
  {
   "cell_type": "code",
   "execution_count": 35,
   "id": "d4254e07",
   "metadata": {},
   "outputs": [
    {
     "ename": "TypeError",
     "evalue": "'Blast' object is not iterable",
     "output_type": "error",
     "traceback": [
      "\u001b[1;31m---------------------------------------------------------------------------\u001b[0m",
      "\u001b[1;31mTypeError\u001b[0m                                 Traceback (most recent call last)",
      "Input \u001b[1;32mIn [35]\u001b[0m, in \u001b[0;36m<cell line: 4>\u001b[1;34m()\u001b[0m\n\u001b[0;32m      2\u001b[0m blast_records\u001b[38;5;241m=\u001b[39mNCBIXML\u001b[38;5;241m.\u001b[39mread(result_handle)\n\u001b[0;32m      3\u001b[0m \u001b[38;5;66;03m#E_VALUE_THRESH=0.01 #could have defined another value of tresh hold\u001b[39;00m\n\u001b[1;32m----> 4\u001b[0m \u001b[38;5;28;01mfor\u001b[39;00m x \u001b[38;5;129;01min\u001b[39;00m blast_records:\n\u001b[0;32m      5\u001b[0m     \u001b[38;5;28;01mfor\u001b[39;00m b \u001b[38;5;129;01min\u001b[39;00m x\u001b[38;5;241m.\u001b[39malignments[\u001b[38;5;241m0\u001b[39m:\u001b[38;5;241m5\u001b[39m]:\u001b[38;5;66;03m#only for the five best results in terms os e-value\u001b[39;00m\n\u001b[0;32m      6\u001b[0m         \u001b[38;5;28;01mfor\u001b[39;00m hsp \u001b[38;5;129;01min\u001b[39;00m b\u001b[38;5;241m.\u001b[39mhsps:\n",
      "\u001b[1;31mTypeError\u001b[0m: 'Blast' object is not iterable"
     ]
    }
   ],
   "source": [
    "result_handle=open(\"blast_file_ddx18.xml\")\n",
    "blast_records=NCBIXML.read(result_handle)\n",
    "#E_VALUE_THRESH=0.01 #could have defined another value of tresh hold\n",
    "for x in blast_records:\n",
    "    for b in x.alignments[0:5]:#only for the five best results in terms os e-value\n",
    "        for hsp in b.hsps:\n",
    "            if hsp.expect<E_VALUE_THRESH:\n",
    "                print()\n",
    "                print(\"Title:\",alignment.title)\n",
    "                print(\"Length of sequence:\",alignment.length)\n",
    "                print(\"e.value:\",hsp.expect) \n",
    "            #print(hsp.query[0:75] + \"...\")\n",
    "            #print(hsp.query[0:75] + \"...\")\n",
    "            #print(hsp.sbjct[0:75] + \"...\")\n",
    "            "
   ]
  },
  {
   "cell_type": "code",
   "execution_count": 23,
   "id": "facd81f3",
   "metadata": {},
   "outputs": [],
   "source": [
    "for x in blast_records:\n",
    "    third=x.alignments[0:5]\n",
    "    for r in third:\n",
    "        print(r.accession)\n",
    "        print(r.hit_def)\n",
    "        for d in r.hsps:\n",
    "            print(d.expect)\n",
    "            print()"
   ]
  },
  {
   "cell_type": "markdown",
   "id": "b3a5983a",
   "metadata": {},
   "source": [
    "# Blastp"
   ]
  },
  {
   "cell_type": "markdown",
   "id": "a1098927",
   "metadata": {},
   "source": [
    "## DDX18"
   ]
  },
  {
   "cell_type": "code",
   "execution_count": null,
   "id": "5316d7d5",
   "metadata": {},
   "outputs": [],
   "source": [
    "result_handle=NCBIWWW.qblast(\"blastp\",\"swissprot\",seq_p_ddx18)#blast with the protein translate of my cds\n",
    "with open(\"blastp_file_ddx18.xml\",\"w\") as out_handle:\n",
    "    out_handle.write(result_handle.read())\n",
    "result_handle.close()"
   ]
  },
  {
   "cell_type": "code",
   "execution_count": 2,
   "id": "1ac59fc7",
   "metadata": {},
   "outputs": [
    {
     "name": "stdout",
     "output_type": "stream",
     "text": [
      "sp|Q9NVP1.2| RecName: Full=ATP-dependent RNA helicase DDX18; AltName: Full=DEAD box protein 18; AltName: Full=Myc-regulated DEAD box protein; Short=MrDb [Homo sapiens]\n",
      "sp|Q8K363.1| RecName: Full=ATP-dependent RNA helicase DDX18; AltName: Full=DEAD box protein 18 [Mus musculus]\n",
      "sp|Q9VD51.2| RecName: Full=Probable ATP-dependent RNA helicase pitchoune [Drosophila melanogaster]\n",
      "sp|Q1EA54.1| RecName: Full=ATP-dependent RNA helicase HAS1 [Coccidioides immitis RS]\n",
      "sp|A4R8B5.2| RecName: Full=ATP-dependent RNA helicase HAS1 [Pyricularia oryzae 70-15]\n",
      "sp|A1CIQ5.1| RecName: Full=ATP-dependent RNA helicase has1 [Aspergillus clavatus NRRL 1]\n",
      "sp|Q5BBY1.1| RecName: Full=ATP-dependent RNA helicase has1 [Aspergillus nidulans FGSC A4]\n",
      "sp|Q4IEK8.2| RecName: Full=ATP-dependent RNA helicase HAS1 [Fusarium graminearum PH-1]\n",
      "sp|A1CW14.1| RecName: Full=ATP-dependent RNA helicase has1 [Aspergillus fischeri NRRL 181]\n",
      "sp|Q4WQM4.2| RecName: Full=ATP-dependent RNA helicase has1 [Aspergillus fumigatus Af293]\n"
     ]
    }
   ],
   "source": [
    "Blast=open(\"blastp_file_ddx18.xml\")\n",
    "Blast_record=NCBIXML.read(Blast)\n",
    "for a in Blast_record.descriptions[0:10]:\n",
    "    print(a.title)\n",
    "   #só quero o primeiro"
   ]
  },
  {
   "cell_type": "code",
   "execution_count": 51,
   "id": "0b23faf1",
   "metadata": {},
   "outputs": [
    {
     "name": "stdout",
     "output_type": "stream",
     "text": [
      "number of times: 2 that appeared specie: [Arabidopsis thaliana]\n",
      "number of times: 2 that appeared specie: [Aspergillus clavatus NRRL 1]\n",
      "number of times: 2 that appeared specie: [Aspergillus fischeri NRRL 181]\n",
      "number of times: 2 that appeared specie: [Aspergillus fumigatus Af293]\n",
      "number of times: 2 that appeared specie: [Aspergillus nidulans FGSC A4]\n",
      "number of times: 2 that appeared specie: [Aspergillus niger CBS 513.88]\n",
      "number of times: 2 that appeared specie: [Aspergillus oryzae RIB40]\n",
      "number of times: 2 that appeared specie: [Aspergillus terreus NIH2624]\n",
      "number of times: 1 that appeared specie: [Candida albicans SC5314]\n",
      "number of times: 2 that appeared specie: [Chaetomium globosum CBS 148.51]\n",
      "number of times: 2 that appeared specie: [Coccidioides immitis RS]\n",
      "number of times: 1 that appeared specie: [Cryptococcus neoformans var. neoformans JEC21] >sp|P0CQ85.1| RecName: Full=ATP-dependent RNA helicase HAS1 [Cryptococcus neoformans var. neoformans B-3501A]\n",
      "number of times: 1 that appeared specie: [Debaryomyces hansenii CBS767]\n",
      "number of times: 2 that appeared specie: [Dictyostelium discoideum]\n",
      "number of times: 1 that appeared specie: [Drosophila melanogaster]\n",
      "number of times: 1 that appeared specie: [Eremothecium gossypii ATCC 10895]\n",
      "number of times: 1 that appeared specie: [Fusarium graminearum PH-1]\n",
      "number of times: 1 that appeared specie: [Gallus gallus]\n",
      "number of times: 2 that appeared specie: [Homo sapiens]\n",
      "number of times: 1 that appeared specie: [Kluyveromyces lactis NRRL Y-1140]\n",
      "number of times: 1 that appeared specie: [Lodderomyces elongisporus NRRL YB-4239]\n",
      "number of times: 1 that appeared specie: [Meyerozyma guilliermondii ATCC 6260]\n",
      "number of times: 2 that appeared specie: [Mus musculus]\n",
      "number of times: 1 that appeared specie: [Neurospora crassa OR74A]\n",
      "number of times: 2 that appeared specie: [Oryza sativa Japonica Group]\n",
      "number of times: 2 that appeared specie: [Parastagonospora nodorum SN15]\n",
      "number of times: 1 that appeared specie: [Pyricularia oryzae 70-15]\n",
      "number of times: 1 that appeared specie: [Saccharomyces cerevisiae S288C]\n",
      "number of times: 1 that appeared specie: [Scheffersomyces stipitis CBS 6054]\n",
      "number of times: 1 that appeared specie: [Schizosaccharomyces pombe 972h-]\n",
      "number of times: 1 that appeared specie: [Sclerotinia sclerotiorum 1980 UF-70]\n",
      "number of times: 2 that appeared specie: [Ustilago maydis 521]\n",
      "number of times: 1 that appeared specie: [Yarrowia lipolytica CLIB122]\n",
      "number of times: 1 that appeared specie: [[Candida] glabrata CBS 138]\n",
      "['Q9NVP1', 'Q8K363', 'Q9VD51', 'Q1EA54', 'A4R8B5', 'A1CIQ5', 'Q5BBY1', 'Q4IEK8', 'A1CW14', 'Q4WQM4', 'A2Q9T6', 'Q0UR48', 'Q54S03', 'A3LNR6', 'Q2UUN6', 'Q7S2N9', 'Q09916', 'Q03532', 'Q6CXB7', 'Q6BH93', 'Q6FIL3', 'Q74Z73', 'P0CQ84', 'A5E2Z9', 'A5DID7', 'Q6C7D2', 'Q4P6N0', 'Q0CZS8', 'Q5AK59', 'Q2GMX1', 'Q84T03', 'Q9LIH9', 'Q9SB89', 'Q0DBS1', 'Q13206', 'Q80Y44', 'Q5ZJF6', 'A1CTZ2', 'Q4P5U4', 'Q1EB31', 'Q0CMM5', 'Q4WM60', 'A1DNF9', 'A7ESL8', 'Q2H2J1', 'Q5BFU1', 'Q0UMB9', 'Q2UHB7', 'A2QS00', 'Q54Q94']\n"
     ]
    }
   ],
   "source": [
    "results_Blastp= open('blastp_file_ddx18.xml')\n",
    "blastp_records = NCBIXML.read(results_Blastp)\n",
    "E_VALUE_THRESH = 0.001\n",
    "list_filtered_alignments,list_species=[],[]\n",
    "for alignment in  blastp_records.alignments:\n",
    "    for hsp in alignment.hsps:\n",
    "#         print(hsp.identities)    # maybe add more \n",
    "        if hsp.expect < E_VALUE_THRESH:\n",
    "            list_filtered_alignments.append(alignment.accession)\n",
    "            title_organism=re.search(r'\\[.+\\s.+\\]', alignment.title)\n",
    "            if title_organism:\n",
    "                m = re.match(r'\\[.+\\s.+\\]', title_organism[0] )\n",
    "                specie = m.group(0)\n",
    "                #print(specie)\n",
    "                list_species.append(specie)\n",
    "for x in sorted(set(list_species)):\n",
    "    print(\"number of times: {} that appeared specie: {}\".format(list_species.count(x),x))\n",
    "\n",
    "print(list_filtered_alignments)"
   ]
  },
  {
   "cell_type": "code",
   "execution_count": 62,
   "id": "8c654d70",
   "metadata": {},
   "outputs": [],
   "source": [
    "with open('blastp_files_ddx18.txt', 'w') as f:\n",
    "    for line in list_filtered_alignments:\n",
    "        f.write(f\"{line}\\n\")"
   ]
  },
  {
   "cell_type": "code",
   "execution_count": 52,
   "id": "23069eec",
   "metadata": {},
   "outputs": [
    {
     "name": "stdout",
     "output_type": "stream",
     "text": [
      "\n",
      "Accession:  Q9NVP1\n",
      "Definition:  RecName: Full=ATP-dependent RNA helicase DDX18; AltName: Full=DEAD box protein 18; AltName: Full=Myc-regulated DEAD box protein; Short=MrDb [Homo sapiens]\n",
      "E-value:  0.0\n",
      "\n",
      "Accession:  Q8K363\n",
      "Definition:  RecName: Full=ATP-dependent RNA helicase DDX18; AltName: Full=DEAD box protein 18 [Mus musculus]\n",
      "E-value:  0.0\n",
      "\n",
      "Accession:  Q9VD51\n",
      "Definition:  RecName: Full=Probable ATP-dependent RNA helicase pitchoune [Drosophila melanogaster]\n",
      "E-value:  0.0\n",
      "\n",
      "Accession:  Q1EA54\n",
      "Definition:  RecName: Full=ATP-dependent RNA helicase HAS1 [Coccidioides immitis RS]\n",
      "E-value:  0.0\n",
      "\n",
      "Accession:  A4R8B5\n",
      "Definition:  RecName: Full=ATP-dependent RNA helicase HAS1 [Pyricularia oryzae 70-15]\n",
      "E-value:  0.0\n"
     ]
    }
   ],
   "source": [
    "result_seq = open(\"blastp_file_ddx18.xml\")\n",
    "blast_results = NCBIXML.read(result_seq)\n",
    "#print(\"Number of alignments:\",len(blast_results.alignments))\n",
    "for parameter in blast_results.alignments[0:5]:\n",
    "    print()\n",
    "    print('Accession: ', parameter.accession)\n",
    "    print('Definition: ', parameter.hit_def)    \n",
    "    for e_v in parameter.hsps:\n",
    "        print('E-value: ', e_v.expect)"
   ]
  },
  {
   "cell_type": "code",
   "execution_count": null,
   "id": "3a05c13a",
   "metadata": {},
   "outputs": [],
   "source": [
    "Blast=open(\"blastp_file_ddx18.xml\")\n",
    "Blast_record=NCBIXML.parse(Blast)\n",
    "for x in Blast_record:\n",
    "    print(x.database)\n",
    "    print(x.matrix)\n",
    "    print(x.gap_penalties)\n",
    "    print(len(x.alignments))"
   ]
  },
  {
   "cell_type": "code",
   "execution_count": null,
   "id": "d2f129a2",
   "metadata": {},
   "outputs": [],
   "source": [
    "first=x.alignments[0] #best one\n",
    "print(first.accession)\n",
    "print(first.hit_id)\n",
    "print(first.hit_def)"
   ]
  },
  {
   "cell_type": "code",
   "execution_count": null,
   "id": "62885252",
   "metadata": {},
   "outputs": [],
   "source": [
    "for a in first.hsps:\n",
    "    print(a.expect)\n",
    "    print(a.score)\n",
    "    print(a.align_length)\n",
    "    print(len(a.match))\n",
    "    print(\"\")\n",
    "    print(a.query[0:75]+\"...\")\n",
    "    print(a.match[0:75]+\"...\")\n",
    "    print(a.sbjct[0:75]+\"...\")\n",
    "    print(a.query_start)\n",
    "    print(a.sbjct_start)\n",
    "    print(\"\")"
   ]
  },
  {
   "cell_type": "code",
   "execution_count": null,
   "id": "0129c939",
   "metadata": {},
   "outputs": [],
   "source": [
    "#podia ir para comentário ou retirar  diz a mesma coisa que em cima mas talvez mais bonito\n",
    "result_handle=open(\"blastp_file_ddx18.xml\")\n",
    "blast_record=NCBIXML.read(result_handle)\n",
    "E_VALUE_THRESH=0.01\n",
    "for alignment in blast_record.alignments:\n",
    "    for hsp in alignment.hsps:\n",
    "        if hsp.expect<E_VALUE_THRESH:\n",
    "            print(\"----Aligment----\")\n",
    "            print(\"sequence:\",alignment.title)\n",
    "            print(\"lenght:\",alignment.length)\n",
    "            print(\"e.value:\",hsp.expect) #can we get a value with more detail?\n",
    "            print(hsp.query[0:75] + \"...\")\n",
    "            print(hsp.query[0:75] + \"...\")\n",
    "            print(hsp.sbjct[0:75] + \"...\")"
   ]
  },
  {
   "cell_type": "code",
   "execution_count": null,
   "id": "9929ee9e",
   "metadata": {},
   "outputs": [],
   "source": [
    "blast_qresult=SearchIO.read(\"blastp_file_ddx18.xml\",\"blast-xml\")\n",
    "blast_hsp=blast_qresult[0][0]\n",
    "print(blast_qresult[0][0])#best hsp\n",
    "print(blast_hsp.aln)"
   ]
  },
  {
   "cell_type": "markdown",
   "id": "c4cc51d4",
   "metadata": {},
   "source": [
    "## Uniprot research"
   ]
  },
  {
   "cell_type": "markdown",
   "id": "abb618c3",
   "metadata": {},
   "source": [
    "## DDX18"
   ]
  },
  {
   "cell_type": "code",
   "execution_count": 54,
   "id": "3c81f64e",
   "metadata": {
    "scrolled": false
   },
   "outputs": [
    {
     "name": "stdout",
     "output_type": "stream",
     "text": [
      "Number of results: 2\n",
      "\n"
     ]
    }
   ],
   "source": [
    "WEBSITE_API=\"https://rest.uniprot.org\"\n",
    "def get_url(url,**kwargs):\n",
    "    response=requests.get(url,**kwargs);\n",
    "    if not response.ok:\n",
    "        print(response.text)\n",
    "        response.raise_for_status()\n",
    "        sys.exit()\n",
    "    return response\n",
    "r=get_url(f\"{WEBSITE_API}/uniprotkb/search?query=ddx18 AND (taxonomy_id:9606) AND (reviewed:true)\")#more detail possible\n",
    "data=r.json()\n",
    "n_results=len(data[\"results\"])\n",
    "print(f\"Number of results: {n_results}\\n\")\n",
    "total=r.headers.get(\"x-total-results\")\n",
    "page_total=len(data[\"results\"])\n"
   ]
  },
  {
   "cell_type": "code",
   "execution_count": 55,
   "id": "e82abbc1",
   "metadata": {},
   "outputs": [
    {
     "data": {
      "text/plain": [
       "['Q9NVP1,Q76FK4,']"
      ]
     },
     "execution_count": 55,
     "metadata": {},
     "output_type": "execute_result"
    }
   ],
   "source": [
    "#one way to list the ids\n",
    "r=get_url(f\"{WEBSITE_API}//uniprotkb/search?query=DDX18 AND (taxonomy_id:9606) AND (reviewed:true)&format=list&size=2\")\n",
    "#r.text\n",
    "\n",
    "accessions=[r.text.replace(\"\\n\",\",\")]\n",
    "accessions"
   ]
  },
  {
   "cell_type": "code",
   "execution_count": 56,
   "id": "3745a4be",
   "metadata": {},
   "outputs": [
    {
     "name": "stdout",
     "output_type": "stream",
     "text": [
      ">sp|Q9NVP1|DDX18_HUMAN ATP-dependent RNA helicase DDX18 OS=Homo sapiens OX=9606 GN=DDX18 PE=1 SV=2\n",
      "MSHLPMKLLRKKIEKRNLKLRQRNLKFQGASNLTLSETQNGDVSEETMGSRKVKKSKQKP\n",
      "MNVGLSETQNGGMSQEAVGNIKVTKSPQKSTVLTNGEAAMQSSNSESKKKKKKKRKMVND\n",
      "AEPDTKKAKTENKGKSEEESAETTKETENNVEKPDNDEDESEVPSLPLGLTGAFEDTSFA\n",
      "SLCNLVNENTLKAIKEMGFTNMTEIQHKSIRPLLEGRDLLAAAKTGSGKTLAFLIPAVEL\n",
      "IVKLRFMPRNGTGVLILSPTRELAMQTFGVLKELMTHHVHTYGLIMGGSNRSAEAQKLGN\n",
      "GINIIVATPGRLLDHMQNTPGFMYKNLQCLVIDEADRILDVGFEEELKQIIKLLPTRRQT\n",
      "MLFSATQTRKVEDLARISLKKEPLYVGVDDDKANATVDGLEQGYVVCPSEKRFLLLFTFL\n",
      "KKNRKKKLMVFFSSCMSVKYHYELLNYIDLPVLAIHGKQKQNKRTTTFFQFCNADSGTLL\n",
      "CTDVAARGLDIPEVDWIVQYDPPDDPKEYIHRVGRTARGLNGRGHALLILRPEELGFLRY\n",
      "LKQSKVPLSEFDFSWSKISDIQSQLEKLIEKNYFLHKSAQEAYKSYIRAYDSHSLKQIFN\n",
      "VNNLNLPQVALSFGFKVPPFVDLNVNSNEGKQKKRGGGGGFGYQKTKKVEKSKIFKHISK\n",
      "KSSDSRQFSH\n",
      ">sp|Q76FK4|NOL8_HUMAN Nucleolar protein 8 OS=Homo sapiens OX=9606 GN=NOL8 PE=1 SV=1\n",
      "MKVNRETKRLYVGGLSQDISEADLQNQFSRFGEVSDVEIITRKDDQGNPQKVFAYINISV\n",
      "AEADLKKCMSVLNKTKWKGGTLQIQLAKESFLHRLAQEREAAKAKKEESTTGNANLLEKT\n",
      "GGVDFHMKAVPGTEVPGHKNWVVSKFGRVLPVLHLKNQHKRKIIKYDPSKYCHNLKKIGE\n",
      "DFSNTIPISSLTWELEGGNDPMSKKRRGEFSDFHGPPKKIIKVQKDESSTGSLAMSTRPR\n",
      "RVIERPPLTQQQAAQKRTCDSITPSKSSPVPVSDTQKLKNLPFKTSGLETAKKRNSISDD\n",
      "DTDSEDELRMMIAKEENLQRTTQPSINESESDPFEVVRDDFKSGVHKLHSLIGLGIKNRV\n",
      "SCHDSDDDIMRNDREYDSGDTDEIIAMKKNVAKVKNSTEFSQMEKSTKKTSFKNRENCEL\n",
      "SDHCIKLQKRKSNVESALSHGLKSLNRKSPSHSSSSEDADSASELADSEGGEEYNAMMKN\n",
      "CLRVNLTLADLEQLAGSDLKVPNEDTKSDGPETTTQCKFDRGSKSPKTPTGLRRGRQCIR\n",
      "PAEIVASLLEGEENTCGKQKPKENNLKPKFQAFKGVGCLYEKESMKKSLKDSVASNNKDQ\n",
      "NSMKHEDPSIISMEDGSPYVNGSLGEVTPCQHAKKANGPNYIQPQKRQTTFESQDRKAVS\n",
      "PSSSEKRSKNPISRPLEGKKSLSLSAKTHNIGFDKDSCHSTTKTEASQEERSDSSGLTSL\n",
      "KKSPKVSSKDTREIKTDFSLSISNSSDVSAKDKHAEDNEKRLAALEARQKAKEVQKKLVH\n",
      "NALANLDGHPEDKPTHIIFGSDSECETEETSTQEQSHPGEEWVKESMGKTSGKLFDSSDD\n",
      "DESDSEDDSNRFKIKPQFEGRAGQKLMDLQSHFGTDDRFRMDSRFLETDSEEEQEEVNEK\n",
      "KTAEEEELAEEKKKALNVVQSVLQINLSNSTNRGSVAAKKFKDIIHYDPTKQDHATYERK\n",
      "RDDKPKESKAKRKKKREEAEKLPEVSKEMYYNIAMDLKEIFQTTKYTSEKEEGTPWNEDC\n",
      "GKEKPEEIQDPAALTSDAEQPSGFTFSFFDSDTKDIKEETYRVETVKPGKIVWQEDPRLQ\n",
      "DSSSEEEDVTEETDHRNSSPGEASLLEKETTRFFFFSKNDERLQGSDLFWRGVGSNMSRN\n",
      "SWEARTTNLRMDCRKKHKDAKRKMKPK\n",
      "\n"
     ]
    }
   ],
   "source": [
    "#to format fasta that alow see the protein sequences and id in a form more familiary\n",
    "r=get_url(f\"{WEBSITE_API}//uniprotkb/search?query=DDX18  AND (taxonomy_id:9606) AND (reviewed:true)&format=fasta\")\n",
    "fasta=r.text\n",
    "print(fasta)"
   ]
  },
  {
   "cell_type": "markdown",
   "id": "e25049da",
   "metadata": {},
   "source": [
    "-we choose the first one the id Q9NVP1 "
   ]
  },
  {
   "cell_type": "code",
   "execution_count": 60,
   "id": "c0f55a08",
   "metadata": {},
   "outputs": [
    {
     "name": "stdout",
     "output_type": "stream",
     "text": [
      "P35568\n",
      "MASPPESDGFSDVRKVGYLRKPKSMHKRFFVLRAASEAGGPARLEYYENEKKWRHKSSAPKRSIPLESCFNINKRADSKNKHLVALYTRDEHFAIAADSEAEQDSWYQALLQLHNRAKGHHDGAAALGAGGGGGSCSGSSGLGEAGEDLSYGDVPPGPAFKEVWQVILKPKGLGQTKNLIGIYRLCLTSKTISFVKLNSEAAAVVLQLMNIRRCGHSENFFFIEVGRSAVTGPGEFWMQVDDSVVAQNMHETILEAMRAMSDEFRPRSKSQSSSNCSNPISVPLRRHHLNNPPPSQVGLTRRSRTESITATSPASMVGGKPGSFRVRASSDGEGTMSRPASVDGSPVSPSTNRTHAHRHRGSARLHPPLNHSRSIPMPASRCSPSATSPVSLSSSSTSGHGSTSDCLFPRRSSASVSGSPSDGGFISSDEYGSSPCDFRSSFRSVTPDSLGHTPPARGEEELSNYICMGGKGPSTLTAPNGHYILSRGGNGHRCTPGTGLGTSPALAGDEAASAADLDNRFRKRTHSAGTSPTITHQKTPSQSSVASIEEYTEMMPAYPPGGGSGGRLPGHRHSAFVPTRSYPEEGLEMHPLERRGGHHRPDSSTLHTDDGYMPMSPGVAPVPSGRKGSGDYMPMSPKSVSAPQQIINPIRRHPQRVDPNGYMMMSPSGGCSPDIGGGPSSSSSSSNAVPSGTSYGKLWTNGVGGHHSHVLPHPKPPVESSGGKLLPCTGDYMNMSPVGDSNTSSPSDCYYGPEDPQHKPVLSYYSLPRSFKHTQRPGEPEEGARHQHLRLSTSSGRLLYAATADDSSSSTSSDSLGGGYCGARLEPSLPHPHHQVLQPHLPRKVDTAAQTNSRLARPTRLSLGDPKASTLPRAREQQQQQQPLLHPPEPKSPGEYVNIEFGSDQSGYLSGPVAFHSSPSVRCPSQLQPAPREEETGTEEYMKMDLGPGRRAAWQESTGVEMGRLGPAPPGAASICRPTRAVPSSRGDYMTMQMSCPRQSYVDTSPAAPVSYADMRTGIAAEEVSLPRATMAAASSSSAASASPTGPQGAAELAAHSSLLGGPQGPGGMSAFTRVNLSPNRNQSAKVIRADPQGCRRRHSSETFSSTPSATRVGNTVPFGAGAAVGGGGGSSSSSEDVKRHSSASFENVWLRPGELGGAPKEPAKLCGAAGGLENGLNYIDLDLVKDFKQCPQECTPEPQPPPPPPPHQPLGSGESSSTRRSSEDLSAYASISFQKQPEDRQ\n"
     ]
    }
   ],
   "source": [
    "with ExPASy.get_sprot_raw(\"P35568\") as handle:\n",
    "    seq_record = SeqIO.read(handle, \"swiss\")\n",
    "    print(seq_record.id)\n",
    "    #print(seq_record.entry_name, \"\\n\")\n",
    "    #print(\", \".join(seq_record.accessions), \"\\n\")\n",
    "    #print(seq_record.keywords, \"\\n\")\n",
    "    #print(seq_record.organism, \"\\n\")\n",
    "    #print(len(seq_record.sequence), \"aa\", \"\\n\")\n",
    "    print(seq_record.seq)"
   ]
  },
  {
   "cell_type": "markdown",
   "id": "d8e6898a",
   "metadata": {},
   "source": [
    "We can't understand why the id of ddx18 doesn't work and the other genes already work"
   ]
  },
  {
   "cell_type": "code",
   "execution_count": 63,
   "id": "65941ca9",
   "metadata": {},
   "outputs": [],
   "source": [
    "results_Blastp= open('blastp_file_ddx18.xml')\n",
    "blastp_records = NCBIXML.read(results_Blastp)\n",
    "titles_list=[]\n",
    "for alignment in  blastp_records.alignments:   \n",
    "    titles_list.append(alignment.title)\n",
    "\n",
    "file= open(\"blastp_files_ddx18.txt\", \"r\")\n",
    "fields=\"sequence\"\n",
    "WEBSITE_API=\"https://rest.uniprot.org\"\n",
    "seqs=[]\n",
    "\n",
    "for i in file:\n",
    "    r=get_url(\"{}/uniprotkb/search?query={} AND (reviewed:true)&fields={}&size=1&format=tsv\".format(WEBSITE_API,i, fields))\n",
    "    seqs.append(str(r.content))\n",
    "\n",
    "with open('blastp_file_ddx18.fasta', 'w') as f:\n",
    "    for index, seq in enumerate(seqs):\n",
    "        existe = re.search(r'b\\'Sequence\\\\n(.+?(?=\\\\n\\'))', seq, re.DOTALL)\n",
    "        if existe:\n",
    "            m = re.match( r'b\\'Sequence\\\\n(.+?(?=\\\\n\\'))', seq, re.DOTALL )\n",
    "            f.write(f\">{titles_list[index]}\\n{m.group(1)}\\n\\n\")                    \n",
    "            #print(m.group(1) )"
   ]
  },
  {
   "cell_type": "code",
   "execution_count": 64,
   "id": "f94447ec",
   "metadata": {},
   "outputs": [
    {
     "name": "stdout",
     "output_type": "stream",
     "text": [
      "Entry\tOrganism\tProtein names\tSubcellular location [CC]\tFunction [CC]\n",
      "Q9NVP1\tHomo sapiens (Human)\tATP-dependent RNA helicase DDX18 (EC 3.6.4.13) (DEAD box protein 18) (Myc-regulated DEAD box protein) (MrDb)\tSUBCELLULAR LOCATION: Nucleus, nucleolus {ECO:0000269|PubMed:16963496}. Chromosome {ECO:0000269|PubMed:20813266}.\tFUNCTION: Probable RNA-dependent helicase.\n",
      "\n",
      "Entry\tOrganism\tProtein names\tSubcellular location [CC]\tFunction [CC]\n",
      "Q8K363\tMus musculus (Mouse)\tATP-dependent RNA helicase DDX18 (EC 3.6.4.13) (DEAD box protein 18)\tSUBCELLULAR LOCATION: Nucleus, nucleolus {ECO:0000250|UniProtKB:Q9NVP1}. Chromosome {ECO:0000250|UniProtKB:Q9NVP1}.\tFUNCTION: Probable RNA-dependent helicase.\n",
      "\n",
      "Entry\tOrganism\tProtein names\tSubcellular location [CC]\tFunction [CC]\n",
      "Q9VD51\tDrosophila melanogaster (Fruit fly)\tProbable ATP-dependent RNA helicase pitchoune (EC 3.6.4.13)\tSUBCELLULAR LOCATION: Nucleus, nucleolus {ECO:0000269|PubMed:9716523}.\tFUNCTION: Probable RNA-dependent helicase. Functions in cell growth and proliferation. May have a role in ribosome biogenesis and, consequently, in protein biosynthesis. {ECO:0000269|PubMed:9716523}.\n",
      "\n",
      "Entry\tOrganism\tProtein names\tSubcellular location [CC]\tFunction [CC]\n",
      "Q1EA54\tCoccidioides immitis (strain RS) (Valley fever fungus)\tATP-dependent RNA helicase HAS1 (EC 3.6.4.13)\tSUBCELLULAR LOCATION: Nucleus, nucleolus {ECO:0000250}.\tFUNCTION: ATP-dependent RNA helicase involved in 40S ribosomal subunit biogenesis. Required for the processing and cleavage of 35S pre-rRNA at sites A0, A1, and A2, leading to mature 18S rRNA.\n",
      "\n",
      "Entry\tOrganism\tProtein names\tSubcellular location [CC]\tFunction [CC]\n",
      "A4R8B5\tMagnaporthe oryzae (strain 70-15 / ATCC MYA-4617 / FGSC 8958) (Rice blast fungus) (Pyricularia oryzae)\tATP-dependent RNA helicase HAS1 (EC 3.6.4.13)\tSUBCELLULAR LOCATION: Nucleus, nucleolus {ECO:0000250}.\tFUNCTION: ATP-dependent RNA helicase involved in 40S ribosomal subunit biogenesis. Required for the processing and cleavage of 35S pre-rRNA at sites A0, A1, and A2, leading to mature 18S rRNA.\n",
      "\n",
      "Entry\tOrganism\tProtein names\tSubcellular location [CC]\tFunction [CC]\n",
      "A1CIQ5\tAspergillus clavatus (strain ATCC 1007 / CBS 513.65 / DSM 816 / NCTC 3887 / NRRL 1 / QM 1276 / 107)\tATP-dependent RNA helicase has1 (EC 3.6.4.13)\tSUBCELLULAR LOCATION: Nucleus, nucleolus {ECO:0000250}.\tFUNCTION: ATP-dependent RNA helicase involved in 40S ribosomal subunit biogenesis. Required for the processing and cleavage of 35S pre-rRNA at sites A0, A1, and A2, leading to mature 18S rRNA.\n",
      "\n",
      "Entry\tOrganism\tProtein names\tSubcellular location [CC]\tFunction [CC]\n",
      "Q5BBY1\tEmericella nidulans (strain FGSC A4 / ATCC 38163 / CBS 112.46 / NRRL 194 / M139) (Aspergillus nidulans)\tATP-dependent RNA helicase has1 (EC 3.6.4.13)\tSUBCELLULAR LOCATION: Nucleus, nucleolus {ECO:0000250}.\tFUNCTION: ATP-dependent RNA helicase involved in 40S ribosomal subunit biogenesis. Required for the processing and cleavage of 35S pre-rRNA at sites A0, A1, and A2, leading to mature 18S rRNA.\n",
      "\n",
      "Entry\tOrganism\tProtein names\tSubcellular location [CC]\tFunction [CC]\n",
      "Q4IEK8\tGibberella zeae (strain ATCC MYA-4620 / CBS 123657 / FGSC 9075 / NRRL 31084 / PH-1) (Wheat head blight fungus) (Fusarium graminearum)\tATP-dependent RNA helicase HAS1 (EC 3.6.4.13)\tSUBCELLULAR LOCATION: Nucleus, nucleolus {ECO:0000250}.\tFUNCTION: ATP-dependent RNA helicase involved in 40S ribosomal subunit biogenesis. Required for the processing and cleavage of 35S pre-rRNA at sites A0, A1, and A2, leading to mature 18S rRNA.\n",
      "\n",
      "Entry\tOrganism\tProtein names\tSubcellular location [CC]\tFunction [CC]\n",
      "A1CW14\tNeosartorya fischeri (strain ATCC 1020 / DSM 3700 / CBS 544.65 / FGSC A1164 / JCM 1740 / NRRL 181 / WB 181) (Aspergillus fischerianus)\tATP-dependent RNA helicase has1 (EC 3.6.4.13)\tSUBCELLULAR LOCATION: Nucleus, nucleolus {ECO:0000250}.\tFUNCTION: ATP-dependent RNA helicase involved in 40S ribosomal subunit biogenesis. Required for the processing and cleavage of 35S pre-rRNA at sites A0, A1, and A2, leading to mature 18S rRNA.\n",
      "\n",
      "Entry\tOrganism\tProtein names\tSubcellular location [CC]\tFunction [CC]\n",
      "Q4WQM4\tNeosartorya fumigata (strain ATCC MYA-4609 / Af293 / CBS 101355 / FGSC A1100) (Aspergillus fumigatus)\tATP-dependent RNA helicase has1 (EC 3.6.4.13)\tSUBCELLULAR LOCATION: Nucleus, nucleolus {ECO:0000250}.\tFUNCTION: ATP-dependent RNA helicase involved in 40S ribosomal subunit biogenesis. Required for the processing and cleavage of 35S pre-rRNA at sites A0, A1, and A2, leading to mature 18S rRNA.\n",
      "\n",
      "Entry\tOrganism\tProtein names\tSubcellular location [CC]\tFunction [CC]\n",
      "A2Q9T6\tAspergillus niger (strain CBS 513.88 / FGSC A1513)\tATP-dependent RNA helicase has1 (EC 3.6.4.13)\tSUBCELLULAR LOCATION: Nucleus, nucleolus {ECO:0000250}.\tFUNCTION: ATP-dependent RNA helicase involved in 40S ribosomal subunit biogenesis. Required for the processing and cleavage of 35S pre-rRNA at sites A0, A1, and A2, leading to mature 18S rRNA.\n",
      "\n",
      "Entry\tOrganism\tProtein names\tSubcellular location [CC]\tFunction [CC]\n",
      "Q0UR48\tPhaeosphaeria nodorum (strain SN15 / ATCC MYA-4574 / FGSC 10173) (Glume blotch fungus) (Parastagonospora nodorum)\tATP-dependent RNA helicase HAS1 (EC 3.6.4.13)\tSUBCELLULAR LOCATION: Nucleus, nucleolus {ECO:0000250}.\tFUNCTION: ATP-dependent RNA helicase involved in 40S ribosomal subunit biogenesis. Required for the processing and cleavage of 35S pre-rRNA at sites A0, A1, and A2, leading to mature 18S rRNA.\n",
      "\n",
      "Entry\tOrganism\tProtein names\tSubcellular location [CC]\tFunction [CC]\n",
      "Q54S03\tDictyostelium discoideum (Slime mold)\tProbable ATP-dependent RNA helicase ddx18 (EC 3.6.4.13) (DEAD box protein 18)\tSUBCELLULAR LOCATION: Nucleus, nucleolus {ECO:0000250|UniProtKB:Q9NVP1}. Chromosome {ECO:0000250|UniProtKB:Q9NVP1}.\tFUNCTION: ATP-binding RNA helicase which may be involved in the ribosome biogenesis. {ECO:0000250}.\n",
      "\n",
      "Entry\tOrganism\tProtein names\tSubcellular location [CC]\tFunction [CC]\n",
      "A3LNR6\tScheffersomyces stipitis (strain ATCC 58785 / CBS 6054 / NBRC 10063 / NRRL Y-11545) (Yeast) (Pichia stipitis)\tATP-dependent RNA helicase HAS1 (EC 3.6.4.13)\tSUBCELLULAR LOCATION: Nucleus, nucleolus {ECO:0000250}.\tFUNCTION: ATP-dependent RNA helicase involved in 40S ribosomal subunit biogenesis. Required for the processing and cleavage of 35S pre-rRNA at sites A0, A1, and A2, leading to mature 18S rRNA.\n",
      "\n",
      "Entry\tOrganism\tProtein names\tSubcellular location [CC]\tFunction [CC]\n",
      "Q2UUN6\tAspergillus oryzae (strain ATCC 42149 / RIB 40) (Yellow koji mold)\tATP-dependent RNA helicase has1 (EC 3.6.4.13)\tSUBCELLULAR LOCATION: Nucleus, nucleolus {ECO:0000250}.\tFUNCTION: ATP-dependent RNA helicase involved in 40S ribosomal subunit biogenesis. Required for the processing and cleavage of 35S pre-rRNA at sites A0, A1, and A2, leading to mature 18S rRNA.\n",
      "\n",
      "Entry\tOrganism\tProtein names\tSubcellular location [CC]\tFunction [CC]\n",
      "Q7S2N9\tNeurospora crassa (strain ATCC 24698 / 74-OR23-1A / CBS 708.71 / DSM 1257 / FGSC 987)\tATP-dependent RNA helicase has-1 (EC 3.6.4.13)\tSUBCELLULAR LOCATION: Nucleus, nucleolus {ECO:0000250}.\tFUNCTION: ATP-dependent RNA helicase involved in 40S ribosomal subunit biogenesis. Required for the processing and cleavage of 35S pre-rRNA at sites A0, A1, and A2, leading to mature 18S rRNA.\n",
      "\n",
      "Entry\tOrganism\tProtein names\tSubcellular location [CC]\tFunction [CC]\n",
      "Q09916\tSchizosaccharomyces pombe (strain 972 / ATCC 24843) (Fission yeast)\tATP-dependent RNA helicase has1 (EC 3.6.4.13)\tSUBCELLULAR LOCATION: Nucleus, nucleolus {ECO:0000250}.\tFUNCTION: ATP-dependent RNA helicase involved in 40S ribosomal subunit biogenesis. Required for the processing and cleavage of 35S pre-rRNA at sites A0, A1, and A2, leading to mature 18S rRNA.\n",
      "\n",
      "Entry\tOrganism\tProtein names\tSubcellular location [CC]\tFunction [CC]\n",
      "Q03532\tSaccharomyces cerevisiae (strain ATCC 204508 / S288c) (Baker's yeast)\tATP-dependent RNA helicase HAS1 (EC 3.6.4.13) (Helicase associated with SET1 protein 1)\tSUBCELLULAR LOCATION: Nucleus, nucleolus {ECO:0000269|PubMed:10684247, ECO:0000269|PubMed:15049817}.\tFUNCTION: ATP-dependent RNA helicase involved in 40S ribosomal subunit biogenesis. Required for the processing and cleavage of 35S pre-rRNA at sites A0, A1, and A2, leading to mature 18S rRNA. {ECO:0000269|PubMed:15049817, ECO:0000269|PubMed:15242642, ECO:0000269|PubMed:15718299}.\n",
      "\n"
     ]
    },
    {
     "name": "stdout",
     "output_type": "stream",
     "text": [
      "Entry\tOrganism\tProtein names\tSubcellular location [CC]\tFunction [CC]\n",
      "Q6CXB7\tKluyveromyces lactis (strain ATCC 8585 / CBS 2359 / DSM 70799 / NBRC 1267 / NRRL Y-1140 / WM37) (Yeast) (Candida sphaerica)\tATP-dependent RNA helicase HAS1 (EC 3.6.4.13)\tSUBCELLULAR LOCATION: Nucleus, nucleolus {ECO:0000250}.\tFUNCTION: ATP-dependent RNA helicase involved in 40S ribosomal subunit biogenesis. Required for the processing and cleavage of 35S pre-rRNA at sites A0, A1, and A2, leading to mature 18S rRNA.\n",
      "\n",
      "Entry\tOrganism\tProtein names\tSubcellular location [CC]\tFunction [CC]\n",
      "Q6BH93\tDebaryomyces hansenii (strain ATCC 36239 / CBS 767 / BCRC 21394 / JCM 1990 / NBRC 0083 / IGC 2968) (Yeast) (Torulaspora hansenii)\tATP-dependent RNA helicase HAS1 (EC 3.6.4.13)\tSUBCELLULAR LOCATION: Nucleus, nucleolus {ECO:0000250}.\tFUNCTION: ATP-dependent RNA helicase involved in 40S ribosomal subunit biogenesis. Required for the processing and cleavage of 35S pre-rRNA at sites A0, A1, and A2, leading to mature 18S rRNA.\n",
      "\n",
      "Entry\tOrganism\tProtein names\tSubcellular location [CC]\tFunction [CC]\n",
      "Q6FIL3\tCandida glabrata (strain ATCC 2001 / CBS 138 / JCM 3761 / NBRC 0622 / NRRL Y-65) (Yeast) (Torulopsis glabrata)\tATP-dependent RNA helicase HAS1 (EC 3.6.4.13)\tSUBCELLULAR LOCATION: Nucleus, nucleolus {ECO:0000250}.\tFUNCTION: ATP-dependent RNA helicase involved in 40S ribosomal subunit biogenesis. Required for the processing and cleavage of 35S pre-rRNA at sites A0, A1, and A2, leading to mature 18S rRNA.\n",
      "\n",
      "Entry\tOrganism\tProtein names\tSubcellular location [CC]\tFunction [CC]\n",
      "Q74Z73\tAshbya gossypii (strain ATCC 10895 / CBS 109.51 / FGSC 9923 / NRRL Y-1056) (Yeast) (Eremothecium gossypii)\tATP-dependent RNA helicase HAS1 (EC 3.6.4.13)\tSUBCELLULAR LOCATION: Nucleus, nucleolus {ECO:0000250}.\tFUNCTION: ATP-dependent RNA helicase involved in 40S ribosomal subunit biogenesis. Required for the processing and cleavage of 35S pre-rRNA at sites A0, A1, and A2, leading to mature 18S rRNA.\n",
      "\n",
      "Entry\tOrganism\tProtein names\tSubcellular location [CC]\tFunction [CC]\n",
      "P0CQ84\tCryptococcus neoformans var. neoformans serotype D (strain JEC21 / ATCC MYA-565) (Filobasidiella neoformans)\tATP-dependent RNA helicase HAS1 (EC 3.6.4.13)\tSUBCELLULAR LOCATION: Nucleus, nucleolus {ECO:0000250}.\tFUNCTION: ATP-dependent RNA helicase involved in 40S ribosomal subunit biogenesis. Required for the processing and cleavage of 35S pre-rRNA at sites A0, A1, and A2, leading to mature 18S rRNA.\n",
      "\n",
      "Entry\tOrganism\tProtein names\tSubcellular location [CC]\tFunction [CC]\n",
      "A5E2Z9\tLodderomyces elongisporus (strain ATCC 11503 / CBS 2605 / JCM 1781 / NBRC 1676 / NRRL YB-4239) (Yeast) (Saccharomyces elongisporus)\tATP-dependent RNA helicase HAS1 (EC 3.6.4.13)\tSUBCELLULAR LOCATION: Nucleus, nucleolus {ECO:0000250}.\tFUNCTION: ATP-dependent RNA helicase involved in 40S ribosomal subunit biogenesis. Required for the processing and cleavage of 35S pre-rRNA at sites A0, A1, and A2, leading to mature 18S rRNA.\n",
      "\n",
      "Entry\tOrganism\tProtein names\tSubcellular location [CC]\tFunction [CC]\n",
      "A5DID7\tMeyerozyma guilliermondii (strain ATCC 6260 / CBS 566 / DSM 6381 / JCM 1539 / NBRC 10279 / NRRL Y-324) (Yeast) (Candida guilliermondii)\tATP-dependent RNA helicase HAS1 (EC 3.6.4.13)\tSUBCELLULAR LOCATION: Nucleus, nucleolus {ECO:0000250}.\tFUNCTION: ATP-dependent RNA helicase involved in 40S ribosomal subunit biogenesis. Required for the processing and cleavage of 35S pre-rRNA at sites A0, A1, and A2, leading to mature 18S rRNA.\n",
      "\n",
      "Entry\tOrganism\tProtein names\tSubcellular location [CC]\tFunction [CC]\n",
      "Q6C7D2\tYarrowia lipolytica (strain CLIB 122 / E 150) (Yeast) (Candida lipolytica)\tATP-dependent RNA helicase HAS1 (EC 3.6.4.13)\tSUBCELLULAR LOCATION: Nucleus, nucleolus {ECO:0000250}.\tFUNCTION: ATP-dependent RNA helicase involved in 40S ribosomal subunit biogenesis. Required for the processing and cleavage of 35S pre-rRNA at sites A0, A1, and A2, leading to mature 18S rRNA.\n",
      "\n",
      "Entry\tOrganism\tProtein names\tSubcellular location [CC]\tFunction [CC]\n",
      "Q4P6N0\tUstilago maydis (strain 521 / FGSC 9021) (Corn smut fungus)\tATP-dependent RNA helicase HAS1 (EC 3.6.4.13)\tSUBCELLULAR LOCATION: Nucleus, nucleolus {ECO:0000250}.\tFUNCTION: ATP-dependent RNA helicase involved in 40S ribosomal subunit biogenesis. Required for the processing and cleavage of 35S pre-rRNA at sites A0, A1, and A2, leading to mature 18S rRNA.\n",
      "\n",
      "Entry\tOrganism\tProtein names\tSubcellular location [CC]\tFunction [CC]\n",
      "Q0CZS8\tAspergillus terreus (strain NIH 2624 / FGSC A1156)\tATP-dependent RNA helicase has1 (EC 3.6.4.13)\tSUBCELLULAR LOCATION: Nucleus, nucleolus {ECO:0000250}.\tFUNCTION: ATP-dependent RNA helicase involved in 40S ribosomal subunit biogenesis. Required for the processing and cleavage of 35S pre-rRNA at sites A0, A1, and A2, leading to mature 18S rRNA.\n",
      "\n",
      "Entry\tOrganism\tProtein names\tSubcellular location [CC]\tFunction [CC]\n",
      "Q5AK59\tCandida albicans (strain SC5314 / ATCC MYA-2876) (Yeast)\tATP-dependent RNA helicase HAS1 (EC 3.6.4.13)\tSUBCELLULAR LOCATION: Nucleus, nucleolus {ECO:0000250}.\tFUNCTION: ATP-dependent RNA helicase involved in 40S ribosomal subunit biogenesis. Required for the processing and cleavage of 35S pre-rRNA at sites A0, A1, and A2, leading to mature 18S rRNA.\n",
      "\n",
      "Entry\tOrganism\tProtein names\tSubcellular location [CC]\tFunction [CC]\n",
      "Q2GMX1\tChaetomium globosum (strain ATCC 6205 / CBS 148.51 / DSM 1962 / NBRC 6347 / NRRL 1970) (Soil fungus)\tATP-dependent RNA helicase HAS1 (EC 3.6.4.13)\tSUBCELLULAR LOCATION: Nucleus, nucleolus {ECO:0000250}.\tFUNCTION: ATP-dependent RNA helicase involved in 40S ribosomal subunit biogenesis. Required for the processing and cleavage of 35S pre-rRNA at sites A0, A1, and A2, leading to mature 18S rRNA.\n",
      "\n",
      "Entry\tOrganism\tProtein names\tSubcellular location [CC]\tFunction [CC]\n",
      "Q84T03\tOryza sativa subsp. japonica (Rice)\tDEAD-box ATP-dependent RNA helicase 27 (EC 3.6.4.13)\t\t\n",
      "\n",
      "Entry\tOrganism\tProtein names\tSubcellular location [CC]\tFunction [CC]\n",
      "Q9LIH9\tArabidopsis thaliana (Mouse-ear cress)\tDEAD-box ATP-dependent RNA helicase 51 (EC 3.6.4.13)\t\t\n",
      "\n",
      "Entry\tOrganism\tProtein names\tSubcellular location [CC]\tFunction [CC]\n",
      "Q9SB89\tArabidopsis thaliana (Mouse-ear cress)\tDEAD-box ATP-dependent RNA helicase 27 (EC 3.6.4.13)\t\t\n",
      "\n",
      "Entry\tOrganism\tProtein names\tSubcellular location [CC]\tFunction [CC]\n",
      "Q0DBS1\tOryza sativa subsp. japonica (Rice)\tPutative DEAD-box ATP-dependent RNA helicase 51 (EC 3.6.4.13)\t\t\n",
      "\n",
      "Entry\tOrganism\tProtein names\tSubcellular location [CC]\tFunction [CC]\n",
      "Q13206\tHomo sapiens (Human)\tProbable ATP-dependent RNA helicase DDX10 (EC 3.6.4.13) (DEAD box protein 10)\t\tFUNCTION: Putative ATP-dependent RNA helicase.\n",
      "\n",
      "Entry\tOrganism\tProtein names\tSubcellular location [CC]\tFunction [CC]\n",
      "Q80Y44\tMus musculus (Mouse)\tProbable ATP-dependent RNA helicase DDX10 (EC 3.6.4.13) (DEAD box protein 10)\t\tFUNCTION: Putative ATP-dependent RNA helicase. {ECO:0000250}.\n",
      "\n",
      "Entry\tOrganism\tProtein names\tSubcellular location [CC]\tFunction [CC]\n",
      "Q5ZJF6\tGallus gallus (Chicken)\tProbable ATP-dependent RNA helicase DDX10 (EC 3.6.4.13) (DEAD box protein 10)\t\tFUNCTION: Putative ATP-dependent RNA helicase. {ECO:0000250}.\n",
      "\n",
      "Entry\tOrganism\tProtein names\tSubcellular location [CC]\tFunction [CC]\n",
      "A1CTZ2\tAspergillus clavatus (strain ATCC 1007 / CBS 513.65 / DSM 816 / NCTC 3887 / NRRL 1 / QM 1276 / 107)\tATP-dependent RNA helicase dbp4 (EC 3.6.4.13)\tSUBCELLULAR LOCATION: Nucleus, nucleolus {ECO:0000250}.\tFUNCTION: ATP-dependent RNA helicase required for ribosome biogenesis. Involved in the release of U14 snoRNA in pre-ribosomal complexes. Required for pre-rRNA cleavage at site A2 (By similarity). {ECO:0000250}.\n",
      "\n",
      "Entry\tOrganism\tProtein names\tSubcellular location [CC]\tFunction [CC]\n",
      "Q4P5U4\tUstilago maydis (strain 521 / FGSC 9021) (Corn smut fungus)\tATP-dependent RNA helicase DBP4 (EC 3.6.4.13)\tSUBCELLULAR LOCATION: Nucleus, nucleolus {ECO:0000250}.\tFUNCTION: ATP-dependent RNA helicase required for ribosome biogenesis. Involved in the release of U14 snoRNA in pre-ribosomal complexes. Required for pre-rRNA cleavage at site A2 (By similarity). {ECO:0000250}.\n",
      "\n",
      "Entry\tOrganism\tProtein names\tSubcellular location [CC]\tFunction [CC]\n",
      "Q1EB31\tCoccidioides immitis (strain RS) (Valley fever fungus)\tATP-dependent RNA helicase DBP4 (EC 3.6.4.13)\tSUBCELLULAR LOCATION: Nucleus, nucleolus {ECO:0000250}.\tFUNCTION: ATP-dependent RNA helicase required for ribosome biogenesis. Involved in the release of U14 snoRNA in pre-ribosomal complexes. Required for pre-rRNA cleavage at site A2 (By similarity). {ECO:0000250}.\n",
      "\n"
     ]
    },
    {
     "name": "stdout",
     "output_type": "stream",
     "text": [
      "Entry\tOrganism\tProtein names\tSubcellular location [CC]\tFunction [CC]\n",
      "Q0CMM5\tAspergillus terreus (strain NIH 2624 / FGSC A1156)\tATP-dependent RNA helicase dbp4 (EC 3.6.4.13)\tSUBCELLULAR LOCATION: Nucleus, nucleolus {ECO:0000250}.\tFUNCTION: ATP-dependent RNA helicase required for ribosome biogenesis. Involved in the release of U14 snoRNA in pre-ribosomal complexes. Required for pre-rRNA cleavage at site A2 (By similarity). {ECO:0000250}.\n",
      "\n",
      "Entry\tOrganism\tProtein names\tSubcellular location [CC]\tFunction [CC]\n",
      "Q4WM60\tNeosartorya fumigata (strain ATCC MYA-4609 / Af293 / CBS 101355 / FGSC A1100) (Aspergillus fumigatus)\tATP-dependent RNA helicase dbp4 (EC 3.6.4.13)\tSUBCELLULAR LOCATION: Nucleus, nucleolus {ECO:0000250}.\tFUNCTION: ATP-dependent RNA helicase required for ribosome biogenesis. Involved in the release of U14 snoRNA in pre-ribosomal complexes. Required for pre-rRNA cleavage at site A2 (By similarity). {ECO:0000250}.\n",
      "\n",
      "Entry\tOrganism\tProtein names\tSubcellular location [CC]\tFunction [CC]\n",
      "A1DNF9\tNeosartorya fischeri (strain ATCC 1020 / DSM 3700 / CBS 544.65 / FGSC A1164 / JCM 1740 / NRRL 181 / WB 181) (Aspergillus fischerianus)\tATP-dependent RNA helicase dbp4 (EC 3.6.4.13)\tSUBCELLULAR LOCATION: Nucleus, nucleolus {ECO:0000250}.\tFUNCTION: ATP-dependent RNA helicase required for ribosome biogenesis. Involved in the release of U14 snoRNA in pre-ribosomal complexes. Required for pre-rRNA cleavage at site A2 (By similarity). {ECO:0000250}.\n",
      "\n",
      "Entry\tOrganism\tProtein names\tSubcellular location [CC]\tFunction [CC]\n",
      "A7ESL8\tSclerotinia sclerotiorum (strain ATCC 18683 / 1980 / Ss-1) (White mold) (Whetzelinia sclerotiorum)\tATP-dependent RNA helicase dbp4 (EC 3.6.4.13)\tSUBCELLULAR LOCATION: Nucleus, nucleolus {ECO:0000250}.\tFUNCTION: ATP-dependent RNA helicase required for ribosome biogenesis. Involved in the release of U14 snoRNA in pre-ribosomal complexes. Required for pre-rRNA cleavage at site A2 (By similarity). {ECO:0000250}.\n",
      "\n",
      "Entry\tOrganism\tProtein names\tSubcellular location [CC]\tFunction [CC]\n",
      "Q2H2J1\tChaetomium globosum (strain ATCC 6205 / CBS 148.51 / DSM 1962 / NBRC 6347 / NRRL 1970) (Soil fungus)\tATP-dependent RNA helicase DBP4 (EC 3.6.4.13)\tSUBCELLULAR LOCATION: Nucleus, nucleolus {ECO:0000250}.\tFUNCTION: ATP-dependent RNA helicase required for ribosome biogenesis. Involved in the release of U14 snoRNA in pre-ribosomal complexes. Required for pre-rRNA cleavage at site A2 (By similarity). {ECO:0000250}.\n",
      "\n",
      "Entry\tOrganism\tProtein names\tSubcellular location [CC]\tFunction [CC]\n",
      "Q5BFU1\tEmericella nidulans (strain FGSC A4 / ATCC 38163 / CBS 112.46 / NRRL 194 / M139) (Aspergillus nidulans)\tATP-dependent RNA helicase dbp4 (EC 3.6.4.13)\tSUBCELLULAR LOCATION: Nucleus, nucleolus {ECO:0000250}.\tFUNCTION: ATP-dependent RNA helicase required for ribosome biogenesis. Involved in the release of U14 snoRNA in pre-ribosomal complexes. Required for pre-rRNA cleavage at site A2 (By similarity). {ECO:0000250}.\n",
      "\n",
      "Entry\tOrganism\tProtein names\tSubcellular location [CC]\tFunction [CC]\n",
      "Q0UMB9\tPhaeosphaeria nodorum (strain SN15 / ATCC MYA-4574 / FGSC 10173) (Glume blotch fungus) (Parastagonospora nodorum)\tATP-dependent RNA helicase DBP4 (EC 3.6.4.13)\tSUBCELLULAR LOCATION: Nucleus, nucleolus {ECO:0000250}.\tFUNCTION: ATP-dependent RNA helicase required for ribosome biogenesis. Involved in the release of U14 snoRNA in pre-ribosomal complexes. Required for pre-rRNA cleavage at site A2 (By similarity). {ECO:0000250}.\n",
      "\n",
      "Entry\tOrganism\tProtein names\tSubcellular location [CC]\tFunction [CC]\n",
      "Q2UHB7\tAspergillus oryzae (strain ATCC 42149 / RIB 40) (Yellow koji mold)\tATP-dependent RNA helicase dbp4 (EC 3.6.4.13)\tSUBCELLULAR LOCATION: Nucleus, nucleolus {ECO:0000250}.\tFUNCTION: ATP-dependent RNA helicase required for ribosome biogenesis. Involved in the release of U14 snoRNA in pre-ribosomal complexes. Required for pre-rRNA cleavage at site A2 (By similarity). {ECO:0000250}.\n",
      "\n",
      "Entry\tOrganism\tProtein names\tSubcellular location [CC]\tFunction [CC]\n",
      "A2QS00\tAspergillus niger (strain CBS 513.88 / FGSC A1513)\tATP-dependent RNA helicase dbp4 (EC 3.6.4.13)\tSUBCELLULAR LOCATION: Nucleus, nucleolus {ECO:0000250}.\tFUNCTION: ATP-dependent RNA helicase required for ribosome biogenesis. Involved in the release of U14 snoRNA in pre-ribosomal complexes. Required for pre-rRNA cleavage at site A2 (By similarity). {ECO:0000250}.\n",
      "\n",
      "Entry\tOrganism\tProtein names\tSubcellular location [CC]\tFunction [CC]\n",
      "Q54Q94\tDictyostelium discoideum (Slime mold)\tProbable ATP-dependent RNA helicase ddx10 (EC 3.6.4.13) (DEAD box protein 10)\tSUBCELLULAR LOCATION: Nucleus, nucleolus {ECO:0000250}.\tFUNCTION: Probable ATP-dependent RNA helicase which may be involved in ribosome biogenesis. {ECO:0000250}.\n",
      "\n"
     ]
    }
   ],
   "source": [
    "file= open(\"blastp_files_ddx18.txt\", \"r\")\n",
    "fields=\"accession,organism_name,protein_name,cc_subcellular_location,cc_function\"\n",
    "WEBSITE_API=\"https://rest.uniprot.org\"\n",
    "with open('uniprot_result_CDS_filtered.txt', 'w',encoding='utf-8') as f:\n",
    "    for i in file:\n",
    "        r=get_url(\"{}/uniprotkb/search?query={} AND (reviewed:true)&fields={}&size=1&format=tsv\".format(WEBSITE_API,i, fields))\n",
    "        print(r.text)\n",
    "        f.write(r.text)\n",
    "        f.write('\\n')"
   ]
  },
  {
   "cell_type": "code",
   "execution_count": null,
   "id": "6f017152",
   "metadata": {},
   "outputs": [],
   "source": [
    "#if we choose to go to the net and download a swiss prot txt file\n",
    "handle=open(\"file.txt\")\n",
    "records=KeyWList.parse(handle)\n",
    "for record in records:\n",
    "    print(record[\"ID\"])"
   ]
  },
  {
   "cell_type": "code",
   "execution_count": null,
   "id": "f92799f9",
   "metadata": {},
   "outputs": [],
   "source": [
    "#in tuturorial we can explore prosite, maybe in the future"
   ]
  },
  {
   "cell_type": "markdown",
   "id": "0706b8b8",
   "metadata": {},
   "source": [
    "# Explore the 3D Strucuture"
   ]
  },
  {
   "cell_type": "markdown",
   "id": "ef6aa36e",
   "metadata": {},
   "source": [
    "## DDX18"
   ]
  },
  {
   "cell_type": "code",
   "execution_count": null,
   "id": "18e42025",
   "metadata": {},
   "outputs": [],
   "source": [
    "email= \"guilherme.lobo@ua.pt\"\n",
    "Entrez.email= email\n",
    "handle=Entrez.esearch(db = \"Structure\", term=\"ddx18\", retmax= \"20\")\n",
    "record=Entrez.read(handle)\n",
    "handle.close()\n",
    "print(record[\"IdList\"])\n",
    "#idlist= record['IdList']\n",
    "#print(record)\n",
    "#dir(record)\n",
    "handle = Entrez.efetch(db=\"Structure\", id=\"82027\", rettype=\"fasta\") \n",
    "records = handle.read()\n",
    "handle.close()\n",
    "records\n",
    "#Try to find the id or the identification to explore my protein in PDB"
   ]
  },
  {
   "cell_type": "code",
   "execution_count": null,
   "id": "2e9b299b",
   "metadata": {},
   "outputs": [],
   "source": [
    "#like we cant ind the id we go to the the web and choose the apropriate id- 3LY5\n",
    "from Bio.PDB import *\n",
    "pdb=PDBList()\n",
    "pdb.retrieve_pdb_file(\"3LY5\",pdir=\".\",file_format=\"pdb\")\n",
    "parser=PDBParser(PERMISSIVE=True,QUIET=True)\n",
    "data=parser.get_structure(\"3LY5\",\"pdb3LY5.ent\")\n",
    "print(data)"
   ]
  },
  {
   "cell_type": "code",
   "execution_count": null,
   "id": "9185e19c",
   "metadata": {},
   "outputs": [],
   "source": [
    "p = PDBParser()\n",
    "structure = p.get_structure('X', 'pdb3LY5.ent')\n",
    "for model in structure:\n",
    "    for chain in model:\n",
    "        for residue in chain:\n",
    "            for atom in residue:\n",
    "                print(atom)"
   ]
  },
  {
   "cell_type": "code",
   "execution_count": null,
   "id": "fee5e589",
   "metadata": {},
   "outputs": [],
   "source": [
    "residues = model.get_residues()\n",
    "for residue in residues:\n",
    "    print(residue)"
   ]
  },
  {
   "cell_type": "code",
   "execution_count": null,
   "id": "8e504619",
   "metadata": {},
   "outputs": [],
   "source": [
    "#some extra information maybe useless\n",
    "resolution = structure.header['resolution']\n",
    "print(resolution)\n",
    "structure_reference=structure.header[\"structure_method\"]\n",
    "print(structure_reference)\n",
    "#structure_method,name,head,deposition_date,release_date,journal_reference,author,compound"
   ]
  },
  {
   "cell_type": "markdown",
   "id": "8beb1bff",
   "metadata": {},
   "source": [
    "-the goal is print the 3d structure, bur for this we need pymol so:\n",
    "How can we install pymol or a package pymol??"
   ]
  },
  {
   "cell_type": "code",
   "execution_count": null,
   "id": "6e1fe3c3",
   "metadata": {},
   "outputs": [],
   "source": [
    "#tenho de importar o pymol\n",
    "from Bio.PDB import *\n",
    "from pymol import cmd\n",
    "def PDB(ID):\n",
    "    \"\"\"\"\n",
    "    ID: fornecer o ID da PDB\n",
    "    Return: A estrutura 3D da proteína\n",
    "    \"\"\"\n",
    "    pdbl = PDBList()\n",
    "    file = pdbl.retrieve_pdb_file(ID, pdir='.', file_format='pdb')\n",
    "    pymol.finish_launching()\n",
    "\n",
    "    pymol.cmd.load(file, ID)\n",
    "    pymol.cmd.disable(\"all\")\n",
    "    pymol.cmd.enable(ID)\n",
    "    pymol.cmd.orient()\n",
    "    pymol.cmd.zoom()\n",
    "    pymol.cmd.png(\"ORF3a_6XDC.png\", 3000, 3000, dpi=500, ray=1)\n",
    "\n",
    "    pymol.cmd.quit()\n",
    "PDB(\"3ly5\")"
   ]
  },
  {
   "cell_type": "markdown",
   "id": "e230f6cf",
   "metadata": {},
   "source": [
    "# Multiple Alignment and Phylogenies"
   ]
  },
  {
   "cell_type": "markdown",
   "id": "28281ed8",
   "metadata": {},
   "source": [
    "## DDX18"
   ]
  },
  {
   "cell_type": "code",
   "execution_count": null,
   "id": "f2b7949d",
   "metadata": {},
   "outputs": [],
   "source": [
    "from Bio.Blast import NCBIXML \n",
    "from Bio.Blast import NCBIWWW \n",
    "from Bio import SeqIO\n",
    "from Bio.SeqRecord import SeqRecord\n",
    "from Bio.Align import MultipleSeqAlignment\n",
    "from Bio.Seq import Seq\n",
    "from Bio import AlignIO"
   ]
  },
  {
   "cell_type": "code",
   "execution_count": null,
   "id": "a4c4d727",
   "metadata": {},
   "outputs": [],
   "source": [
    "result_handle=NCBIWWW.qblast(\"blastp\",\"nr\",seq_p_ddx18)#blast with the protein translate of my cds\n",
    "with open(\"blastp_ddx18.txt\",\"w\") as out_handle:\n",
    "    out_handle.write(result_handle.read())\n",
    "result_handle.close()"
   ]
  },
  {
   "cell_type": "code",
   "execution_count": null,
   "id": "ba031397",
   "metadata": {},
   "outputs": [],
   "source": [
    "Blast=open(\"blastp_ddx18.txt\")\n",
    "Blast_record=NCBIXML.read(Blast)\n",
    "for a in Blast_record.descriptions:\n",
    "    print()\n",
    "    print(a.accession)"
   ]
  },
  {
   "cell_type": "code",
   "execution_count": null,
   "id": "10868442",
   "metadata": {},
   "outputs": [],
   "source": [
    "from Bio.Blast import NCBIXML \n",
    "from Bio.Blast import NCBIWWW \n",
    "from Bio import SeqIO"
   ]
  },
  {
   "cell_type": "code",
   "execution_count": null,
   "id": "de6cada6",
   "metadata": {},
   "outputs": [],
   "source": [
    "record1 = SeqIO.parse(open(\"aa.txt\"), format=\"fasta\")\n",
    "record1"
   ]
  },
  {
   "cell_type": "code",
   "execution_count": null,
   "id": "6a87fa61",
   "metadata": {},
   "outputs": [],
   "source": [
    "from Bio.SeqRecord import SeqRecord\n",
    "from Bio.Align import MultipleSeqAlignment\n",
    "from Bio.Seq import Seq\n",
    "from Bio import AlignIO"
   ]
  },
  {
   "cell_type": "code",
   "execution_count": null,
   "id": "98cdae68",
   "metadata": {},
   "outputs": [],
   "source": [
    "seqs = []\n",
    "for seq in record1:\n",
    "    seqs.append(seq)\n",
    "\n",
    "alin1 = MultipleSeqAlignment(seqs)\n",
    "print(alin1)\n",
    "print(alin1.get_alignment_length())\n",
    "seqs"
   ]
  },
  {
   "cell_type": "code",
   "execution_count": null,
   "id": "04bf6e9d",
   "metadata": {},
   "outputs": [],
   "source": []
  },
  {
   "cell_type": "code",
   "execution_count": null,
   "id": "bba44c93",
   "metadata": {},
   "outputs": [],
   "source": []
  },
  {
   "cell_type": "code",
   "execution_count": null,
   "id": "2cc9fcee",
   "metadata": {},
   "outputs": [],
   "source": []
  },
  {
   "cell_type": "code",
   "execution_count": null,
   "id": "2dc1797f",
   "metadata": {},
   "outputs": [],
   "source": [
    "record = SeqIO.parse(open(\"blastp_file_ddx18.txt\"), format=\"fasta\")"
   ]
  },
  {
   "cell_type": "code",
   "execution_count": null,
   "id": "9713569f",
   "metadata": {},
   "outputs": [],
   "source": [
    "sequences = []\n",
    "for seq in record:\n",
    "    sequences.append(seq)\n",
    "\n",
    "alin = MultipleSeqAlignment(sequences)\n",
    "print(alin)\n",
    "print(alin.get_alignment_length())\n",
    "print(sequences)"
   ]
  },
  {
   "cell_type": "code",
   "execution_count": null,
   "id": "7affa730",
   "metadata": {},
   "outputs": [],
   "source": [
    "SeqIO.convert(\"blastp_file_ddx18.txt\", \"text\", \"blastp_file_ddx18.fasta\", \"fasta\") "
   ]
  },
  {
   "cell_type": "code",
   "execution_count": null,
   "id": "20930c3c",
   "metadata": {},
   "outputs": [],
   "source": []
  }
 ],
 "metadata": {
  "kernelspec": {
   "display_name": "Python 3 (ipykernel)",
   "language": "python",
   "name": "python3"
  },
  "language_info": {
   "codemirror_mode": {
    "name": "ipython",
    "version": 3
   },
   "file_extension": ".py",
   "mimetype": "text/x-python",
   "name": "python",
   "nbconvert_exporter": "python",
   "pygments_lexer": "ipython3",
   "version": "3.9.12"
  }
 },
 "nbformat": 4,
 "nbformat_minor": 5
}
