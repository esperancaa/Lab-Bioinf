{
 "cells": [
  {
   "cell_type": "code",
   "execution_count": 4,
   "id": "0c9892e7",
   "metadata": {},
   "outputs": [],
   "source": [
    "from Bio.Blast import NCBIXML \n",
    "from Bio.Blast import NCBIWWW\n",
    "import requests, sys, json\n",
    "import re\n",
    "from Bio import SeqIO\n",
    "from Bio import Entrez\n",
    "from Bio import Medline\n",
    "import pandas as pd\n",
    "import numpy as np\n",
    "from tqdm import tqdm\n",
    "from Bio import SearchIO\n",
    "from Bio.SwissProt import KeyWList\n",
    "from Bio import SwissProt\n",
    "from Bio import ExPASy\n",
    "from Bio.SeqRecord import SeqRecord\n",
    "from Bio.Align import MultipleSeqAlignment\n",
    "from Bio.Seq import Seq\n",
    "from Bio import AlignIO\n",
    "from Bio.Align.Applications import ClustalwCommandline\n",
    "from Bio.Align import AlignInfo\n",
    "from Bio.SeqFeature import SeqFeature, FeatureLocation\n",
    "from Bio.Phylo.TreeConstruction import DistanceCalculator\n",
    "from Bio.Phylo.TreeConstruction import DistanceTreeConstructor\n",
    "from Bio import Phylo"
   ]
  },
  {
   "cell_type": "markdown",
   "id": "2b51fb8a",
   "metadata": {},
   "source": [
    "# Analysis of the sequence and features present in the NCBI"
   ]
  },
  {
   "cell_type": "markdown",
   "id": "8688bd37",
   "metadata": {},
   "source": [
    "## DDX18"
   ]
  },
  {
   "cell_type": "code",
   "execution_count": 4,
   "id": "096ac21f",
   "metadata": {},
   "outputs": [
    {
     "name": "stdout",
     "output_type": "stream",
     "text": [
      "NM_006773.4 Homo sapiens DEAD-box helicase 18 (DDX18), mRNA\n",
      "AC009312.4 Homo sapiens BAC clone RP11-425F6 from 2, complete sequence\n",
      "AC009404.5 Homo sapiens BAC clone RP11-28H22 from 2, complete sequence\n",
      "CM000253.1 Homo sapiens chromosome 2, whole genome shotgun sequence\n",
      "CH471103.1 Homo sapiens 211000035839809 genomic scaffold, whole genome shotgun sequence\n",
      "DQ655976.2 Homo sapiens clone Affy08254D01, mRNA sequence\n",
      "DQ655975.2 Homo sapiens clone Affy08248B12, mRNA sequence\n",
      "NT_086328.2 Homo sapiens chromosome 2 sequence, ENCODE region ENr121\n"
     ]
    }
   ],
   "source": [
    "database =\"nucleotide\"\n",
    "word = \"ddx18 and homo sapiens and Chromosome 2 and not predicted and not unverified\"\n",
    "res= \"30\"\n",
    "Entrez.email=\"guilherme.lobo@ua.pt\"\n",
    "handle=Entrez.esearch(db = database, term=word, retmax= res)\n",
    "record=Entrez.read(handle)\n",
    "handle.close()\n",
    "idlist= record['IdList']\n",
    "\n",
    "handle = Entrez.efetch(db=database, id=idlist, rettype=\"gb\") \n",
    "records = list(SeqIO.parse(handle,\"gb\"))\n",
    "handle.close()\n",
    "for x in records:\n",
    "    print(x.id,x.description)"
   ]
  },
  {
   "cell_type": "markdown",
   "id": "d40aa105",
   "metadata": {},
   "source": [
    "Taking into account the description given, we think that the id (**\"NM_006773.4\"**) would be the most appropriate and, as such, will be used from now on."
   ]
  },
  {
   "cell_type": "code",
   "execution_count": 5,
   "id": "bb692017",
   "metadata": {},
   "outputs": [
    {
     "name": "stdout",
     "output_type": "stream",
     "text": [
      "Record sequence length:  3753\n",
      "Record features count:  27\n",
      "Nuclleotide sequence: ACGTGCGGCCGGAAGGGAAGTAACGTCAGCCTGAGAACTGAGTAGCTGTACTGTGTGGCGCCTTATTCTAGGCACTTGTTGGGCAGAATGTCACACCTGCCGATGAAACTCCTGCGTAAGAAGATCGAGAAGCGGAACCTCAAATTGCGGCAGCGGAACCTAAAGTTTCAGGGGGCCTCAAATCTGACCCTATCGGAAACTCAAAATGGAGATGTATCTGAAGAAACAATGGGAAGTAGAAAGGTTAAAAAATCAAAACAAAAGCCCATGAATGTGGGCTTATCAGAAACTCAAAATGGAGGCATGTCTCAAGAAGCAGTGGGAAATATAAAAGTTACAAAGTCTCCCCAGAAATCCACTGTATTAACCAATGGAGAAGCAGCAATGCAGTCTTCCAATTCAGAATCAAAAAAGAAAAAGAAGAAAAAGAGAAAAATGGTGAATGATGCTGAGCCTGATACGAAAAAAGCAAAAACTGAAAACAAAGGGAAATCTGAAGAAGAAAGTGCCGAGACTACTAAAGAAACAGAAAATAATGTGGAGAAGCCAGATAATGATGAAGATGAGAGTGAGGTGCCCAGTCTGCCCCTGGGACTGACAGGAGCTTTTGAGGATACTTCGTTTGCTTCTCTATGTAATCTTGTCAATGAAAACACTCTGAAGGCAATAAAAGAAATGGGTTTTACAAACATGACTGAAATTCAGCATAAAAGTATCAGACCACTTCTGGAAGGCAGGGATCTTCTAGCAGCTGCAAAAACAGGCAGTGGTAAAACCCTGGCTTTTCTCATCCCTGCAGTTGAACTCATTGTTAAGTTAAGGTTCATGCCCAGGAATGGAACAGGAGTCCTTATTCTCTCACCTACTAGAGAACTAGCCATGCAAACCTTTGGTGTTCTTAAGGAGCTGATGACTCACCACGTGCATACCTATGGCTTGATAATGGGTGGCAGTAACAGATCTGCTGAAGCACAGAAACTTGGTAATGGGATCAACATCATTGTGGCCACACCAGGCCGTCTGCTGGACCATATGCAGAATACCCCAGGATTTATGTATAAAAACCTGCAGTGTCTGGTTATTGATGAAGCTGATCGTATCTTGGATGTGGGGTTTGAAGAGGAATTAAAGCAAATTATTAAACTTTTGCCAACACGTAGACAGACTATGCTCTTTTCTGCCACCCAAACTCGAAAAGTTGAAGACCTGGCAAGGATTTCTCTGAAAAAGGAGCCATTGTATGTTGGCGTTGATGATGATAAAGCGAATGCAACAGTGGATGGTCTTGAACAGGGATATGTTGTTTGTCCTTCTGAAAAGAGATTCCTTCTGCTCTTTACATTCCTTAAGAAGAACCGAAAGAAGAAGCTTATGGTCTTCTTTTCATCTTGTATGTCTGTGAAATACCACTATGAGTTGCTGAACTACATTGATTTGCCCGTCTTGGCCATTCATGGAAAGCAAAAGCAAAATAAGCGTACAACCACATTCTTCCAGTTCTGCAATGCAGATTCGGGAACACTATTGTGTACGGATGTGGCAGCGAGAGGACTAGACATTCCTGAAGTCGACTGGATTGTTCAGTATGACCCTCCGGATGACCCTAAGGAATATATTCATCGTGTGGGTAGAACAGCCAGAGGCCTAAATGGGAGAGGGCATGCCTTGCTCATTTTGCGCCCAGAAGAATTGGGTTTTCTTCGCTACTTGAAACAATCCAAGGTTCCATTAAGTGAATTTGACTTTTCCTGGTCTAAAATTTCTGACATTCAGTCTCAGCTTGAGAAATTGATTGAAAAGAATTACTTTCTTCATAAGTCAGCCCAGGAAGCATATAAGTCATACATACGAGCCTATGATTCCCATTCTCTGAAACAGATCTTTAATGTTAATAACCTAAATTTGCCTCAGGTTGCTCTGTCATTTGGTTTCAAGGTGCCTCCCTTCGTTGATCTGAACGTCAACAGTAATGAAGGCAAGCAGAAAAAGCGAGGAGGTGGTGGTGGATTTGGCTACCAGAAAACCAAGAAAGTTGAGAAATCCAAAATCTTTAAACACATTAGCAAGAAATCATCTGACAGCAGGCAGTTCTCTCACTGAACACATGCCTTCCTTTCATCTTGAATAACTTTGTCCTAAAATGAATTTTTTTTCCCCTTGATTTAACAGGATTTTTGTAGACTTTAGAATTTGGACTTACCTAACAAGAGTATAAATTGACTTGGGTTGCAAGCACTGAGCACTGTTACTTCTATCACGTCTCTCTTTTATTTCTGGGATATAAAACAGGCTTTAAGTTTCTTGGTTGCCCAAGGGCAGAGCAAGGAATATCTGGTGTTTCTTGTGATGATAATATTTTAATTTTAAATATCCCTCCCTCATACAAGTGTATGTTACCATTTTAATATAATTCTTTTTGTACCTTTCCTTCTTGTTTTGCGAAGATTTTTGTGGCATGGATTGCTGTGCTCACTGCTGTAAAAGGTGACCTAGTGTACTGGGCAGCTGGTGGCGGTGCAGAAAAGAGTCTCAGGTTATTTTTTGTTTTTAGTTATTTCTTGGACCTTGACAGTATCTAATGACTCCTCCTGAAAATGCTGCAGTATAAAAGAGCAAAGAGCTTTGGGAAATACCTAAGAAGCACCTTAAGATTAGGGTGGCATTGCTTTTATAGATTCTTGATTTTAAAGCAACAGGCCTTTCTCAGGTGTTGCATTTTTTGGAGCAAAAACTATGGGTTGTAATTTGAATAAAGTGTCACTAAGCAGTTATAACGTTTGATGGCTGGGGGGTAGGAAGAGGATGGAATTGAGATGTTTGAGCCTCATTTACATCAATAGAGGTGTAATGTACTGCATTTCTTCATTTGGTAACATAACAAAGACTTTCATACAAAGAACGATGATGCTCCTCATTAAGATTTGTTTAATTCAAGGTGGTTTGGATTTGGTAAGCCTTTGCACTCTGTAGAGTACTTAGAAGACAAGGGCAACTTACTTGGAGTTAGAGCCAAGCTGTCAGACGGTGCCCAGCACACATTAATGTTAGCTTCTTTCTGAGAAAAAAATACCTCTTCCAGGCCCTGAAACAAAAAATACATTTGCTGTGAAGATTGAAAATGAACAAAGTTAGAAAAAAAAACAGCAAAATCAGTGATTTAGTCAGATGAGTTTTTCGTTGTAGGAGCACTTGATTTCTAGTGTGTTTTGTACAGTATATAACTACAAGATAGTACATTTTGTAGCAGTTCAAAGCCAAAGTTGCTAGCATCATTTTGCTGTTGTGCCAGTTAATCATAGGATCCCATTAAATAAGTGTGCTAACATCGAATATAGAGAAAACTGGTAAAGAACATTCCAGTAGGAAAAGAAAAGAACAATCTTCCATTTCTGGGCTTGGCCACCATCACCCTGGTCGGACCTGTCCTGGACTTCCAACCTTGACTGCTGAGCTCCTGGCTTAGCTTCTTGGGTTCCTAATTCCTGGTGTTTAATAATTCTCTCCACGATCATGTTTTTCTGATTTTTTTTTTCAGAAATAATGTTTTTTAAAAGACAAAAACAAAGGGAAGAATATTTAATTACTGAGCAGAAGTAAATACTGTTGGCATTTTGTACATAATCTAATTTTTATATGCATGTTCATGCTTTTTAATTTTTTTATCAAAAATTAAGTCATCTACCTACTACTTGTAACCAGCTTGTTTCATAACATGTTATTTTCCTGTGTCATTAAATAATTACTTCAATGTTG\n",
      "ddx18 gene synonyms: ['Has1; MrDb']\n",
      "name: ['ATP-dependent RNA helicase DDX18']\n",
      "Protein sequence: ['MSHLPMKLLRKKIEKRNLKLRQRNLKFQGASNLTLSETQNGDVSEETMGSRKVKKSKQKPMNVGLSETQNGGMSQEAVGNIKVTKSPQKSTVLTNGEAAMQSSNSESKKKKKKKRKMVNDAEPDTKKAKTENKGKSEEESAETTKETENNVEKPDNDEDESEVPSLPLGLTGAFEDTSFASLCNLVNENTLKAIKEMGFTNMTEIQHKSIRPLLEGRDLLAAAKTGSGKTLAFLIPAVELIVKLRFMPRNGTGVLILSPTRELAMQTFGVLKELMTHHVHTYGLIMGGSNRSAEAQKLGNGINIIVATPGRLLDHMQNTPGFMYKNLQCLVIDEADRILDVGFEEELKQIIKLLPTRRQTMLFSATQTRKVEDLARISLKKEPLYVGVDDDKANATVDGLEQGYVVCPSEKRFLLLFTFLKKNRKKKLMVFFSSCMSVKYHYELLNYIDLPVLAIHGKQKQNKRTTTFFQFCNADSGTLLCTDVAARGLDIPEVDWIVQYDPPDDPKEYIHRVGRTARGLNGRGHALLILRPEELGFLRYLKQSKVPLSEFDFSWSKISDIQSQLEKLIEKNYFLHKSAQEAYKSYIRAYDSHSLKQIFNVNNLNLPQVALSFGFKVPPFVDLNVNSNEGKQKKRGGGGGFGYQKTKKVEKSKIFKHISKKSSDSRQFSH']\n",
      "Location: [0:3753](+)\n",
      "Strand: 1\n",
      "Gene: ['DDX18']\n"
     ]
    }
   ],
   "source": [
    "with open(\"nucleotide_ddx18.fasta\",\"w\") as f: \n",
    "    for rec in records:\n",
    "        #print(rec)\n",
    "        if rec.id == \"NM_006773.4\":\n",
    "            print(\"Record sequence length: \", len(rec.seq))\n",
    "            print(\"Record features count: \", len(rec.features))\n",
    "            sequence_nucleotide_DDX18=rec.seq\n",
    "            print( \"Nuclleotide sequence:\", str(rec.seq)) #useful for blastn\n",
    "            f.write(f\">{rec.id}\\n{sequence_nucleotide_DDX18}\\n\\n\") # only the sequence in the file\n",
    "        \n",
    "            cds = []\n",
    "            for i,feature in enumerate(rec.features):\n",
    "                if feature.type==\"CDS\":\n",
    "                    cds.append(i)\n",
    "                    for k in cds:\n",
    "                        print(\"ddx18 gene synonyms:\",rec.features[k].qualifiers[\"gene_synonym\"])#can help latter in the search\n",
    "                        print(\"name:\",rec.features[k].qualifiers[\"product\"])\n",
    "                        protein_ID=rec.features[k].qualifiers[\"protein_id\"]\n",
    "                        sequence_protein=rec.features[k].qualifiers[\"translation\"]#get the protein seq of my cds\n",
    "                        print(\"Protein sequence:\",sequence_protein)\n",
    "            gene = []\n",
    "            for j in range(len(rec.features)):\n",
    "                if rec.features[j].type == \"gene\":\n",
    "                    gene.append(j)\n",
    "                    for g in gene:\n",
    "                        print(\"Location:\",rec.features[g].location)\n",
    "                        print(\"Strand:\",rec.features[g].location.strand)\n",
    "                        print(\"Gene:\",rec.features[g].qualifiers[\"gene\"])\n",
    "#the real important thing is the nucleotide sequence  and the protein sequence of cds"
   ]
  },
  {
   "cell_type": "code",
   "execution_count": 92,
   "id": "fc28decd",
   "metadata": {},
   "outputs": [],
   "source": [
    "#The correspondent information of NM_006773.4 was downloaded to a file\n",
    "import os\n",
    "Entrez.email = \"guilherme.lobo@ua.pt\"\n",
    "filename = \"NM_006773.4.gb\"\n",
    "if not os.path.isfile(filename):\n",
    "    net_handle = Entrez.efetch(db=\"nucleotide\", id=\"NM_006773.4\", rettype=\"gb\", retmode=\"text\")\n",
    "    out_handle = open(filename, \"w\")\n",
    "    out_handle.write(net_handle.read())\n",
    "    out_handle.close()\n",
    "    net_handle.close()"
   ]
  },
  {
   "cell_type": "code",
   "execution_count": 6,
   "id": "78408491",
   "metadata": {},
   "outputs": [
    {
     "name": "stdout",
     "output_type": "stream",
     "text": [
      "The length of the sequence: 3753\n",
      "\n",
      "Type of features: {'source': 1, 'gene': 1, 'exon': 14, 'misc_feature': 4, 'CDS': 1, 'regulatory': 3, 'polyA_site': 3}\n",
      "\n",
      "Location of the CDS on the original sequence: [87:2100](+)\n"
     ]
    }
   ],
   "source": [
    "record = SeqIO.read(open(\"NM_006773.4.gb\"), format=\"genbank\")\n",
    "position=0\n",
    "record_types={}\n",
    "for x in record.features:\n",
    "    record_types[x.type]=record_types.get(x.type,0)+1\n",
    "for i in range(len(record.features)):\n",
    "    if record.features[i].type == \"CDS\":\n",
    "        position=i\n",
    "print(\"The length of the sequence: {}\\n\".format(len(record.seq)))\n",
    "print(\"Type of features: {}\\n\".format(record_types))\n",
    "#print(\"Comment from NCBI: {}\\n\".format(record.annotations[\"comment\"]))\n",
    "print(\"Location of the CDS on the original sequence: {}\".format(record.features[position].location))"
   ]
  },
  {
   "cell_type": "code",
   "execution_count": 7,
   "id": "a9cd6e6f",
   "metadata": {},
   "outputs": [],
   "source": [
    "CDS_nuc_seq=record.seq[int(record.features[position].location.start):int(record.features[position].location.end)]"
   ]
  },
  {
   "cell_type": "code",
   "execution_count": 8,
   "id": "3e9d6d60",
   "metadata": {},
   "outputs": [],
   "source": [
    "#saving the CDS_nucleotides and CD_aminoacid seqs in files\n",
    "filename = \"NM_006773.4.gb\"\n",
    "filename_CDS_nucl = \"CDS_nucleot_DDX18_seq.fasta\"\n",
    "filename_CDS_prot = \"CDS_prot_DDX18_seq.fasta\"\n",
    "input_handle  = open(filename, \"r\")\n",
    "output_handle_nucl = open(filename_CDS_nucl, \"w\")\n",
    "output_handle_prot = open(filename_CDS_prot, \"w\")\n",
    "for seq_record in SeqIO.parse(input_handle, \"genbank\") :\n",
    "    output_handle_nucl.write(\">\\n%s\" % (CDS_nuc_seq))\n",
    "    output_handle_prot.write(\">\\n%s\" % (\"\".join(record.features[position].qualifiers['translation']))) #without join, output is a list\n",
    "    \n",
    "output_handle_prot.close()\n",
    "output_handle_nucl.close()\n",
    "input_handle.close()"
   ]
  }
 ],
 "metadata": {
  "kernelspec": {
   "display_name": "Python 3 (ipykernel)",
   "language": "python",
   "name": "python3"
  },
  "language_info": {
   "codemirror_mode": {
    "name": "ipython",
    "version": 3
   },
   "file_extension": ".py",
   "mimetype": "text/x-python",
   "name": "python",
   "nbconvert_exporter": "python",
   "pygments_lexer": "ipython3",
   "version": "3.9.12"
  }
 },
 "nbformat": 4,
 "nbformat_minor": 5
}
