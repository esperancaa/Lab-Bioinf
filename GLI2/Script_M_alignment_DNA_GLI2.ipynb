{
 "cells": [
  {
   "cell_type": "code",
   "execution_count": 2,
   "id": "84c43c79",
   "metadata": {},
   "outputs": [],
   "source": [
    "from Bio.SeqRecord import SeqRecord\n",
    "from Bio.Align import MultipleSeqAlignment\n",
    "from Bio.Seq import Seq\n",
    "from Bio import AlignIO\n",
    "from Bio.Blast import NCBIXML \n",
    "from Bio.Blast import NCBIWWW \n",
    "from Bio import SeqIO\n",
    "from Bio.Align import AlignInfo\n",
    "from Bio.SeqFeature import SeqFeature, FeatureLocation"
   ]
  },
  {
   "cell_type": "code",
   "execution_count": 30,
   "id": "f6ca99c9",
   "metadata": {},
   "outputs": [
    {
     "name": "stdout",
     "output_type": "stream",
     "text": [
      "Alignment with 316 rows and 50 columns\n",
      "TTGATCCATTTGGAGTTAATTTTTTTTTTTTTTGAGACAGAGTCTCCCTC gi|2301838502|ref|NG_009030.2|\n",
      "TTAATTTTTTT-TTTTTTTGAGACAGAGTCTCCCTCTGTCACCCAGGCTA gi|2301838502|ref|NG_009030.2|\n",
      "TTTTTTTTTTTTTGAGACAGAGTCTCCCTCTGTCACCCAGGCTAGAGTGC gi|2301838502|ref|NG_009030.2|\n",
      "TTTTTTTTTTTTTGAGACAGAGTCTCCCTCTGTCACCCAGGCTAGAGTGC gi|2301838502|ref|NG_009030.2|\n",
      "TTTTTTTTTTTGAGACAGAGTCTCCCTCTGTCACCCAGGCTAGAGTGCAA gi|2301838502|ref|NG_009030.2|\n",
      "TTTTTTTTTTTTTTGAGACAGAGTCTCCCTCTGTCACCCAGGCTAGAGTG gi|2301838502|ref|NG_009030.2|\n",
      "TTTTTTTTTTTTTTGAGACAGAGTCTCCCTCTGTCACCCAGGCTAGAGTG gi|2301838502|ref|NG_009030.2|\n",
      "TTAATTTTTTTTTTTTTTGAGACAGAGTCTCCCTCTGTCACCCAGGCTAG gi|2301838502|ref|NG_009030.2|\n",
      "TTTTTTTTTTTTTTGAGACAGAGTCTCCCTCTGTCACCCAGGCTAGAGTG gi|2301838502|ref|NG_009030.2|\n",
      "TTTTTTTTTGAGACAGAGTCTCCCTCTGTCACCCAGGCTAGAGTGCAATA gi|2301838502|ref|NG_009030.2|\n",
      "TTTTTTTTTTTTTGAGACAGAGTCTCCCTCTGTCACCCAGGCTAGAGTGC gi|2301838502|ref|NG_009030.2|\n",
      "TTTTTTTTTTTTTGAGACAGAGTCTCCCTCTGTCACCCAGGCTAGAGTGC gi|2301838502|ref|NG_009030.2|\n",
      "TTTTTTTTTTTTTTGAGACAGAGTCTCCCTCTGTCACCCAGGCTAGAGTG gi|2301838502|ref|NG_009030.2|\n",
      "TTTTTTTTTTTGAGACAGAGTCTCCCTCTGTCACCCAGGCTAGAGTGCAA gi|2301838502|ref|NG_009030.2|\n",
      "TTTTTTTTTTTTTTGAGACAGAGTCTCCCTCTGTCACCCAGGCTAGAGTG gi|2301838502|ref|NG_009030.2|\n",
      "TTTTTTTTTTTTTTGAGACAGAGTCT--CCCTCTGTCACCCAGGCTAGAG gi|2301838502|ref|NG_009030.2|\n",
      "TTTTTTTTTTTTTTGAGACAGAGTCTCCCTCTGTCACCCAGGCTAGAGTG gi|2301838502|ref|NG_009030.2|\n",
      "TTTTTTTTTTTTTTGAGACAGAGTCTCCCTCT-GTCACCCAGGCTAGAGT gi|2301838502|ref|NG_009030.2|\n",
      "...\n",
      "GTTCGAGGGCTGCTCGAAGGCCTACTCCCGCCTGGAGAACCTGAAGACAC gi|2161824568|ref|XM_045366942.1|\n"
     ]
    }
   ],
   "source": [
    "alignments = AlignIO.parse(\"BLAST_DNA_GLI2.fasta\", \"fasta\") \n",
    "for alignment in alignments: \n",
    "    print (alignment)\n"
   ]
  },
  {
   "cell_type": "code",
   "execution_count": null,
   "id": "1133a480",
   "metadata": {},
   "outputs": [],
   "source": []
  }
 ],
 "metadata": {
  "kernelspec": {
   "display_name": "Python 3 (ipykernel)",
   "language": "python",
   "name": "python3"
  },
  "language_info": {
   "codemirror_mode": {
    "name": "ipython",
    "version": 3
   },
   "file_extension": ".py",
   "mimetype": "text/x-python",
   "name": "python",
   "nbconvert_exporter": "python",
   "pygments_lexer": "ipython3",
   "version": "3.9.12"
  }
 },
 "nbformat": 4,
 "nbformat_minor": 5
}
