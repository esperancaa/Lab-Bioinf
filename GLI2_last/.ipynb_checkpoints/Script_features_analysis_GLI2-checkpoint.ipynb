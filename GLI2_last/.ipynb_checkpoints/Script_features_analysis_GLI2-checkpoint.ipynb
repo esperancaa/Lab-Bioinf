{
 "cells": [
  {
   "cell_type": "code",
   "execution_count": 1,
   "id": "74aad21e",
   "metadata": {},
   "outputs": [],
   "source": [
    "from Bio.Blast import NCBIXML \n",
    "from Bio.Blast import NCBIWWW \n",
    "from Bio import SeqIO\n",
    "from Bio.SeqRecord import SeqRecord\n",
    "from Bio import SeqFeature\n",
    "from Bio.Seq import Seq"
   ]
  },
  {
   "cell_type": "code",
   "execution_count": 2,
   "id": "02bb045b",
   "metadata": {},
   "outputs": [],
   "source": [
    "record = SeqIO.read(open(\"10001bp_sequence_GLI2.gb\"), format=\"genbank\") \n"
   ]
  },
  {
   "cell_type": "code",
   "execution_count": 3,
   "id": "4533a517",
   "metadata": {},
   "outputs": [
    {
     "name": "stdout",
     "output_type": "stream",
     "text": [
      "TTGATCCATTTGGAGTTAATTTTTTTTTTTTTTGAGACAGAGTCTCCCTCTGTCACCCAGGCTAGAGTGCAATAGTGCCATCTTGGCTCACTGCAACATCCGCATCCCAGGTTCAAGCGACTCTCCTGCCTCAGCCTCCGGAGTAGCTGGGATTACAGGCACGCACCACACGCCTGGCTAATTTTTTGTATTTTTAGTAGAGACGGGGTTTCACCATGATGGCCAGGCTGGTCTTGAACTCCTAACCTCAGGTGATCCCCCTGCCTCAGCCTCCCAAAGTGCTAGGATTACAGGCGTGAGCCACCACGCCCAGGCTGGAGTTAATCTTTGTACATGGTATGAGGTAGGGATCCAAACTTACTCTTTTGCATGTGATTACGCAGTTGTCTGAGTCCATTTGCTGAAAAATTGTTCTTTCCATTTGAATGGTCTTGGTATCCTTGTCAAAAATCAATTGACCTTAAGTGTCTGGGTTTCTTTCTGAACTGCCAGTTATATTGCCTGGATCTCTATGTCTCTCTTTATGTCAGTACCACATGCAGTCTTTATTACTGTCAATTTGTAGGAAGTAAATTGGGGCATATGAGTTCTCCAAATTTGTCCTCCTTTTGCAAGATGGTTCTGGCTCTTCAGGGTTCATTGCAACAAGTTATTTTCTTAACATCCTCAGTAGTGGCAAACCATAGCCCTTTGATGATATGAGCTGTGAGTTGTGGAAACAGATAAAAGGCGTTTGGAGCCAAGCATGCTCAATCAGACTGGTCAGGAATAAAGGGGAGGATGGGAGGAATGAGACAGCTCCTGCCGGGTGTACGTGTCCTCCTGAGGGCGGTTTTCATACATCCATTCAATGCAACCACAGTATCTTTGGAATAGCTGCAGAGCTTCCTGCAATGATCTCTTCTTTCTCCCCTTCCTCCCTTCTTCCCTCTCTCCCCACCTCCTTTCCTTCCTTCCTCTCTCCCTTGCTCCCTCCTTTCCTCCTTCCGTCCTTTCCAAAAATGTTTCTTGAGTGCCTAGATGCTAAATATTAGGAAGACAGCAATGAACAAGACAGAAGATTCCTGCTCTATGGAGCTGGTATTCTAGTAAGAAGGCTGGGTAACAAAATGATTAAGATCATTATAAATCGAGCCAAGGGGTATAAAGGAGAGAGGATAGAGTGTTGTGATTGAGAATATCAGAAAAATGCTCTCAGAGGAGATGACCTAAAAGATTGAGAGGGAGGGACCTGGGCCAGGAACCGGATTGGGTGGGGGCTGCAGAAGTTTCCAGCCAGAGGGGTCGGTAGTATGCAGAGGCCCCAAGCCAGAAAGAACTTAGTGGAGTCAAAGAACTGAAAGGAGACCAGCATGTCCAAAGTGAAGATGAGGGTGGCCGACTCACTCAAGGACTTGAAGGACTGAATTTTATTCTCAGCATGTTTTAGAGCACAGGACAATTCTAACCGAGAGTGGTACTGGGAAACAGTTCAAAGTCATAGTTTAGAGTTTAATGATATGGGAATATGCTGCTGATTTAAAAAAATAGAGTATGTAACTGAATACTTGACATGTTCCCAATTTTGGTTTTAAAGACATGTGGAGATGAATTGCAGACTCACCAGAATGAAACTTACCTGCGTGTCAGCAGTAGCAGCCCCTGGGCGACCGGTGGTTTTCATTTTTCTCTTTGTACCTTTCAGCCCTTTCCATGTTTTCAGGAAAGGAAAGTAATATCCTTAAAATGCATGCTTCTGAGTGCGCTGACGGGTTGGAGCAGAGCAGAGAAGGGGGTGGGGAGGAAGCAGCAGCCGGCCTCAAGGTTGGGCCCCCTGGGGTGCCTTGACTGACTGAACCGCCTCCTTCTAGTTCGAGGGCTGCTCGAAGGCCTACTCCCGCCTGGAGAACCTGAAGACACACCTGCGGTCCCACACCGGGGAGAAGCCATATGTGTGTGAGCACGAGGGCTGCAACAAAGCCTTCTCCAACGCCTCGGACCGCGCCAAGCACCAGAATCGCACCCACTCCAACGAGGTACCTCTGCGGGGCATGCACTGGGCATGCACACTGGGGCCCCACTGACGCCCCATGGCTTCCAGGCATCTGTAGTCCAGTAGATAGCCAGGTGCCCCATGTCCCGCCCCCGCCACTGACCAGCTATACATCCTCAGATACAGACCAGGACTCTTTGAGACCTAGACAGACCGGTCTCTTTCTCTATGCCACATCCTTTCCTCTAAAAGATGCCCCGTGAGGTCCCATGGCATACTGACCCTCTCTGTGCCTCAATTTCCTTATCTCCATAATAAATATAATAGTGCCCTCCCCAAAGGCCATCATGAGGTCCTCGAGAGTTGAAGTTGAAGCAGGGAAGTGGCCCTTCTGATCTCGGAGTGTTTAACATGCATCTGCTCCCTATTACTTGGGGCTGCTGGGTGGGCTCTGCCTCCCCATCCTCTAGATGAGGAAACGAAGACTCAGAGATGAAGTGACTTTCCCCAGTGCCAGAGCAGTGATGATCCCTCTGCAGCTGTGAAAACATCCTGGGTCACTGCTCCCCACCCCCAAATTCCCTTTCCACCACAAGCAGGTGTTCCACTGGGGAGCAGCTGCCCCACTGCCTGAGGGAAGCAGAGCAGTGCTGTCTGAGCTTGGCGTTTGTTGGTAGCCCCCTGGCCTGTTGGCTTGGGCAGCCAGCAGTGACATGCTCCAGCTGTTAGCGCTGCCTGGGCCTGCCGTGGCTGTCAGCCCCAGCAGATGGGGCACAGAGCAGCCTCTGTCTCCCTGGGTAGGCAGAGCCCCTATCTGGGCTGAGAGAACCAGGGAGAAAGCAGGGCAAGAGCCGGTGGCATCCTGGCCCAGCCACACAATTACTGTCGCTCAGGCTTACTCGGAAATGTATGTTTTTAAAAGCTTAGACATATCCTGGACCCCAAAGGGACTTTGCTCCAATGCTTGTAAGAAGTTAGAGGAATTTTCAAAGGCATCTGAACCCCTCAGAGTCTCTATGGACAAGAGCCAGCCTTAGAGGGGAGTGTGTGTGCACATGTGTGTATGTGTGTTTGTAAGTGTATGTTTTTCTGTAGACGTGGTGTGTGGGGTGTGTGTGTGTGTGTGTGTGTGTGTGTGTGTGCATGTTTATGAGTCCAGGACTGAGGTTCGGAAATCCTGGGTTTTTTCACCCCATTACTGGATGACTTGGAACCTGTTCCTTTGCCTCCCTGATCCTGCCTTTCTTCATCAGAGAAATCAGGGGTGCTAGTGCTGTCAGAGGGTACACTGAGCTCGTACACTTGCTACTAGTACTAAAAACCCCACTGCCCTGTTCATTGAGAGGCAGCATTGTGATTACACGAGGCACATGTGTCCCCAGCTTCTTGTGGCAGGACCCCCCGTGGCCGTGTGCTTAACTGCATGAACAGGTGCAGACAAGCCAGGCTATGGCCAGGCTCCTGCATGGTGCCATCCACAGAGCACTGGCTGCAAATTTGACACAGCACCTACTGACGTTGCCAGCTGGGCTCTGCTGAGGGGCGTGGGTAGCTTCAGGAGAACAGGGAGAGCGCCCCTTCAGAGTTGATCCTCGTACCCCTATCCATGACACAGGCCTGCTTCTCTCCCCAGAAACCCTACATCTGCAAGATCCCAGGCTGCACCAAGAGATACACAGACCCCAGCTCTCTCCGGAAGCATGTGAAAACGGTCCACGGCCCAGATGCCCACGTCACCAAGAAGCAGCGCAATGACGTGCACCTCCGCACACCGCTGCTCAAAGAGAATGGGGACAGTGAGGCCGGCACGGAGCCTGGCGGCCCAGAGAGCACCGAGGCCAGCAGCACCAGCCAGGCCGTGGAGGACTGCCTGCACGTCAGAGCCATCAAGACCGAGAGCTCCGGGGTAAGCGGAGCTGGGCAGCCCAGCCACGCAAGGCGACTCCATAGCCGTGCCCAGGGCCACCCCTTGCCACGGTTGCGGGCTCTGCCCTAAGGCCCCCCTCTAGGGGCACAGCGATATCCCTCCTCTCTCCAACTTGGCTTTCCCCCTTCACCACCTTGGGCCTCACATGGAACCTATCTTGTCCAGGTCCCATTCTGCTCTGACCAGGCTCCTGCTGGGTGTGTGGCAGCACGCTGGGTGACAGGGATGCCGCCCTGTACGGTGGGCCTGCACAGGGCGGGGGTGGCCCCTGCAAGTCTGCCTTTCCAGCCAGCACCCAAGTGCCACTGCCAGCCCCCACTCCTCTGTCCTGTCTCTGCATCCCCACCCCTCTGGCGTCCACTCCTTTTGTTCTAACCACCTGTTCTTTGTCTCCATCTCTTTTTCCTGACTGTACCTCCCCTAAGGATAGACGGTACTGAGGTGAGCCAAGGAGCTGGGCATGTGTGGGTGGGCTGGGGGAGTGAGGGTGGCTGGGGAGCCGGTCCATGCTGCTGCCTGGCAGAGACTCACCTGTCAGTCTAGGCCTCCTAGGCCCAGGCAGGTGGGCCCGGACAGGCACACGGCAGGGCACTGCAGGTGGGGCCATTGGCCTTGGCAGCCGGAGTGGAACTGGCAGGTGTGGGGAGCAGGGGCGCCAGGCTGTATCAGGGACAGAGTGACAGGGAGGCATGCGTCTAGGCTACAGAAGGTCCTGAGGGTCAAACAGAAAAATGTGGGTGGCGCCATGGACAACACCTAGAAGGTCCCTGCTCCCATTAAGCCTGTGTCCTCATGGGAAGGAAGATCATGCCTTCCCAAGAAAGCTGGAATTTGGGGCCATTTGGCCTAACAATGAGCCCAGAGGTGGTGGTGCATCTGGTGCAAGCCTCATCTGGGCCCAGATCCGAGTTCTGTGGATGTCGTCCGAGTGGATGTTGTCCGAGTTCTGTGGCATTCTGCACTGTGTACATGTGCCATGAGCTCCCTGCCCCACTCTACCTAACCCAGAGGGAAGACTGTTTTGGGGTGGCCCTTTACACAAGGGCTGCATCCCACAGGTCCCCCTCCTGGTCATCCTTTCCCTTTCCCACAACCTGCCCCTGGCCTTTTGAGATCATCCTGTCTGGTTGAAGCCACCAAGTCAGCAGGCTTCATTCCTCACCTCATCAGGGTACATGGCTGTTGGTGGGAGTGTTTAAGTGCCTTCCTTTGTGCCATACTGGGTGCCTTCTGCACGCTGCGTGCTGTCCACCCACCCACTAACTCTGCACCGGAATCAGTTCAGGTCCATCTCATAGTTGGGGAAGCCAAGGTTAAGAGAAGTGAAGTGACTTGACCGTTTTAAGCAAACAGACTCATGACGCTTTACGTGCTCCTCCGCAAGGCAGCTTCCTTCCCTCACCCTCAGCCCCTCAGGGTGGGCGAGGGTGTGGTGCCTGTGCAGGCCTAGAGGCAGGACCAGGTGGAATCTGATACCCTCTGAGTCTGAGCCTTCTTGCCTCGTCCCCTGCAGCTGTGTCAGTCCAGCCCCGGGGCCCAGTCGTCCTGCAGCAGCGAGCCCTCTCCTCTGGGCAGTGCCCCCAACAATGACAGTGGCGTGGAGATGCCGGGGACGGGGCCCGGGAGCCTGGGAGACCTGACGGCACTGGATGACACACCCCCAGGGGCCGACACCTCAGCCCTGGCTGCCCCCTCCGCTGGTGGCCTCCAGCTGCGCAAACACATGACCACCATGCACCGGTTCGAGCAGCTCAAGAAGGAGAAGCTCAAGTCACTCAAGGATTCCTGCTCATGGGCCGGGCCGACTCCACACACGCGGAACACCAAGCTGCCTCCCCTCCCGGGAAGTGGTGAGTAAAGGCCTGGGGTTTGCAGATGGGGCAGAAGAGAGTCTGGGGCAGCACCAACTAGGCTGGCACCCACCAAGCACCAGTGCTATCTCACCGGATTCCTACAGGATCTTACCAGCCCAGTACAGAAAAGGAAACTGAGGCTCAGAGAGGTGAAATGCCTTACCCAAATCAATGGCAGGGGTGAGATTAGCCAAAGGCCATGCTCTTTCAACTGCACCATTCTGAGTCCTTATAACCCCCCAAAACAAGCAGACCCTGCGCACATCATCCTCTTCCTCACCCATTCATTCCTTCACTGATGAGGCACTTGCTGTGGGCACCATGGCAAAGGCCCTAGGCAGGAGAGCCATTTAATTCCAGTCCCAAAGGAGCGTATGGTTAGAAGGCTGTGCCACCAGATTCACACTCTACTGCAGAACGAGCCAGGTACCACCAAAGCCAGAGCTTAGGGTAGAGCTGTGCAGAGGAAGGAGAAAGCACATTGAGCTGGGGATGAGCAGGGAGGACTTCATGGCGGAGGCAGCACTGTGCTCAGTCTCAAGAGGTGTTGGCCAGGCTCTGAGATGGAAGGCGTCTTTAACGAGCATGTCTTGGGTACTGACTCTGTGCCTAGGATTGTGCCGGGCTGCCCACTGTGGTCAACACTGATGTACCACCTGCTCTCACTTGAAGGGAGGATTTGTTGTCCCAACTTGTGGGGACTACTGGCAAATGGCCTTGAACTCTCAGCCCCCTACAGGGATGTCCTGGGTTGCAGACAGATGCCCCACCCAAGGTCACCCCTTCCCAGCAGCCCCGCATGCAATGACTGGTCACTGCAGGAGTGTAAAGGCCCAGCCATCAAGATGAGGCTCAGAGAGGTGCCCAACTCAGGGCAGCACTGAAGAGCCATTGGGGGTCCTGGGCTCCCTGTGAGATCATCCTGGGCTCACGTCTCCTCTGCCCACTCTTGCAGCCTGTCTTTCCTTCCATGGGTATGGACCTCAGGGTACTCCCTGTAATAACCTGCTCCTTAAACTCCATCTCAGGGACGCCTAGGTGGCACCACCTCCACAGACTGTGAGGGTACTGTGCCAGGAGACCAACCTGGGCCTTCCTGAGCTGCTCATCCCCTCCTCTGCGTAACTCAGTCCTACGGAGAGGCACATTTATCTACAGCTAGAGAAACTGAGGGCCAGAGAAAGGAGAATTCAAGGCCAGACAGATAATGGTAAAGTGAAGATAGGGACTTAGGCCTCCTGGCTTCCCCTCGCCCACCCTTAGCAATAAGTGCCACCATTTGTTTACATATTGCTTTTTCCTTCCCCTTTTTAATTGAAAAACCATCTGCTCACTGGGCACGGTGGCCCACGTATGCCCTAGCTACTCCAGAGTCTGAGGAGGGAGGATCCCTTGAGCCCAGGAGTTCAAGGCCAGCCTGGGAAATCCTGTCTCTAAAAAGAGAAAGAGAGAAAGAAAGCATGCATCTCCTGAGTGCGCTGTGTTGCAAGCCCTCTTCTCGGGCTCCAGGCCCAGTGCGATGACTGAGCACGGTCAAAGCAAGCAGCCACCCACCCTTGTCCCGGTGCTGACCCCTCTGCTCTCCCGCAGGCTCCATCCTGGAAAACTTCAGTGGCAGTGGGGGCGGCGGGCCCGCGGGGCTGCTGCCGAACCCGCGGCTGTCGGAGCTGTCCGCGAGCGAGGTGACCATGCTGAGCCAGCTGCAGGAGCGCCGCGACAGCTCCACCAGCACGGTCAGCTCGGCCTACACCGTGAGCCGCCGCTCCTCCGGCATCTCCCCCTACTTCTCCAGCCGCCGCTCCAGCGAGGCCTCGCCCCTGGGCGCCGGCCGCCCGCACAACGCGAGCTCCGCTGACTCCTACGACCCCATCTCCACGGACGCGTCGCGGCGCTCGAGCGAGGCCAGCCAGTGCAGCGGCGGCTCCGGGCTGCTCAACCTCACGCCGGCGCAGCAGTACAGCCTGCGGGCCAAGTACGCGGCAGCCACTGGCGGCCCCCCGCCCACTCCGCTGCCGGGCCTGGAGCGCATGAGCCTGCGGACCAGGCTGGCGCTGCTGGACGCGCCCGAGCGCACGCTGCCCGCCGGCTGCCCACGCCCACTGGGGCCGCGGCGTGGCAGCGACGGGCCGACCTATGGCCACGGCCACGCGGGGGCTGCGCCCGCCTTCCCCCACGAGGCTCCAGGCGGCGGAGCCAGGCGGGCCAGCGACCCTGTGCGGCGGCCCGATGCCCTGTCCCTGCCGCGGGTGCAGCGCTTCCACAGCACCCACAACGTGAACCCCGGCCCGCTGCCGCCCTGTGCCGACAGGCGAGGCCTCCGCCTGCAGAGCCACCCGAGCACCGACGGCGGCCTGGCCCGCGGCGCCTACTCGCCCCGGCCGCCTAGCATCAGCGAGAACGTGGCGATGGAGGCCGTGGCGGCAGGAGTGGACGGCGCGGGGCCCGAGGCCGACCTGGGGCTGCCGGAGGACGACCTGGTGCTTCCAGACGACGTGGTGCAGTACATCAAGGCGCACGCCAGTGGCGCTCTGGACGAGGGCACCGGGCAGGTGTATCCCACGGAAAGCACTGGCTTCTCTGACAACCCCAGACTACCCAGCCCGGGGCTGCACGGCCAGCGCAGGATGGTGGCTGCGGACTCCAACGTGGGCCCCTCCGCCCCTATGCTGGGAGGATGCCAGTTAGGCTTTGGGGCGCCCTCCAGCCTGAACAAAAATAACATGCCTGTGCAGTGGAATGAGGTGAGCTCCGGCACCGTAGACGCCCTGGCCAGCCAGGTGAAGCCTCCACCCTTTCCTCAGGGCAACCTGGCGGTGGTGCAGCAGAAGCCTGCCTTTGGCCAGTACCCGGGCTACAGTCCGCAAGGCCTACAGGCTAGCCCTGGGGGCCTGGACAGCACGCAGCCACACCTGCAGCCCCGCAGCGGAGCCCCCTCCCAGGGCATCCCCAGGGTAAACTACATGCAGCAGCTGCGACAGCCAGTGGCAGGCAGCCAGTGTCCTGGCATGACTACCACTATGAGCCCCCATGCCTGCTATGGCCAAGTCCACCCCCAGCTGAGCCCCAGCACCATCAGTGGGGCCCTCAACCAGTTCCCCCAATCCTGCAGCAACATGCCAGCCAAGCCAGGGCATCTGGGGCACCCTCAGCAGACAGAAGTGGCACCTGACCCCACCACGATGGGCAATCGCCACAGGGAACTTGGGGTCCCCGATTCAGCCCTGGCTGGAGTGCCACCACCTCACCCAGTCCAGAGCTACCCACAGCAGAGCCATCACCTGGCAGCCTCCATGAGCCAGGAGGGCTACCACCAGGTCCCCAGCCTTCTGCCTGCCCGCCAGCCTGGCTTCATGGAGCCCCAAACAGGCCCGATGGGGGTGGCTACAGCAGGCTTTGGCCTAGTGCAGCCCCGGCCTCCCCTCGAGCCCAGCCCCACTGGCCGCCACCGTGGGGTACGTGCTGTGCAGCAGCAGCTGGCCTACGCCAGGGCCACAGGCCATGCCATGGCTGCCATGCCGTCCAGTCAGGAAACAGCAGAGGCTGTGCCCAAGGGAGCGATGGGCAACATGGGGTCGGTGCCTCCCCAGCCGCCTCCGCAGGACGCAGGTGGGGCCCCGGACCACAGCATGCTCTACTACTACGGCCAGATCCACATGTACGAACAGGATGGAGGCCTGGAGAACCTCGGGAGCTGCCAGGTCATGCGGTCCCAGCCACCACAGCCACAGGCCTGTCAGGACAGCATCCAGCCCCAGCCCTTGCCCTCACCAGGGGTCAACCAGGTGTCCAGCACTGTGGACTCCCAGCTCCTGGAGGCCCCCCAGATTGACTTCGATGCCATCATGGATGATGGCGATCACTCGAGTTTGTTCTCGGGTGCTCTGAGCCCCAGCCTCCTCCACAGCCTCTCCCAGAACTCCTCCCGCCTCACCACCCCCCGAAACTCCTTGACCCTGCCCTCCATCCCCGCAGGCATCAGCAACATGGCTGTCGGGGACATGAGCTCCATGCTCACCAGCCTCGCCGAGGAGAGCAAGTTCCTGAACATGATGACCTAGAGGCCCGAGCGCCTGGTGCTGAGTGCACCCGGAGGGGTCATCGCTGCCCAGAGCCTGGGGATTCCAGCTGTCTTGTCTTTTTCCAAAAAAGTGTTAAATAGGCTTGAGGGGTTGTTGCGCAATGGCCGCTTCAGATGACAGATGTTGTAAGAGAAGGTTTATGGGCATCCTCTCTGGTCTTTTGGATTATT\n"
     ]
    }
   ],
   "source": [
    "print(record.seq)"
   ]
  },
  {
   "cell_type": "code",
   "execution_count": 5,
   "id": "ca59b9c1",
   "metadata": {},
   "outputs": [
    {
     "name": "stdout",
     "output_type": "stream",
     "text": [
      "10001\n"
     ]
    }
   ],
   "source": [
    "print(len(record.seq))"
   ]
  },
  {
   "cell_type": "code",
   "execution_count": 6,
   "id": "49c53979",
   "metadata": {},
   "outputs": [
    {
     "name": "stdout",
     "output_type": "stream",
     "text": [
      "NG_009030.2\n"
     ]
    }
   ],
   "source": [
    "print(record.id)"
   ]
  },
  {
   "cell_type": "code",
   "execution_count": 7,
   "id": "d468f870",
   "metadata": {},
   "outputs": [
    {
     "name": "stdout",
     "output_type": "stream",
     "text": [
      "NG_009030\n"
     ]
    }
   ],
   "source": [
    "print(record.name)"
   ]
  },
  {
   "cell_type": "code",
   "execution_count": null,
   "id": "fcc98991",
   "metadata": {},
   "outputs": [],
   "source": [
    "lista=[]\n",
    "lista.append(Seqfeatures(FeaturesLocation(30,500, strand=1), type= \"gene\"))"
   ]
  },
  {
   "cell_type": "code",
   "execution_count": 8,
   "id": "c6cf124d",
   "metadata": {},
   "outputs": [
    {
     "name": "stdout",
     "output_type": "stream",
     "text": [
      "Homo sapiens GLI family zinc finger 2 (GLI2), RefSeqGene on chromosome 2\n"
     ]
    }
   ],
   "source": [
    "print(record.description)"
   ]
  },
  {
   "cell_type": "code",
   "execution_count": 9,
   "id": "397e2865",
   "metadata": {},
   "outputs": [
    {
     "name": "stdout",
     "output_type": "stream",
     "text": [
      "{'molecule_type': 'DNA', 'topology': 'linear', 'data_file_division': 'PRI', 'date': '30-OCT-2022', 'accessions': ['NG_009030', 'REGION:', '250000..260000'], 'sequence_version': 2, 'keywords': ['RefSeq', 'RefSeqGene'], 'source': 'Homo sapiens (human)', 'organism': 'Homo sapiens', 'taxonomy': ['Eukaryota', 'Metazoa', 'Chordata', 'Craniata', 'Vertebrata', 'Euteleostomi', 'Mammalia', 'Eutheria', 'Euarchontoglires', 'Primates', 'Haplorrhini', 'Catarrhini', 'Hominidae', 'Homo'], 'references': [Reference(title='Holoprosencephaly Overview', ...)], 'comment': 'REVIEWED REFSEQ: This record has been curated by NCBI staff. The\\nreference sequence was derived from AC018866.9, AC017033.5,\\nKF510752.1, KF510212.1 and AC016764.8.\\nThis sequence is a reference standard in the RefSeqGene project.\\nOn Sep 14, 2022 this sequence version replaced NG_009030.1.\\nSummary: This gene encodes a protein which belongs to the C2H2-type\\nzinc finger protein subclass of the Gli family. Members of this\\nsubclass are characterized as transcription factors which bind DNA\\nthrough zinc finger motifs. These motifs contain conserved H-C\\nlinks. Gli family zinc finger proteins are mediators of Sonic\\nhedgehog (Shh) signaling and they are implicated as potent\\noncogenes in the embryonal carcinoma cell. The protein encoded by\\nthis gene localizes to the cytoplasm and activates patched\\nDrosophila homolog (PTCH) gene expression. It is also thought to\\nplay a role during embryogenesis. The encoded protein is associated\\nwith several phenotypes- Greig cephalopolysyndactyly syndrome,\\nPallister-Hall syndrome, preaxial polydactyly type IV, postaxial\\npolydactyly types A1 and B. [provided by RefSeq, Jul 2008].'}\n"
     ]
    }
   ],
   "source": [
    "print (record.annotations)"
   ]
  },
  {
   "cell_type": "code",
   "execution_count": 10,
   "id": "2a9d777a",
   "metadata": {},
   "outputs": [
    {
     "name": "stdout",
     "output_type": "stream",
     "text": [
      "molecule_type : DNA\n",
      "topology : linear\n",
      "data_file_division : PRI\n",
      "date : 30-OCT-2022\n",
      "accessions : ['NG_009030', 'REGION:', '250000..260000']\n",
      "sequence_version : 2\n",
      "keywords : ['RefSeq', 'RefSeqGene']\n",
      "source : Homo sapiens (human)\n",
      "organism : Homo sapiens\n",
      "taxonomy : ['Eukaryota', 'Metazoa', 'Chordata', 'Craniata', 'Vertebrata', 'Euteleostomi', 'Mammalia', 'Eutheria', 'Euarchontoglires', 'Primates', 'Haplorrhini', 'Catarrhini', 'Hominidae', 'Homo']\n",
      "references : [Reference(title='Holoprosencephaly Overview', ...)]\n",
      "comment : REVIEWED REFSEQ: This record has been curated by NCBI staff. The\n",
      "reference sequence was derived from AC018866.9, AC017033.5,\n",
      "KF510752.1, KF510212.1 and AC016764.8.\n",
      "This sequence is a reference standard in the RefSeqGene project.\n",
      "On Sep 14, 2022 this sequence version replaced NG_009030.1.\n",
      "Summary: This gene encodes a protein which belongs to the C2H2-type\n",
      "zinc finger protein subclass of the Gli family. Members of this\n",
      "subclass are characterized as transcription factors which bind DNA\n",
      "through zinc finger motifs. These motifs contain conserved H-C\n",
      "links. Gli family zinc finger proteins are mediators of Sonic\n",
      "hedgehog (Shh) signaling and they are implicated as potent\n",
      "oncogenes in the embryonal carcinoma cell. The protein encoded by\n",
      "this gene localizes to the cytoplasm and activates patched\n",
      "Drosophila homolog (PTCH) gene expression. It is also thought to\n",
      "play a role during embryogenesis. The encoded protein is associated\n",
      "with several phenotypes- Greig cephalopolysyndactyly syndrome,\n",
      "Pallister-Hall syndrome, preaxial polydactyly type IV, postaxial\n",
      "polydactyly types A1 and B. [provided by RefSeq, Jul 2008].\n"
     ]
    }
   ],
   "source": [
    "for x,i in record.annotations.items():\n",
    "    print(x,\":\",i)"
   ]
  },
  {
   "cell_type": "code",
   "execution_count": 11,
   "id": "be671338",
   "metadata": {},
   "outputs": [
    {
     "name": "stdout",
     "output_type": "stream",
     "text": [
      "REVIEWED REFSEQ: This record has been curated by NCBI staff. The\n",
      "reference sequence was derived from AC018866.9, AC017033.5,\n",
      "KF510752.1, KF510212.1 and AC016764.8.\n",
      "This sequence is a reference standard in the RefSeqGene project.\n",
      "On Sep 14, 2022 this sequence version replaced NG_009030.1.\n",
      "Summary: This gene encodes a protein which belongs to the C2H2-type\n",
      "zinc finger protein subclass of the Gli family. Members of this\n",
      "subclass are characterized as transcription factors which bind DNA\n",
      "through zinc finger motifs. These motifs contain conserved H-C\n",
      "links. Gli family zinc finger proteins are mediators of Sonic\n",
      "hedgehog (Shh) signaling and they are implicated as potent\n",
      "oncogenes in the embryonal carcinoma cell. The protein encoded by\n",
      "this gene localizes to the cytoplasm and activates patched\n",
      "Drosophila homolog (PTCH) gene expression. It is also thought to\n",
      "play a role during embryogenesis. The encoded protein is associated\n",
      "with several phenotypes- Greig cephalopolysyndactyly syndrome,\n",
      "Pallister-Hall syndrome, preaxial polydactyly type IV, postaxial\n",
      "polydactyly types A1 and B. [provided by RefSeq, Jul 2008].\n"
     ]
    }
   ],
   "source": [
    "print(record.annotations[\"comment\"] )"
   ]
  },
  {
   "cell_type": "code",
   "execution_count": 12,
   "id": "e5f3115d",
   "metadata": {},
   "outputs": [
    {
     "name": "stdout",
     "output_type": "stream",
     "text": [
      "12\n"
     ]
    }
   ],
   "source": [
    "print(len(record.annotations) )"
   ]
  },
  {
   "cell_type": "code",
   "execution_count": 13,
   "id": "28352ef3",
   "metadata": {},
   "outputs": [
    {
     "name": "stdout",
     "output_type": "stream",
     "text": [
      "Homo sapiens (human)\n"
     ]
    }
   ],
   "source": [
    "print(record.annotations[\"source\"] )"
   ]
  },
  {
   "cell_type": "code",
   "execution_count": 14,
   "id": "96f63ee7",
   "metadata": {},
   "outputs": [
    {
     "name": "stdout",
     "output_type": "stream",
     "text": [
      "18\n"
     ]
    }
   ],
   "source": [
    "print(len(record.features) )"
   ]
  },
  {
   "cell_type": "code",
   "execution_count": 14,
   "id": "11e6b41f",
   "metadata": {
    "scrolled": false
   },
   "outputs": [
    {
     "name": "stdout",
     "output_type": "stream",
     "text": [
      "type: source\n",
      "location: [0:74474](+)\n",
      "qualifiers:\n",
      "    Key: chromosome, Value: ['2']\n",
      "    Key: db_xref, Value: ['taxon:9606']\n",
      "    Key: map, Value: ['2q36.3']\n",
      "    Key: mol_type, Value: ['genomic DNA']\n",
      "    Key: organism, Value: ['Homo sapiens']\n",
      "\n",
      "type: gene\n",
      "location: [<0:3632](-)\n",
      "qualifiers:\n",
      "    Key: db_xref, Value: ['GeneID:84236', 'HGNC:HGNC:23081', 'MIM:617515']\n",
      "    Key: gene, Value: ['RHBDD1']\n",
      "    Key: gene_synonym, Value: ['RHBDL4; RRP4']\n",
      "    Key: note, Value: ['rhomboid domain containing 1']\n",
      "\n",
      "type: mRNA\n",
      "location: [<3568:3632](-)\n",
      "qualifiers:\n",
      "    Key: db_xref, Value: ['GeneID:84236', 'HGNC:HGNC:23081', 'MIM:617515']\n",
      "    Key: gene, Value: ['RHBDD1']\n",
      "    Key: gene_synonym, Value: ['RHBDL4; RRP4']\n",
      "    Key: product, Value: ['rhomboid domain containing 1, transcript variant 3']\n",
      "    Key: transcript_id, Value: ['NM_001349069.2']\n",
      "\n",
      "type: gene\n",
      "location: [3970:72479](+)\n",
      "qualifiers:\n",
      "    Key: db_xref, Value: ['GeneID:3667', 'HGNC:HGNC:6125', 'MIM:147545']\n",
      "    Key: gene, Value: ['IRS1']\n",
      "    Key: gene_synonym, Value: ['HIRS-1']\n",
      "    Key: note, Value: ['insulin receptor substrate 1']\n",
      "\n",
      "type: mRNA\n",
      "location: join{[3970:8802](+), [67540:72479](+)}\n",
      "qualifiers:\n",
      "    Key: db_xref, Value: ['GeneID:3667', 'HGNC:HGNC:6125', 'MIM:147545']\n",
      "    Key: gene, Value: ['IRS1']\n",
      "    Key: gene_synonym, Value: ['HIRS-1']\n",
      "    Key: product, Value: ['insulin receptor substrate 1']\n",
      "    Key: transcript_id, Value: ['NM_005544.3']\n",
      "\n",
      "type: exon\n",
      "location: [3970:8802](+)\n",
      "qualifiers:\n",
      "    Key: gene, Value: ['IRS1']\n",
      "    Key: gene_synonym, Value: ['HIRS-1']\n",
      "    Key: inference, Value: ['alignment:Splign:2.1.0']\n",
      "    Key: number, Value: ['1']\n",
      "\n",
      "type: CDS\n",
      "location: [5052:8781](+)\n",
      "qualifiers:\n",
      "    Key: codon_start, Value: ['1']\n",
      "    Key: db_xref, Value: ['CCDS:CCDS2463.1', 'GeneID:3667', 'HGNC:HGNC:6125', 'MIM:147545']\n",
      "    Key: gene, Value: ['IRS1']\n",
      "    Key: gene_synonym, Value: ['HIRS-1']\n",
      "    Key: product, Value: ['insulin receptor substrate 1']\n",
      "    Key: protein_id, Value: ['NP_005535.1']\n",
      "    Key: translation, Value: ['MASPPESDGFSDVRKVGYLRKPKSMHKRFFVLRAASEAGGPARLEYYENEKKWRHKSSAPKRSIPLESCFNINKRADSKNKHLVALYTRDEHFAIAADSEAEQDSWYQALLQLHNRAKGHHDGAAALGAGGGGGSCSGSSGLGEAGEDLSYGDVPPGPAFKEVWQVILKPKGLGQTKNLIGIYRLCLTSKTISFVKLNSEAAAVVLQLMNIRRCGHSENFFFIEVGRSAVTGPGEFWMQVDDSVVAQNMHETILEAMRAMSDEFRPRSKSQSSSNCSNPISVPLRRHHLNNPPPSQVGLTRRSRTESITATSPASMVGGKPGSFRVRASSDGEGTMSRPASVDGSPVSPSTNRTHAHRHRGSARLHPPLNHSRSIPMPASRCSPSATSPVSLSSSSTSGHGSTSDCLFPRRSSASVSGSPSDGGFISSDEYGSSPCDFRSSFRSVTPDSLGHTPPARGEEELSNYICMGGKGPSTLTAPNGHYILSRGGNGHRCTPGTGLGTSPALAGDEAASAADLDNRFRKRTHSAGTSPTITHQKTPSQSSVASIEEYTEMMPAYPPGGGSGGRLPGHRHSAFVPTRSYPEEGLEMHPLERRGGHHRPDSSTLHTDDGYMPMSPGVAPVPSGRKGSGDYMPMSPKSVSAPQQIINPIRRHPQRVDPNGYMMMSPSGGCSPDIGGGPSSSSSSSNAVPSGTSYGKLWTNGVGGHHSHVLPHPKPPVESSGGKLLPCTGDYMNMSPVGDSNTSSPSDCYYGPEDPQHKPVLSYYSLPRSFKHTQRPGEPEEGARHQHLRLSTSSGRLLYAATADDSSSSTSSDSLGGGYCGARLEPSLPHPHHQVLQPHLPRKVDTAAQTNSRLARPTRLSLGDPKASTLPRAREQQQQQQPLLHPPEPKSPGEYVNIEFGSDQSGYLSGPVAFHSSPSVRCPSQLQPAPREEETGTEEYMKMDLGPGRRAAWQESTGVEMGRLGPAPPGAASICRPTRAVPSSRGDYMTMQMSCPRQSYVDTSPAAPVSYADMRTGIAAEEVSLPRATMAAASSSSAASASPTGPQGAAELAAHSSLLGGPQGPGGMSAFTRVNLSPNRNQSAKVIRADPQGCRRRHSSETFSSTPSATRVGNTVPFGAGAAVGGGGGSSSSSEDVKRHSSASFENVWLRPGELGGAPKEPAKLCGAAGGLENGLNYIDLDLVKDFKQCPQECTPEPQPPPPPPPHQPLGSGESSSTRRSSEDLSAYASISFQKQPEDRQ']\n",
      "\n",
      "type: misc_feature\n",
      "location: [5058:5463](+)\n",
      "qualifiers:\n",
      "    Key: gene, Value: ['IRS1']\n",
      "    Key: gene_synonym, Value: ['HIRS-1']\n",
      "    Key: note, Value: ['propagated from UniProtKB/Swiss-Prot (P35568.1); Region: Mediates interaction with PHIP. /evidence=ECO:0000250']\n",
      "\n",
      "type: misc_feature\n",
      "location: [5058:5061](+)\n",
      "qualifiers:\n",
      "    Key: gene, Value: ['IRS1']\n",
      "    Key: gene_synonym, Value: ['HIRS-1']\n",
      "    Key: note, Value: ['Phosphoserine. /evidence=ECO:0000250|UniProtKB:P35570; propagated from UniProtKB/Swiss-Prot (P35568.1); phosphorylation site']\n",
      "\n",
      "type: misc_feature\n",
      "location: [5346:5349](+)\n",
      "qualifiers:\n",
      "    Key: gene, Value: ['IRS1']\n",
      "    Key: gene_synonym, Value: ['HIRS-1']\n",
      "    Key: note, Value: ['Phosphoserine, by CK2. /evidence=ECO:0000250|UniProtKB:P35570; propagated from UniProtKB/Swiss-Prot (P35568.1); phosphorylation site']\n",
      "\n",
      "type: misc_feature\n",
      "location: [5835:6342](+)\n",
      "qualifiers:\n",
      "    Key: gene, Value: ['IRS1']\n",
      "    Key: gene_synonym, Value: ['HIRS-1']\n",
      "    Key: note, Value: ['propagated from UniProtKB/Swiss-Prot (P35568.1); Region: Disordered. /evidence=ECO:0000256|SAM:MobiDB-lite']\n",
      "\n",
      "type: misc_feature\n",
      "location: [5859:5862](+)\n",
      "qualifiers:\n",
      "    Key: gene, Value: ['IRS1']\n",
      "    Key: gene_synonym, Value: ['HIRS-1']\n",
      "    Key: note, Value: ['Phosphoserine, by RPS6KB1. /evidence=ECO:0000269|PubMed:18952604; propagated from UniProtKB/Swiss-Prot (P35568.1); phosphorylation site']\n",
      "\n",
      "type: misc_feature\n",
      "location: [5970:5973](+)\n",
      "qualifiers:\n",
      "    Key: gene, Value: ['IRS1']\n",
      "    Key: gene_synonym, Value: ['HIRS-1']\n",
      "    Key: note, Value: ['Phosphoserine, by RPS6KB1. /evidence=ECO:0000269|PubMed:18498745, ECO:0000269|PubMed:18952604; propagated from UniProtKB/Swiss-Prot (P35568.1); phosphorylation site']\n",
      "\n",
      "type: misc_feature\n",
      "location: [5985:5988](+)\n",
      "qualifiers:\n",
      "    Key: gene, Value: ['IRS1']\n",
      "    Key: gene_synonym, Value: ['HIRS-1']\n",
      "    Key: note, Value: ['Phosphoserine, by IKKB, MAPK8 and RPS6KB1. /evidence=ECO:0000269|PubMed:18498745, ECO:0000269|PubMed:20685959; propagated from UniProtKB/Swiss-Prot (P35568.1); phosphorylation site']\n",
      "\n",
      "type: misc_feature\n",
      "location: [6018:6021](+)\n",
      "qualifiers:\n",
      "    Key: gene, Value: ['IRS1']\n",
      "    Key: gene_synonym, Value: ['HIRS-1']\n",
      "    Key: note, Value: ['Phosphoserine. /evidence=ECO:0007744|PubMed:24275569; propagated from UniProtKB/Swiss-Prot (P35568.1); phosphorylation site']\n",
      "\n",
      "type: misc_feature\n",
      "location: [6039:6042](+)\n",
      "qualifiers:\n",
      "    Key: gene, Value: ['IRS1']\n",
      "    Key: gene_synonym, Value: ['HIRS-1']\n",
      "    Key: note, Value: ['Phosphoserine. /evidence=ECO:0000250|UniProtKB:P35569; propagated from UniProtKB/Swiss-Prot (P35568.1); phosphorylation site']\n",
      "\n",
      "type: misc_feature\n",
      "location: [6084:6087](+)\n",
      "qualifiers:\n",
      "    Key: gene, Value: ['IRS1']\n",
      "    Key: gene_synonym, Value: ['HIRS-1']\n",
      "    Key: note, Value: ['Phosphoserine. /evidence=ECO:0000250|UniProtKB:P35569; propagated from UniProtKB/Swiss-Prot (P35568.1); phosphorylation site']\n",
      "\n",
      "type: misc_feature\n",
      "location: [6093:6096](+)\n",
      "qualifiers:\n",
      "    Key: gene, Value: ['IRS1']\n",
      "    Key: gene_synonym, Value: ['HIRS-1']\n",
      "    Key: note, Value: ['Phosphoserine. /evidence=ECO:0007744|PubMed:19690332; propagated from UniProtKB/Swiss-Prot (P35568.1); phosphorylation site']\n",
      "\n",
      "type: misc_feature\n",
      "location: [6306:6309](+)\n",
      "qualifiers:\n",
      "    Key: gene, Value: ['IRS1']\n",
      "    Key: gene_synonym, Value: ['HIRS-1']\n",
      "    Key: note, Value: ['Phosphoserine. /evidence=ECO:0000250|UniProtKB:P35569; propagated from UniProtKB/Swiss-Prot (P35568.1); phosphorylation site']\n",
      "\n",
      "type: misc_feature\n",
      "location: [6387:6390](+)\n",
      "qualifiers:\n",
      "    Key: gene, Value: ['IRS1']\n",
      "    Key: gene_synonym, Value: ['HIRS-1']\n",
      "    Key: note, Value: ['Phosphothreonine. /evidence=ECO:0000250|UniProtKB:P35570; propagated from UniProtKB/Swiss-Prot (P35568.1); phosphorylation site']\n",
      "\n",
      "type: misc_feature\n",
      "location: [6408:6411](+)\n",
      "qualifiers:\n",
      "    Key: gene, Value: ['IRS1']\n",
      "    Key: gene_synonym, Value: ['HIRS-1']\n",
      "    Key: note, Value: ['Phosphothreonine. /evidence=ECO:0007744|PubMed:24275569; propagated from UniProtKB/Swiss-Prot (P35568.1); phosphorylation site']\n",
      "\n",
      "type: misc_feature\n",
      "location: [6444:6456](+)\n",
      "qualifiers:\n",
      "    Key: gene, Value: ['IRS1']\n",
      "    Key: gene_synonym, Value: ['HIRS-1']\n",
      "    Key: note, Value: ['propagated from UniProtKB/Swiss-Prot (P35568.1); Region: YXXM motif 1']\n",
      "\n",
      "type: misc_feature\n",
      "location: [6444:6447](+)\n",
      "qualifiers:\n",
      "    Key: gene, Value: ['IRS1']\n",
      "    Key: gene_synonym, Value: ['HIRS-1']\n",
      "    Key: note, Value: ['Phosphotyrosine, by INSR. /evidence=ECO:0000250|UniProtKB:P35570; propagated from UniProtKB/Swiss-Prot (P35568.1); phosphorylation site']\n",
      "\n",
      "type: misc_feature\n",
      "location: [6630:6633](+)\n",
      "qualifiers:\n",
      "    Key: gene, Value: ['IRS1']\n",
      "    Key: gene_synonym, Value: ['HIRS-1']\n",
      "    Key: note, Value: ['Phosphoserine, by RPS6KB1. /evidence=ECO:0000269|PubMed:18498745, ECO:0007744|PubMed:24275569; propagated from UniProtKB/Swiss-Prot (P35568.1); phosphorylation site']\n",
      "\n",
      "type: misc_feature\n",
      "location: [6702:6714](+)\n",
      "qualifiers:\n",
      "    Key: gene, Value: ['IRS1']\n",
      "    Key: gene_synonym, Value: ['HIRS-1']\n",
      "    Key: note, Value: ['propagated from UniProtKB/Swiss-Prot (P35568.1); Region: YXXM motif 2']\n",
      "\n",
      "type: misc_feature\n",
      "location: [6825:6900](+)\n",
      "qualifiers:\n",
      "    Key: gene, Value: ['IRS1']\n",
      "    Key: gene_synonym, Value: ['HIRS-1']\n",
      "    Key: note, Value: ['propagated from UniProtKB/Swiss-Prot (P35568.1); Region: Disordered. /evidence=ECO:0000256|SAM:MobiDB-lite']\n",
      "\n",
      "type: misc_feature\n",
      "location: [6885:6897](+)\n",
      "qualifiers:\n",
      "    Key: gene, Value: ['IRS1']\n",
      "    Key: gene_synonym, Value: ['HIRS-1']\n",
      "    Key: note, Value: ['propagated from UniProtKB/Swiss-Prot (P35568.1); Region: YXXM motif 3']\n",
      "\n",
      "type: misc_feature\n",
      "location: [6885:6888](+)\n",
      "qualifiers:\n",
      "    Key: gene, Value: ['IRS1']\n",
      "    Key: gene_synonym, Value: ['HIRS-1']\n",
      "    Key: note, Value: ['Phosphotyrosine, by INSR. /evidence=ECO:0000269|PubMed:23401856; propagated from UniProtKB/Swiss-Prot (P35568.1); phosphorylation site']\n",
      "\n",
      "type: misc_feature\n",
      "location: [6936:6939](+)\n",
      "qualifiers:\n",
      "    Key: gene, Value: ['IRS1']\n",
      "    Key: gene_synonym, Value: ['HIRS-1']\n",
      "    Key: note, Value: ['Phosphoserine. /evidence=ECO:0007744|PubMed:17081983, ECO:0007744|PubMed:24275569; propagated from UniProtKB/Swiss-Prot (P35568.1); phosphorylation site']\n",
      "\n",
      "type: misc_feature\n",
      "location: [6945:6957](+)\n",
      "qualifiers:\n",
      "    Key: gene, Value: ['IRS1']\n",
      "    Key: gene_synonym, Value: ['HIRS-1']\n",
      "    Key: note, Value: ['propagated from UniProtKB/Swiss-Prot (P35568.1); Region: YXXM motif 4']\n",
      "\n",
      "type: misc_feature\n",
      "location: [6945:6948](+)\n",
      "qualifiers:\n",
      "    Key: gene, Value: ['IRS1']\n",
      "    Key: gene_synonym, Value: ['HIRS-1']\n",
      "    Key: note, Value: ['Phosphotyrosine, by INSR. /evidence=ECO:0000269|PubMed:23401856; propagated from UniProtKB/Swiss-Prot (P35568.1); phosphorylation site']\n",
      "\n",
      "type: misc_feature\n",
      "location: [6957:6960](+)\n",
      "qualifiers:\n",
      "    Key: gene, Value: ['IRS1']\n",
      "    Key: gene_synonym, Value: ['HIRS-1']\n",
      "    Key: note, Value: ['Phosphoserine, by RPS6KB1. /evidence=ECO:0000269|PubMed:18498745, ECO:0000269|PubMed:18952604, ECO:0007744|PubMed:17081983; propagated from UniProtKB/Swiss-Prot (P35568.1); phosphorylation site']\n",
      "\n",
      "type: misc_feature\n",
      "location: [7035:7047](+)\n",
      "qualifiers:\n",
      "    Key: gene, Value: ['IRS1']\n",
      "    Key: gene_synonym, Value: ['HIRS-1']\n",
      "    Key: note, Value: ['propagated from UniProtKB/Swiss-Prot (P35568.1); Region: YXXM motif 5']\n",
      "\n",
      "type: misc_feature\n",
      "location: [7035:7038](+)\n",
      "qualifiers:\n",
      "    Key: gene, Value: ['IRS1']\n",
      "    Key: gene_synonym, Value: ['HIRS-1']\n",
      "    Key: note, Value: ['Phosphotyrosine. /evidence=ECO:0007744|PubMed:15592455; propagated from UniProtKB/Swiss-Prot (P35568.1); phosphorylation site']\n",
      "\n",
      "type: misc_feature\n",
      "location: [7053:7131](+)\n",
      "qualifiers:\n",
      "    Key: gene, Value: ['IRS1']\n",
      "    Key: gene_synonym, Value: ['HIRS-1']\n",
      "    Key: note, Value: ['propagated from UniProtKB/Swiss-Prot (P35568.1); Region: Disordered. /evidence=ECO:0000256|SAM:MobiDB-lite']\n",
      "\n",
      "type: misc_feature\n",
      "location: [7245:7257](+)\n",
      "qualifiers:\n",
      "    Key: gene, Value: ['IRS1']\n",
      "    Key: gene_synonym, Value: ['HIRS-1']\n",
      "    Key: note, Value: ['propagated from UniProtKB/Swiss-Prot (P35568.1); Region: YXXM motif 6']\n",
      "\n",
      "type: misc_feature\n",
      "location: [7362:7752](+)\n",
      "qualifiers:\n",
      "    Key: gene, Value: ['IRS1']\n",
      "    Key: gene_synonym, Value: ['HIRS-1']\n",
      "    Key: note, Value: ['propagated from UniProtKB/Swiss-Prot (P35568.1); Region: Disordered. /evidence=ECO:0000256|SAM:MobiDB-lite']\n",
      "\n",
      "type: misc_feature\n",
      "location: [7431:7434](+)\n",
      "qualifiers:\n",
      "    Key: gene, Value: ['IRS1']\n",
      "    Key: gene_synonym, Value: ['HIRS-1']\n",
      "    Key: note, Value: ['Phosphoserine, by AMPK and SIK2. /evidence=ECO:0000269|PubMed:12624099; propagated from UniProtKB/Swiss-Prot (P35568.1); phosphorylation site']\n",
      "\n",
      "type: misc_feature\n",
      "location: [7725:7728](+)\n",
      "qualifiers:\n",
      "    Key: gene, Value: ['IRS1']\n",
      "    Key: gene_synonym, Value: ['HIRS-1']\n",
      "    Key: note, Value: ['Phosphoserine. /evidence=ECO:0000250|UniProtKB:P35569; propagated from UniProtKB/Swiss-Prot (P35568.1); phosphorylation site']\n",
      "\n",
      "type: misc_feature\n",
      "location: [7737:7746](+)\n",
      "qualifiers:\n",
      "    Key: gene, Value: ['IRS1']\n",
      "    Key: gene_synonym, Value: ['HIRS-1']\n",
      "    Key: note, Value: ['propagated from UniProtKB/Swiss-Prot (P35568.1); Region: GRB2-binding. /evidence=ECO:0000250']\n",
      "\n",
      "type: misc_feature\n",
      "location: [7737:7740](+)\n",
      "qualifiers:\n",
      "    Key: gene, Value: ['IRS1']\n",
      "    Key: gene_synonym, Value: ['HIRS-1']\n",
      "    Key: note, Value: ['Phosphotyrosine, by INSR. /evidence=ECO:0000269|PubMed:23401856; propagated from UniProtKB/Swiss-Prot (P35568.1); phosphorylation site']\n",
      "\n",
      "type: misc_feature\n",
      "location: [7803:7863](+)\n",
      "qualifiers:\n",
      "    Key: gene, Value: ['IRS1']\n",
      "    Key: gene_synonym, Value: ['HIRS-1']\n",
      "    Key: note, Value: ['propagated from UniProtKB/Swiss-Prot (P35568.1); Region: Disordered. /evidence=ECO:0000256|SAM:MobiDB-lite']\n",
      "\n",
      "type: misc_feature\n",
      "location: [7872:7884](+)\n",
      "qualifiers:\n",
      "    Key: gene, Value: ['IRS1']\n",
      "    Key: gene_synonym, Value: ['HIRS-1']\n",
      "    Key: note, Value: ['propagated from UniProtKB/Swiss-Prot (P35568.1); Region: YXXM motif 7']\n",
      "\n",
      "type: misc_feature\n",
      "location: [7872:7875](+)\n",
      "qualifiers:\n",
      "    Key: gene, Value: ['IRS1']\n",
      "    Key: gene_synonym, Value: ['HIRS-1']\n",
      "    Key: note, Value: ['Phosphotyrosine, by INSR. /evidence=ECO:0000269|PubMed:20685959; propagated from UniProtKB/Swiss-Prot (P35568.1); phosphorylation site']\n",
      "\n",
      "type: misc_feature\n",
      "location: [8016:8028](+)\n",
      "qualifiers:\n",
      "    Key: gene, Value: ['IRS1']\n",
      "    Key: gene_synonym, Value: ['HIRS-1']\n",
      "    Key: note, Value: ['propagated from UniProtKB/Swiss-Prot (P35568.1); Region: YXXM motif 8']\n",
      "\n",
      "type: misc_feature\n",
      "location: [8016:8019](+)\n",
      "qualifiers:\n",
      "    Key: gene, Value: ['IRS1']\n",
      "    Key: gene_synonym, Value: ['HIRS-1']\n",
      "    Key: note, Value: ['Phosphotyrosine, by INSR. /evidence=ECO:0000250|UniProtKB:P35570; propagated from UniProtKB/Swiss-Prot (P35568.1); phosphorylation site']\n",
      "\n",
      "type: misc_feature\n",
      "location: [8085:8097](+)\n",
      "qualifiers:\n",
      "    Key: gene, Value: ['IRS1']\n",
      "    Key: gene_synonym, Value: ['HIRS-1']\n",
      "    Key: note, Value: ['propagated from UniProtKB/Swiss-Prot (P35568.1); Region: YXXM motif 9']\n",
      "\n",
      "type: misc_feature\n",
      "location: [8220:8490](+)\n",
      "qualifiers:\n",
      "    Key: gene, Value: ['IRS1']\n",
      "    Key: gene_synonym, Value: ['HIRS-1']\n",
      "    Key: note, Value: ['propagated from UniProtKB/Swiss-Prot (P35568.1); Region: Disordered. /evidence=ECO:0000256|SAM:MobiDB-lite']\n",
      "\n",
      "type: misc_feature\n",
      "location: [8349:8352](+)\n",
      "qualifiers:\n",
      "    Key: gene, Value: ['IRS1']\n",
      "    Key: gene_synonym, Value: ['HIRS-1']\n",
      "    Key: note, Value: ['Phosphoserine. /evidence=ECO:0000250|UniProtKB:P35569; propagated from UniProtKB/Swiss-Prot (P35568.1); phosphorylation site']\n",
      "\n",
      "type: misc_feature\n",
      "location: [8352:8355](+)\n",
      "qualifiers:\n",
      "    Key: gene, Value: ['IRS1']\n",
      "    Key: gene_synonym, Value: ['HIRS-1']\n",
      "    Key: note, Value: ['Phosphoserine, by RPS6KB1 and PKC/PRKCQ. /evidence=ECO:0000269|PubMed:15364919, ECO:0000269|PubMed:18952604; propagated from UniProtKB/Swiss-Prot (P35568.1); phosphorylation site']\n",
      "\n",
      "type: misc_feature\n",
      "location: [8586:8589](+)\n",
      "qualifiers:\n",
      "    Key: gene, Value: ['IRS1']\n",
      "    Key: gene_synonym, Value: ['HIRS-1']\n",
      "    Key: note, Value: ['Phosphotyrosine, by INSR. /evidence=ECO:0000250|UniProtKB:P35570; propagated from UniProtKB/Swiss-Prot (P35568.1); phosphorylation site']\n",
      "\n",
      "type: misc_feature\n",
      "location: [8619:8778](+)\n",
      "qualifiers:\n",
      "    Key: gene, Value: ['IRS1']\n",
      "    Key: gene_synonym, Value: ['HIRS-1']\n",
      "    Key: note, Value: ['propagated from UniProtKB/Swiss-Prot (P35568.1); Region: Disordered. /evidence=ECO:0000256|SAM:MobiDB-lite']\n",
      "\n",
      "type: misc_feature\n",
      "location: [8736:8739](+)\n",
      "qualifiers:\n",
      "    Key: gene, Value: ['IRS1']\n",
      "    Key: gene_synonym, Value: ['HIRS-1']\n",
      "    Key: note, Value: ['Phosphotyrosine, by INSR. /evidence=ECO:0000250|UniProtKB:P35570; propagated from UniProtKB/Swiss-Prot (P35568.1); phosphorylation site']\n",
      "\n",
      "type: exon\n",
      "location: [67540:72479](+)\n",
      "qualifiers:\n",
      "    Key: gene, Value: ['IRS1']\n",
      "    Key: gene_synonym, Value: ['HIRS-1']\n",
      "    Key: inference, Value: ['alignment:Splign:2.1.0']\n",
      "    Key: number, Value: ['2']\n",
      "\n"
     ]
    }
   ],
   "source": [
    "for i in record.features:\n",
    "    print(i)"
   ]
  },
  {
   "cell_type": "code",
   "execution_count": 15,
   "id": "458b1ca2",
   "metadata": {},
   "outputs": [
    {
     "name": "stdout",
     "output_type": "stream",
     "text": [
      "[3]\n"
     ]
    }
   ],
   "source": [
    "featcds = [ ]\n",
    "for i in range(len(record.features)):\n",
    "    if record.features[i].type == \"CDS\":\n",
    "        featcds.append(i)\n",
    "        print (featcds)"
   ]
  },
  {
   "cell_type": "code",
   "execution_count": 16,
   "id": "5f4d511c",
   "metadata": {},
   "outputs": [],
   "source": [
    "l=[]\n",
    "from Bio.SeqFeature import SeqFeature, FeatureLocation\n",
    "for feat in record.features:\n",
    "    if feat.type == \"CDS\":\n",
    "        l.append(feat)"
   ]
  },
  {
   "cell_type": "code",
   "execution_count": 6,
   "id": "29f27f2e",
   "metadata": {},
   "outputs": [
    {
     "name": "stdout",
     "output_type": "stream",
     "text": [
      "type: CDS\n",
      "location: [5052:8781](+)\n",
      "qualifiers:\n",
      "    Key: codon_start, Value: ['1']\n",
      "    Key: db_xref, Value: ['CCDS:CCDS2463.1', 'GeneID:3667', 'HGNC:HGNC:6125', 'MIM:147545']\n",
      "    Key: gene, Value: ['IRS1']\n",
      "    Key: gene_synonym, Value: ['HIRS-1']\n",
      "    Key: product, Value: ['insulin receptor substrate 1']\n",
      "    Key: protein_id, Value: ['NP_005535.1']\n",
      "    Key: translation, Value: ['MASPPESDGFSDVRKVGYLRKPKSMHKRFFVLRAASEAGGPARLEYYENEKKWRHKSSAPKRSIPLESCFNINKRADSKNKHLVALYTRDEHFAIAADSEAEQDSWYQALLQLHNRAKGHHDGAAALGAGGGGGSCSGSSGLGEAGEDLSYGDVPPGPAFKEVWQVILKPKGLGQTKNLIGIYRLCLTSKTISFVKLNSEAAAVVLQLMNIRRCGHSENFFFIEVGRSAVTGPGEFWMQVDDSVVAQNMHETILEAMRAMSDEFRPRSKSQSSSNCSNPISVPLRRHHLNNPPPSQVGLTRRSRTESITATSPASMVGGKPGSFRVRASSDGEGTMSRPASVDGSPVSPSTNRTHAHRHRGSARLHPPLNHSRSIPMPASRCSPSATSPVSLSSSSTSGHGSTSDCLFPRRSSASVSGSPSDGGFISSDEYGSSPCDFRSSFRSVTPDSLGHTPPARGEEELSNYICMGGKGPSTLTAPNGHYILSRGGNGHRCTPGTGLGTSPALAGDEAASAADLDNRFRKRTHSAGTSPTITHQKTPSQSSVASIEEYTEMMPAYPPGGGSGGRLPGHRHSAFVPTRSYPEEGLEMHPLERRGGHHRPDSSTLHTDDGYMPMSPGVAPVPSGRKGSGDYMPMSPKSVSAPQQIINPIRRHPQRVDPNGYMMMSPSGGCSPDIGGGPSSSSSSSNAVPSGTSYGKLWTNGVGGHHSHVLPHPKPPVESSGGKLLPCTGDYMNMSPVGDSNTSSPSDCYYGPEDPQHKPVLSYYSLPRSFKHTQRPGEPEEGARHQHLRLSTSSGRLLYAATADDSSSSTSSDSLGGGYCGARLEPSLPHPHHQVLQPHLPRKVDTAAQTNSRLARPTRLSLGDPKASTLPRAREQQQQQQPLLHPPEPKSPGEYVNIEFGSDQSGYLSGPVAFHSSPSVRCPSQLQPAPREEETGTEEYMKMDLGPGRRAAWQESTGVEMGRLGPAPPGAASICRPTRAVPSSRGDYMTMQMSCPRQSYVDTSPAAPVSYADMRTGIAAEEVSLPRATMAAASSSSAASASPTGPQGAAELAAHSSLLGGPQGPGGMSAFTRVNLSPNRNQSAKVIRADPQGCRRRHSSETFSSTPSATRVGNTVPFGAGAAVGGGGGSSSSSEDVKRHSSASFENVWLRPGELGGAPKEPAKLCGAAGGLENGLNYIDLDLVKDFKQCPQECTPEPQPPPPPPPHQPLGSGESSSTRRSSEDLSAYASISFQKQPEDRQ']\n",
      "\n"
     ]
    }
   ],
   "source": [
    "\n",
    "from Bio.SeqFeature import SeqFeature, FeatureLocation\n",
    "for feat in record.features:\n",
    "    if feat.type == \"CDS\":\n",
    "        print(feat)"
   ]
  },
  {
   "cell_type": "code",
   "execution_count": 17,
   "id": "487e4609",
   "metadata": {},
   "outputs": [
    {
     "name": "stdout",
     "output_type": "stream",
     "text": [
      "['METSASATASEKQEAKSGILEAAGFPDPGKKASPLVVAAAAAAAVAAQGVPQHLLPPFHAPLPIDMRHQEGRYHYEPHSVHGVHGPPALSGSPVISDISLIRLSPHPAGPGESPFNAPHPYVNPHMEHYLRSVHSSPTLSMISAARGLSPADVAQEHLKERGLFGLPAPGTTPSDYYHQMTLVAGHPAPYGDLLMQSGGAASAPHLHDYLNPVDVSRFSSPRVTPRLSRKRALSISPLSDASLDLQRMIRTSPNSLVAYINNSRSSSAASGSYGHLSAGALSPAFTFPHPINPVAYQQILSQQRGLGSAFGHTPPLIQPSPTFLAQQPMALTSINATPTQLSSSSNCLSDTNQNKQSSESAVSSTVNPVAIHKRSKVKTEPEGLRPASPLALTQEQLADLKEDLDRDDCKQEAEVVIYETNCHWEDCTKEYDTQEQLVHHINNEHIHGEKKEFVCRWQACTREQKPFKAQYMLVVHMRRHTGEKPHKCTFEGCSKAYSRLENLKTHLRSHTGEKPYVCEHEGCNKAFSNASDRAKHQNRTHSNEKPYICKIPGCTKRYTDPSSLRKHVKTVHGPDAHVTKKQRNDVHLRTPLLKENGDSEAGTEPGGPESTEASSTSQAVEDCLHVRAIKTESSGLCQSSPGAQSSCSSEPSPLGSAPNNDSGVEMPGTGPGSLGDLTALDDTPPGADTSALAAPSAGGLQLRKHMTTMHRFEQLKKEKLKSLKDSCSWAGPTPHTRNTKLPPLPGSGSILENFSGSGGGGPAGLLPNPRLSELSASEVTMLSQLQERRDSSTSTVSSAYTVSRRSSGISPYFSSRRSSEASPLGAGRPHNASSADSYDPISTDASRRSSEASQCSGGSGLLNLTPAQQYSLRAKYAAATGGPPPTPLPGLERMSLRTRLALLDAPERTLPAGCPRPLGPRRGSDGPTYGHGHAGAAPAFPHEAPGGGARRASDPVRRPDALSLPRVQRFHSTHNVNPGPLPPCADRRGLRLQSHPSTDGGLARGAYSPRPPSISENVAMEAVAAGVDGAGPEADLGLPEDDLVLPDDVVQYIKAHASGALDEGTGQVYPTESTGFSDNPRLPSPGLHGQRRMVAADSNVGPSAPMLGGCQLGFGAPSSLNKNNMPVQWNEVSSGTVDALASQVKPPPFPQGNLAVVQQKPAFGQYPGYSPQGLQASPGGLDSTQPHLQPRSGAPSQGIPRVNYMQQLRQPVAGSQCPGMTTTMSPHACYGQVHPQLSPSTISGALNQFPQSCSNMPAKPGHLGHPQQTEVAPDPTTMGNRHRELGVPDSALAGVPPPHPVQSYPQQSHHLAASMSQEGYHQVPSLLPARQPGFMEPQTGPMGVATAGFGLVQPRPPLEPSPTGRHRGVRAVQQQLAYARATGHAMAAMPSSQETAEAVPKGAMGNMGSVPPQPPPQDAGGAPDHSMLYYYGQIHMYEQDGGLENLGSCQVMRSQPPQPQACQDSIQPQPLPSPGVNQVSSTVDSQLLEAPQIDFDAIMDDGDHSSLFSGALSPSLLHSLSQNSSRLTTPRNSLTLPSIPAGISNMAVGDMSSMLTSLAEESKFLNMMT']\n"
     ]
    }
   ],
   "source": [
    "from Bio.SeqFeature import SeqFeature, FeatureLocation\n",
    "for feat in record.features:\n",
    "    if feat.type == \"CDS\":\n",
    "        print(feat.qualifiers['translation'])"
   ]
  },
  {
   "cell_type": "code",
   "execution_count": 18,
   "id": "3e609d2d",
   "metadata": {},
   "outputs": [
    {
     "name": "stdout",
     "output_type": "stream",
     "text": [
      "['zinc finger protein GLI2 isoform 2']\n"
     ]
    }
   ],
   "source": [
    "from Bio.SeqFeature import SeqFeature, FeatureLocation\n",
    "for feat in record.features:\n",
    "    if feat.type == \"CDS\":\n",
    "        print(feat.qualifiers['product'])"
   ]
  },
  {
   "cell_type": "code",
   "execution_count": null,
   "id": "48f758c8",
   "metadata": {},
   "outputs": [],
   "source": []
  }
 ],
 "metadata": {
  "kernelspec": {
   "display_name": "Python 3 (ipykernel)",
   "language": "python",
   "name": "python3"
  },
  "language_info": {
   "codemirror_mode": {
    "name": "ipython",
    "version": 3
   },
   "file_extension": ".py",
   "mimetype": "text/x-python",
   "name": "python",
   "nbconvert_exporter": "python",
   "pygments_lexer": "ipython3",
   "version": "3.9.12"
  }
 },
 "nbformat": 4,
 "nbformat_minor": 5
}
