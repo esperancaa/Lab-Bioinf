{
 "cells": [
  {
   "cell_type": "code",
   "execution_count": 1,
   "id": "7f1b3b2d",
   "metadata": {},
   "outputs": [],
   "source": [
    "from Bio.SeqRecord import SeqRecord\n",
    "from Bio.Align import MultipleSeqAlignment\n",
    "from Bio.Seq import Seq\n",
    "from Bio import AlignIO\n",
    "from Bio.Blast import NCBIXML \n",
    "from Bio.Blast import NCBIWWW \n",
    "from Bio import SeqIO\n",
    "from Bio.Align import AlignInfo\n",
    "from Bio.SeqFeature import SeqFeature, FeatureLocation"
   ]
  },
  {
   "cell_type": "code",
   "execution_count": 2,
   "id": "b0241c4a",
   "metadata": {},
   "outputs": [
    {
     "name": "stdout",
     "output_type": "stream",
     "text": [
      "10001\n"
     ]
    }
   ],
   "source": [
    "record = SeqIO.read(open(\"10001bp_sequence_GLI2.gb\"), format=\"gb\") \n",
    "print (len(record.seq))"
   ]
  },
  {
   "cell_type": "code",
   "execution_count": 10,
   "id": "93be485f",
   "metadata": {},
   "outputs": [
    {
     "name": "stdout",
     "output_type": "stream",
     "text": [
      "['METSASATASEKQEAKSGILEAAGFPDPGKKASPLVVAAAAAAAVAAQGVPQHLLPPFHAPLPIDMRHQEGRYHYEPHSVHGVHGPPALSGSPVISDISLIRLSPHPAGPGESPFNAPHPYVNPHMEHYLRSVHSSPTLSMISAARGLSPADVAQEHLKERGLFGLPAPGTTPSDYYHQMTLVAGHPAPYGDLLMQSGGAASAPHLHDYLNPVDVSRFSSPRVTPRLSRKRALSISPLSDASLDLQRMIRTSPNSLVAYINNSRSSSAASGSYGHLSAGALSPAFTFPHPINPVAYQQILSQQRGLGSAFGHTPPLIQPSPTFLAQQPMALTSINATPTQLSSSSNCLSDTNQNKQSSESAVSSTVNPVAIHKRSKVKTEPEGLRPASPLALTQEQLADLKEDLDRDDCKQEAEVVIYETNCHWEDCTKEYDTQEQLVHHINNEHIHGEKKEFVCRWQACTREQKPFKAQYMLVVHMRRHTGEKPHKCTFEGCSKAYSRLENLKTHLRSHTGEKPYVCEHEGCNKAFSNASDRAKHQNRTHSNEKPYICKIPGCTKRYTDPSSLRKHVKTVHGPDAHVTKKQRNDVHLRTPLLKENGDSEAGTEPGGPESTEASSTSQAVEDCLHVRAIKTESSGLCQSSPGAQSSCSSEPSPLGSAPNNDSGVEMPGTGPGSLGDLTALDDTPPGADTSALAAPSAGGLQLRKHMTTMHRFEQLKKEKLKSLKDSCSWAGPTPHTRNTKLPPLPGSGSILENFSGSGGGGPAGLLPNPRLSELSASEVTMLSQLQERRDSSTSTVSSAYTVSRRSSGISPYFSSRRSSEASPLGAGRPHNASSADSYDPISTDASRRSSEASQCSGGSGLLNLTPAQQYSLRAKYAAATGGPPPTPLPGLERMSLRTRLALLDAPERTLPAGCPRPLGPRRGSDGPTYGHGHAGAAPAFPHEAPGGGARRASDPVRRPDALSLPRVQRFHSTHNVNPGPLPPCADRRGLRLQSHPSTDGGLARGAYSPRPPSISENVAMEAVAAGVDGAGPEADLGLPEDDLVLPDDVVQYIKAHASGALDEGTGQVYPTESTGFSDNPRLPSPGLHGQRRMVAADSNVGPSAPMLGGCQLGFGAPSSLNKNNMPVQWNEVSSGTVDALASQVKPPPFPQGNLAVVQQKPAFGQYPGYSPQGLQASPGGLDSTQPHLQPRSGAPSQGIPRVNYMQQLRQPVAGSQCPGMTTTMSPHACYGQVHPQLSPSTISGALNQFPQSCSNMPAKPGHLGHPQQTEVAPDPTTMGNRHRELGVPDSALAGVPPPHPVQSYPQQSHHLAASMSQEGYHQVPSLLPARQPGFMEPQTGPMGVATAGFGLVQPRPPLEPSPTGRHRGVRAVQQQLAYARATGHAMAAMPSSQETAEAVPKGAMGNMGSVPPQPPPQDAGGAPDHSMLYYYGQIHMYEQDGGLENLGSCQVMRSQPPQPQACQDSIQPQPLPSPGVNQVSSTVDSQLLEAPQIDFDAIMDDGDHSSLFSGALSPSLLHSLSQNSSRLTTPRNSLTLPSIPAGISNMAVGDMSSMLTSLAEESKFLNMMT']\n"
     ]
    }
   ],
   "source": [
    "Trans=[]\n",
    "record = SeqIO.read(open(\"10001bp_sequence_GLI2.gb\"), format=\"gb\") \n",
    "for feat in record.features:\n",
    "    if feat.type == \"CDS\":\n",
    "        Trans.append(str(feat.qualifiers['translation']))\n",
    "        print(feat.qualifiers['translation'])"
   ]
  },
  {
   "cell_type": "code",
   "execution_count": 6,
   "id": "0047200c",
   "metadata": {},
   "outputs": [
    {
     "data": {
      "text/plain": [
       "0"
      ]
     },
     "execution_count": 6,
     "metadata": {},
     "output_type": "execute_result"
    }
   ],
   "source": []
  },
  {
   "cell_type": "code",
   "execution_count": 13,
   "id": "dae5d047",
   "metadata": {},
   "outputs": [],
   "source": [
    "result_handle = NCBIWWW.qblast(\"blastp\", \"swissprot\", Trans)"
   ]
  },
  {
   "cell_type": "code",
   "execution_count": 15,
   "id": "78d7fe05",
   "metadata": {},
   "outputs": [],
   "source": [
    "\n",
    "with open('blast_PROT_GLI2_file.xml', \"w\") as out_handle:\n",
    "        out_handle.write(result_handle.read())\n",
    "result_handle.close()"
   ]
  },
  {
   "cell_type": "code",
   "execution_count": 16,
   "id": "ecdfd974",
   "metadata": {},
   "outputs": [
    {
     "name": "stdout",
     "output_type": "stream",
     "text": [
      "swissprot\n",
      "BLOSUM62\n",
      "(11, 1)\n",
      "50\n",
      "sp|P10070.4| RecName: Full=Zinc finger protein GLI2; AltName: Full=GLI family zinc finger protein 2; AltName: Full=Tax helper protein [Homo sapiens]\n",
      "           Length = 1586\n",
      "\n"
     ]
    }
   ],
   "source": [
    "results_Blast= open('blast_PROT_GLI2_file.xml')\n",
    "blast_records = NCBIXML.parse(results_Blast)\n",
    "for x in blast_records:\n",
    "    print(x.database)\n",
    "    print(x.matrix)\n",
    "    print(x.gap_penalties)\n",
    "    print(len(x.alignments))\n",
    "    print(x.alignments[0])"
   ]
  },
  {
   "cell_type": "code",
   "execution_count": 4,
   "id": "072972a6",
   "metadata": {},
   "outputs": [
    {
     "name": "stdout",
     "output_type": "stream",
     "text": [
      "sp|P10070.4| RecName: Full=Zinc finger protein GLI2; AltName: Full=GLI family zinc finger protein 2; AltName: Full=Tax helper protein [Homo sapiens]\n",
      "sp|Q0VGT2.2| RecName: Full=Zinc finger protein GLI2; AltName: Full=Tax helper protein [Mus musculus]\n",
      "sp|Q91661.1| RecName: Full=Zinc finger protein GLI4; AltName: Full=Neural-specific DNA-binding protein xGLI4; Short=xGLI-4 [Xenopus laevis]\n",
      "sp|Q9IA31.1| RecName: Full=Transcriptional activator GLI3; AltName: Full=GLI3 full-length protein; Short=GLI3FL; Contains: RecName: Full=Transcriptional repressor GLI3R; AltName: Full=GLI3 C-terminally truncated form [Gallus gallus]\n",
      "sp|P55879.1| RecName: Full=Zinc finger protein GLI2 [Gallus gallus]\n",
      "sp|Q91660.1| RecName: Full=Zinc finger protein GLI3; AltName: Full=Neural-specific DNA-binding protein xGLI3; Short=xGLI-3 [Xenopus laevis]\n",
      "sp|P10071.6| RecName: Full=Transcriptional activator GLI3; AltName: Full=GLI3 form of 190 kDa; Short=GLI3-190; AltName: Full=GLI3 full-length protein; Short=GLI3FL; Contains: RecName: Full=Transcriptional repressor GLI3R; AltName: Full=GLI3 C-terminally truncated form; AltName: Full=GLI3 form of 83 kDa; Short=GLI3-83 [Homo sapiens]\n",
      "sp|Q5IS56.1| RecName: Full=Transcriptional activator GLI3; AltName: Full=GLI3 form of 190 kDa; Short=GLI3-190; AltName: Full=GLI3 full-length protein; Short=GLI3FL; Contains: RecName: Full=Transcriptional repressor GLI3R; AltName: Full=GLI3 C-terminally truncated form; AltName: Full=GLI3 form of 83 kDa; Short=GLI3-83 [Pan troglodytes]\n",
      "sp|Q61602.2| RecName: Full=Transcriptional activator GLI3; AltName: Full=GLI3 form of 190 kDa; Short=GLI3-190; AltName: Full=GLI3 full-length protein; Short=GLI3FL; Contains: RecName: Full=Transcriptional repressor GLI3R; AltName: Full=GLI3 C-terminally truncated form; AltName: Full=GLI3 form of 83 kDa; Short=GLI3-83 [Mus musculus]\n",
      "sp|Q91690.2| RecName: Full=Zinc finger protein GLI1; Short=GLI-1 [Xenopus laevis]\n",
      "sp|P55878.1| RecName: Full=Zinc finger protein GLI1; Short=GLI [Gallus gallus]\n",
      "sp|P08151.1| RecName: Full=Zinc finger protein GLI1; AltName: Full=Glioma-associated oncogene; AltName: Full=Oncogene GLI [Homo sapiens]\n",
      "sp|P47806.4| RecName: Full=Zinc finger protein GLI1; AltName: Full=Glioma-associated oncogene homolog [Mus musculus]\n",
      "sp|P19538.2| RecName: Full=Transcriptional activator cubitus interruptus; Short=Transcriptional activator ci; AltName: Full=ci form of 155 kDa; Short=ci-155; AltName: Full=ci full-length protein; Short=ciFL; Contains: RecName: Full=Transcriptional repressor cubitus interruptus; Short=Transcriptional repressor ci; AltName: Full=ci C-terminally truncated form; AltName: Full=ci form of 75 kDa; Short=ci-75 [Drosophila melanogaster]\n",
      "sp|Q8NEA6.5| RecName: Full=Zinc finger protein GLIS3; AltName: Full=GLI-similar 3; AltName: Full=Zinc finger protein 515 [Homo sapiens]\n",
      "sp|Q6XP49.2| RecName: Full=Zinc finger protein GLIS3; AltName: Full=GLI-similar 3 [Mus musculus]\n",
      "sp|Q8NBF1.2| RecName: Full=Zinc finger protein GLIS1; AltName: Full=GLI-similar 1 [Homo sapiens]\n",
      "sp|Q8K1M4.2| RecName: Full=Zinc finger protein GLIS1; AltName: Full=GLI-similar 1; AltName: Full=Gli homologous protein 1; Short=GliH1 [Mus musculus]\n",
      "sp|P34708.1| RecName: Full=Sex-determining transformer protein 1; AltName: Full=Hermaphrodization of XO animals protein 2 [Caenorhabditis elegans]\n",
      "sp|Q17308.1| RecName: Full=Sex-determining transformer protein 1; Short=Cbr-tra-1 [Caenorhabditis briggsae]\n",
      "sp|Q98T94.1| RecName: Full=Zinc finger protein GLIS2; AltName: Full=GLI-similar 2; AltName: Full=Neuronal Krueppel-like protein [Xenopus laevis]\n",
      "sp|Q9BZE0.2| RecName: Full=Zinc finger protein GLIS2; AltName: Full=GLI-similar 2; AltName: Full=Neuronal Krueppel-like protein [Homo sapiens]\n",
      "sp|Q8VDL9.1| RecName: Full=Zinc finger protein GLIS2; AltName: Full=GLI-similar 2; AltName: Full=Neuronal Krueppel-like protein; AltName: Full=Zinc finger protein GLI5 [Mus musculus]\n",
      "sp|Q7K0S9.1| RecName: Full=Zinc finger protein GLIS2 homolog; AltName: Full=Protein sugarbabe [Drosophila melanogaster]\n",
      "sp|Q61467.2| RecName: Full=Zinc finger protein ZIC 4; AltName: Full=Zinc finger protein of the cerebellum 4 [Mus musculus]\n",
      "sp|Q9IB89.1| RecName: Full=Zinc finger protein ZIC 5; Short=XZic5; Short=XlZic5; AltName: Full=Zinc finger protein of the cerebellum 5 [Xenopus laevis]\n",
      "sp|O77027.1| RecName: Full=Protein cubitus interruptus [Drosophila yakuba]\n",
      "sp|Q8N9L1.3| RecName: Full=Zinc finger protein ZIC 4; AltName: Full=Zinc finger protein of the cerebellum 4 [Homo sapiens]\n",
      "sp|Q7TQ40.1| RecName: Full=Zinc finger protein ZIC 5; AltName: Full=Odd paired-related protein; Short=Opa-related protein; AltName: Full=Zinc finger protein of the cerebellum 5 [Mus musculus]\n",
      "sp|A0JC51.1| RecName: Full=Zinc finger protein ZIC 4; Short=XlZic4; AltName: Full=Zinc finger protein of the cerebellum 4 [Xenopus laevis]\n",
      "sp|Q96T25.2| RecName: Full=Zinc finger protein ZIC 5; AltName: Full=Zinc finger protein of the cerebellum 5 [Homo sapiens]\n",
      "sp|O60481.1| RecName: Full=Zinc finger protein ZIC 3; AltName: Full=Zinc finger protein 203; AltName: Full=Zinc finger protein of the cerebellum 3 [Homo sapiens]\n",
      "sp|Q9YIB7.1| RecName: Full=Zinc finger protein ZIC 2-B; AltName: Full=Zic-related-2; Short=ZIC-R2; AltName: Full=Zinc finger protein of the cerebellum 2-B [Xenopus laevis]\n",
      "sp|Q91689.2| RecName: Full=Zinc finger protein ZIC 2-A; AltName: Full=Zinc finger DNA-binding protein fZic; AltName: Full=Zinc finger protein ZIC 2; Short=XlZic2; Short=xZic2; AltName: Full=Zinc finger protein of the cerebellum 2-A [Xenopus laevis]\n",
      "sp|O95409.2| RecName: Full=Zinc finger protein ZIC 2; AltName: Full=Zinc finger protein of the cerebellum 2 [Homo sapiens]\n",
      "sp|Q62520.2| RecName: Full=Zinc finger protein ZIC 2; AltName: Full=Zinc finger protein of the cerebellum 2 [Mus musculus]\n",
      "sp|Q62521.2| RecName: Full=Zinc finger protein ZIC 3; AltName: Full=Zinc finger protein of the cerebellum 3 [Mus musculus]\n",
      "sp|Q8JJC0.1| RecName: Full=Zinc finger protein ZIC 1; AltName: Full=Zinc finger protein of the cerebellum 1 [Gallus gallus]\n",
      "sp|O73689.1| RecName: Full=Zinc finger protein ZIC 1; Short=XZic1; Short=XlZic1; AltName: Full=ODD-paired-like; Short=Xopl; AltName: Full=ZIC-related protein 1; Short=ZIC-r1; AltName: Full=Zinc finger protein of the cerebellum 1 [Xenopus laevis]\n",
      "sp|Q15915.2| RecName: Full=Zinc finger protein ZIC 1; AltName: Full=Zinc finger protein 201; AltName: Full=Zinc finger protein of the cerebellum 1 [Homo sapiens]\n",
      "sp|P46684.2| RecName: Full=Zinc finger protein ZIC 1; AltName: Full=Zinc finger protein of the cerebellum 1 [Mus musculus]\n",
      "sp|P39768.2| RecName: Full=Pair-rule protein odd-paired [Drosophila melanogaster]\n",
      "sp|Q6DJQ6.1| RecName: Full=Zinc finger protein ZIC 3; AltName: Full=Zinc finger protein of the cerebellum 3 [Xenopus tropicalis]\n",
      "sp|O57311.3| RecName: Full=Zinc finger protein ZIC 3; Short=XZic3; Short=XlZic3; AltName: Full=Zinc finger protein Zic3-A; AltName: Full=Zinc finger protein of the cerebellum 3 [Xenopus laevis]\n",
      "sp|A6QQW0.1| RecName: Full=Zinc finger protein 143; AltName: Full=Selenocysteine tRNA gene transcription-activating factor [Bos taurus]\n",
      "sp|Q91853.2| RecName: Full=Zinc finger protein 143; AltName: Full=Selenocysteine tRNA gene transcription-activating factor [Xenopus laevis]\n",
      "sp|P52747.2| RecName: Full=Zinc finger protein 143; AltName: Full=SPH-binding factor; AltName: Full=Selenocysteine tRNA gene transcription-activating factor; Short=hStaf [Homo sapiens]\n",
      "sp|Q58DZ6.2| RecName: Full=Zinc finger protein 143; AltName: Full=Selenocysteine tRNA gene transcription-activating factor [Xenopus tropicalis]\n",
      "sp|Q1LYE3.2| RecName: Full=Zinc finger protein 143; AltName: Full=Selenocysteine tRNA gene transcription-activating factor [Danio rerio]\n",
      "sp|Q14872.2| RecName: Full=Metal regulatory transcription factor 1; AltName: Full=MRE-binding transcription factor; AltName: Full=Transcription factor MTF-1 [Homo sapiens]\n"
     ]
    }
   ],
   "source": [
    "results_Blast= open('blast_PROT_GLI2_file.xml')\n",
    "blast_records = NCBIXML.read(results_Blast)\n",
    "for alignment in  blast_records.descriptions:\n",
    "    print(alignment.title)\n"
   ]
  },
  {
   "cell_type": "code",
   "execution_count": null,
   "id": "ca0098ae",
   "metadata": {},
   "outputs": [],
   "source": []
  }
 ],
 "metadata": {
  "kernelspec": {
   "display_name": "Python 3 (ipykernel)",
   "language": "python",
   "name": "python3"
  },
  "language_info": {
   "codemirror_mode": {
    "name": "ipython",
    "version": 3
   },
   "file_extension": ".py",
   "mimetype": "text/x-python",
   "name": "python",
   "nbconvert_exporter": "python",
   "pygments_lexer": "ipython3",
   "version": "3.9.12"
  }
 },
 "nbformat": 4,
 "nbformat_minor": 5
}
