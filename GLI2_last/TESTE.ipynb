{
 "cells": [
  {
   "cell_type": "code",
   "execution_count": 1,
   "id": "e7c16a4a",
   "metadata": {},
   "outputs": [],
   "source": [
    "from Bio.Blast import NCBIXML \n",
    "from Bio.Blast import NCBIWWW\n",
    "import requests, sys, json\n",
    "import re\n",
    "from Bio import SeqIO\n",
    "from Bio import Entrez\n",
    "from Bio import Medline\n",
    "import pandas as pd\n",
    "import numpy as np\n",
    "from tqdm import tqdm\n",
    "from Bio import SearchIO\n",
    "from Bio.SwissProt import KeyWList\n",
    "from Bio import SwissProt\n",
    "from Bio import ExPASy\n",
    "from Bio.SeqRecord import SeqRecord\n",
    "from Bio.Align import MultipleSeqAlignment\n",
    "from Bio.Seq import Seq\n",
    "from Bio import AlignIO\n",
    "from Bio.Align import AlignInfo\n",
    "from Bio.SeqFeature import SeqFeature, FeatureLocation\n",
    "from Bio.Phylo.TreeConstruction import DistanceCalculator\n",
    "from Bio.Phylo.TreeConstruction import DistanceTreeConstructor\n",
    "from Bio import Phylo"
   ]
  },
  {
   "cell_type": "code",
   "execution_count": 2,
   "id": "3f6defb5",
   "metadata": {},
   "outputs": [
    {
     "name": "stdout",
     "output_type": "stream",
     "text": [
      "NM_006773.4 Homo sapiens DEAD-box helicase 18 (DDX18), mRNA\n",
      "AC009312.4 Homo sapiens BAC clone RP11-425F6 from 2, complete sequence\n",
      "AC009404.5 Homo sapiens BAC clone RP11-28H22 from 2, complete sequence\n",
      "CM000253.1 Homo sapiens chromosome 2, whole genome shotgun sequence\n",
      "CH471103.1 Homo sapiens 211000035839809 genomic scaffold, whole genome shotgun sequence\n",
      "DQ655976.2 Homo sapiens clone Affy08254D01, mRNA sequence\n",
      "DQ655975.2 Homo sapiens clone Affy08248B12, mRNA sequence\n",
      "NT_086328.2 Homo sapiens chromosome 2 sequence, ENCODE region ENr121\n"
     ]
    }
   ],
   "source": [
    "database =\"nucleotide\"\n",
    "word = \"ddx18 and homo sapiens and Chromosome 2 and not predicted and not unverified\"\n",
    "res= \"30\"\n",
    "Entrez.email=\"guilherme.lobo@ua.pt\"\n",
    "handle=Entrez.esearch(db = database, term=word, retmax= res)\n",
    "record=Entrez.read(handle)\n",
    "handle.close()\n",
    "idlist= record['IdList']\n",
    "\n",
    "handle = Entrez.efetch(db=database, id=idlist, rettype=\"gb\") \n",
    "records = list(SeqIO.parse(handle,\"gb\"))\n",
    "handle.close()\n",
    "for x in records:\n",
    "    print(x.id,x.description)"
   ]
  },
  {
   "cell_type": "code",
   "execution_count": 3,
   "id": "bf5dd211",
   "metadata": {},
   "outputs": [
    {
     "name": "stdout",
     "output_type": "stream",
     "text": [
      "Record sequence length:  3753\n",
      "Record features count:  27\n",
      "Nuclleotide sequence: ACGTGCGGCCGGAAGGGAAGTAACGTCAGCCTGAGAACTGAGTAGCTGTACTGTGTGGCGCCTTATTCTAGGCACTTGTTGGGCAGAATGTCACACCTGCCGATGAAACTCCTGCGTAAGAAGATCGAGAAGCGGAACCTCAAATTGCGGCAGCGGAACCTAAAGTTTCAGGGGGCCTCAAATCTGACCCTATCGGAAACTCAAAATGGAGATGTATCTGAAGAAACAATGGGAAGTAGAAAGGTTAAAAAATCAAAACAAAAGCCCATGAATGTGGGCTTATCAGAAACTCAAAATGGAGGCATGTCTCAAGAAGCAGTGGGAAATATAAAAGTTACAAAGTCTCCCCAGAAATCCACTGTATTAACCAATGGAGAAGCAGCAATGCAGTCTTCCAATTCAGAATCAAAAAAGAAAAAGAAGAAAAAGAGAAAAATGGTGAATGATGCTGAGCCTGATACGAAAAAAGCAAAAACTGAAAACAAAGGGAAATCTGAAGAAGAAAGTGCCGAGACTACTAAAGAAACAGAAAATAATGTGGAGAAGCCAGATAATGATGAAGATGAGAGTGAGGTGCCCAGTCTGCCCCTGGGACTGACAGGAGCTTTTGAGGATACTTCGTTTGCTTCTCTATGTAATCTTGTCAATGAAAACACTCTGAAGGCAATAAAAGAAATGGGTTTTACAAACATGACTGAAATTCAGCATAAAAGTATCAGACCACTTCTGGAAGGCAGGGATCTTCTAGCAGCTGCAAAAACAGGCAGTGGTAAAACCCTGGCTTTTCTCATCCCTGCAGTTGAACTCATTGTTAAGTTAAGGTTCATGCCCAGGAATGGAACAGGAGTCCTTATTCTCTCACCTACTAGAGAACTAGCCATGCAAACCTTTGGTGTTCTTAAGGAGCTGATGACTCACCACGTGCATACCTATGGCTTGATAATGGGTGGCAGTAACAGATCTGCTGAAGCACAGAAACTTGGTAATGGGATCAACATCATTGTGGCCACACCAGGCCGTCTGCTGGACCATATGCAGAATACCCCAGGATTTATGTATAAAAACCTGCAGTGTCTGGTTATTGATGAAGCTGATCGTATCTTGGATGTGGGGTTTGAAGAGGAATTAAAGCAAATTATTAAACTTTTGCCAACACGTAGACAGACTATGCTCTTTTCTGCCACCCAAACTCGAAAAGTTGAAGACCTGGCAAGGATTTCTCTGAAAAAGGAGCCATTGTATGTTGGCGTTGATGATGATAAAGCGAATGCAACAGTGGATGGTCTTGAACAGGGATATGTTGTTTGTCCTTCTGAAAAGAGATTCCTTCTGCTCTTTACATTCCTTAAGAAGAACCGAAAGAAGAAGCTTATGGTCTTCTTTTCATCTTGTATGTCTGTGAAATACCACTATGAGTTGCTGAACTACATTGATTTGCCCGTCTTGGCCATTCATGGAAAGCAAAAGCAAAATAAGCGTACAACCACATTCTTCCAGTTCTGCAATGCAGATTCGGGAACACTATTGTGTACGGATGTGGCAGCGAGAGGACTAGACATTCCTGAAGTCGACTGGATTGTTCAGTATGACCCTCCGGATGACCCTAAGGAATATATTCATCGTGTGGGTAGAACAGCCAGAGGCCTAAATGGGAGAGGGCATGCCTTGCTCATTTTGCGCCCAGAAGAATTGGGTTTTCTTCGCTACTTGAAACAATCCAAGGTTCCATTAAGTGAATTTGACTTTTCCTGGTCTAAAATTTCTGACATTCAGTCTCAGCTTGAGAAATTGATTGAAAAGAATTACTTTCTTCATAAGTCAGCCCAGGAAGCATATAAGTCATACATACGAGCCTATGATTCCCATTCTCTGAAACAGATCTTTAATGTTAATAACCTAAATTTGCCTCAGGTTGCTCTGTCATTTGGTTTCAAGGTGCCTCCCTTCGTTGATCTGAACGTCAACAGTAATGAAGGCAAGCAGAAAAAGCGAGGAGGTGGTGGTGGATTTGGCTACCAGAAAACCAAGAAAGTTGAGAAATCCAAAATCTTTAAACACATTAGCAAGAAATCATCTGACAGCAGGCAGTTCTCTCACTGAACACATGCCTTCCTTTCATCTTGAATAACTTTGTCCTAAAATGAATTTTTTTTCCCCTTGATTTAACAGGATTTTTGTAGACTTTAGAATTTGGACTTACCTAACAAGAGTATAAATTGACTTGGGTTGCAAGCACTGAGCACTGTTACTTCTATCACGTCTCTCTTTTATTTCTGGGATATAAAACAGGCTTTAAGTTTCTTGGTTGCCCAAGGGCAGAGCAAGGAATATCTGGTGTTTCTTGTGATGATAATATTTTAATTTTAAATATCCCTCCCTCATACAAGTGTATGTTACCATTTTAATATAATTCTTTTTGTACCTTTCCTTCTTGTTTTGCGAAGATTTTTGTGGCATGGATTGCTGTGCTCACTGCTGTAAAAGGTGACCTAGTGTACTGGGCAGCTGGTGGCGGTGCAGAAAAGAGTCTCAGGTTATTTTTTGTTTTTAGTTATTTCTTGGACCTTGACAGTATCTAATGACTCCTCCTGAAAATGCTGCAGTATAAAAGAGCAAAGAGCTTTGGGAAATACCTAAGAAGCACCTTAAGATTAGGGTGGCATTGCTTTTATAGATTCTTGATTTTAAAGCAACAGGCCTTTCTCAGGTGTTGCATTTTTTGGAGCAAAAACTATGGGTTGTAATTTGAATAAAGTGTCACTAAGCAGTTATAACGTTTGATGGCTGGGGGGTAGGAAGAGGATGGAATTGAGATGTTTGAGCCTCATTTACATCAATAGAGGTGTAATGTACTGCATTTCTTCATTTGGTAACATAACAAAGACTTTCATACAAAGAACGATGATGCTCCTCATTAAGATTTGTTTAATTCAAGGTGGTTTGGATTTGGTAAGCCTTTGCACTCTGTAGAGTACTTAGAAGACAAGGGCAACTTACTTGGAGTTAGAGCCAAGCTGTCAGACGGTGCCCAGCACACATTAATGTTAGCTTCTTTCTGAGAAAAAAATACCTCTTCCAGGCCCTGAAACAAAAAATACATTTGCTGTGAAGATTGAAAATGAACAAAGTTAGAAAAAAAAACAGCAAAATCAGTGATTTAGTCAGATGAGTTTTTCGTTGTAGGAGCACTTGATTTCTAGTGTGTTTTGTACAGTATATAACTACAAGATAGTACATTTTGTAGCAGTTCAAAGCCAAAGTTGCTAGCATCATTTTGCTGTTGTGCCAGTTAATCATAGGATCCCATTAAATAAGTGTGCTAACATCGAATATAGAGAAAACTGGTAAAGAACATTCCAGTAGGAAAAGAAAAGAACAATCTTCCATTTCTGGGCTTGGCCACCATCACCCTGGTCGGACCTGTCCTGGACTTCCAACCTTGACTGCTGAGCTCCTGGCTTAGCTTCTTGGGTTCCTAATTCCTGGTGTTTAATAATTCTCTCCACGATCATGTTTTTCTGATTTTTTTTTTCAGAAATAATGTTTTTTAAAAGACAAAAACAAAGGGAAGAATATTTAATTACTGAGCAGAAGTAAATACTGTTGGCATTTTGTACATAATCTAATTTTTATATGCATGTTCATGCTTTTTAATTTTTTTATCAAAAATTAAGTCATCTACCTACTACTTGTAACCAGCTTGTTTCATAACATGTTATTTTCCTGTGTCATTAAATAATTACTTCAATGTTG\n",
      "ddx18 gene synonyms: ['Has1; MrDb']\n",
      "name: ['ATP-dependent RNA helicase DDX18']\n",
      "Protein sequence: ['MSHLPMKLLRKKIEKRNLKLRQRNLKFQGASNLTLSETQNGDVSEETMGSRKVKKSKQKPMNVGLSETQNGGMSQEAVGNIKVTKSPQKSTVLTNGEAAMQSSNSESKKKKKKKRKMVNDAEPDTKKAKTENKGKSEEESAETTKETENNVEKPDNDEDESEVPSLPLGLTGAFEDTSFASLCNLVNENTLKAIKEMGFTNMTEIQHKSIRPLLEGRDLLAAAKTGSGKTLAFLIPAVELIVKLRFMPRNGTGVLILSPTRELAMQTFGVLKELMTHHVHTYGLIMGGSNRSAEAQKLGNGINIIVATPGRLLDHMQNTPGFMYKNLQCLVIDEADRILDVGFEEELKQIIKLLPTRRQTMLFSATQTRKVEDLARISLKKEPLYVGVDDDKANATVDGLEQGYVVCPSEKRFLLLFTFLKKNRKKKLMVFFSSCMSVKYHYELLNYIDLPVLAIHGKQKQNKRTTTFFQFCNADSGTLLCTDVAARGLDIPEVDWIVQYDPPDDPKEYIHRVGRTARGLNGRGHALLILRPEELGFLRYLKQSKVPLSEFDFSWSKISDIQSQLEKLIEKNYFLHKSAQEAYKSYIRAYDSHSLKQIFNVNNLNLPQVALSFGFKVPPFVDLNVNSNEGKQKKRGGGGGFGYQKTKKVEKSKIFKHISKKSSDSRQFSH']\n",
      "Location: [0:3753](+)\n",
      "Strand: 1\n",
      "Gene: ['DDX18']\n"
     ]
    }
   ],
   "source": [
    "for rec in records:\n",
    "    #print(rec)\n",
    "    if rec.id == \"NM_006773.4\":\n",
    "        print(\"Record sequence length: \", len(rec.seq))\n",
    "        print(\"Record features count: \", len(rec.features))\n",
    "        print( \"Nuclleotide sequence:\", str(rec.seq)) #useful for blastn\n",
    "        \n",
    "        cds = []\n",
    "        for i,feature in enumerate(rec.features):\n",
    "            if feature.type==\"CDS\":\n",
    "                cds.append(i)\n",
    "                for k in cds:\n",
    "                    print(\"ddx18 gene synonyms:\",rec.features[k].qualifiers[\"gene_synonym\"])#can help latter in the search\n",
    "                    print(\"name:\",rec.features[k].qualifiers[\"product\"])\n",
    "                    protein_ID=rec.features[k].qualifiers[\"protein_id\"]\n",
    "                    sequence_protein=rec.features[k].qualifiers[\"translation\"]#get the protein seq of my cds\n",
    "                    print(\"Protein sequence:\",sequence_protein)\n",
    "        gene = []\n",
    "        for j in range(len(rec.features)):\n",
    "            if rec.features[j].type == \"gene\":\n",
    "                gene.append(j)\n",
    "                for g in gene:\n",
    "                    print(\"Location:\",rec.features[g].location)\n",
    "                    print(\"Strand:\",rec.features[g].location.strand)\n",
    "                    print(\"Gene:\",rec.features[g].qualifiers[\"gene\"])"
   ]
  },
  {
   "cell_type": "code",
   "execution_count": 5,
   "id": "a86d46ac",
   "metadata": {},
   "outputs": [
    {
     "name": "stdout",
     "output_type": "stream",
     "text": [
      "3755\n"
     ]
    }
   ],
   "source": [
    "record = SeqIO.read(open(\"Gui.fasta\"), format=\"fasta\") \n",
    "print (len(record.seq))"
   ]
  },
  {
   "cell_type": "code",
   "execution_count": 6,
   "id": "b8e3412e",
   "metadata": {},
   "outputs": [],
   "source": [
    "Blast = NCBIWWW.qblast(\"blastn\", \"nt\", record.seq)\n",
    "with open('Gui_bla.xml', \"w\") as out_handle:\n",
    "        out_handle.write(Blast.read())\n",
    "Blast.close()"
   ]
  },
  {
   "cell_type": "code",
   "execution_count": null,
   "id": "fb0ed3d7",
   "metadata": {},
   "outputs": [],
   "source": [
    "with open('fasta_DNA_.xml', \"w\") as out_handle:\n",
    "        out_handle.write(sequence_nucleotide_DDX18.read())\n",
    "sequence_nucleotide_DDX18.close()"
   ]
  },
  {
   "cell_type": "code",
   "execution_count": 7,
   "id": "c5071e02",
   "metadata": {},
   "outputs": [
    {
     "name": "stdout",
     "output_type": "stream",
     "text": [
      "\n",
      "Accession:  NM_006773\n",
      "Definition:  Homo sapiens DEAD-box helicase 18 (DDX18), mRNA\n",
      "E-value:  0.0\n",
      "E-value:  0.0220792\n",
      "E-value:  0.0220792\n",
      "\n",
      "Accession:  BC024739\n",
      "Definition:  Homo sapiens DEAD (Asp-Glu-Ala-Asp) box polypeptide 18, mRNA (cDNA clone MGC:29902 IMAGE:4995871), complete cds\n",
      "E-value:  0.0\n",
      "E-value:  0.0220792\n",
      "E-value:  0.0220792\n",
      "\n",
      "Accession:  XM_003819127\n",
      "Definition:  PREDICTED: Pan paniscus DEAD-box helicase 18 (DDX18), mRNA\n",
      "E-value:  0.0\n",
      "E-value:  0.000519252\n",
      "E-value:  0.0220792\n",
      "\n",
      "Accession:  XM_515753\n",
      "Definition:  PREDICTED: Pan troglodytes DEAD-box helicase 18 (DDX18), mRNA\n",
      "E-value:  0.0\n",
      "E-value:  0.0220792\n",
      "E-value:  0.0220792\n",
      "\n",
      "Accession:  XM_004031662\n",
      "Definition:  PREDICTED: Gorilla gorilla gorilla DEAD-box helicase 18 (DDX18), mRNA\n",
      "E-value:  0.0\n",
      "E-value:  1.00239e-06\n",
      "E-value:  0.000519252\n"
     ]
    }
   ],
   "source": [
    "results_Blastn = open(\"Gui_bla.xml\")\n",
    "blastn_records = NCBIXML.read(results_Blastn)\n",
    "for parameter in blastn_records.alignments[0:5]:\n",
    "    print()\n",
    "    print('Accession: ', parameter.accession)\n",
    "    print('Definition: ', parameter.hit_def)    \n",
    "    for e_v in parameter.hsps:\n",
    "        print('E-value: ', e_v.expect)"
   ]
  },
  {
   "cell_type": "code",
   "execution_count": 10,
   "id": "d7e52917",
   "metadata": {},
   "outputs": [],
   "source": [
    "Trans=['MSHLPMKLLRKKIEKRNLKLRQRNLKFQGASNLTLSETQNGDVSEETMGSRKVKKSKQKPMNVGLSETQNGGMSQEAVGNIKVTKSPQKSTVLTNGEAAMQSSNSESKKKKKKKRKMVNDAEPDTKKAKTENKGKSEEESAETTKETENNVEKPDNDEDESEVPSLPLGLTGAFEDTSFASLCNLVNENTLKAIKEMGFTNMTEIQHKSIRPLLEGRDLLAAAKTGSGKTLAFLIPAVELIVKLRFMPRNGTGVLILSPTRELAMQTFGVLKELMTHHVHTYGLIMGGSNRSAEAQKLGNGINIIVATPGRLLDHMQNTPGFMYKNLQCLVIDEADRILDVGFEEELKQIIKLLPTRRQTMLFSATQTRKVEDLARISLKKEPLYVGVDDDKANATVDGLEQGYVVCPSEKRFLLLFTFLKKNRKKKLMVFFSSCMSVKYHYELLNYIDLPVLAIHGKQKQNKRTTTFFQFCNADSGTLLCTDVAARGLDIPEVDWIVQYDPPDDPKEYIHRVGRTARGLNGRGHALLILRPEELGFLRYLKQSKVPLSEFDFSWSKISDIQSQLEKLIEKNYFLHKSAQEAYKSYIRAYDSHSLKQIFNVNNLNLPQVALSFGFKVPPFVDLNVNSNEGKQKKRGGGGGFGYQKTKKVEKSKIFKHISKKSSDSRQFSH']"
   ]
  },
  {
   "cell_type": "code",
   "execution_count": 11,
   "id": "30cd1bec",
   "metadata": {},
   "outputs": [],
   "source": [
    "result_handle = NCBIWWW.qblast(\"blastp\", \"swissprot\", Trans)"
   ]
  },
  {
   "cell_type": "code",
   "execution_count": 12,
   "id": "418d13be",
   "metadata": {},
   "outputs": [],
   "source": [
    "with open('GUI_BLAP.xml', \"w\") as out_handle:\n",
    "        out_handle.write(result_handle.read())\n",
    "result_handle.close()"
   ]
  },
  {
   "cell_type": "code",
   "execution_count": 14,
   "id": "068b05e5",
   "metadata": {},
   "outputs": [
    {
     "name": "stdout",
     "output_type": "stream",
     "text": [
      "\n",
      "Accession:  Q9NVP1\n",
      "Definition:  RecName: Full=ATP-dependent RNA helicase DDX18; AltName: Full=DEAD box protein 18; AltName: Full=Myc-regulated DEAD box protein; Short=MrDb [Homo sapiens]\n",
      "E-value:  0.0\n",
      "\n",
      "Accession:  Q8K363\n",
      "Definition:  RecName: Full=ATP-dependent RNA helicase DDX18; AltName: Full=DEAD box protein 18 [Mus musculus]\n",
      "E-value:  0.0\n",
      "\n",
      "Accession:  Q9VD51\n",
      "Definition:  RecName: Full=Probable ATP-dependent RNA helicase pitchoune [Drosophila melanogaster]\n",
      "E-value:  0.0\n",
      "\n",
      "Accession:  Q1EA54\n",
      "Definition:  RecName: Full=ATP-dependent RNA helicase HAS1 [Coccidioides immitis RS]\n",
      "E-value:  0.0\n",
      "\n",
      "Accession:  A4R8B5\n",
      "Definition:  RecName: Full=ATP-dependent RNA helicase HAS1 [Pyricularia oryzae 70-15]\n",
      "E-value:  0.0\n"
     ]
    }
   ],
   "source": [
    "results_Blastp = open(\"GUI_BLAP.xml\")\n",
    "blastp_records = NCBIXML.read(results_Blastp)\n",
    "for parameter in blastp_records.alignments[0:5]:\n",
    "    print()\n",
    "    print('Accession: ', parameter.accession)\n",
    "    print('Definition: ', parameter.hit_def)    \n",
    "    for e_v in parameter.hsps:\n",
    "        print('E-value: ', e_v.expect)"
   ]
  },
  {
   "cell_type": "code",
   "execution_count": 17,
   "id": "f25ff0ad",
   "metadata": {},
   "outputs": [
    {
     "name": "stdout",
     "output_type": "stream",
     "text": [
      "Q9NVP1\n",
      "Q8K363\n",
      "Q9VD51\n",
      "Q1EA54\n",
      "A4R8B5\n",
      "A1CIQ5\n",
      "Q5BBY1\n",
      "Q4IEK8\n",
      "A1CW14\n",
      "Q4WQM4\n",
      "A2Q9T6\n",
      "Q0UR48\n",
      "Q54S03\n",
      "A3LNR6\n",
      "Q2UUN6\n",
      "Q7S2N9\n",
      "Q09916\n",
      "Q03532\n",
      "Q6CXB7\n",
      "Q6BH93\n",
      "Q6FIL3\n",
      "Q74Z73\n",
      "P0CQ84\n",
      "A5E2Z9\n",
      "A5DID7\n",
      "Q6C7D2\n",
      "Q4P6N0\n",
      "Q0CZS8\n",
      "Q5AK59\n",
      "Q2GMX1\n",
      "Q84T03\n",
      "Q9LIH9\n",
      "Q9SB89\n",
      "Q0DBS1\n",
      "Q13206\n",
      "Q80Y44\n",
      "Q5ZJF6\n",
      "A1CTZ2\n",
      "Q4P5U4\n",
      "Q1EB31\n",
      "Q0CMM5\n",
      "Q4WM60\n",
      "A1DNF9\n",
      "A7ESL8\n",
      "Q2H2J1\n",
      "Q5BFU1\n",
      "Q0UMB9\n",
      "Q2UHB7\n",
      "A2QS00\n",
      "Q54Q94\n"
     ]
    }
   ],
   "source": [
    "results_Blast= open('GUI_BLAP.xml')\n",
    "blast_records = NCBIXML.read(results_Blast)\n",
    "for alignment in  blast_records.alignments:\n",
    "    #print (alignment.hit_id)\n",
    "    m = alignment.hit_id.replace(\"sp|\",\"\")\n",
    "    a=m[0:6]\n",
    "    print (a)\n",
    "    "
   ]
  },
  {
   "cell_type": "code",
   "execution_count": null,
   "id": "071627f7",
   "metadata": {},
   "outputs": [],
   "source": [
    "Q9NVP1\n",
    "Q8K363\n",
    "Q9VD51\n",
    "Q1EA54\n",
    "A4R8B5\n",
    "A1CIQ5\n",
    "Q5BBY1\n",
    "Q4IEK8\n",
    "A1CW14\n",
    "Q4WQM4\n",
    "A2Q9T6\n",
    "Q0UR48\n",
    "Q54S03\n",
    "A3LNR6\n",
    "Q2UUN6\n",
    "Q7S2N9\n",
    "Q09916\n",
    "Q03532\n",
    "Q6CXB7\n",
    "Q6BH93\n",
    "Q6FIL3\n",
    "Q74Z73\n",
    "P0CQ84"
   ]
  },
  {
   "cell_type": "code",
   "execution_count": null,
   "id": "62a5db96",
   "metadata": {},
   "outputs": [],
   "source": [
    "#saving the CDS_nucleotides and CD_aminoacid seqs in files\n",
    "filename_CDS_nucl = \"CDS_nucleot_GLI2_seq.fasta\"\n",
    "filename_CDS_prot = \"CDS_prot_GLI2_seq.fasta\"\n",
    "input_handle  = open(filename, \"r\")\n",
    "output_handle_nucl = open(filename_CDS_nucl, \"w\")\n",
    "output_handle_prot = open(filename_CDS_prot, \"w\")\n",
    "for seq_record in SeqIO.parse(input_handle, \"genbank\") :\n",
    "    output_handle_nucl.write(\">\\n%s\" % (CDS_nuc_seq))\n",
    "    output_handle_prot.write(\">\\n%s\" % (\"\".join(record.features[position].qualifiers['translation']))) #without join, output is a list\n",
    "    \n",
    "output_handle_nucl.close()\n",
    "output_handle_prot.close()\n",
    "input_handle.close()"
   ]
  },
  {
   "cell_type": "code",
   "execution_count": null,
   "id": "522666fe",
   "metadata": {},
   "outputs": [],
   "source": [
    "filename_CDS_nucl = \"CDS_nucleot_GLI2_seq.fasta\"\n",
    "output_handle_nucl = open(filename_CDS_nucl, \"w\")\n",
    "for seq_record in SeqIO.read(open('NM_006773.4.gb'), \"genbank\")\n",
    "    output_handle_nucl.write(seq_record.seq)\n",
    "output_handle_nucl.close()\n",
    "input_handle.close()"
   ]
  },
  {
   "cell_type": "code",
   "execution_count": null,
   "id": "7b662197",
   "metadata": {},
   "outputs": [],
   "source": [
    "record = SeqIO.read(open(\"NM_006773.4.gb\"), format=\"genbank\")\n",
    "for x in records:\n",
    "    a= x.seq\n",
    "with open('fasta_DNA_.xml', \"w\") as out_handle:\n",
    "        out_handle.write(record.read())\n",
    "record.close()"
   ]
  }
 ],
 "metadata": {
  "kernelspec": {
   "display_name": "Python 3 (ipykernel)",
   "language": "python",
   "name": "python3"
  },
  "language_info": {
   "codemirror_mode": {
    "name": "ipython",
    "version": 3
   },
   "file_extension": ".py",
   "mimetype": "text/x-python",
   "name": "python",
   "nbconvert_exporter": "python",
   "pygments_lexer": "ipython3",
   "version": "3.9.12"
  }
 },
 "nbformat": 4,
 "nbformat_minor": 5
}
