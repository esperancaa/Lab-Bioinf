{
 "cells": [
  {
   "cell_type": "code",
   "execution_count": 1,
   "id": "c33fec73",
   "metadata": {},
   "outputs": [],
   "source": [
    "from Bio.Seq import Seq\n",
    "from Bio import SeqIO\n",
    "\n",
    "from Bio.Blast import NCBIXML \n",
    "from Bio.Blast import NCBIWWW "
   ]
  },
  {
   "cell_type": "code",
   "execution_count": null,
   "id": "d2720f1d",
   "metadata": {},
   "outputs": [],
   "source": [
    "cds = SeqIO.read(\"CDS_IRS1.fasta\",\"fasta\") \n",
    "result_cds = NCBIWWW.qblast(\"blastp\", \"swissprot\", cds.format(\"fasta\"), entrez_query = \"Homo Sapiens[organism]\")\n",
    "save_file_cds = open(\"CDS_IRS1.xml\", \"w\")\n",
    "save_file_cds.write(result_cds.read()) \n",
    "save_file_cds.close() \n",
    "result_cds.close()"
   ]
  },
  {
   "cell_type": "code",
   "execution_count": 2,
   "id": "88cbfe9e",
   "metadata": {},
   "outputs": [
    {
     "name": "stdout",
     "output_type": "stream",
     "text": [
      "base de dados usada:  swissprot\n",
      "matriz:  BLOSUM62\n",
      "parâmetros para os espaçamentos:  (11, 1)\n"
     ]
    }
   ],
   "source": [
    "# cds_xml = open(\"CDS_IRS1.xml\")\n",
    "# cds_homo_sap= NCBIXML.parse(cds_xml)\n",
    "# for info in cds_homo_sap:\n",
    "#     print('base de dados usada: ', info.database)\n",
    "#     print('matriz: ', info.matrix)\n",
    "#     print('parâmetros para os espaçamentos: ', info.gap_penalties)\n",
    "# cds_xml.close()"
   ]
  },
  {
   "cell_type": "code",
   "execution_count": 7,
   "id": "6aa248a3",
   "metadata": {},
   "outputs": [
    {
     "name": "stdout",
     "output_type": "stream",
     "text": [
      "1242\n"
     ]
    }
   ],
   "source": [
    "#Tamanho da seq de CDS\n",
    "cds = SeqIO.read(\"CDS_IRS1.fasta\",\"fasta\") \n",
    "print(len(cds))"
   ]
  },
  {
   "cell_type": "code",
   "execution_count": 4,
   "id": "a4a5adbe",
   "metadata": {},
   "outputs": [
    {
     "name": "stdout",
     "output_type": "stream",
     "text": [
      "ID accession:  P35568\n",
      "descrição:  RecName: Full=Insulin receptor substrate 1; Short=IRS-1 [Homo sapiens]\n",
      "identidade:  1242\n",
      "E-value:  0.0\n",
      "comprimento dos alinhamentos:  1242\n",
      "\n",
      "ID accession:  Q9Y4H2\n",
      "descrição:  RecName: Full=Insulin receptor substrate 2; Short=IRS-2 [Homo sapiens]\n",
      "identidade:  421\n",
      "E-value:  1.57232e-159\n",
      "comprimento dos alinhamentos:  971\n",
      "\n",
      "identidade:  71\n",
      "E-value:  5.14746e-07\n",
      "comprimento dos alinhamentos:  219\n",
      "\n",
      "ID accession:  O14654\n",
      "descrição:  RecName: Full=Insulin receptor substrate 4; Short=IRS-4; AltName: Full=160 kDa phosphotyrosine protein; Short=py160; AltName: Full=Phosphoprotein of 160 kDa; Short=pp160 [Homo sapiens]\n",
      "identidade:  171\n",
      "E-value:  1.25094e-78\n",
      "comprimento dos alinhamentos:  405\n",
      "\n",
      "ID accession:  Q9UQC2\n",
      "descrição:  RecName: Full=GRB2-associated-binding protein 2; AltName: Full=GRB2-associated binder 2; AltName: Full=Growth factor receptor bound protein 2-associated protein 2; AltName: Full=pp100 [Homo sapiens]\n",
      "identidade:  36\n",
      "E-value:  1.04335e-08\n",
      "comprimento dos alinhamentos:  137\n",
      "\n",
      "ID accession:  Q13480\n",
      "descrição:  RecName: Full=GRB2-associated-binding protein 1; AltName: Full=GRB2-associated binder 1; AltName: Full=Growth factor receptor bound protein 2-associated protein 1 [Homo sapiens]\n",
      "identidade:  33\n",
      "E-value:  1.36602e-07\n",
      "comprimento dos alinhamentos:  110\n",
      "\n",
      "ID accession:  Q2WGN9\n",
      "descrição:  RecName: Full=GRB2-associated-binding protein 4; AltName: Full=GRB2-associated binder 2-like; Short=GAB2-like; AltName: Full=GRB2-associated binder 4; AltName: Full=GRB2-associated-binding protein 2-like; AltName: Full=Growth factor receptor bound protein 2-associated protein 4 [Homo sapiens]\n",
      "identidade:  33\n",
      "E-value:  1.60838e-06\n",
      "comprimento dos alinhamentos:  117\n",
      "\n",
      "ID accession:  Q8WWW8\n",
      "descrição:  RecName: Full=GRB2-associated-binding protein 3; AltName: Full=GRB2-associated binder 3; AltName: Full=Growth factor receptor bound protein 2-associated protein 3 [Homo sapiens]\n",
      "identidade:  35\n",
      "E-value:  4.61616e-06\n",
      "comprimento dos alinhamentos:  111\n",
      "\n",
      "ID accession:  Q8TEW6\n",
      "descrição:  RecName: Full=Docking protein 4; AltName: Full=Downstream of tyrosine kinase 4; AltName: Full=Insulin receptor substrate 5; Short=IRS-5; Short=IRS5 [Homo sapiens]\n",
      "identidade:  59\n",
      "E-value:  4.88162e-06\n",
      "comprimento dos alinhamentos:  266\n",
      "\n",
      "ID accession:  Q9BZ29\n",
      "descrição:  RecName: Full=Dedicator of cytokinesis protein 9; AltName: Full=Cdc42 guanine nucleotide exchange factor zizimin-1; Short=Zizimin-1 [Homo sapiens]\n",
      "identidade:  37\n",
      "E-value:  0.00686649\n",
      "comprimento dos alinhamentos:  124\n",
      "\n"
     ]
    }
   ],
   "source": [
    "cds_xml = open(\"CDS_IRS1.xml\")\n",
    "cds_homo_sap= NCBIXML.parse(cds_xml)\n",
    "for parametros in cds_homo_sap:\n",
    "    for info in parametros.alignments:\n",
    "        print(\"ID accession: \", info.accession) \n",
    "        print('description: ', info.hit_def)\n",
    "        for hsp in info.hsps:\n",
    "            print('identity: ',hsp.identities)\n",
    "            print('E-value: ', hsp.expect)\n",
    "            print('alignment length: ', hsp.align_length)\n",
    "            print()"
   ]
  },
  {
   "cell_type": "code",
   "execution_count": 13,
   "id": "02d2333e",
   "metadata": {},
   "outputs": [
    {
     "name": "stdout",
     "output_type": "stream",
     "text": [
      "****Alignment****\n",
      "sequence:  sp|P35568.1| RecName: Full=Insulin receptor substrate 1; Short=IRS-1 [Homo sapiens]\n",
      "lenght: 1242\n",
      "MASPPESDGFSDVRKVGYLRKPKSMHKRFFVLRAASEAGGPARLEYYENEKKWRHKSSAPKRSIPLESCFNINKR...\n",
      "MASPPESDGFSDVRKVGYLRKPKSMHKRFFVLRAASEAGGPARLEYYENEKKWRHKSSAPKRSIPLESCFNINKR...\n",
      "MASPPESDGFSDVRKVGYLRKPKSMHKRFFVLRAASEAGGPARLEYYENEKKWRHKSSAPKRSIPLESCFNINKR...\n",
      "\n",
      "****Alignment****\n",
      "sequence:  sp|Q9Y4H2.2| RecName: Full=Insulin receptor substrate 2; Short=IRS-2 [Homo sapiens]\n",
      "lenght: 1338\n",
      "VRKVGYLRKPKSMHKRFFVLRA-------ASEAGG----PARLEYYENEKKWRHKSSAPKRSIPLESCFNINKRA...\n",
      "VRK GYLRK K  HKRFFVLR        A+  GG    P RLEYYE+EKKWR K+ APKR I L+ C NINKRA...\n",
      "VRKCGYLRKQKHGHKRFFVLRGPGAGGDEATAGGGSAPQPPRLEYYESEKKWRSKAGAPKRVIALDCCLNINKRA...\n",
      "\n",
      "****Alignment****\n",
      "sequence:  sp|Q9Y4H2.2| RecName: Full=Insulin receptor substrate 2; Short=IRS-2 [Homo sapiens]\n",
      "lenght: 1338\n",
      "YADMRTGIAAEEVSLPRATMAAASSSSAASASPTGPQGAAELAAHSSLLGGPQGPGGMSAFTRVNLSPNRNQSAK...\n",
      "Y +M  G+AA   + P+   A     +A  ASPT   G   L+    +        G+ AF + +  P+ ++ AK...\n",
      "YTEMAFGVAA---TPPQPIAAPPKPEAARVASPT--SGVKRLSLMEQV-------SGVEAFLQASQPPDPHRGAK...\n",
      "\n",
      "****Alignment****\n",
      "sequence:  sp|O14654.1| RecName: Full=Insulin receptor substrate 4; Short=IRS-4; AltName: Full=160 kDa phosphotyrosine protein; Short=py160; AltName: Full=Phosphoprotein of 160 kDa; Short=pp160 [Homo sapiens]\n",
      "lenght: 1257\n",
      "DVRKVGYLRKPKSMHKRFFVLRAASEAGGPARLEYYENEKKWRHKSSA-------------------PKRSIPLE...\n",
      "+V K GYLRK K  H+R+FVL+  + A  PARLEYYEN +K+RH   A                   P+R I L ...\n",
      "EVCKRGYLRKQKHGHRRYFVLKLET-ADAPARLEYYENARKFRHSVRAAAAAAAAAASGAAIPPLIPPRRVITLY...\n",
      "\n",
      "****Alignment****\n",
      "sequence:  sp|Q9UQC2.1| RecName: Full=GRB2-associated-binding protein 2; AltName: Full=GRB2-associated binder 2; AltName: Full=Growth factor receptor bound protein 2-associated protein 2; AltName: Full=pp100 [Homo sapiens]\n",
      "lenght: 676\n",
      "DVRKVGYLRKP--------KSMHKRFFVLRAASEAGGPARLEYYENEKKWRHKSSAPKRSIPLESCFNIN-----...\n",
      "DV   G+LRK          +  KR+F+LR+   +G P  LEYY+N+      S  P R I L  C  ++     ...\n",
      "DVVCTGWLRKSPPEKKLRRYAWKKRWFILRSGRMSGDPDVLEYYKND-----HSKKPLRIINLNFCEQVDAGLTF...\n",
      "\n",
      "****Alignment****\n",
      "sequence:  sp|Q13480.2| RecName: Full=GRB2-associated-binding protein 1; AltName: Full=GRB2-associated binder 1; AltName: Full=Growth factor receptor bound protein 2-associated protein 1 [Homo sapiens]\n",
      "lenght: 694\n",
      "GYLRK--PKSMHKRF------FVLRAASEAGGPARLEYYENEKKWRHKSSAPKRSIPLESCFNIN-----KRADS...\n",
      "G+LRK  P+   KR+      FVLR+    G P  LEYY+N+      +  P R I L  C  ++      + + ...\n",
      "GWLRKSPPEKKLKRYAWKRRWFVLRSGRLTGDPDVLEYYKND-----HAKKPIRIIDLNLCQQVDAGLTFNKKEF...\n",
      "\n",
      "****Alignment****\n",
      "sequence:  sp|Q2WGN9.1| RecName: Full=GRB2-associated-binding protein 4; AltName: Full=GRB2-associated binder 2-like; Short=GAB2-like; AltName: Full=GRB2-associated binder 4; AltName: Full=GRB2-associated-binding protein 2-like; AltName: Full=Growth factor receptor bound protein 2-associated protein 4 [Homo sapiens]\n",
      "lenght: 574\n",
      "VRKVGYLRK--PK------SMHKRFFVLRAASEAGGPARLEYYENEKKWRHKSSAPKRSIPLESC--------FN...\n",
      "V   G+LRK  P+      +  KR+F+LR    +  P  LEYY+N+      S  P R+I L  C         N...\n",
      "VLYSGWLRKSPPEKKLRLFAWRKRWFILRRGQTSSDPDVLEYYKND-----GSKKPLRTINLNLCEQLDVDVTLN...\n",
      "\n",
      "****Alignment****\n",
      "sequence:  sp|Q8WWW8.1| RecName: Full=GRB2-associated-binding protein 3; AltName: Full=GRB2-associated binder 3; AltName: Full=Growth factor receptor bound protein 2-associated protein 3 [Homo sapiens]\n",
      "lenght: 586\n",
      "SMHKRFFVLRAASEAGGPARLEYYENEKKWRHKSSAPKRSIPLESCFNINK------RADSKNKHLVALYTRDEH...\n",
      "+  KR+FVLR    +G P  LEYY N+      SS P R I L  C           R + +N  +  + T    ...\n",
      "AWRKRWFVLRRGRMSGNPDVLEYYRNK-----HSSKPIRVIDLSECAVWKHVGPSFVRKEFQNNFVFIVKTTSRT...\n",
      "\n",
      "****Alignment****\n",
      "sequence:  sp|Q8TEW6.2| RecName: Full=Docking protein 4; AltName: Full=Downstream of tyrosine kinase 4; AltName: Full=Insulin receptor substrate 5; Short=IRS-5; Short=IRS5 [Homo sapiens]\n",
      "lenght: 326\n",
      "GFSDVRKVGYLR---KPKSMHKRFFVLRAASEAGGPARLEYYENEKKWRHKSSAPKRSIPLESCFNINKRA----...\n",
      " FSD+ K GY++   +   +++R +++   S + GP RLE Y +EK           S+ L  C  + + +    ...\n",
      "NFSDIVKQGYVKMKSRKLGIYRRCWLVFRKSSSKGPQRLEKYPDEK-----------SVCLRGCPKVTEISNVKC...\n",
      "\n"
     ]
    }
   ],
   "source": [
    "E_VALUE_THRESH = 0.001\n",
    "results_Blast= open('CDS_IRS1.xml')\n",
    "blast_records = NCBIXML.read(results_Blast)\n",
    "for alignment in  blast_records.alignments:\n",
    "    #print(alignment.accession)\n",
    "    for hsp in alignment.hsps:\n",
    "        if hsp.expect < E_VALUE_THRESH:\n",
    "            print('****Alignment****')\n",
    "            print('sequence: ', alignment.title)\n",
    "            print('lenght:', alignment.length)\n",
    "            print(hsp.query[0:75] + '...')\n",
    "            print(hsp.match[0:75] + '...')\n",
    "            print(hsp.sbjct[0:75] + '...')\n",
    "            print()"
   ]
  },
  {
   "cell_type": "code",
   "execution_count": 11,
   "id": "b42f5314",
   "metadata": {},
   "outputs": [
    {
     "name": "stdout",
     "output_type": "stream",
     "text": [
      "['P35568', 'Q9Y4H2', 'Q9Y4H2', 'O14654', 'Q9UQC2', 'Q13480', 'Q2WGN9', 'Q8WWW8', 'Q8TEW6']\n",
      "Total 0 PREDICTED seqs found and remaining 9 ids are from Homo sapiens\n"
     ]
    }
   ],
   "source": [
    "import re\n",
    "\n",
    "results_Blast= open('CDS_IRS1.xml')\n",
    "blast_records = NCBIXML.read(results_Blast)\n",
    "E_VALUE_THRESH = 0.001\n",
    "count_preditc, count_homo=0,0\n",
    "list_filtered_alignments=[]\n",
    "organisms={}\n",
    "for alignment in  blast_records.alignments:\n",
    "    for hsp in alignment.hsps:\n",
    "        if hsp.expect < E_VALUE_THRESH:\n",
    "            exist = re.search(r'PREDICTED:\\s', alignment.title)\n",
    "            if exist:\n",
    "                # print( existe[0] )\n",
    "                pre = re.match(r'PREDICTED:\\s', exist[0] )\n",
    "                if pre:\n",
    "                    count_preditc+=1\n",
    "                    #print(id)\n",
    "            else:\n",
    "                list_filtered_alignments.append(alignment.accession)\n",
    "                homo=re.search(r'Homo\\ssapiens',alignment.title)\n",
    "                if homo:\n",
    "                    count_homo+=1\n",
    "print(list_filtered_alignments)\n",
    "print('Total {} PREDICTED seqs found and remaining {} ids are from Homo sapiens'.format((count_preditc), count_homo))\n",
    "#contagem de \"Homo sapiens\" não é conclusiva, é meramente informativa. Isto porque, os títulos não seguem sempre o memso padrão.\n"
   ]
  }
 ],
 "metadata": {
  "kernelspec": {
   "display_name": "Python 3 (ipykernel)",
   "language": "python",
   "name": "python3"
  },
  "language_info": {
   "codemirror_mode": {
    "name": "ipython",
    "version": 3
   },
   "file_extension": ".py",
   "mimetype": "text/x-python",
   "name": "python",
   "nbconvert_exporter": "python",
   "pygments_lexer": "ipython3",
   "version": "3.9.12"
  }
 },
 "nbformat": 4,
 "nbformat_minor": 5
}
