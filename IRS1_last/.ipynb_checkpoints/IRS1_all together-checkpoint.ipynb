{
 "cells": [
  {
   "cell_type": "markdown",
   "id": "a899206f",
   "metadata": {},
   "source": [
    "## Searching for IRS1 sequence"
   ]
  },
  {
   "cell_type": "code",
   "execution_count": 1,
   "id": "75864545",
   "metadata": {},
   "outputs": [],
   "source": [
    "from Bio import Entrez, SeqIO, Medline\n",
    "from Bio.Blast import NCBIXML \n",
    "from Bio.Blast import NCBIWWW\n",
    "import requests, sys, json\n",
    "import re"
   ]
  },
  {
   "cell_type": "code",
   "execution_count": 16,
   "id": "84f9bbd6",
   "metadata": {},
   "outputs": [
    {
     "name": "stdout",
     "output_type": "stream",
     "text": [
      "Title: Effect of Codonopsis Radix and Polygonati Rhizoma on the regulation of the IRS1/PI3K/AKT signaling pathway in type 2 diabetic mice.\n",
      "Authors: ['Mao YP', 'Song YM', 'Pan SW', 'Li N', 'Wang WX', 'Feng BB', 'Zhang JH']\n",
      "Source: Front Endocrinol (Lausanne). 2022 Dec 14;13:1068555. doi: 10.3389/fendo.2022.1068555. eCollection 2022.\n",
      "\n",
      "Title: The identities of insulin signaling pathway are affected by overexpression of Tau and its phosphorylation form.\n",
      "Authors: ['Ma N', 'Liang Y', 'Yue L', 'Liu P', 'Xu Y', 'Zhu C']\n",
      "Source: Front Aging Neurosci. 2022 Dec 16;14:1057281. doi: 10.3389/fnagi.2022.1057281. eCollection 2022.\n",
      "\n",
      "Title: Insulin ameliorates dim blue light at night-induced apoptosis in hippocampal neurons via the IR/IRS1/AKT/GSK3beta/beta-catenin signaling pathway.\n",
      "Authors: ['Liu Q', 'Wang Z', 'Cao J', 'Dong Y', 'Chen Y']\n",
      "Source: Ecotoxicol Environ Saf. 2022 Dec 29;250:114488. doi: 10.1016/j.ecoenv.2022.114488.\n",
      "\n",
      "Title: Sodium oxamate reduces lactate production to improve the glucose homeostasis of Micropterus salmoides fed high-carbohydrate diets.\n",
      "Authors: ['Shen HC', 'Chen ZQ', 'Liu XC', 'Guan JF', 'Xie DZ', 'Li YY', 'Xu C']\n",
      "Source: Am J Physiol Regul Integr Comp Physiol. 2022 Dec 26. doi: 10.1152/ajpregu.00226.2022.\n",
      "\n",
      "Title: Long-Term Hyperglycemia Causes Depressive Behaviors in Mice with Hypoactive Glutamatergic Activity in the Medial Prefrontal Cortex, Which Is Not Reversed by Insulin Treatment.\n",
      "Authors: ['Baek JH', 'Son H', 'Kang JS', 'Yoo DY', 'Chung HJ', 'Lee DK', 'Kim HJ']\n",
      "Source: Cells. 2022 Dec 12;11(24):4012. doi: 10.3390/cells11244012.\n",
      "\n"
     ]
    }
   ],
   "source": [
    "#pubmed search\n",
    "database = 'PubMed'\n",
    "word = 'irs1 insulin'\n",
    "res= 15 \n",
    "email= \"karynalysenko@ua.pt\"\n",
    "\n",
    "Entrez.email= email\n",
    "handle=Entrez.esearch(db = database, term=word, retmax= res)\n",
    "record=Entrez.read(handle)\n",
    "handle.close()\n",
    "idlist= record['IdList']\n",
    "\n",
    "handle = Entrez.efetch(db=database, id=idlist, rettype=\"medline\", retmode=\"text\")\n",
    "records = list(Medline.parse(handle))\n",
    "\n",
    "\n",
    "for record in records[0:5]:\n",
    "    #print(record) \n",
    "    #print(\"PMID:\",record.get(\"PMID\",\"-\"))\n",
    "    print(\"Title:\", record.get(\"TI\", \"-\"))\n",
    "    #print('abstract:', record.get('AB', '-'))\n",
    "    print(\"Authors:\", record.get(\"AU\", \"-\"))\n",
    "    print(\"Source:\", record.get(\"SO\", \"-\"))\n",
    "    print(\"\")"
   ]
  },
  {
   "cell_type": "code",
   "execution_count": 23,
   "id": "cc897b6b",
   "metadata": {
    "scrolled": true
   },
   "outputs": [
    {
     "name": "stdout",
     "output_type": "stream",
     "text": [
      "NM_005544.3 - Homo sapiens insulin receptor substrate 1 (IRS1), mRNA\n",
      "NM_001100818.2 - Homo sapiens phosphotyrosine interaction domain containing 1 (PID1), transcript variant 2, mRNA\n",
      "NM_001330158.2 - Homo sapiens phosphotyrosine interaction domain containing 1 (PID1), transcript variant 5, mRNA\n",
      "NM_001330157.2 - Homo sapiens phosphotyrosine interaction domain containing 1 (PID1), transcript variant 4, mRNA\n",
      "NM_017933.5 - Homo sapiens phosphotyrosine interaction domain containing 1 (PID1), transcript variant 1, mRNA\n",
      "NM_001330156.1 - Homo sapiens phosphotyrosine interaction domain containing 1 (PID1), transcript variant 3, mRNA\n",
      "NG_015830.1 - Homo sapiens insulin receptor substrate 1 (IRS1), RefSeqGene on chromosome 2\n",
      "CM000253.1 - Homo sapiens chromosome 2, whole genome shotgun sequence\n",
      "CH471063.1 - Homo sapiens 211000035834619 genomic scaffold, whole genome shotgun sequence\n"
     ]
    }
   ],
   "source": [
    "#ncbi search to find the sequence of IRS1\n",
    "database = 'nucleotide'\n",
    "word = 'irs1 and homo sapiens and Chromosome 2 and not predicted and not unverified '\n",
    "res= '15'\n",
    "email= 'karyanlysenko@ua.pt'\n",
    "Entrez.email= email\n",
    "handle_search=Entrez.esearch(db = database, term=word, retmax= res)\n",
    "record=Entrez.read(handle_search)\n",
    "handle_search.close()\n",
    "idlist= record['IdList']\n",
    "handle = Entrez.efetch(db=database, id=idlist, rettype=\"gb\") \n",
    "records = list(SeqIO.parse(handle,\"gb\"))\n",
    "handle.close()\n",
    "for info in records:\n",
    "    print(info.id, '-', info.description)\n",
    "    #print('length of seq:', len(info.seq)) #to check the length of the sequences"
   ]
  },
  {
   "cell_type": "markdown",
   "id": "4caa0e74",
   "metadata": {},
   "source": [
    "The selection of the id has to be done manually as there is no pattern in writing the titles of the queries.\\\n",
    "The id __NG_015830.1__ is the only one where the annotated sequence is not a whole genome of the chromossome, is not a mRNA and actually is RefSeq. This means that the sequence is being used as a standard for well-characterized genes. So id __NG_015830.1__ will be used from now on."
   ]
  },
  {
   "cell_type": "code",
   "execution_count": 7,
   "id": "d80ac53c",
   "metadata": {},
   "outputs": [],
   "source": [
    "#The correspondent information of NG_015830.1 was downloaded to a file\n",
    "import os\n",
    "Entrez.email = \"karynalysenko@ua.pt\"\n",
    "filename = \"NG_015830_1.gb\"\n",
    "if not os.path.isfile(filename):\n",
    "    net_handle = Entrez.efetch(db=\"nucleotide\", id=\"NG_015830.1\", rettype=\"gb\", retmode=\"text\")\n",
    "    out_handle = open(filename, \"w\")\n",
    "    out_handle.write(net_handle.read())\n",
    "    out_handle.close()\n",
    "    net_handle.close()"
   ]
  },
  {
   "cell_type": "code",
   "execution_count": 25,
   "id": "aedeb39d",
   "metadata": {},
   "outputs": [
    {
     "name": "stdout",
     "output_type": "stream",
     "text": [
      "The length of the sequence: 74474\n",
      "\n",
      "Type of features: {'source': 1, 'gene': 2, 'mRNA': 2, 'exon': 2, 'CDS': 1, 'misc_feature': 46}\n",
      "\n",
      "Comment from NCBI: REVIEWED REFSEQ: This record has been curated by NCBI staff. The\n",
      "reference sequence was derived from AC010735.11.\n",
      "This sequence is a reference standard in the RefSeqGene project.\n",
      "Summary: This gene encodes a protein which is phosphorylated by\n",
      "insulin receptor tyrosine kinase. Mutations in this gene are\n",
      "associated with type II diabetes and susceptibility to insulin\n",
      "resistance. [provided by RefSeq, Nov 2009].\n",
      "\n",
      "Location of the CDS on the original sequence: [5052:8781](+)\n"
     ]
    }
   ],
   "source": [
    "record = SeqIO.read(open(\"NG_015830_1.gb\"), format=\"genbank\")\n",
    "position=0\n",
    "record_types={}\n",
    "for x in record.features:\n",
    "    record_types[x.type]=record_types.get(x.type,0)+1\n",
    "for i in range(len(record.features)):\n",
    "    if record.features[i].type == \"CDS\":\n",
    "        position=i\n",
    "print(\"The length of the sequence: {}\\n\".format(len(record.seq)))\n",
    "print(\"Type of features: {}\\n\".format(record_types))\n",
    "print(\"Comment from NCBI: {}\\n\".format(record.annotations[\"comment\"]))\n",
    "#checking the location of the CDS on the original sequence\n",
    "print(\"Location of the CDS on the original sequence: {}\".format(record.features[position].location))"
   ]
  },
  {
   "cell_type": "code",
   "execution_count": 34,
   "id": "0d3ee7d4",
   "metadata": {},
   "outputs": [],
   "source": [
    "CDS_nuc_seq_location=record.seq[int(record.features[position].location.start):int(record.features[position].location.end)]"
   ]
  },
  {
   "cell_type": "code",
   "execution_count": 33,
   "id": "da3f3af2",
   "metadata": {},
   "outputs": [],
   "source": [
    "#saving the CDS_nucleotides and CD_aminoacid seqs in files\n",
    "filename = \"NG_015830_1.gb\"\n",
    "filename_CDS_nucl = \"CDS_nucleot_seq-test.fasta\"\n",
    "filename_CDS_prot = \"CDS_prot_seq.fasta\"\n",
    "input_handle  = open(filename, \"r\")\n",
    "output_handle_nucl = open(filename_CDS_nucl, \"w\")\n",
    "output_handle_prot = open(filename_CDS_prot, \"w\")\n",
    "for seq_record in SeqIO.parse(input_handle, \"genbank\") :\n",
    "    output_handle_nucl.write(\">\\n%s\" % (CDS_nuc_seq_location))\n",
    "    output_handle_prot.write(\">\\n%s\" % (\"\".join(record.features[position].qualifiers['translation']))) #without join, output is a list\n",
    "    \n",
    "output_handle_nucl.close()\n",
    "output_handle_prot.close()\n",
    "input_handle.close()"
   ]
  },
  {
   "cell_type": "markdown",
   "id": "58e42387",
   "metadata": {},
   "source": [
    "## BLASTN - for all organisms"
   ]
  },
  {
   "cell_type": "code",
   "execution_count": 4,
   "id": "698804b4",
   "metadata": {},
   "outputs": [
    {
     "name": "stdout",
     "output_type": "stream",
     "text": [
      "3729\n"
     ]
    }
   ],
   "source": [
    "record_blastn = SeqIO.read(open(\"CDS_nucleot_seq.fasta\"), format=\"fasta\") \n",
    "print(len(record_blastn.seq))"
   ]
  },
  {
   "cell_type": "code",
   "execution_count": 41,
   "id": "2b947b75",
   "metadata": {},
   "outputs": [],
   "source": [
    "Blastn = NCBIWWW.qblast(\"blastn\", \"nt\", record_blastn.seq) #not filtered for Homo sapiens\n",
    "with open('blastn_CDS_nucleot_seq.xml', \"w\") as out_handle:\n",
    "        out_handle.write(Blastn.read())\n",
    "Blastn.close()"
   ]
  },
  {
   "cell_type": "code",
   "execution_count": 46,
   "id": "8c97eefc",
   "metadata": {},
   "outputs": [
    {
     "name": "stdout",
     "output_type": "stream",
     "text": [
      "Number of alignments: 50\n",
      "\n",
      "Accession:  XM_047444224\n",
      "Definition:  PREDICTED: Homo sapiens insulin receptor substrate 1 (IRS1), transcript variant X2, mRNA\n",
      "E-value:  0.0\n",
      "\n",
      "Accession:  XM_047444223\n",
      "Definition:  PREDICTED: Homo sapiens insulin receptor substrate 1 (IRS1), transcript variant X1, mRNA\n",
      "E-value:  0.0\n",
      "\n",
      "Accession:  NM_005544\n",
      "Definition:  Homo sapiens insulin receptor substrate 1 (IRS1), mRNA\n",
      "E-value:  0.0\n",
      "\n",
      "Accession:  NG_015830\n",
      "Definition:  Homo sapiens insulin receptor substrate 1 (IRS1), RefSeqGene on chromosome 2\n",
      "E-value:  0.0\n",
      "\n",
      "Accession:  AC010735\n",
      "Definition:  Homo sapiens BAC clone RP11-395N3 from 2, complete sequence\n",
      "E-value:  0.0\n"
     ]
    }
   ],
   "source": [
    "results_Blastn = open(\"blastn_CDS_nucleot_seq.xml\")\n",
    "blastn_records = NCBIXML.read(results_Blastn)\n",
    "for parameter in blastn_records.alignments[0:5]:\n",
    "    print()\n",
    "    print('Accession: ', parameter.accession)\n",
    "    print('Definition: ', parameter.hit_def)    \n",
    "    for e_v in parameter.hsps:\n",
    "        print('E-value: ', e_v.expect)"
   ]
  },
  {
   "cell_type": "code",
   "execution_count": 49,
   "id": "2bfbc986",
   "metadata": {},
   "outputs": [
    {
     "name": "stdout",
     "output_type": "stream",
     "text": [
      "['NM_005544', 'NG_015830', 'AC010735', 'S62539', 'BC053895', 'LT743046', 'KJ891488', 'AB384351', 'EU831611', 'EU831698', 'S85963', 'U43502']\n",
      "Total 38 PREDICTED seqs found and remaining 8 ids are from Homo sapiens\n"
     ]
    }
   ],
   "source": [
    "#filtering the \"predicted\" alignments\n",
    "results_Blastn= open('blastn_CDS_nucleot_seq.xml')\n",
    "blastn_records = NCBIXML.read(results_Blastn)\n",
    "E_VALUE_THRESH = 0.001\n",
    "count_preditc, count_homo=0,0\n",
    "list_filtered_alignments=[]\n",
    "for alignment in  blastn_records.alignments:\n",
    "    for hsp in alignment.hsps:\n",
    "        if hsp.expect < E_VALUE_THRESH:\n",
    "            exist = re.search(r'PREDICTED:\\s', alignment.title)\n",
    "            if exist:\n",
    "                # print( existe[0] )\n",
    "                pre = re.match(r'PREDICTED:\\s', exist[0] )\n",
    "                if pre:\n",
    "                    count_preditc+=1\n",
    "                    #print(id)\n",
    "            else:\n",
    "                list_filtered_alignments.append(alignment.accession)\n",
    "                homo=re.search(r'Homo\\ssapiens',alignment.title)\n",
    "                if homo:\n",
    "                    count_homo+=1\n",
    "print(list_filtered_alignments)\n",
    "print('Total {} PREDICTED seqs found and remaining {} ids are from Homo sapiens'.format(count_preditc, count_homo))\n",
    "#counting of Homo sapiens it's not conclusive, just to have an ideia, because the titles don't follow any pattern"
   ]
  },
  {
   "cell_type": "code",
   "execution_count": null,
   "id": "d3dda171",
   "metadata": {},
   "outputs": [],
   "source": [
    "with open('CDS_nucleotide_result_blast.txt', 'w') as f:\n",
    "    for line in list_filtered_alignments:\n",
    "        f.write(f\"{line}\\n\")"
   ]
  },
  {
   "cell_type": "markdown",
   "id": "bfb3690a",
   "metadata": {},
   "source": [
    "## BLASTP"
   ]
  },
  {
   "cell_type": "code",
   "execution_count": 14,
   "id": "8c8008be",
   "metadata": {},
   "outputs": [
    {
     "name": "stdout",
     "output_type": "stream",
     "text": [
      "1242\n"
     ]
    }
   ],
   "source": [
    "record_blastp = SeqIO.read(open(\"CDS_prot_seq.fasta\"), format=\"fasta\") \n",
    "print(len(record_blastp.seq))"
   ]
  },
  {
   "cell_type": "code",
   "execution_count": 15,
   "id": "74737a75",
   "metadata": {},
   "outputs": [],
   "source": [
    "Blastp = NCBIWWW.qblast(\"blastp\", \"swissprot\", record_blastp.seq) #not filtered for Homo sapiens\n",
    "with open('blastp_CDS_prot_seq.xml', \"w\") as out_handle:\n",
    "        out_handle.write(Blastp.read())\n",
    "Blastp.close()"
   ]
  },
  {
   "cell_type": "code",
   "execution_count": 61,
   "id": "dc1babf5",
   "metadata": {},
   "outputs": [
    {
     "name": "stdout",
     "output_type": "stream",
     "text": [
      "\n",
      "Accession:  P35568\n",
      "Definition:  RecName: Full=Insulin receptor substrate 1; Short=IRS-1 [Homo sapiens]\n",
      "E-value:  0.0\n",
      "\n",
      "Accession:  Q28224\n",
      "Definition:  RecName: Full=Insulin receptor substrate 1; Short=IRS-1 [Chlorocebus aethiops]\n",
      "E-value:  0.0\n",
      "\n",
      "Accession:  P35570\n",
      "Definition:  RecName: Full=Insulin receptor substrate 1; Short=IRS-1; AltName: Full=pp185 [Rattus norvegicus]\n",
      "E-value:  0.0\n",
      "\n",
      "Accession:  P35569\n",
      "Definition:  RecName: Full=Insulin receptor substrate 1; Short=IRS-1 [Mus musculus]\n",
      "E-value:  0.0\n",
      "\n",
      "Accession:  P84770\n",
      "Definition:  RecName: Full=Insulin receptor substrate 1-B; Short=IRS1-B; Short=xIRS-1-B; AltName: Full=XIRS-L' [Xenopus laevis]\n",
      "E-value:  0.0\n"
     ]
    }
   ],
   "source": [
    "results_Blastp = open(\"blastp_CDS_prot_seq.xml\")\n",
    "blastp_records = NCBIXML.read(results_Blastp)\n",
    "for parameter in blastp_records.alignments[0:5]:\n",
    "    print()\n",
    "    print('Accession: ', parameter.accession)\n",
    "    print('Definition: ', parameter.hit_def)    \n",
    "    for e_v in parameter.hsps:\n",
    "        print('E-value: ', e_v.expect)"
   ]
  },
  {
   "cell_type": "code",
   "execution_count": 60,
   "id": "20ecd302",
   "metadata": {},
   "outputs": [
    {
     "name": "stdout",
     "output_type": "stream",
     "text": [
      "number of times: 1 that appeared specie: [Bos taurus]\n",
      "number of times: 1 that appeared specie: [Chlorocebus aethiops]\n",
      "number of times: 1 that appeared specie: [Drosophila ananassae]\n",
      "number of times: 1 that appeared specie: [Drosophila erecta]\n",
      "number of times: 1 that appeared specie: [Drosophila melanogaster]\n",
      "number of times: 1 that appeared specie: [Drosophila sechellia]\n",
      "number of times: 1 that appeared specie: [Drosophila yakuba]\n",
      "number of times: 9 that appeared specie: [Homo sapiens]\n",
      "number of times: 1 that appeared specie: [Mesocricetus auratus]\n",
      "number of times: 6 that appeared specie: [Mus musculus]\n",
      "number of times: 2 that appeared specie: [Rattus norvegicus]\n",
      "number of times: 4 that appeared specie: [Xenopus laevis]\n",
      "number of times: 2 that appeared specie: [Xenopus tropicalis]\n",
      "['P35568', 'Q28224', 'P35570', 'P35569', 'P84770', 'Q91615', 'Q9DF49', 'Q5RJW5', 'P81122', 'Q9Y4H2', 'Q9Y4H2', 'Q6P4Y6', 'Q6P4Y6', 'O14654', 'Q9Z0Y7', 'B3N946', 'B4NZ70', 'B4HWI2', 'Q9XTN2', 'B3MPN6', 'Q9Z1S8', 'Q9EQH1', 'Q9UQC2', 'Q99PF6', 'A6QLU3', 'Q13480', 'Q9QYY0', 'Q2WGN9', 'Q8WWW8', 'Q8TEW6', 'Q99KE3']\n"
     ]
    }
   ],
   "source": [
    "results_Blastp= open('blastp_CDS_prot_seq.xml')\n",
    "blastp_records = NCBIXML.read(results_Blastp)\n",
    "E_VALUE_THRESH = 0.001\n",
    "list_filtered_alignments,list_species=[],[]\n",
    "for alignment in  blastp_records.alignments:\n",
    "    for hsp in alignment.hsps:\n",
    "#         print(hsp.identities)    # maybe add more \n",
    "        if hsp.expect < E_VALUE_THRESH:\n",
    "            list_filtered_alignments.append(alignment.accession)\n",
    "            title_organism=re.search(r'\\[.+\\s.+\\]', alignment.title)\n",
    "            if title_organism:\n",
    "                m = re.match(r'\\[.+\\s.+\\]', title_organism[0] )\n",
    "                specie = m.group(0)\n",
    "                #print(specie)\n",
    "                list_species.append(specie)\n",
    "for x in sorted(set(list_species)):\n",
    "    print(\"number of times: {} that appeared specie: {}\".format(list_species.count(x),x))\n",
    "\n",
    "print(list_filtered_alignments)"
   ]
  },
  {
   "cell_type": "markdown",
   "id": "985579d0",
   "metadata": {},
   "source": [
    "The output of Blastp gave more hits. So the list of ids of the last script will be saved and used on Uniprot search."
   ]
  },
  {
   "cell_type": "code",
   "execution_count": 57,
   "id": "d76260f8",
   "metadata": {},
   "outputs": [],
   "source": [
    "with open('CDS_protein_result_blastp.txt', 'w') as f:\n",
    "    for line in list_filtered_alignments:\n",
    "        f.write(f\"{line}\\n\")"
   ]
  },
  {
   "cell_type": "markdown",
   "id": "a3282855",
   "metadata": {},
   "source": [
    "## Uniprot search of Blastp results"
   ]
  },
  {
   "cell_type": "code",
   "execution_count": null,
   "id": "61655b5e",
   "metadata": {},
   "outputs": [],
   "source": [
    "#the seqs here are already aligned, they have '-' (from blastp)\n",
    "# results_Blastp= open('blastp_CDS_prot_seq.xml')\n",
    "# blastp_records = NCBIXML.read(results_Blastp)\n",
    "\n",
    "# with open('allOrg_CDS_prot.fasta', 'w') as f:\n",
    "#     for alignment in  blastp_records.alignments:\n",
    "#         f.write(f\">{alignment.title}\\n\")\n",
    "#         for hsp in alignment.hsps:\n",
    "#             f.write(f\"{hsp.query}\\n\\n\")"
   ]
  },
  {
   "cell_type": "code",
   "execution_count": 202,
   "id": "6ecedc15",
   "metadata": {},
   "outputs": [],
   "source": [
    "#saving sequences from Uniprot\n",
    "results_Blastp= open('blastp_CDS_prot_seq.xml')\n",
    "blastp_records = NCBIXML.read(results_Blastp)\n",
    "titles_list=[]\n",
    "for alignment in  blastp_records.alignments:   \n",
    "    titles_list.append(alignment.title)\n",
    "\n",
    "file= open(\"CDS_protein_result_blastp.txt\", \"r\")\n",
    "fields=\"sequence\"\n",
    "WEBSITE_API=\"https://rest.uniprot.org\"\n",
    "seqs=[]\n",
    "\n",
    "for i in file:\n",
    "    r=get_url(\"{}/uniprotkb/search?query={} AND (reviewed:true)&fields={}&size=1&format=tsv\".format(WEBSITE_API,i, fields))\n",
    "    seqs.append(str(r.content))\n",
    "\n",
    "with open('allOrg_CDS_prot_fromUniprot.fasta', 'w') as f:\n",
    "    for index, seq in enumerate(seqs):\n",
    "        existe = re.search(r'b\\'Sequence\\\\n(.+?(?=\\\\n\\'))', seq, re.DOTALL)\n",
    "        if existe:\n",
    "            m = re.match( r'b\\'Sequence\\\\n(.+?(?=\\\\n\\'))', seq, re.DOTALL )\n",
    "            f.write(f\">{titles_list[index]}\\n{m.group(1)}\\n\\n\")                    \n",
    "            #print(m.group(1))       "
   ]
  },
  {
   "cell_type": "code",
   "execution_count": null,
   "id": "0e665a05",
   "metadata": {},
   "outputs": [],
   "source": [
    "#another easier way to do this\n",
    "# from Bio import SwissProt\n",
    "# from Bio import ExPASy\n",
    "# with ExPASy.get_sprot_raw(\"P35568\") as handle:\n",
    "#     seq_record = SeqIO.read(handle, \"swiss\")\n",
    "#     print(seq_record.id)\n",
    "#     #print(seq_record.entry_name, \"\\n\")\n",
    "#     #print(\", \".join(seq_record.accessions), \"\\n\")\n",
    "#     #print(seq_record.keywords, \"\\n\")\n",
    "#     #print(seq_record.organism, \"\\n\")\n",
    "#     #print(len(seq_record.sequence), \"aa\", \"\\n\")\n",
    "#     print(seq_record.seq)"
   ]
  },
  {
   "cell_type": "code",
   "execution_count": 59,
   "id": "1a307228",
   "metadata": {},
   "outputs": [],
   "source": [
    "def get_url(url, **kwargs):\n",
    "    response = requests.get(url, **kwargs);\n",
    "\n",
    "    if not response.ok:\n",
    "        print(response.text)\n",
    "        response.raise_for_status()\n",
    "        sys.exit()\n",
    "\n",
    "    return response"
   ]
  },
  {
   "cell_type": "code",
   "execution_count": 60,
   "id": "b7418b9b",
   "metadata": {},
   "outputs": [
    {
     "name": "stdout",
     "output_type": "stream",
     "text": [
      "Entry\tOrganism\tProtein names\tSubcellular location [CC]\tFunction [CC]\n",
      "P35568\tHomo sapiens (Human)\tInsulin receptor substrate 1 (IRS-1)\t\tFUNCTION: May mediate the control of various cellular processes by insulin. When phosphorylated by the insulin receptor binds specifically to various cellular proteins containing SH2 domains such as phosphatidylinositol 3-kinase p85 subunit or GRB2. Activates phosphatidylinositol 3-kinase when bound to the regulatory p85 subunit (By similarity). {ECO:0000250, ECO:0000269|PubMed:16878150}.\n",
      "\n",
      "Entry\tOrganism\tProtein names\tSubcellular location [CC]\tFunction [CC]\n",
      "Q28224\tChlorocebus aethiops (Green monkey) (Cercopithecus aethiops)\tInsulin receptor substrate 1 (IRS-1)\t\tFUNCTION: May mediate the control of various cellular processes by insulin. When phosphorylated by the insulin receptor binds specifically to various cellular proteins containing SH2 domains such as phosphatidylinositol 3-kinase p85 subunit or GRB2. Activates phosphatidylinositol 3-kinase when bound to the regulatory p85 subunit (By similarity). {ECO:0000250}.\n",
      "\n",
      "Entry\tOrganism\tProtein names\tSubcellular location [CC]\tFunction [CC]\n",
      "P35570\tRattus norvegicus (Rat)\tInsulin receptor substrate 1 (IRS-1) (pp185)\t\tFUNCTION: May mediate the control of various cellular processes by insulin. When phosphorylated by the insulin receptor binds specifically to various cellular proteins containing SH2 domains such as phosphatidylinositol 3-kinase p85 subunit or GRB2. Activates phosphatidylinositol 3-kinase when bound to the regulatory p85 subunit. {ECO:0000269|PubMed:1380456}.\n",
      "\n",
      "Entry\tOrganism\tProtein names\tSubcellular location [CC]\tFunction [CC]\n",
      "P35569\tMus musculus (Mouse)\tInsulin receptor substrate 1 (IRS-1)\t\tFUNCTION: May mediate the control of various cellular processes by insulin. When phosphorylated by the insulin receptor binds specifically to various cellular proteins containing SH2 domains such as phosphatidylinositol 3-kinase p85 subunit or GRB2. Activates phosphatidylinositol 3-kinase when bound to the regulatory p85 subunit (By similarity). {ECO:0000250}.\n",
      "\n",
      "Entry\tOrganism\tProtein names\tSubcellular location [CC]\tFunction [CC]\n",
      "P84770\tXenopus laevis (African clawed frog)\tInsulin receptor substrate 1-B (IRS1-B) (xIRS-1-B) (XIRS-L')\t\tFUNCTION: May mediate the control of various cellular processes by insulin. When phosphorylated by the insulin receptor binds specifically to various cellular proteins containing SH2 domains such as phosphatidylinositol 3-kinase p85 subunit or grb2. Activates phosphatidylinositol 3-kinase when bound to the regulatory p85 subunit (By similarity). {ECO:0000250}.\n",
      "\n",
      "Entry\tOrganism\tProtein names\tSubcellular location [CC]\tFunction [CC]\n",
      "Q91615\tXenopus laevis (African clawed frog)\tInsulin receptor substrate 1-A (IRS1-A) (xIRS-1-A) (XIRS-L)\t\tFUNCTION: May mediate the control of various cellular processes by insulin. When phosphorylated by the insulin receptor binds specifically to various cellular proteins containing SH2 domains such as phosphatidylinositol 3-kinase p85 subunit or grb2. Activates phosphatidylinositol 3-kinase when bound to the regulatory p85 subunit (By similarity). {ECO:0000250}.\n",
      "\n",
      "Entry\tOrganism\tProtein names\tSubcellular location [CC]\tFunction [CC]\n",
      "Q9DF49\tXenopus laevis (African clawed frog)\tInsulin receptor substrate 2-A (IRS-2-A) (Insulin receptor substrate-undetermined designation) (Insulin receptor substrate-unique) (xIRS-u)\t\tFUNCTION: Potentiates insulin signaling. {ECO:0000269|PubMed:9717835}.\n",
      "\n",
      "Entry\tOrganism\tProtein names\tSubcellular location [CC]\tFunction [CC]\n",
      "Q5RJW5\tXenopus laevis (African clawed frog)\tInsulin receptor substrate 2-B (IRS-2-B)\t\tFUNCTION: Potentiates insulin signaling. {ECO:0000250}.\n",
      "\n",
      "Entry\tOrganism\tProtein names\tSubcellular location [CC]\tFunction [CC]\n",
      "P81122\tMus musculus (Mouse)\tInsulin receptor substrate 2 (IRS-2) (4PS)\tSUBCELLULAR LOCATION: Cytoplasm, cytosol {ECO:0000269|PubMed:17636024}.\tFUNCTION: May mediate the control of various cellular processes by insulin.\n",
      "\n",
      "Entry\tOrganism\tProtein names\tSubcellular location [CC]\tFunction [CC]\n",
      "Q9Y4H2\tHomo sapiens (Human)\tInsulin receptor substrate 2 (IRS-2)\tSUBCELLULAR LOCATION: Cytoplasm, cytosol {ECO:0000250}.\tFUNCTION: May mediate the control of various cellular processes by insulin.\n",
      "\n",
      "Entry\tOrganism\tProtein names\tSubcellular location [CC]\tFunction [CC]\n",
      "Q9Y4H2\tHomo sapiens (Human)\tInsulin receptor substrate 2 (IRS-2)\tSUBCELLULAR LOCATION: Cytoplasm, cytosol {ECO:0000250}.\tFUNCTION: May mediate the control of various cellular processes by insulin.\n",
      "\n",
      "Entry\tOrganism\tProtein names\tSubcellular location [CC]\tFunction [CC]\n",
      "Q6P4Y6\tXenopus tropicalis (Western clawed frog) (Silurana tropicalis)\tInsulin receptor substrate 1 (IRS-1)\t\tFUNCTION: May mediate the control of various cellular processes by insulin. When phosphorylated by the insulin receptor binds specifically to various cellular proteins containing SH2 domains such as phosphatidylinositol 3-kinase p85 subunit or grb2. Activates phosphatidylinositol 3-kinase when bound to the regulatory p85 subunit (By similarity). {ECO:0000250}.\n",
      "\n",
      "Entry\tOrganism\tProtein names\tSubcellular location [CC]\tFunction [CC]\n",
      "Q6P4Y6\tXenopus tropicalis (Western clawed frog) (Silurana tropicalis)\tInsulin receptor substrate 1 (IRS-1)\t\tFUNCTION: May mediate the control of various cellular processes by insulin. When phosphorylated by the insulin receptor binds specifically to various cellular proteins containing SH2 domains such as phosphatidylinositol 3-kinase p85 subunit or grb2. Activates phosphatidylinositol 3-kinase when bound to the regulatory p85 subunit (By similarity). {ECO:0000250}.\n",
      "\n",
      "Entry\tOrganism\tProtein names\tSubcellular location [CC]\tFunction [CC]\n",
      "O14654\tHomo sapiens (Human)\tInsulin receptor substrate 4 (IRS-4) (160 kDa phosphotyrosine protein) (py160) (Phosphoprotein of 160 kDa) (pp160)\tSUBCELLULAR LOCATION: Cell membrane {ECO:0000269|PubMed:9553137}; Peripheral membrane protein {ECO:0000269|PubMed:9553137}; Cytoplasmic side {ECO:0000269|PubMed:9553137}.\tFUNCTION: Acts as an interface between multiple growth factor receptors possessing tyrosine kinase activity, such as insulin receptor, IGF1R and FGFR1, and a complex network of intracellular signaling molecules containing SH2 domains. Involved in the IGF1R mitogenic signaling pathway. Promotes the AKT1 signaling pathway and BAD phosphorylation during insulin stimulation without activation of RPS6KB1 or the inhibition of apoptosis. Interaction with GRB2 enhances insulin-stimulated mitogen-activated protein kinase activity. May be involved in nonreceptor tyrosine kinase signaling in myoblasts. Plays a pivotal role in the proliferation/differentiation of hepatoblastoma cell through EPHB2 activation upon IGF1 stimulation. May play a role in the signal transduction in response to insulin and to a lesser extent in response to IL4 and GH on mitogenesis. Plays a role in growth, reproduction and glucose homeostasis. May act as negative regulators of the IGF1 signaling pathway by suppressing the function of IRS1 and IRS2. {ECO:0000269|PubMed:10531310, ECO:0000269|PubMed:10594015, ECO:0000269|PubMed:12639902, ECO:0000269|PubMed:17408801, ECO:0000269|PubMed:9553137}.\n",
      "\n",
      "Entry\tOrganism\tProtein names\tSubcellular location [CC]\tFunction [CC]\n",
      "Q9Z0Y7\tMus musculus (Mouse)\tInsulin receptor substrate 4 (IRS-4) (Phosphoprotein of 160 kDa) (pp160)\tSUBCELLULAR LOCATION: Cell membrane; Peripheral membrane protein; Cytoplasmic side.\tFUNCTION: Acts as an interface between multiple growth factor receptors possessing tyrosine kinase activity, such as insulin receptor, IGF1R and FGFR1, and a complex network of intracellular signaling molecules containing SH2 domains. Involved in the IGF1R mitogenic signaling pathway. Promotes the AKT1 signaling pathway and BAD phosphorylation during insulin stimulation without activation of RPS6KB1 or the inhibition of apoptosis. Interaction with GRB2 enhances insulin-stimulated mitogen-activated protein kinase activity. May be involved in nonreceptor tyrosine kinase signaling in myoblasts. Plays a pivotal role in the proliferation/differentiation of hepatoblastoma cell through EPHB2 activation upon IGF1 stimulation. May play a role in the signal transduction in response to insulin and to a lesser extent in response to IL4 and GH on mitogenesis. Plays a role in growth, reproduction and glucose homeostasis. May act as negative regulators of the IGF1 signaling pathway by suppressing the function of IRS1 and IRS2. {ECO:0000269|PubMed:10403832, ECO:0000269|PubMed:10644546, ECO:0000269|PubMed:11113178, ECO:0000269|PubMed:12618213}.\n",
      "\n"
     ]
    },
    {
     "name": "stdout",
     "output_type": "stream",
     "text": [
      "Entry\tOrganism\tProtein names\tSubcellular location [CC]\tFunction [CC]\n",
      "B3N946\tDrosophila erecta (Fruit fly)\tInsulin receptor substrate 1 (Protein chico)\t\tFUNCTION: Activates phosphatidylinositol 3-kinase when bound to the regulatory p85 subunit. May mediate the control of various cellular processes by insulin-like peptides. When phosphorylated by the insulin receptor binds specifically to various cellular proteins containing SH2 domains. Involved in control of cell proliferation, cell size, and body and organ growth throughout development. Also has a role in a signaling pathway controlling the physiological response required to endure periods of low nutrient conditions. Insulin/insulin-like growth factor (IGF) signaling pathway has a role in regulating aging and is necessary in the ovary for vitellogenic maturation (By similarity). {ECO:0000250|UniProtKB:P35570, ECO:0000250|UniProtKB:Q9XTN2}.\n",
      "\n",
      "Entry\tOrganism\tProtein names\tSubcellular location [CC]\tFunction [CC]\n",
      "B4NZ70\tDrosophila yakuba (Fruit fly)\tInsulin receptor substrate 1 (Protein chico)\t\tFUNCTION: Activates phosphatidylinositol 3-kinase when bound to the regulatory p85 subunit. May mediate the control of various cellular processes by insulin-like peptides. When phosphorylated by the insulin receptor binds specifically to various cellular proteins containing SH2 domains. Involved in control of cell proliferation, cell size, and body and organ growth throughout development. Also has a role in a signaling pathway controlling the physiological response required to endure periods of low nutrient conditions. Insulin/insulin-like growth factor (IGF) signaling pathway has a role in regulating aging and is necessary in the ovary for vitellogenic maturation (By similarity). {ECO:0000250|UniProtKB:P35570, ECO:0000250|UniProtKB:Q9XTN2}.\n",
      "\n",
      "Entry\tOrganism\tProtein names\tSubcellular location [CC]\tFunction [CC]\n",
      "B4HWI2\tDrosophila sechellia (Fruit fly)\tInsulin receptor substrate 1 (Protein chico)\t\tFUNCTION: Activates phosphatidylinositol 3-kinase when bound to the regulatory p85 subunit. May mediate the control of various cellular processes by insulin-like peptides. When phosphorylated by the insulin receptor binds specifically to various cellular proteins containing SH2 domains. Involved in control of cell proliferation, cell size, and body and organ growth throughout development. Also has a role in a signaling pathway controlling the physiological response required to endure periods of low nutrient conditions. Insulin/insulin-like growth factor (IGF) signaling pathway has a role in regulating aging and is necessary in the ovary for vitellogenic maturation (By similarity). {ECO:0000250|UniProtKB:P35570, ECO:0000250|UniProtKB:Q9XTN2}.\n",
      "\n",
      "Entry\tOrganism\tProtein names\tSubcellular location [CC]\tFunction [CC]\n",
      "Q9XTN2\tDrosophila melanogaster (Fruit fly)\tInsulin receptor substrate 1 (dIRS) (Protein chico)\t\tFUNCTION: Activates phosphatidylinositol 3-kinase when bound to the regulatory p85 subunit (By similarity). May mediate the control of various cellular processes by insulin-like peptides. When phosphorylated by the insulin receptor binds specifically to various cellular proteins containing SH2 domains. Involved in control of cell proliferation, cell size, and body and organ growth throughout development. Also has a role in a signaling pathway controlling the physiological response required to endure periods of low nutrient conditions. Insulin/insulin-like growth factor (IGF) signaling pathway has a role in regulating aging and is necessary in the ovary for vitellogenic maturation. {ECO:0000250, ECO:0000269|PubMed:10399915, ECO:0000269|PubMed:10801879, ECO:0000269|PubMed:11292874, ECO:0000269|PubMed:15890189}.\n",
      "\n",
      "Entry\tOrganism\tProtein names\tSubcellular location [CC]\tFunction [CC]\n",
      "B3MPN6\tDrosophila ananassae (Fruit fly)\tInsulin receptor substrate 1 (Protein chico)\t\tFUNCTION: Activates phosphatidylinositol 3-kinase when bound to the regulatory p85 subunit. May mediate the control of various cellular processes by insulin-like peptides. When phosphorylated by the insulin receptor binds specifically to various cellular proteins containing SH2 domains. Involved in control of cell proliferation, cell size, and body and organ growth throughout development. Also has a role in a signaling pathway controlling the physiological response required to endure periods of low nutrient conditions. Insulin/insulin-like growth factor (IGF) signaling pathway has a role in regulating aging and is necessary in the ovary for vitellogenic maturation (By similarity). {ECO:0000250|UniProtKB:P35570, ECO:0000250|UniProtKB:Q9XTN2}.\n",
      "\n",
      "Entry\tOrganism\tProtein names\tSubcellular location [CC]\tFunction [CC]\n",
      "Q9Z1S8\tMus musculus (Mouse)\tGRB2-associated-binding protein 2 (GRB2-associated binder 2) (Growth factor receptor bound protein 2-associated protein 2) (PH domain-containing adaptor molecule p97)\tSUBCELLULAR LOCATION: Cytoplasm {ECO:0000250}. Cell membrane {ECO:0000250}.\tFUNCTION: Adapter protein which acts downstream of several membrane receptors including cytokine, antigen, hormone, cell matrix and growth factor receptors to regulate multiple signaling pathways. Regulates osteoclast differentiation mediating the TNFRSF11A/RANK signaling. In allergic response, it plays a role in mast cells activation and degranulation through PI-3-kinase regulation. Also involved in the regulation of cell proliferation and hematopoiesis. {ECO:0000269|PubMed:10068651, ECO:0000269|PubMed:11449275, ECO:0000269|PubMed:15750601, ECO:0000269|PubMed:17374739, ECO:0000269|PubMed:9885561}.\n",
      "\n",
      "Entry\tOrganism\tProtein names\tSubcellular location [CC]\tFunction [CC]\n",
      "Q9EQH1\tRattus norvegicus (Rat)\tGRB2-associated-binding protein 2 (GRB2-associated binder 2) (Growth factor receptor bound protein 2-associated protein 2)\tSUBCELLULAR LOCATION: Cytoplasm {ECO:0000250}. Cell membrane {ECO:0000250}.\tFUNCTION: Adapter protein which acts downstream of several membrane receptors including cytokine, antigen, hormone, cell matrix and growth factor receptors to regulate multiple signaling pathways. Regulates osteoclast differentiation mediating the TNFRSF11A/RANK signaling. In allergic response, it plays a role in mast cells activation and degranulation through PI-3-kinase regulation. Also involved in the regulation of cell proliferation and hematopoiesis (By similarity). {ECO:0000250}.\n",
      "\n",
      "Entry\tOrganism\tProtein names\tSubcellular location [CC]\tFunction [CC]\n",
      "Q9UQC2\tHomo sapiens (Human)\tGRB2-associated-binding protein 2 (GRB2-associated binder 2) (Growth factor receptor bound protein 2-associated protein 2) (pp100)\tSUBCELLULAR LOCATION: Cytoplasm {ECO:0000269|PubMed:19172738}. Cell membrane {ECO:0000269|PubMed:19172738}.\tFUNCTION: Adapter protein which acts downstream of several membrane receptors including cytokine, antigen, hormone, cell matrix and growth factor receptors to regulate multiple signaling pathways. Regulates osteoclast differentiation mediating the TNFRSF11A/RANK signaling. In allergic response, it plays a role in mast cells activation and degranulation through PI-3-kinase regulation. Also involved in the regulation of cell proliferation and hematopoiesis. {ECO:0000269|PubMed:15750601, ECO:0000269|PubMed:19172738}.\n",
      "\n",
      "Entry\tOrganism\tProtein names\tSubcellular location [CC]\tFunction [CC]\n",
      "Q99PF6\tMesocricetus auratus (Golden hamster)\tGRB2-associated-binding protein 1 (GRB2-associated binder 1) (Growth factor receptor bound protein 2-associated protein 1)\t\tFUNCTION: Adapter protein that plays a role in intracellular signaling cascades triggered by activated receptor-type kinases. Plays a role in FGFR1 signaling. Probably involved in signaling by the epidermal growth factor receptor (EGFR) and the insulin receptor (INSR). Involved in the MET/HGF-signaling pathway. {ECO:0000250|UniProtKB:Q13480}.\n",
      "\n",
      "Entry\tOrganism\tProtein names\tSubcellular location [CC]\tFunction [CC]\n",
      "A6QLU3\tBos taurus (Bovine)\tGRB2-associated-binding protein 1 (GRB2-associated binder 1) (Growth factor receptor bound protein 2-associated protein 1)\t\tFUNCTION: Adapter protein that plays a role in intracellular signaling cascades triggered by activated receptor-type kinases. Plays a role in FGFR1 signaling. Probably involved in signaling by the epidermal growth factor receptor (EGFR) and the insulin receptor (INSR). Involved in the MET/HGF-signaling pathway. {ECO:0000250|UniProtKB:Q13480}.\n",
      "\n"
     ]
    },
    {
     "name": "stdout",
     "output_type": "stream",
     "text": [
      "Entry\tOrganism\tProtein names\tSubcellular location [CC]\tFunction [CC]\n",
      "Q13480\tHomo sapiens (Human)\tGRB2-associated-binding protein 1 (GRB2-associated binder 1) (Growth factor receptor bound protein 2-associated protein 1)\t\tFUNCTION: Adapter protein that plays a role in intracellular signaling cascades triggered by activated receptor-type kinases. Plays a role in FGFR1 signaling. Probably involved in signaling by the epidermal growth factor receptor (EGFR) and the insulin receptor (INSR). Involved in the MET/HGF-signaling pathway (PubMed:29408807). {ECO:0000269|PubMed:29408807}.\n",
      "\n",
      "Entry\tOrganism\tProtein names\tSubcellular location [CC]\tFunction [CC]\n",
      "Q9QYY0\tMus musculus (Mouse)\tGRB2-associated-binding protein 1 (GRB2-associated binder 1) (Growth factor receptor bound protein 2-associated protein 1)\t\tFUNCTION: Adapter protein that plays a role in intracellular signaling cascades triggered by activated receptor-type kinases. Plays a role in FGFR1 signaling. Probably involved in signaling by the epidermal growth factor receptor (EGFR) and the insulin receptor (INSR). Involved in the MET/HGF-signaling pathway. {ECO:0000250|UniProtKB:Q13480}.\n",
      "\n",
      "Entry\tOrganism\tProtein names\tSubcellular location [CC]\tFunction [CC]\n",
      "Q2WGN9\tHomo sapiens (Human)\tGRB2-associated-binding protein 4 (GRB2-associated binder 2-like) (GAB2-like) (GRB2-associated binder 4) (GRB2-associated-binding protein 2-like) (Growth factor receptor bound protein 2-associated protein 4)\t\t\n",
      "\n",
      "Entry\tOrganism\tProtein names\tSubcellular location [CC]\tFunction [CC]\n",
      "Q8WWW8\tHomo sapiens (Human)\tGRB2-associated-binding protein 3 (GRB2-associated binder 3) (Growth factor receptor bound protein 2-associated protein 3)\t\t\n",
      "\n",
      "Entry\tOrganism\tProtein names\tSubcellular location [CC]\tFunction [CC]\n",
      "Q8TEW6\tHomo sapiens (Human)\tDocking protein 4 (Downstream of tyrosine kinase 4) (Insulin receptor substrate 5) (IRS-5) (IRS5)\t\tFUNCTION: DOK proteins are enzymatically inert adaptor or scaffolding proteins. They provide a docking platform for the assembly of multimolecular signaling complexes. DOK4 functions in RET-mediated neurite outgrowth and plays a positive role in activation of the MAP kinase pathway (By similarity). Putative link with downstream effectors of RET in neuronal differentiation. May be involved in the regulation of the immune response induced by T-cells. {ECO:0000250}.\n",
      "\n",
      "Entry\tOrganism\tProtein names\tSubcellular location [CC]\tFunction [CC]\n",
      "Q99KE3\tMus musculus (Mouse)\tDocking protein 4 (Downstream of tyrosine kinase 4)\t\tFUNCTION: DOK proteins are enzymatically inert adaptor or scaffolding proteins. They provide a docking platform for the assembly of multimolecular signaling complexes. DOK4 functions in RET-mediated neurite outgrowth and plays a positive role in activation of the MAP kinase pathway (By similarity). Putative link with downstream effectors of RET in neuronal differentiation. May be involved in the regulation of the immune response induced by T-cells (By similarity). {ECO:0000250}.\n",
      "\n"
     ]
    }
   ],
   "source": [
    "file= open(\"CDS_protein_result_blastp.txt\", \"r\")\n",
    "fields=\"accession,organism_name,protein_name,cc_subcellular_location,cc_function\"\n",
    "WEBSITE_API=\"https://rest.uniprot.org\"\n",
    "with open('uniprot_result_CDS_filtered.txt', 'w',encoding='utf-8') as f:\n",
    "    for i in file:\n",
    "        r=get_url(\"{}/uniprotkb/search?query={} AND (reviewed:true)&fields={}&size=1&format=tsv\".format(WEBSITE_API,i, fields))\n",
    "        print(r.text)\n",
    "        f.write(r.text)\n",
    "        f.write('\\n')"
   ]
  },
  {
   "cell_type": "markdown",
   "id": "b63358cb",
   "metadata": {},
   "source": [
    "## Alignment and Phylo"
   ]
  },
  {
   "cell_type": "code",
   "execution_count": 2,
   "id": "e895c624",
   "metadata": {},
   "outputs": [],
   "source": [
    "from Bio.Align.Applications import ClustalwCommandline"
   ]
  },
  {
   "cell_type": "code",
   "execution_count": 3,
   "id": "b11dd6db",
   "metadata": {},
   "outputs": [
    {
     "name": "stdout",
     "output_type": "stream",
     "text": [
      "clustalw2 -infile=allOrg_CDS_prot_fromUniprot.fasta.fasta\n"
     ]
    }
   ],
   "source": [
    "cline = ClustalwCommandline(\"clustalw2\", infile=\"allOrg_CDS_prot_fromUniprot.fasta.fasta\")\n",
    "print(cline)"
   ]
  },
  {
   "cell_type": "code",
   "execution_count": null,
   "id": "647118ef",
   "metadata": {},
   "outputs": [],
   "source": [
    "#docker \n",
    "# docker pull quay.io/biocontainers/clustalw:2.1--hc9558a2_5\n",
    "# # clustalw\n",
    "# Id : 1468861e975d"
   ]
  },
  {
   "cell_type": "code",
   "execution_count": null,
   "id": "9b4d381d",
   "metadata": {},
   "outputs": [],
   "source": [
    "docker run -it --mount type=bind,source=\"/C/Users/Karyna/Desktop/Github/Lab-Bioinf/IRS1_last/allOrg_CDS_prot_fro\n",
    "mUniprot.fasta\",target=/usr quay.io/biocontainers/clustalw:2.1--hc9558a2_5 bash\n",
    "\n",
    "clustalw -infile=/input/allOrg_CDS_prot_fromUniprot.fasta\n"
   ]
  },
  {
   "cell_type": "code",
   "execution_count": null,
   "id": "d71e5b3b",
   "metadata": {},
   "outputs": [],
   "source": []
  },
  {
   "cell_type": "code",
   "execution_count": 5,
   "id": "41d98f1f",
   "metadata": {},
   "outputs": [],
   "source": [
    "from Bio import AlignIO\n",
    "from Bio.Align import MultipleSeqAlignment\n",
    "from Bio.Align import AlignInfo\n",
    "# exp = SeqIO.parse(open(\"allOrg_CDS_prot_new.fasta\"), format=\"fasta\") \n",
    "# for i in exp:\n",
    "#     print(len(i.seq))"
   ]
  },
  {
   "cell_type": "markdown",
   "id": "8bc577ff",
   "metadata": {},
   "source": [
    "The length of the seqs are all different, so it's not possible to use MultipleSeqAlignment method. CLustalW Web was used instead."
   ]
  },
  {
   "cell_type": "code",
   "execution_count": 6,
   "id": "b8d06f98",
   "metadata": {},
   "outputs": [],
   "source": [
    "# record_align = SeqIO.parse(open(\"allOrg_CDS_prot.fasta\"), format=\"fasta\")\n",
    "# record1 = SeqIO.parse(open(\"allOrg_CDS_prot.fasta\"), format=\"fasta\")\n",
    "\n",
    "# alin1 = MultipleSeqAlignment(record1)\n",
    "# print(alin1)\n",
    "# print(alin1.get_alignment_length())"
   ]
  },
  {
   "cell_type": "code",
   "execution_count": null,
   "id": "360deb1d",
   "metadata": {},
   "outputs": [],
   "source": [
    "seqs = []\n",
    "for seq in record1:\n",
    "    seqs.append(seq)\n",
    "\n",
    "alin1 = MultipleSeqAlignment(seqs)\n",
    "print(alin1)\n",
    "print(alin1.get_alignment_length())"
   ]
  }
 ],
 "metadata": {
  "kernelspec": {
   "display_name": "Python 3 (ipykernel)",
   "language": "python",
   "name": "python3"
  },
  "language_info": {
   "codemirror_mode": {
    "name": "ipython",
    "version": 3
   },
   "file_extension": ".py",
   "mimetype": "text/x-python",
   "name": "python",
   "nbconvert_exporter": "python",
   "pygments_lexer": "ipython3",
   "version": "3.9.12"
  }
 },
 "nbformat": 4,
 "nbformat_minor": 5
}
