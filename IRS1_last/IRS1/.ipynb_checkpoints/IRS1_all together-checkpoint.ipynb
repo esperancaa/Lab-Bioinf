{
 "cells": [
  {
   "cell_type": "markdown",
   "id": "a899206f",
   "metadata": {},
   "source": [
    "## Searching for IRS1 sequence"
   ]
  },
  {
   "cell_type": "code",
   "execution_count": 45,
   "id": "75864545",
   "metadata": {},
   "outputs": [],
   "source": [
    "from Bio import Entrez, SeqIO\n",
    "from Bio.Blast import NCBIXML \n",
    "from Bio.Blast import NCBIWWW \n",
    "from Bio import SeqIO"
   ]
  },
  {
   "cell_type": "code",
   "execution_count": 34,
   "id": "06eff519",
   "metadata": {},
   "outputs": [],
   "source": [
    "database = 'nucleotide'\n",
    "word = 'irs1 and homo sapiens and Chromosome 2 and not predicted and not unverified '\n",
    "res= '15'\n",
    "email= 'karyanlysenko@ua.pt'\n",
    "Entrez.email= email\n",
    "handle_search=Entrez.esearch(db = database, term=word, retmax= res)\n",
    "record=Entrez.read(handle_search)\n",
    "handle_search.close()\n",
    "idlist= record['IdList']"
   ]
  },
  {
   "cell_type": "code",
   "execution_count": 38,
   "id": "cc897b6b",
   "metadata": {},
   "outputs": [
    {
     "name": "stdout",
     "output_type": "stream",
     "text": [
      "NM_001330156.1 -length of seq: 2450 - Homo sapiens phosphotyrosine interaction domain containing 1 (PID1), transcript variant 3, mRNA\n",
      "NM_005544.3 -length of seq: 9771 - Homo sapiens insulin receptor substrate 1 (IRS1), mRNA\n",
      "NG_015830.1 -length of seq: 74474 - Homo sapiens insulin receptor substrate 1 (IRS1), RefSeqGene on chromosome 2\n",
      "NM_001100818.2 -length of seq: 2557 - Homo sapiens phosphotyrosine interaction domain containing 1 (PID1), transcript variant 2, mRNA\n",
      "NM_001330158.2 -length of seq: 2664 - Homo sapiens phosphotyrosine interaction domain containing 1 (PID1), transcript variant 5, mRNA\n",
      "NM_017933.5 -length of seq: 2768 - Homo sapiens phosphotyrosine interaction domain containing 1 (PID1), transcript variant 1, mRNA\n",
      "NM_001330157.2 -length of seq: 2410 - Homo sapiens phosphotyrosine interaction domain containing 1 (PID1), transcript variant 4, mRNA\n",
      "CM000253.1 -length of seq: 236827137 - Homo sapiens chromosome 2, whole genome shotgun sequence\n",
      "CH471063.1 -length of seq: 47628048 - Homo sapiens 211000035834619 genomic scaffold, whole genome shotgun sequence\n"
     ]
    }
   ],
   "source": [
    "handle = Entrez.efetch(db=database, id=idlist, rettype=\"gb\") \n",
    "records = list(SeqIO.parse(handle,\"gb\"))\n",
    "handle.close()\n",
    "for info in records:\n",
    "    print(info.id, '-length of seq:', len(info.seq), '-', info.description)"
   ]
  },
  {
   "cell_type": "markdown",
   "id": "4caa0e74",
   "metadata": {},
   "source": [
    "The selection of the id has to be done manually as there is no pattern writing the titles of the queries.\\\n",
    "The id __NG_015830.1__ is the only one where the annotated sequence is not a whole genome of the chromossome and actually is RefSeq. This means that the sequence is being used as a standard for well-characterized genes. So id __NG_015830.1__ will be used from now on."
   ]
  },
  {
   "cell_type": "code",
   "execution_count": 44,
   "id": "d80ac53c",
   "metadata": {},
   "outputs": [],
   "source": [
    "#The correspondent information of NG_015830.1 was downloaded to a file\n",
    "import os\n",
    "Entrez.email = \"karynalysenko@ua.pt\"\n",
    "filename = \"NG_015830_1_teste.gb\"\n",
    "if not os.path.isfile(filename):\n",
    "    net_handle = Entrez.efetch(db=\"nucleotide\", id=\"NG_015830.1\", rettype=\"gb\", retmode=\"text\")\n",
    "    out_handle = open(filename, \"w\")\n",
    "    out_handle.write(net_handle.read())\n",
    "    out_handle.close()\n",
    "    net_handle.close()"
   ]
  },
  {
   "cell_type": "code",
   "execution_count": 70,
   "id": "aedeb39d",
   "metadata": {},
   "outputs": [
    {
     "name": "stdout",
     "output_type": "stream",
     "text": [
      "The length of the sequence: 74474\n",
      "\n",
      "Comment from NCBI: REVIEWED REFSEQ: This record has been curated by NCBI staff. The\n",
      "reference sequence was derived from AC010735.11.\n",
      "This sequence is a reference standard in the RefSeqGene project.\n",
      "Summary: This gene encodes a protein which is phosphorylated by\n",
      "insulin receptor tyrosine kinase. Mutations in this gene are\n",
      "associated with type II diabetes and susceptibility to insulin\n",
      "resistance. [provided by RefSeq, Nov 2009].\n",
      "\n",
      "Number of annotated CDS: 1 in position:6\n",
      "\n"
     ]
    }
   ],
   "source": [
    "record = SeqIO.read(open(\"NG_015830_1_teste.gb\"), format=\"genbank\")\n",
    "count,position=0,0\n",
    "for i in range(len(record.features)):\n",
    "    if record.features[i].type == \"CDS\":\n",
    "        count+=1\n",
    "        position=i\n",
    "print(\"The length of the sequence: {}\\n\".format(len(record.seq)))\n",
    "print(\"Comment from NCBI: {}\\n\".format(record.annotations[\"comment\"]))\n",
    "print(\"Number of annotated CDS: {} in position:{}\\n\".format(count,position))"
   ]
  },
  {
   "cell_type": "code",
   "execution_count": 75,
   "id": "3717d466",
   "metadata": {},
   "outputs": [
    {
     "name": "stdout",
     "output_type": "stream",
     "text": [
      "[5052:8781](+)\n"
     ]
    }
   ],
   "source": [
    "#checking the location of the CDS on the original sequence\n",
    "print(record.features[6].location)"
   ]
  },
  {
   "cell_type": "code",
   "execution_count": 80,
   "id": "8597bd3d",
   "metadata": {},
   "outputs": [
    {
     "data": {
      "text/plain": [
       "Seq('ATGGCGAGCCCTCCGGAGAGCGATGGCTTCTCGGACGTGCGCAAGGTGGGCTAC...TAG')"
      ]
     },
     "execution_count": 80,
     "metadata": {},
     "output_type": "execute_result"
    }
   ],
   "source": []
  },
  {
   "cell_type": "code",
   "execution_count": 76,
   "id": "598dc718",
   "metadata": {},
   "outputs": [],
   "source": [
    "CDS_nuc_seq=record.seq[5052:8781]"
   ]
  },
  {
   "cell_type": "code",
   "execution_count": null,
   "id": "da3f3af2",
   "metadata": {},
   "outputs": [],
   "source": [
    "\n",
    "with open('uniprot_result_CDS_filtered.txt', 'w',encoding='utf-8') as f:\n",
    "    for i in file:\n",
    "        r=get_url(\"{}/uniprotkb/search?query={} AND (reviewed:true)&fields={}&size=1&format=tsv\".format(WEBSITE_API,i, fields))\n",
    "        print(r.text)\n",
    "        f.write(r.text)\n",
    "        f.write('\\n')"
   ]
  },
  {
   "cell_type": "code",
   "execution_count": null,
   "id": "02853764",
   "metadata": {},
   "outputs": [],
   "source": []
  }
 ],
 "metadata": {
  "kernelspec": {
   "display_name": "Python 3 (ipykernel)",
   "language": "python",
   "name": "python3"
  },
  "language_info": {
   "codemirror_mode": {
    "name": "ipython",
    "version": 3
   },
   "file_extension": ".py",
   "mimetype": "text/x-python",
   "name": "python",
   "nbconvert_exporter": "python",
   "pygments_lexer": "ipython3",
   "version": "3.9.12"
  }
 },
 "nbformat": 4,
 "nbformat_minor": 5
}
