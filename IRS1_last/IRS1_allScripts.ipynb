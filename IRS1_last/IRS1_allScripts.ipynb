{
 "cells": [
  {
   "cell_type": "markdown",
   "id": "a899206f",
   "metadata": {},
   "source": [
    "## Searching for IRS1 sequence"
   ]
  },
  {
   "cell_type": "code",
   "execution_count": 49,
   "id": "75864545",
   "metadata": {},
   "outputs": [],
   "source": [
    "from Bio import Entrez, SeqIO, Medline\n",
    "from Bio.Blast import NCBIXML \n",
    "from Bio.Blast import NCBIWWW\n",
    "from Bio.Align.Applications import ClustalwCommandline\n",
    "from Bio import AlignIO\n",
    "from Bio.Align import MultipleSeqAlignment\n",
    "from Bio import AlignIO\n",
    "from Bio.Phylo.TreeConstruction import DistanceCalculator, DistanceTreeConstructor\n",
    "from Bio import Phylo\n",
    "import requests, sys, json\n",
    "import re\n",
    "from tqdm import tqdm\n",
    "import pandas as pd\n",
    "\n"
   ]
  },
  {
   "cell_type": "code",
   "execution_count": 4,
   "id": "84f9bbd6",
   "metadata": {},
   "outputs": [
    {
     "name": "stdout",
     "output_type": "stream",
     "text": [
      "Title: Chordin like-1 regulates osteoblast and adipocyte differentiation through stabilizing insulin-like growth factor binding protein 3.\n",
      "Authors: ['Sun H', 'Wang S', 'Yang Z', 'Tian L', 'Li X', 'Zhou J', 'Wang B']\n",
      "Source: Stem Cells. 2023 Jan 22:sxad009. doi: 10.1093/stmcls/sxad009.\n",
      "\n",
      "Title: HIIT Ameliorates Inflammation and Lipid Metabolism by Regulating Macrophage Polarization and Mitochondrial Dynamics in the Liver of Type 2 Diabetes Mellitus Mice.\n",
      "Authors: ['Wang Y', 'Guo Y', 'Xu Y', 'Wang W', 'Zhuang S', 'Wang R', 'Xiao W']\n",
      "Source: Metabolites. 2022 Dec 21;13(1):14. doi: 10.3390/metabo13010014.\n",
      "\n",
      "Title: Sediment pollutant exposures caused hepatotoxicity and disturbed glycogenesis.\n",
      "Authors: ['Lin MW', 'Yu XR', 'Chen JY', 'Wei YS', 'Chen HY', 'Tsai YT', 'Lin LH', 'Liao EC', 'Kung HY', 'Young SS', 'Chan HL', 'Chou HC']\n",
      "Source: Ecotoxicol Environ Saf. 2023 Jan 19;251:114559. doi: 10.1016/j.ecoenv.2023.114559.\n",
      "\n",
      "Title: Alpha-Mangosteen lessens high-fat/high-glucose diet and low-dose streptozotocin induced-hepatic manifestations in the insulin resistance rat model.\n",
      "Authors: ['Soetikno V', 'Andini P', 'Iskandar M', 'Matheos CC', 'Herdiman JA', 'Kyle IK', 'Suma MNI', 'Louisa M', 'Estuningtyas A']\n",
      "Source: Pharm Biol. 2023 Dec;61(1):241-248. doi: 10.1080/13880209.2023.2166086.\n",
      "\n",
      "Title: Olive Leaves Extract and Oleuropein Improve Insulin Sensitivity in 3T3-L1 Cells and in High-Fat Diet-Treated Rats via PI3K/AkT Signaling Pathway.\n",
      "Authors: ['Hadrich F', 'Mahmoudi A', 'Chamkha M', 'Isoda H', 'Sayadi S']\n",
      "Source: Oxid Med Cell Longev. 2023 Jan 7;2023:6828230. doi: 10.1155/2023/6828230. eCollection 2023.\n",
      "\n"
     ]
    }
   ],
   "source": [
    "#Original\n",
    "#pubmed search\n",
    "database = 'PubMed'\n",
    "word = 'irs1 insulin'\n",
    "res= 15 \n",
    "email= \"karynalysenko@ua.pt\"\n",
    "\n",
    "Entrez.email= email\n",
    "handle=Entrez.esearch(db = database, term=word, retmax= res)\n",
    "record=Entrez.read(handle)\n",
    "handle.close()\n",
    "idlist= record['IdList']\n",
    "\n",
    "handle = Entrez.efetch(db=database, id=idlist, rettype=\"medline\", retmode=\"text\")\n",
    "records = list(Medline.parse(handle))\n",
    "\n",
    "\n",
    "for record in records[0:5]:\n",
    "    #print(record) \n",
    "    #print(\"PMID:\",record.get(\"PMID\",\"-\"))\n",
    "    print(\"Title:\", record.get(\"TI\", \"-\"))\n",
    "    #print('abstract:', record.get('AB', '-'))\n",
    "    print(\"Authors:\", record.get(\"AU\", \"-\"))\n",
    "    print(\"Source:\", record.get(\"SO\", \"-\"))\n",
    "    print(\"\")"
   ]
  },
  {
   "cell_type": "code",
   "execution_count": 51,
   "id": "8e10f124",
   "metadata": {},
   "outputs": [
    {
     "name": "stderr",
     "output_type": "stream",
     "text": [
      "2it [00:00, ?it/s]"
     ]
    },
    {
     "name": "stdout",
     "output_type": "stream",
     "text": [
      "       PMID                                              Title\n",
      "1  34274528  Insulin action at a molecular level – 100 year...\n",
      "2  36473871  The dynamic clustering of insulin receptor und...\n"
     ]
    },
    {
     "name": "stderr",
     "output_type": "stream",
     "text": [
      "\n"
     ]
    }
   ],
   "source": [
    "#Second Strategie for pmc_result.txt; articles used in literature analysis\n",
    "alldata=[]\n",
    "with open(\"pmc_result.txt\",encoding=\"utf-8\") as f: #For this examples I chosse articles from PubMed about Diabetes type II\n",
    "    pmids= Medline.parse(f)\n",
    "    for pmid in tqdm(pmids):\n",
    "        try:\n",
    "            pid=pmid[\"PMID\"]\n",
    "        except:\n",
    "            pid=\"-\"\n",
    "        try:\n",
    "            Title=pmid[\"TI\"]\n",
    "        except:\n",
    "            Title=\"-\"\n",
    "        #try:        \n",
    "            #Abstract=pmid[\"AB\"]\n",
    "        #except:\n",
    "            #Abstract=\"-\"\n",
    "        #try:\n",
    "            #Authors=pmid[\"AU\"]\n",
    "        #except:\n",
    "            #Authors=\"-\"\n",
    "        #try:\n",
    "            #Source=pmid[\"SO\"]\n",
    "        #except:\n",
    "            #Source=\"-\"\n",
    "        \n",
    "        dic={\"PMID\":pid,\n",
    "             \"Title\":Title,\n",
    "             #\"Abstract\":Abstract,\n",
    "             #\"Authors\":Authors,\n",
    "             #\"Source\":Source\n",
    "            }\n",
    "        alldata.append(dic)\n",
    "df = pd.DataFrame.from_records(alldata,index=['1', '2'])\n",
    "print(df)"
   ]
  },
  {
   "cell_type": "code",
   "execution_count": 6,
   "id": "cc897b6b",
   "metadata": {
    "scrolled": true
   },
   "outputs": [
    {
     "name": "stdout",
     "output_type": "stream",
     "text": [
      "NM_005544.3 - Homo sapiens insulin receptor substrate 1 (IRS1), mRNA\n",
      "NM_001100818.2 - Homo sapiens phosphotyrosine interaction domain containing 1 (PID1), transcript variant 2, mRNA\n",
      "NM_001330158.2 - Homo sapiens phosphotyrosine interaction domain containing 1 (PID1), transcript variant 5, mRNA\n",
      "NM_001330157.2 - Homo sapiens phosphotyrosine interaction domain containing 1 (PID1), transcript variant 4, mRNA\n",
      "NM_017933.5 - Homo sapiens phosphotyrosine interaction domain containing 1 (PID1), transcript variant 1, mRNA\n",
      "NM_001330156.1 - Homo sapiens phosphotyrosine interaction domain containing 1 (PID1), transcript variant 3, mRNA\n",
      "NG_015830.1 - Homo sapiens insulin receptor substrate 1 (IRS1), RefSeqGene on chromosome 2\n",
      "CM000253.1 - Homo sapiens chromosome 2, whole genome shotgun sequence\n",
      "CH471063.1 - Homo sapiens 211000035834619 genomic scaffold, whole genome shotgun sequence\n"
     ]
    }
   ],
   "source": [
    "#ncbi search to find the sequence of IRS1\n",
    "database = 'nucleotide'\n",
    "word = 'irs1 and homo sapiens and Chromosome 2 and not predicted and not unverified '\n",
    "res= '15'\n",
    "email= 'karyanlysenko@ua.pt'\n",
    "Entrez.email= email\n",
    "handle_search=Entrez.esearch(db = database, term=word, retmax= res)\n",
    "record=Entrez.read(handle_search)\n",
    "handle_search.close()\n",
    "idlist= record['IdList']\n",
    "handle = Entrez.efetch(db=database, id=idlist, rettype=\"gb\") \n",
    "records = list(SeqIO.parse(handle,\"gb\"))\n",
    "handle.close()\n",
    "for info in records:\n",
    "    print(info.id, '-', info.description)\n",
    "    #print('length of seq:', len(info.seq)) #to check the length of the sequences"
   ]
  },
  {
   "cell_type": "markdown",
   "id": "4caa0e74",
   "metadata": {},
   "source": [
    "The selection of the id has to be done manually as there is no pattern in writing the titles of the queries.\\\n",
    "The id __NG_015830.1__ is the only one where the annotated sequence is not a whole genome of the chromossome, is not a mRNA and actually is RefSeq. This means that the sequence is being used as a standard for well-characterized genes. So id __NG_015830.1__ will be used from now on."
   ]
  },
  {
   "cell_type": "code",
   "execution_count": 7,
   "id": "d80ac53c",
   "metadata": {},
   "outputs": [],
   "source": [
    "#The correspondent information of NG_015830.1 was downloaded to a file \n",
    "import os\n",
    "Entrez.email = \"karynalysenko@ua.pt\"\n",
    "filename = \"NG_015830_1.gb\"\n",
    "if not os.path.isfile(filename):\n",
    "    net_handle = Entrez.efetch(db=\"nucleotide\", id=\"NG_015830.1\", rettype=\"gb\", retmode=\"text\")\n",
    "    out_handle = open(filename, \"w\")\n",
    "    out_handle.write(net_handle.read())\n",
    "    out_handle.close()\n",
    "    net_handle.close()"
   ]
  },
  {
   "cell_type": "code",
   "execution_count": 8,
   "id": "aedeb39d",
   "metadata": {},
   "outputs": [
    {
     "name": "stdout",
     "output_type": "stream",
     "text": [
      "The length of the sequence: 74474\n",
      "\n",
      "Type of features: {'source': 1, 'gene': 2, 'mRNA': 2, 'exon': 2, 'CDS': 1, 'misc_feature': 46}\n",
      "\n",
      "Comment from NCBI: REVIEWED REFSEQ: This record has been curated by NCBI staff. The\n",
      "reference sequence was derived from AC010735.11.\n",
      "This sequence is a reference standard in the RefSeqGene project.\n",
      "Summary: This gene encodes a protein which is phosphorylated by\n",
      "insulin receptor tyrosine kinase. Mutations in this gene are\n",
      "associated with type II diabetes and susceptibility to insulin\n",
      "resistance. [provided by RefSeq, Nov 2009].\n",
      "\n",
      "Location of the CDS on the original sequence: [5052:8781](+)\n",
      "\n",
      "Associated Genbank protein info of CDS: NP_005535.1\n"
     ]
    }
   ],
   "source": [
    "record = SeqIO.read(open(\"NG_015830_1.gb\"), format=\"genbank\")\n",
    "position=0\n",
    "record_types={}\n",
    "for x in record.features:\n",
    "    record_types[x.type]=record_types.get(x.type,0)+1\n",
    "for i in range(len(record.features)):\n",
    "    if record.features[i].type == \"CDS\":\n",
    "        position=i\n",
    "print(\"The length of the sequence: {}\\n\".format(len(record.seq)))\n",
    "print(\"Type of features: {}\\n\".format(record_types))\n",
    "print(\"Comment from NCBI: {}\\n\".format(record.annotations[\"comment\"]))\n",
    "#checking the location of the CDS on the original sequence\n",
    "print(\"Location of the CDS on the original sequence: {}\\n\".format(record.features[position].location))\n",
    "print(\"Associated Genbank protein info of CDS: {}\".format(\"\".join(record.features[position].qualifiers['protein_id'])))"
   ]
  },
  {
   "cell_type": "code",
   "execution_count": 9,
   "id": "0d3ee7d4",
   "metadata": {},
   "outputs": [],
   "source": [
    "CDS_nuc_seq_location=record.seq[int(record.features[position].location.start):int(record.features[position].location.end)]"
   ]
  },
  {
   "cell_type": "code",
   "execution_count": 10,
   "id": "da3f3af2",
   "metadata": {},
   "outputs": [],
   "source": [
    "#saving the CDS_nucleotides and CD_aminoacid seqs in files\n",
    "filename = \"NG_015830_1.gb\"\n",
    "filename_CDS_nucl = \"CDS_nucleot_seq.fasta\"\n",
    "filename_CDS_prot = \"CDS_prot_seq.fasta\"\n",
    "input_handle  = open(filename, \"r\")\n",
    "output_handle_nucl = open(filename_CDS_nucl, \"w\")\n",
    "output_handle_prot = open(filename_CDS_prot, \"w\")\n",
    "for seq_record in SeqIO.parse(input_handle, \"genbank\"):\n",
    "    protein_id=\"\".join(record.features[position].qualifiers['protein_id'])\n",
    "    output_handle_nucl.write(\">\\n%s\" % (CDS_nuc_seq_location))\n",
    "    output_handle_prot.write(\">%s\\n%s\" % (protein_id,\"\".join(record.features[position].qualifiers['translation']))) #without join, output is a list\n",
    "    \n",
    "output_handle_nucl.close()\n",
    "output_handle_prot.close()\n",
    "input_handle.close()"
   ]
  },
  {
   "cell_type": "markdown",
   "id": "58e42387",
   "metadata": {},
   "source": [
    "## BLASTN - for all organisms"
   ]
  },
  {
   "cell_type": "code",
   "execution_count": 11,
   "id": "698804b4",
   "metadata": {},
   "outputs": [
    {
     "name": "stdout",
     "output_type": "stream",
     "text": [
      "3729\n"
     ]
    }
   ],
   "source": [
    "record_blastn = SeqIO.read(open(\"CDS_nucleot_seq.fasta\"), format=\"fasta\") \n",
    "print(len(record_blastn.seq))"
   ]
  },
  {
   "cell_type": "code",
   "execution_count": 41,
   "id": "2b947b75",
   "metadata": {},
   "outputs": [],
   "source": [
    "Blastn = NCBIWWW.qblast(\"blastn\", \"nt\", record_blastn.seq) #not filtered for Homo sapiens\n",
    "with open('blastn_CDS_nucleot_seq.xml', \"w\") as out_handle:\n",
    "        out_handle.write(Blastn.read())\n",
    "Blastn.close()"
   ]
  },
  {
   "cell_type": "code",
   "execution_count": 12,
   "id": "8c97eefc",
   "metadata": {},
   "outputs": [
    {
     "name": "stdout",
     "output_type": "stream",
     "text": [
      "\n",
      "Accession:  XM_047444224\n",
      "Definition:  PREDICTED: Homo sapiens insulin receptor substrate 1 (IRS1), transcript variant X2, mRNA\n",
      "E-value:  0.0\n",
      "\n",
      "Accession:  XM_047444223\n",
      "Definition:  PREDICTED: Homo sapiens insulin receptor substrate 1 (IRS1), transcript variant X1, mRNA\n",
      "E-value:  0.0\n",
      "\n",
      "Accession:  NM_005544\n",
      "Definition:  Homo sapiens insulin receptor substrate 1 (IRS1), mRNA\n",
      "E-value:  0.0\n",
      "\n",
      "Accession:  NG_015830\n",
      "Definition:  Homo sapiens insulin receptor substrate 1 (IRS1), RefSeqGene on chromosome 2\n",
      "E-value:  0.0\n",
      "\n",
      "Accession:  AC010735\n",
      "Definition:  Homo sapiens BAC clone RP11-395N3 from 2, complete sequence\n",
      "E-value:  0.0\n"
     ]
    }
   ],
   "source": [
    "results_Blastn = open(\"blastn_CDS_nucleot_seq.xml\")\n",
    "blastn_records = NCBIXML.read(results_Blastn)\n",
    "for parameter in blastn_records.alignments[0:5]:\n",
    "    print()\n",
    "    print('Accession: ', parameter.accession)\n",
    "    print('Definition: ', parameter.hit_def)    \n",
    "    for e_v in parameter.hsps:\n",
    "        print('E-value: ', e_v.expect)"
   ]
  },
  {
   "cell_type": "code",
   "execution_count": 13,
   "id": "2bfbc986",
   "metadata": {},
   "outputs": [
    {
     "name": "stdout",
     "output_type": "stream",
     "text": [
      "['NM_005544', 'NG_015830', 'AC010735', 'S62539', 'BC053895', 'LT743046', 'KJ891488', 'AB384351', 'EU831611', 'EU831698', 'S85963', 'U43502']\n",
      "Total 38 PREDICTED seqs found and remaining 8 ids are from Homo sapiens\n"
     ]
    }
   ],
   "source": [
    "#filtering the \"predicted\" alignments\n",
    "results_Blastn= open('blastn_CDS_nucleot_seq.xml')\n",
    "blastn_records = NCBIXML.read(results_Blastn)\n",
    "E_VALUE_THRESH = 0.001\n",
    "count_preditc, count_homo=0,0\n",
    "list_filtered_alignments=[]\n",
    "for alignment in  blastn_records.alignments:\n",
    "    for hsp in alignment.hsps:\n",
    "        if hsp.expect < E_VALUE_THRESH:\n",
    "            exist = re.search(r'PREDICTED:\\s', alignment.title)\n",
    "            if exist:\n",
    "                # print( existe[0] )\n",
    "                pre = re.match(r'PREDICTED:\\s', exist[0] )\n",
    "                if pre:\n",
    "                    count_preditc+=1\n",
    "                    #print(id)\n",
    "            else:\n",
    "                list_filtered_alignments.append(alignment.accession)\n",
    "                homo=re.search(r'Homo\\ssapiens',alignment.title)\n",
    "                if homo:\n",
    "                    count_homo+=1\n",
    "print(list_filtered_alignments)\n",
    "print('Total {} PREDICTED seqs found and remaining {} ids are from Homo sapiens'.format(count_preditc, count_homo))\n",
    "#counting of Homo sapiens it's not conclusive, just to have an ideia, because the titles don't follow any pattern"
   ]
  },
  {
   "cell_type": "code",
   "execution_count": 12,
   "id": "d3dda171",
   "metadata": {},
   "outputs": [],
   "source": [
    "with open('CDS_nucleotide_result_blast.txt', 'w') as f:\n",
    "    for line in list_filtered_alignments:\n",
    "        f.write(f\"{line}\\n\")"
   ]
  },
  {
   "cell_type": "markdown",
   "id": "bfb3690a",
   "metadata": {},
   "source": [
    "## BLASTP"
   ]
  },
  {
   "cell_type": "code",
   "execution_count": 14,
   "id": "8c8008be",
   "metadata": {},
   "outputs": [
    {
     "name": "stdout",
     "output_type": "stream",
     "text": [
      "1242\n"
     ]
    }
   ],
   "source": [
    "record_blastp = SeqIO.read(open(\"CDS_prot_seq.fasta\"), format=\"fasta\") \n",
    "print(len(record_blastp.seq))"
   ]
  },
  {
   "cell_type": "code",
   "execution_count": 15,
   "id": "74737a75",
   "metadata": {},
   "outputs": [],
   "source": [
    "Blastp = NCBIWWW.qblast(\"blastp\", \"swissprot\", record_blastp.seq) #not filtered for Homo sapiens\n",
    "with open('blastp_CDS_prot_seq.xml', \"w\") as out_handle:\n",
    "        out_handle.write(Blastp.read())\n",
    "Blastp.close()"
   ]
  },
  {
   "cell_type": "code",
   "execution_count": 15,
   "id": "dc1babf5",
   "metadata": {},
   "outputs": [
    {
     "name": "stdout",
     "output_type": "stream",
     "text": [
      "\n",
      "Accession:  P35568\n",
      "Definition:  RecName: Full=Insulin receptor substrate 1; Short=IRS-1 [Homo sapiens]\n",
      "E-value:  0.0\n",
      "\n",
      "Accession:  Q28224\n",
      "Definition:  RecName: Full=Insulin receptor substrate 1; Short=IRS-1 [Chlorocebus aethiops]\n",
      "E-value:  0.0\n",
      "\n",
      "Accession:  P35570\n",
      "Definition:  RecName: Full=Insulin receptor substrate 1; Short=IRS-1; AltName: Full=pp185 [Rattus norvegicus]\n",
      "E-value:  0.0\n",
      "\n",
      "Accession:  P35569\n",
      "Definition:  RecName: Full=Insulin receptor substrate 1; Short=IRS-1 [Mus musculus]\n",
      "E-value:  0.0\n",
      "\n",
      "Accession:  P84770\n",
      "Definition:  RecName: Full=Insulin receptor substrate 1-B; Short=IRS1-B; Short=xIRS-1-B; AltName: Full=XIRS-L' [Xenopus laevis]\n",
      "E-value:  0.0\n"
     ]
    }
   ],
   "source": [
    "results_Blastp = open(\"blastp_CDS_prot_seq.xml\")\n",
    "blastp_records = NCBIXML.read(results_Blastp)\n",
    "for parameter in blastp_records.alignments[0:5]:\n",
    "    print()\n",
    "    print('Accession: ', parameter.accession)\n",
    "    print('Definition: ', parameter.hit_def)    \n",
    "    for e_v in parameter.hsps:\n",
    "        print('E-value: ', e_v.expect)"
   ]
  },
  {
   "cell_type": "code",
   "execution_count": 3,
   "id": "20ecd302",
   "metadata": {},
   "outputs": [
    {
     "name": "stdout",
     "output_type": "stream",
     "text": [
      "number of times: 1 that appeared specie: [Bos taurus]\n",
      "number of times: 1 that appeared specie: [Chlorocebus aethiops]\n",
      "number of times: 1 that appeared specie: [Drosophila ananassae]\n",
      "number of times: 1 that appeared specie: [Drosophila erecta]\n",
      "number of times: 1 that appeared specie: [Drosophila melanogaster]\n",
      "number of times: 1 that appeared specie: [Drosophila sechellia]\n",
      "number of times: 1 that appeared specie: [Drosophila yakuba]\n",
      "number of times: 9 that appeared specie: [Homo sapiens]\n",
      "number of times: 1 that appeared specie: [Mesocricetus auratus]\n",
      "number of times: 6 that appeared specie: [Mus musculus]\n",
      "number of times: 2 that appeared specie: [Rattus norvegicus]\n",
      "number of times: 4 that appeared specie: [Xenopus laevis]\n",
      "number of times: 2 that appeared specie: [Xenopus tropicalis]\n",
      "{'B4NZ70', 'Q9Z0Y7', 'P35570', 'Q9XTN2', 'Q9Y4H2', 'Q5RJW5', 'Q99PF6', 'P35569', 'P81122', 'Q91615', 'B3MPN6', 'Q6P4Y6', 'P84770', 'B4HWI2', 'Q99KE3', 'A6QLU3', 'Q9DF49', 'Q9Z1S8', 'O14654', 'Q8WWW8', 'Q13480', 'P35568', 'B3N946', 'Q28224', 'Q9EQH1', 'Q9UQC2', 'Q8TEW6', 'Q2WGN9', 'Q9QYY0'}\n"
     ]
    }
   ],
   "source": [
    "#not necessary\n",
    "#this part was adapted below\n",
    "# results_Blastp= open('blastp_CDS_prot_seq.xml')\n",
    "# blastp_records = NCBIXML.read(results_Blastp)\n",
    "# E_VALUE_THRESH = 0.001\n",
    "# list_filtered_alignments,list_species=[],[]\n",
    "# for alignment in  blastp_records.alignments:\n",
    "#     for hsp in alignment.hsps:\n",
    "# #         print(hsp.identities)    # maybe add more \n",
    "#         if hsp.expect < E_VALUE_THRESH:\n",
    "#             list_filtered_alignments.append(alignment.accession)\n",
    "#             title_organism=re.search(r'\\[.+\\s.+\\]', alignment.title)\n",
    "#             if title_organism:\n",
    "#                 m = re.match(r'\\[.+\\s.+\\]', title_organism[0] )\n",
    "#                 specie = m.group(0)\n",
    "#                 #print(specie)\n",
    "#                 list_species.append(specie)\n",
    "# for x in sorted(set(list_species)):\n",
    "#     print(\"number of times: {} that appeared specie: {}\".format(list_species.count(x),x))\n",
    "\n",
    "# print(set(list_filtered_alignments))\n",
    "#print(len(list_filtered_alignments))"
   ]
  },
  {
   "cell_type": "code",
   "execution_count": 16,
   "id": "5bc3970d",
   "metadata": {},
   "outputs": [
    {
     "name": "stdout",
     "output_type": "stream",
     "text": [
      "1242\n"
     ]
    }
   ],
   "source": [
    "#FINAL\n",
    "#has to be apart because of NCBIXML.read() and not parse\n",
    "results_Blastp= open('blastp_CDS_prot_seq.xml')\n",
    "blastp_records_r = NCBIXML.read(results_Blastp)\n",
    "first=blastp_records_r.alignments[0]\n",
    "len_max_seq=first.hsps[0].align_length\n",
    "print(len_max_seq)"
   ]
  },
  {
   "cell_type": "code",
   "execution_count": 14,
   "id": "85f47a7d",
   "metadata": {},
   "outputs": [],
   "source": [
    "#função não aplicável por causa do resto do código, que está construído para listas (coverage e identity)\n",
    "# def read_xml(filename):\n",
    "#     results_Blastp= open(filename)\n",
    "#     blastp_records = NCBIXML.parse(results_Blastp)\n",
    "#     alltog=[]\n",
    "\n",
    "#     for alignment in  blastp_records:\n",
    "#         for a in alignment.alignments:\n",
    "#             for b in a.hsps:\n",
    "#                 list_accession,list_identities,list_coverage_start, list_coverage_stop,list_alignLen=[],[],[],[],[]\n",
    "#                 list_accession.append(a.accession)\n",
    "#                 list_coverage_start.append(b.sbjct_start)\n",
    "#                 list_coverage_stop.append(b.sbjct_end)\n",
    "#                 list_identities.append(b.identities)\n",
    "#                 list_alignLen.append(b.align_length)\n",
    "#             alltog.append(list_accession+list_coverage_start+list_coverage_start+list_coverage_stop+list_identities+list_alignLen)\n",
    "#     return alltog \n",
    "# print(read_xml('blastp_CDS_prot_seq.xml')[0][0])"
   ]
  },
  {
   "cell_type": "code",
   "execution_count": 17,
   "id": "8f964def",
   "metadata": {},
   "outputs": [],
   "source": [
    "#FINAL\n",
    "results_Blastp= open('blastp_CDS_prot_seq.xml')\n",
    "blastp_records = NCBIXML.parse(results_Blastp)\n",
    "list_accession,list_identities,list_coverage_start, list_coverage_stop,list_alignLen=[],[],[],[],[]\n",
    "list_organism=[]\n",
    "E_VALUE_THRESH = 0.001\n",
    "for alignment in  blastp_records:\n",
    "    for a in alignment.alignments:\n",
    "        for b in a.hsps:\n",
    "            if b.expect < E_VALUE_THRESH:\n",
    "                title_organism=re.search(r'\\[.+\\s.+\\]', a.title)\n",
    "                if title_organism:\n",
    "                    m = re.match(r'\\[(.+\\s.+)\\]', title_organism[0] )\n",
    "                    list_accession.append(a.accession)\n",
    "                    list_coverage_start.append(b.sbjct_start)\n",
    "                    list_coverage_stop.append(b.sbjct_end)\n",
    "                    list_identities.append(b.identities)\n",
    "                    list_alignLen.append(b.align_length)\n",
    "                    list_organism.append(m.group(1))\n",
    "            #print(a.accession, b.align_length, b.identities, b.expect, b.sbjct_start, b.sbjct_end)\n",
    "            \n",
    "#calculation of %identity                        \n",
    "def identity(list_i, list_a):\n",
    "    perc_list_identities=[]\n",
    "    for index in range(len(list_i)):\n",
    "        perc_list_identities.append(round(list_i[index]*100/list_a[index]))\n",
    "    return perc_list_identities\n",
    "\n",
    "#calculation of the %coverage - for all hsps of all accessions\n",
    "def coverage(list_end,list_start):\n",
    "    perc_list_coverage=[]\n",
    "    for index in range(len(list_identities)):\n",
    "        perc_list_coverage.append(round((1+list_end[index]-list_start[index])/len_max_seq*100))\n",
    "    return perc_list_coverage\n",
    "\n",
    "#selecting the max coverage and max identity per hsps/accession\n",
    "def max_values_by_id(ids, covs, idents): \n",
    "    unique_ids = []\n",
    "    max_coverage = []\n",
    "    max_identity = []\n",
    "    for id, cov, ident in zip(ids, covs,idents):\n",
    "        if id in unique_ids:\n",
    "            idx = unique_ids.index(id)\n",
    "            max_coverage[idx] = max(max_coverage[idx], cov)\n",
    "            max_identity[idx] = max(max_identity[idx], ident)\n",
    "        else:\n",
    "            unique_ids.append(id)\n",
    "            max_coverage.append(cov)\n",
    "            max_identity.append(ident)\n",
    "    return unique_ids, max_coverage, max_identity\n",
    "\n",
    "beta_max=max_values_by_id(list_accession, coverage(list_coverage_stop, list_coverage_start),identity(list_identities,list_alignLen))\n"
   ]
  },
  {
   "cell_type": "code",
   "execution_count": 18,
   "id": "548780c7",
   "metadata": {
    "scrolled": true
   },
   "outputs": [
    {
     "name": "stdout",
     "output_type": "stream",
     "text": [
      "___Thresholds___\n",
      "coverage: 50%   |\n",
      "identity: 50%   |\n",
      "e-value: 0.001% |\n",
      "\n",
      "   ID     %coverage  %identity       Organism\n",
      "|P35568|      100       100         Homo sapiens\n",
      "|Q28224|      101*       97    Chlorocebus aethiops\n",
      "|P35570|       99        89    Rattus norvegicus\n",
      "|P35569|       99        88         Mus musculus\n",
      "|P84770|       87        58       Xenopus laevis\n",
      "|Q91615|       71        55       Xenopus laevis\n",
      "\n",
      "* means that the subject sequence is longer than the query sequence\n"
     ]
    }
   ],
   "source": [
    "#FINAL\n",
    "thresold_coverage=50\n",
    "thresold_identity=50\n",
    "print('___Thresholds___')\n",
    "print('coverage: {}%   |'.format(thresold_coverage))\n",
    "print('identity: {}%   |'.format(thresold_identity))\n",
    "print('e-value: {}% |\\n'.format(E_VALUE_THRESH))\n",
    "print('{:>5}{:>14}{:>11}{:>15}'.format('ID','%coverage','%identity', 'Organism'))\n",
    "count=0\n",
    "filtragem= []\n",
    "for id, cov, ident, specie in zip(beta_max[0], beta_max[1], beta_max[2], list_organism):\n",
    "    if int(cov)>thresold_coverage and ident>thresold_identity:\n",
    "        if int(cov)>100:\n",
    "            print('|{:>5}|{:>9}*{:>9}{:>24}'.format(id, cov, ident, specie))\n",
    "            count+=1\n",
    "        else:\n",
    "            print('|{:>5}|{:>9}{:>10}{:>21}'.format(id, cov, ident, specie))\n",
    "        filtragem.append(f\"{id} {specie}\")\n",
    "  \n",
    "if count>0:\n",
    "    print('\\n* means that the subject sequence is longer than the query sequence')"
   ]
  },
  {
   "cell_type": "code",
   "execution_count": 19,
   "id": "06bd973b",
   "metadata": {},
   "outputs": [],
   "source": [
    "#saving previous list but filtered, without repeting same organisms\n",
    "lista_sem_repetidos= []\n",
    "seen = set()\n",
    "for x in filtragem:\n",
    "    parts = x.split()\n",
    "    organi = parts[1] + '_' + parts[2]    \n",
    "    if organi in seen:\n",
    "        filtragem.remove(x)\n",
    "    else:\n",
    "        seen.add(organi)\n",
    "        lista_sem_repetidos.append(x)      \n",
    "# print(lista_sem_repetidos)\n",
    "\n",
    "lista_ids = []\n",
    "with open('CDS_protein_result_blastp.txt', 'w') as f:\n",
    "    for x in lista_sem_repetidos:\n",
    "        IDS = x.split()\n",
    "        lista_ids.append(IDS[0])\n",
    "        f.write(f\"{IDS[0]}\\n\")\n",
    "# print(lista_ids)"
   ]
  },
  {
   "cell_type": "code",
   "execution_count": 20,
   "id": "3ac591ba",
   "metadata": {},
   "outputs": [
    {
     "name": "stdout",
     "output_type": "stream",
     "text": [
      "['P35568 Homo sapiens', 'Q28224 Chlorocebus aethiops', 'P35570 Rattus norvegicus', 'P35569 Mus musculus', 'P84770 Xenopus laevis']\n",
      "['P35568 Homo sapiens', 'Q28224 Chlorocebus aethiops', 'P35570 Rattus norvegicus', 'P35569 Mus musculus', 'P84770 Xenopus laevis']\n"
     ]
    }
   ],
   "source": [
    "print(lista_sem_repetidos)\n",
    "print(filtragem)"
   ]
  },
  {
   "cell_type": "markdown",
   "id": "985579d0",
   "metadata": {},
   "source": [
    "The output of Blastp gave more hits. So the list of ids of the last script will be saved and used on Uniprot search."
   ]
  },
  {
   "cell_type": "markdown",
   "id": "a3282855",
   "metadata": {},
   "source": [
    "## Uniprot search of Blastp results"
   ]
  },
  {
   "cell_type": "code",
   "execution_count": 48,
   "id": "6ecedc15",
   "metadata": {},
   "outputs": [],
   "source": [
    "#ORIGINAL -- WORKING ON THIS BELOW\n",
    "#saving sequences from Uniprot\n",
    "# results_Blastp= open('blastp_CDS_prot_seq.xml')\n",
    "# blastp_records = NCBIXML.read(results_Blastp)\n",
    "# titles_list=[]\n",
    "# for alignment in  blastp_records.alignments:   \n",
    "#     titles_list.append(alignment.title)\n",
    "\n",
    "# file= open(\"CDS_protein_result_blastp.txt\", \"r\")\n",
    "# fields=\"sequence\"\n",
    "# WEBSITE_API=\"https://rest.uniprot.org\"\n",
    "# seqs=[]\n",
    "\n",
    "# for i in file:\n",
    "#     r=get_url(\"{}/uniprotkb/search?query={} AND (reviewed:true)&fields={}&size=1&format=tsv\".format(WEBSITE_API,i, fields))\n",
    "#     seqs.append(str(r.content))\n",
    "\n",
    "# with open('allOrg_CDS_prot_fromUniprot.fasta', 'w') as f:\n",
    "#     for index, seq in enumerate(seqs):\n",
    "#         existe = re.search(r'b\\'Sequence\\\\n(.+?(?=\\\\n\\'))', seq, re.DOTALL)\n",
    "#         if existe:\n",
    "#             m = re.match( r'b\\'Sequence\\\\n(.+?(?=\\\\n\\'))', seq, re.DOTALL )\n",
    "#             f.write(f\">{titles_list[index]}\\n{m.group(1)}\\n\\n\")                    \n",
    "#             print(m.group(1))       "
   ]
  },
  {
   "cell_type": "code",
   "execution_count": 71,
   "id": "b7418b9b",
   "metadata": {},
   "outputs": [],
   "source": [
    "#OLD\n",
    "# file= open(\"CDS_protein_result_blastp.txt\", \"r\")\n",
    "# fields=\"accession,organism_name,protein_name,cc_subcellular_location,cc_function\"\n",
    "# WEBSITE_API=\"https://rest.uniprot.org\"\n",
    "# with open('uniprot_result_CDS_filtered.txt', 'w',encoding='utf-8') as f:\n",
    "#     for i in file:\n",
    "#         r=get_url(\"{}/uniprotkb/search?query={} AND (reviewed:true)&fields={}&size=1&format=tsv\".format(WEBSITE_API,i, fields))\n",
    "#         print(r.text)\n",
    "#         f.write(r.text)\n",
    "#         f.write('\\n')"
   ]
  },
  {
   "cell_type": "code",
   "execution_count": 22,
   "id": "86446d07",
   "metadata": {},
   "outputs": [
    {
     "name": "stdout",
     "output_type": "stream",
     "text": [
      "P35568_Homo_sapiens\n"
     ]
    }
   ],
   "source": [
    "a=\", \".join(lista_sem_repetidos)\n",
    "b=a.replace(\" \",\"_\")\n",
    "c=b.split(\",\")\n",
    "# print(c[0])"
   ]
  },
  {
   "cell_type": "code",
   "execution_count": 21,
   "id": "1a307228",
   "metadata": {},
   "outputs": [],
   "source": [
    "def get_url(url, **kwargs):\n",
    "    response = requests.get(url, **kwargs);\n",
    "    if not response.ok:\n",
    "        print(response.text)\n",
    "        response.raise_for_status()\n",
    "        sys.exit()\n",
    "    return response"
   ]
  },
  {
   "cell_type": "code",
   "execution_count": 23,
   "id": "2e8749e4",
   "metadata": {},
   "outputs": [],
   "source": [
    "fileUniprot= open(\"CDS_protein_result_blastp.txt\", \"r\")\n",
    "fields=\"sequence\"\n",
    "WEBSITE_API=\"https://rest.uniprot.org\"\n",
    "seqs=[]\n",
    "\n",
    "for i in fileUniprot:\n",
    "    r=get_url(\"{}/uniprotkb/search?query={} AND (reviewed:true)&fields={}&size=1&format=tsv\".format(WEBSITE_API,i, fields))\n",
    "    seqs.append(str(r.content))\n",
    "\n",
    "with open('allOrg_CDS_prot_fromUniprot.fasta', 'w') as f:\n",
    "    for index, seq in enumerate(seqs):\n",
    "        existe = re.search(r'b\\'Sequence\\\\n(.+?(?=\\\\n\\'))', seq, re.DOTALL)\n",
    "        if existe:\n",
    "            m = re.match( r'b\\'Sequence\\\\n(.+?(?=\\\\n\\'))', seq, re.DOTALL )\n",
    "            f.write(f\">{c[index]}\\n{m.group(1)}\\n\\n\")                    \n",
    "#             print(m.group(1))"
   ]
  },
  {
   "cell_type": "code",
   "execution_count": 24,
   "id": "0f4a199f",
   "metadata": {},
   "outputs": [],
   "source": [
    "fileUniprot= open(\"CDS_protein_result_blastp.txt\", \"r\")\n",
    "fields=['accession','organism_name','protein_name','cc_function','cc_subcellular_location']\n",
    "WEBSITE_API=\"https://rest.uniprot.org\"\n",
    "\n",
    "def get_field_for_id(ID_PROT, field): \n",
    "    response = get_url(\"{}/uniprotkb/search?query={}&fields={}&size=1&format=tsv\".format(WEBSITE_API,ID_PROT,field))\n",
    "    return str(response.content)\n",
    "\n",
    "def get_info_uniprot(fileUniprot):\n",
    "    results = []\n",
    "    result = []\n",
    "    tmp = []\n",
    "    uniprot_final_list=[]\n",
    "    \n",
    "    for first_index in fileUniprot:\n",
    "        tmp= []\n",
    "        for field in fields:\n",
    "            result = get_field_for_id(first_index, field)\n",
    "            tmp.append(result)\n",
    "        results.append(tmp)\n",
    "#     print(results)\n",
    "    for ind in results:\n",
    "        uniprot_list=[]\n",
    "        for i in ind:\n",
    "            entry = re.search(r'b\\'Entry\\\\n(.+?(?=\\\\n\\'))', str(i), re.DOTALL)\n",
    "            organism = re.search(r'b\\'Organism\\\\n(.+?(?=\\\\n\\'))', str(i), re.DOTALL)\n",
    "            protein = re.search(r'Protein names\\\\n(.+?(?=\\\\n))', str(i), re.DOTALL)\n",
    "            function = re.search(r'Function \\[CC\\]\\\\n.{9} (.+?(?=\\\\n))', str(i), re.DOTALL )\n",
    "            location_exist = re.search(r'b\\'Subcellular location \\[CC\\]\\\\nSUBCELLULAR LOCATION: (.+?(?=\\\\n\\'))', str(i), re.DOTALL )\n",
    "            location_notexist = re.search( r'b\\'Subcellular location \\[CC\\]\\\\n\\\\n\\'',str(i), re.DOTALL )   \n",
    "            if entry:\n",
    "                uniprot_list.append(entry.group(1))\n",
    "            if organism:\n",
    "                uniprot_list.append(organism.group(1))\n",
    "            if protein:\n",
    "                uniprot_list.append(protein.group(1))\n",
    "            if location_exist:\n",
    "                uniprot_list.append(+location_exist.group(1))\n",
    "            if location_notexist:\n",
    "                uniprot_list.append('N/A')\n",
    "            if function:\n",
    "                uniprot_list.append(function.group(1))\n",
    "        uniprot_final_list.append(uniprot_list)\n",
    "    return uniprot_final_list"
   ]
  },
  {
   "cell_type": "code",
   "execution_count": 52,
   "id": "28da9ae0",
   "metadata": {},
   "outputs": [],
   "source": [
    "# get_info_uniprot(fileUniprot)"
   ]
  },
  {
   "cell_type": "code",
   "execution_count": 25,
   "id": "97267907",
   "metadata": {},
   "outputs": [
    {
     "name": "stdout",
     "output_type": "stream",
     "text": [
      "Id: P35568\n",
      "Organism: Homo sapiens (Human)\n",
      "Protein name: Insulin receptor substrate 1 (IRS-1)\n",
      "Subcelular location: N/A\n",
      "Function:  May mediate the control of various cellular processes by insulin. When phosphorylated by the insulin receptor binds specifically to various cellular proteins containing SH2 domains such as phosphatidylinositol 3-kinase p85 subunit or GRB2. Activates phosphatidylinositol 3-kinase when bound to the regulatory p85 subunit (By similarity). {ECO:0000250, ECO:0000269|PubMed:16878150}.\n",
      "\n",
      "\n",
      "Id: Q28224\n",
      "Organism: Chlorocebus aethiops (Green monkey) (Cercopithecus aethiops)\n",
      "Protein name: Insulin receptor substrate 1 (IRS-1)\n",
      "Subcelular location: N/A\n",
      "Function:  May mediate the control of various cellular processes by insulin. When phosphorylated by the insulin receptor binds specifically to various cellular proteins containing SH2 domains such as phosphatidylinositol 3-kinase p85 subunit or GRB2. Activates phosphatidylinositol 3-kinase when bound to the regulatory p85 subunit (By similarity). {ECO:0000250}.\n",
      "\n",
      "\n",
      "Id: P35570\n",
      "Organism: Rattus norvegicus (Rat)\n",
      "Protein name: Insulin receptor substrate 1 (IRS-1) (pp185)\n",
      "Subcelular location: N/A\n",
      "Function:  May mediate the control of various cellular processes by insulin. When phosphorylated by the insulin receptor binds specifically to various cellular proteins containing SH2 domains such as phosphatidylinositol 3-kinase p85 subunit or GRB2. Activates phosphatidylinositol 3-kinase when bound to the regulatory p85 subunit. {ECO:0000269|PubMed:1380456}.\n",
      "\n",
      "\n",
      "Id: P35569\n",
      "Organism: Mus musculus (Mouse)\n",
      "Protein name: Insulin receptor substrate 1 (IRS-1)\n",
      "Subcelular location: N/A\n",
      "Function:  May mediate the control of various cellular processes by insulin. When phosphorylated by the insulin receptor binds specifically to various cellular proteins containing SH2 domains such as phosphatidylinositol 3-kinase p85 subunit or GRB2. Activates phosphatidylinositol 3-kinase when bound to the regulatory p85 subunit (By similarity). {ECO:0000250}.\n",
      "\n",
      "\n",
      "Id: P84770\n",
      "Organism: Xenopus laevis (African clawed frog)\n",
      "Protein name: Insulin receptor substrate 1-B (IRS1-B) (xIRS-1-B) (XIRS-L')\n",
      "Subcelular location: N/A\n",
      "Function:  May mediate the control of various cellular processes by insulin. When phosphorylated by the insulin receptor binds specifically to various cellular proteins containing SH2 domains such as phosphatidylinositol 3-kinase p85 subunit or grb2. Activates phosphatidylinositol 3-kinase when bound to the regulatory p85 subunit (By similarity). {ECO:0000250}.\n",
      "\n",
      "\n"
     ]
    }
   ],
   "source": [
    "fileUniprot= open(\"CDS_protein_result_blastp.txt\", \"r\")\n",
    "allInfo=get_info_uniprot(fileUniprot)\n",
    "for index in allInfo:\n",
    "    print('Id: {}\\nOrganism: {}\\nProtein name: {}\\nSubcelular location: {}\\nFunction:  {}\\n\\n'.format(index[0], index[1], index[2], index[4], index[3]))\n",
    "    "
   ]
  },
  {
   "cell_type": "markdown",
   "id": "b63358cb",
   "metadata": {},
   "source": [
    "## Alignment and Phylo"
   ]
  },
  {
   "cell_type": "code",
   "execution_count": 28,
   "id": "e895c624",
   "metadata": {},
   "outputs": [
    {
     "data": {
      "text/plain": [
       "('\\n\\n\\n CLUSTAL 2.1 Multiple Sequence Alignments\\n\\n\\nSequence format is Pearson\\nSequence 1: P35568_Homo_sapiens           1242 aa\\nSequence 2: _Q28224_Chlorocebus_aethiops  1251 aa\\nSequence 3: _P35570_Rattus_norvegicus     1235 aa\\nSequence 4: _P35569_Mus_musculus          1233 aa\\nSequence 5: _P84770_Xenopus_laevis        1088 aa\\nStart of Pairwise alignments\\nAligning...\\n\\nSequences (1:2) Aligned. Score:  97\\nSequences (1:3) Aligned. Score:  90\\nSequences (1:4) Aligned. Score:  89\\nSequences (1:5) Aligned. Score:  64\\nSequences (2:3) Aligned. Score:  90\\nSequences (2:4) Aligned. Score:  89\\nSequences (2:5) Aligned. Score:  63\\nSequences (3:4) Aligned. Score:  97\\nSequences (3:5) Aligned. Score:  61\\nSequences (4:5) Aligned. Score:  61\\nGuide tree file created:   [allOrg_CDS_prot_fromUniprot.dnd]\\n\\nThere are 4 groups\\nStart of Multiple Alignment\\n\\nAligning...\\nGroup 1: Sequences:   2      Score:26736\\nGroup 2: Sequences:   2      Score:26447\\nGroup 3: Sequences:   4      Score:25395\\nGroup 4: Sequences:   5      Score:18422\\nAlignment Score 58658\\n\\nCLUSTAL-Alignment file created  [allOrg_CDS_prot_fromUniprot.aln]\\n\\n',\n",
       " '')"
      ]
     },
     "execution_count": 28,
     "metadata": {},
     "output_type": "execute_result"
    }
   ],
   "source": [
    "#Clustalw\n",
    "dir = r'C:\\Program Files (x86)\\ClustalW2\\clustalw2'\n",
    "in_file = r'allOrg_CDS_prot_fromUniprot.fasta'\n",
    "\n",
    "clustalw_cline = ClustalwCommandline(dir, infile=in_file)\n",
    "clustalw_cline()"
   ]
  },
  {
   "cell_type": "code",
   "execution_count": 29,
   "id": "ad5cd5e7",
   "metadata": {},
   "outputs": [],
   "source": [
    "cline = ClustalwCommandline(\"clustalw\", infile=\"allOrg_CDS_prot_fromUniprot.fasta\", outfile=\"allOrg_CDS_prot_fromUniprot.aln\")"
   ]
  },
  {
   "cell_type": "code",
   "execution_count": 30,
   "id": "8416b5ce",
   "metadata": {},
   "outputs": [
    {
     "name": "stdout",
     "output_type": "stream",
     "text": [
      "Número de linhas: 5\n",
      "CLUSTAL 2.1 multiple sequence alignment\n",
      "\n",
      "\n",
      "P35568_Homo_sapiens                 MASPPE---SDGFSDVRKVGYLRKPKSMHKRFFVLRAASEAGGPARLEYY\n",
      "_Q28224_Chlorocebus_aethiops        MASPPE---SDGFSDVRKVGYLRKPKSMHKRFFVLRAASETGDPARLEYY\n",
      "_P35570_Rattus_norvegicus           MASPPD---TDGFSDVRKVGYLRKPKSMHKRFFVLRAASEAGGPARLEYY\n",
      "_P35569_Mus_musculus                MASPPD---TDGFSDVRKVGYLRKPKSMHKRFFVLRAASEAGGPARLEYY\n",
      "_P84770_Xenopus_laevis              MASPTDPQAQENFSDVRKVGYLRKPKSMHKRFFVLRAASES-SLARLEYY\n",
      "                                    ****.:    :.****************************: . ******\n",
      "\n",
      "P35568_Homo_sapiens                 ENEKKWRHKSSAPKRSIPLESCFNINKRADSKNKHLVALYTRDEHFAIAA\n",
      "_Q28224_Chlorocebus_aethiops        ENEKKWRHKSSAPKRSIPLESCFNINKRADSKNKHLVALYTRDEHFAIAA\n",
      "_P35570_Rattus_norvegicus           ENEKKWRHKSSAPKRSIPLESCFNINKRADSKNKHLVALYTRDEHFAIAA\n",
      "_P35569_Mus_musculus                ENEKKWRHKSSAPKRSIPLESCFNINKRADSKNKHLVALYTRDEHFAIAA\n",
      "_P84770_Xenopus_laevis              ENEKKWRHKSGAPKRSIPLESCFNINKRADSKNKHLVALYTKDECFAIAA\n",
      "                                    **********.******************************:** *****\n",
      "\n",
      "P35568_Homo_sapiens                 DSEAEQDSWYQALLQLHNRAKGHHDGAAALGAGGGGGSCSGSSGLGEAGE\n",
      "_Q28224_Chlorocebus_aethiops        DSEAEQDSWYQALLQLHNRAKGHHDGAAALGAGGGGGSCSGSSGLGEAGE\n",
      "_P35570_Rattus_norvegicus           DSEAEQDSWYQALLQLHNRAKAHHDGAG----GGCGGSCSGSSGVGEAGE\n",
      "_P35569_Mus_musculus                DSEAEQDSWYQALLQLHNRAKAHHDGAG----GGCGGSCSGSSGVGEAGE\n",
      "_P84770_Xenopus_laevis              ECEQEQEGWYQALVDLHNRGKTHHQHHN------HDGAVNG-VHDGLNGD\n",
      "                                    :.* **:.*****::****.* **:          .*: .*    *  *:\n",
      "\n",
      "P35568_Homo_sapiens                 DLSYGDVPPGPAFKEVWQVILKPKGLGQTKNLIGIYRLCLTSKTISFVKL\n",
      "_Q28224_Chlorocebus_aethiops        DLSYGDVPPGPAFKEVWQVILKPKGLGQTKNLIGIYRLCLTSKTISFVKL\n",
      "_P35570_Rattus_norvegicus           DLSY-DTGPGPAFKEVWQVILKPKGLGQTKNLIGIYRLCLTSKTISFVKL\n",
      "_P35569_Mus_musculus                DLSY-DTGPGPAFKEVWQVILKPKGLGQTKNLIGIYRLCLTSKTISFVKL\n",
      "_P84770_Xenopus_laevis              EVYGEVTPPGLAFKEVWQVIMKPKGLGQLKNLVGIYRLCLTNRTISLVKL\n",
      "                                    ::    . ** *********:******* ***:********.:***:***\n",
      "\n",
      "P35568_Homo_sapiens                 NSEAAAVVLQLMNIRRCGHSENFFFIEVGRSAVTGPGEFWMQVDDSVVAQ\n",
      "_Q28224_Chlorocebus_aethiops        NSEAAAVVLQLMNIRRCGHSENFFFIEVGRSAVTGPGEFWMQVDDSVVAQ\n",
      "_P35570_Rattus_norvegicus           NSEAAAVVLQLMNIRRCGHSENFFFIEVGRSAVTGPGEFWMQVDDSVVAQ\n",
      "_P35569_Mus_musculus                NSEAAAVVLQLMNIRRCGHSENFFFIEVGRSAVTGPGEFWMQVDDSVVAQ\n",
      "_P84770_Xenopus_laevis              NSDAAAVVLQLMNIRRCGHSENFFFIEVGRSAVTGAGEFWMQVDDSVVAQ\n",
      "                                    **:********************************.**************\n",
      "\n",
      "P35568_Homo_sapiens                 NMHETILEAMRAMSDEFRPRSKSQSSSNCSNPISVPLRRHHLNNPPPSQV\n",
      "_Q28224_Chlorocebus_aethiops        NMHETILEAMRAMSDEFRPRSKSQSSSNCSNPISVPLRRHHLNNPPPSQV\n",
      "_P35570_Rattus_norvegicus           NMHETILEAMRAMSDEFRPRTKSQSSSSCSNPISVPLRRHHLNNPPPSQV\n",
      "_P35569_Mus_musculus                NMHETILEAMRAMSDEFRPRSKSQSSSSCSNPISVPLRRHHLNNPPPSQV\n",
      "_P84770_Xenopus_laevis              NMHETILEAMKALSDEFRPRSKSQSSSNCSNPISVPLRRHHLNHPPPSQV\n",
      "                                    **********:*:*******:******.***************:******\n",
      "\n",
      "P35568_Homo_sapiens                 GLTRRSRTESITATSPASMVGGK-PGSFRVRASSDGEGTMSRPASVDGSP\n",
      "_Q28224_Chlorocebus_aethiops        GLTRRSRTESITATSPASMVGGK-PGSFRVRASSDGEGTMSRPASVDGSP\n",
      "_P35570_Rattus_norvegicus           GLTRRSRTESITATSPASMVGGK-PGSFRVRASSDGEGTMSRPASVDGSP\n",
      "_P35569_Mus_musculus                GLTRRSRTESITATSPASMVGGK-PGSFRVRASSDGEGTMSRPASVDGSP\n",
      "_P84770_Xenopus_laevis              GLNRRARTESATATSPAGGAAKHGSSSFRVRASSDGEGTMSRPASMEGSP\n",
      "                                    **.**:**** ******. .. : ..*******************::***\n",
      "\n",
      "P35568_Homo_sapiens                 VSPSTNRTHAHRHRGSARLHPPLNHSRSIPMPASRCSPSATSPVSLSSSS\n",
      "_Q28224_Chlorocebus_aethiops        VSPSTNRTHAHRHRGSARLHPPLNHSRSIPMPASRCSPSATSPVSLSSSS\n",
      "_P35570_Rattus_norvegicus           VSPSTNRTHAHRHRGSSRLHPPLNHSRSIPMPSSRCSPSATSPVSLSSSS\n",
      "_P35569_Mus_musculus                VSPSTNRTHAHRHRGSSRLHPPLNHSRSIPMPSSRCSPSATSPVSLSSSS\n",
      "_P84770_Xenopus_laevis              VSPSASRTQSHRHRGSSRLHPPLNHSRSIPMPATRCSPSATSPVSLSSSS\n",
      "                                    ****:.**::******:***************::****************\n",
      "\n",
      "P35568_Homo_sapiens                 TSGHGSTSDCLFPRRSSASVSGSPSDGGFISSDEYGSSPCDFRSSFRSVT\n",
      "_Q28224_Chlorocebus_aethiops        TSGHGSTSDCLFPRRSSASVSGSPSDGGFISSDEYGSSPCDFRSSFRSVT\n",
      "_P35570_Rattus_norvegicus           TSGHGSTSDCLFPRRSSASVSGSPSDGGFISSDEYGSSPCDFRSSFRSVT\n",
      "_P35569_Mus_musculus                TSGHGSTSDCLFPRRSSASVSGSPSDGGFISSDEYGSSPCDFRSSFRSVT\n",
      "_P84770_Xenopus_laevis              TSGHGSTSDCMCPRRSSASISGSPSDGGFISSDEYGSSPCDFRSSFRSVT\n",
      "                                    **********: *******:******************************\n",
      "\n",
      "P35568_Homo_sapiens                 PDSLGHTPPARGEEELSNYICMGGKGPSTLTAPNGHYILSRGGNGHRCTP\n",
      "_Q28224_Chlorocebus_aethiops        PDSLGHTPPARGEEELSNYICMGGKGPSTLTAPNGHYILSRGGNGHRYTP\n",
      "_P35570_Rattus_norvegicus           PDSLGHTPPARGEEELSNYICMGGKGASTLTAPNGHYILSRGGNGHRYIP\n",
      "_P35569_Mus_musculus                PDSLGHTPPARGEEELSNYICMGGKGASTLAAPNGHYILSRGGNGHRYIP\n",
      "_P84770_Xenopus_laevis              PDSMGHTPPAR-EEELNNYICMGKSSSHLQRGPQQRYQPSRG--------\n",
      "                                    ***:******* ****.****** ...    .*: :*  ***        \n",
      "\n",
      "P35568_Homo_sapiens                 GTGLGTSPALAGDEAASAADLDNRFRKRTHSAGTSP-TITHQKTPSQSSV\n",
      "_Q28224_Chlorocebus_aethiops        GTGLGTSPALAGDEASSAADLDNRFRKRTHSAGTSP-TITHQKTPSQSSV\n",
      "_P35570_Rattus_norvegicus           GATMGTSPALTGDEAAGAADLDNRFRKRTHSAGTSP-TISHQKTPSQSSV\n",
      "_P35569_Mus_musculus                GANLGTSPALPGDEAAGAADLDNRFRKRTHSAGTSP-TISHQKTPSQSSV\n",
      "_P84770_Xenopus_laevis              ---------------EELTDFDKVFRKRTHSSGTSPPTVSHQKTPSQS--\n",
      "                                                      :*:*: *******:**** *::********  \n",
      "\n",
      "P35568_Homo_sapiens                 ASIEEYTEMMP-AYPPGGGSGGRLPGHRHSAFVPTRSYPEEGLEMHPLER\n",
      "_Q28224_Chlorocebus_aethiops        ASIEEYTEMMP-AYPPGGGSGGRLPGHRHSAFVPTHSYPEEGLEMHPLER\n",
      "_P35570_Rattus_norvegicus           VSIEEYTEMMPAAYPPGGGSGGRLPGYRHSAFVPTHSYPEEGLEMHHLER\n",
      "_P35569_Mus_musculus                ASIEEYTEMMPAAYPPGGGSGGRLPGYRHSAFVPTHSYPEEGLEMHHLER\n",
      "_P84770_Xenopus_laevis              -SIEEYTEMMP-------THPVRLTSFRHSAFVPTYSYPEECLDLHLEGS\n",
      "                                     **********           **...******** ***** *::*    \n",
      "\n",
      "P35568_Homo_sapiens                 RGGHHRPDSSTLHTDDGYMPMSPGVAPVPSGRKGSGDYMPMSPKSVSAPQ\n",
      "_Q28224_Chlorocebus_aethiops        RGGHHRPDSSTLHTDDGYMPMSPGVAPVPSSRKGSGDYMPMSPKSVSAPQ\n",
      "_P35570_Rattus_norvegicus           RGGHHRPDSSNLHTDDGYMPMSPGVAPVPSNRKGNGDYMPMSPKSVSAPQ\n",
      "_P35569_Mus_musculus                RGGHHRPDTSNLHTDDGYMPMSPGVAPVPSNRKGNGDYMPMSPKSVSAPQ\n",
      "_P84770_Xenopus_laevis              RANHK---------DDGYMPMSPGVAPVSTKTN---DYMPMSPKSVSAPQ\n",
      "                                    *..*:         **************.:  :   **************\n",
      "\n",
      "P35568_Homo_sapiens                 QIINPIRRHPQRVDPNGYMMMSPSGGCSPDIGGGPSSSSSSSNAVPSGTS\n",
      "_Q28224_Chlorocebus_aethiops        QIINPIRRHPQRVDPNGYMMMSPSGGCSPDIGGGPSSSSSS--TVPSGSS\n",
      "_P35570_Rattus_norvegicus           QIINPIRRHPQRVDPNGYMMMSPSGSCSPDIGGG-SCSSSSISAAPSGSS\n",
      "_P35569_Mus_musculus                QIINPIRRHPQRVDPNGYMMMSPSGSCSPDIGGG-SSSSSSISAAPSGSS\n",
      "_P84770_Xenopus_laevis              QIINP--RWHSAVDSNGYMMMSPSGSCS-----------------PDNTN\n",
      "                                    *****  *  . **.**********.**                 *..:.\n",
      "\n",
      "P35568_Homo_sapiens                 YGKLWTNGVGGHHSHVLPHPKPPVESSGGKLLPCTGDYMNMSPVGDSNTS\n",
      "_Q28224_Chlorocebus_aethiops        YGKLWTKGVGAHNSQVLLHPKPPVESSGGKLLPCTGDYMNMSPVGDSNTS\n",
      "_P35570_Rattus_norvegicus           YGKPWTNGVGGHHTHALPHAKPPVESGGGKLLPCTGDYMNMSPVGDSNTS\n",
      "_P35569_Mus_musculus                YGKPWTNGVGGHHTHALPHAKPPVESGGGKLLPCTGDYMNMSPVGDSNTS\n",
      "_P84770_Xenopus_laevis              YSKIWTNGT---------NPKLSIDSIEG-KLPCS-DYINMSPASGSTTS\n",
      "                                    *.* **:*.         :.* .::*  *  ***: **:****...*.**\n",
      "\n",
      "P35568_Homo_sapiens                 SPSDCYYGPEDPQHKPVLSYYSLPRSFKHTQRPGEPEEGARHQHLRLSTS\n",
      "_Q28224_Chlorocebus_aethiops        SPSDCYYGPEDPQHKPVLSYYSLPRSFKHTQRPGEPEEGARHQHLRLSTS\n",
      "_P35570_Rattus_norvegicus           SPSECYYGPEDPQHKPVLSYYSLPRSFKHTQRPGEPEEGARHQHLRLSSS\n",
      "_P35569_Mus_musculus                SPSECYYGPEDPQHKPVLSYYSLPRSFKHTQRPGEPEEGARHQHLRLSSS\n",
      "_P84770_Xenopus_laevis              TPPDSYLNSVEESTKPVYSYFSLPRSFKHVHRKSE------DGNLRISAN\n",
      "                                    :*.:.* .. : . *** **:********.:* .*      . :**:*:.\n",
      "\n",
      "P35568_Homo_sapiens                 SGRLLYAATADDSSSSTSSDSLGGGYCGARLEPSLPHPHHQVLQPHLPRK\n",
      "_Q28224_Chlorocebus_aethiops        SGRLLYAATADDSSSSTSSDSLGGGYCGARLEPSLPHPHHQVLQPHLPRK\n",
      "_P35570_Rattus_norvegicus           SGRLRYTATAEDSSSSTSSDSLGGGYCGARPESSVTHPHHHALQPHLPRK\n",
      "_P35569_Mus_musculus                SGRLRYTATAEDSSSSTSSDSLGGGYCGARPESSLTHPHHHVLQPHLPRK\n",
      "_P84770_Xenopus_laevis              SGHNLYTE--DSSSSSTSSDSLGG------------------QDPQQPRK\n",
      "                                    **:  *:   :.************                   :*: ***\n",
      "\n",
      "P35568_Homo_sapiens                 VDTAAQTNSRLARPTRLSLGDP-KASTLPRAREQQQQQQ-----------\n",
      "_Q28224_Chlorocebus_aethiops        VDTAAQTNSRLARPTRLSLGDP-KASTLPRAREQQQQQQQQQQQQQQQQQ\n",
      "_P35570_Rattus_norvegicus           VDTAAQTNSRLARPTRLSLGDP-KASTLPRVREQQQQQQQQQQ-------\n",
      "_P35569_Mus_musculus                VDTAAQTNSRLARPTRLSLGDP-KASTLPRVREQQQQQQ-----------\n",
      "_P84770_Xenopus_laevis              GEGCIQG-KRLTRPTRLSLENSSKASTLPRVREP----------------\n",
      "                                     : . *  .**:******* :. *******.**                 \n",
      "\n",
      "P35568_Homo_sapiens                 PLLHPPEPKSPGEYVNIEFGSDQSGYLSGPVAFHSSPSVRCPSQLQPAPR\n",
      "_Q28224_Chlorocebus_aethiops        PLLHPPEPKSPGEYVNIEFGSDQPGYLSGPVASRSSPSVRCPSQLQPAPR\n",
      "_P35570_Rattus_norvegicus           SSLHPPEPKSPGEYVNIEFGSGQPGYLAGPATSRSSPSVRCLPQLHPAPR\n",
      "_P35569_Mus_musculus                SSLHPPEPKSPGEYVNIEFGSGQPGYLAGPATSRSSPSVRCPPQLHPAPR\n",
      "_P84770_Xenopus_laevis              --ALPPEPKSPGEYVNIEFN---DKVFSG----GLVPSMCSLPFVQSRVV\n",
      "                                        ***************.      ::*       **: . . ::.   \n",
      "\n",
      "P35568_Homo_sapiens                 EEETGTEEYMKMDLGPGRRAAWQESTGVEMGRLGPA----PPGAASICR-\n",
      "_Q28224_Chlorocebus_aethiops        EEETGTEEYMKMDLGPGRRAAWQESTGVEMGRLGPA----PPGAASICR-\n",
      "_P35570_Rattus_norvegicus           EE-TGSEEYMNMDLGPGRRATWQESGGVELGRVGPA----PPGAASICR-\n",
      "_P35569_Mus_musculus                EE-TGSEEYMNMDLGPGRRATWQESGGVELGRIGPA----PPGSATVCR-\n",
      "_P84770_Xenopus_laevis              PQRENLSEYMNMDLGVWRAKTSYASTSSYEPPNKPVNSVCPTETCSSSRP\n",
      "                                     :  . .***:****  *  :   * .       *.    *. :.: .* \n",
      "\n",
      "P35568_Homo_sapiens                 PTRAVPSSRGDYMTMQMSCPRQSYVDTSPAAPVSYADMRTGIAAEEVSLP\n",
      "_Q28224_Chlorocebus_aethiops        PTRAVPSSRGDYMTMQMSCPRQSYVDTSPIAPVSYADMRTGIAAEEVSLP\n",
      "_P35570_Rattus_norvegicus           PTRSVPNSRGDYMTMQIGCPRQSYVDTSPVAPVSYADMRTGIAAEKVSLP\n",
      "_P35569_Mus_musculus                PTRSVPNSRGDYMTMQIGCPRQSYVDTSPVAPVSYADMRTGIAAEKASLP\n",
      "_P84770_Xenopus_laevis              PIRGKPISR-DYMSMQLGSLCP---DYSQVPPTRLSAKSITLSSSKSNYA\n",
      "                                    * *. * ** ***:**:..      * *  .*.  :     :::.: . .\n",
      "\n",
      "P35568_Homo_sapiens                 RATMAAASSSSAASASP-TGPQGA-AELAAHSSLLGGPQGPGGMSAFTRV\n",
      "_Q28224_Chlorocebus_aethiops        RATMAAAASSSAASASP-TGPQGA-AELAAHSSLLGGAQGPGGMSAFTRV\n",
      "_P35570_Rattus_norvegicus           RTTGAAPPPSSTASASASVTPQGA-AEQAAHSSLLGGPQGPGGMSAFTRV\n",
      "_P35569_Mus_musculus                RPTGAAPPPSSTASSSASVTPQGATAEQATHSSLLGGPQGPGGMSAFTRV\n",
      "_P84770_Xenopus_laevis              EMSSGRVSDNIPAIAPASNSSLSE----ASRSSLLGQGSGP---SAFTRV\n",
      "                                    . : .  . . .* :..   . .     *::*****  .**   ******\n",
      "\n",
      "P35568_Homo_sapiens                 NLSPNRNQSAKVIRADPQGCRRRHSSETFSSTPSATRVGNTVPFGAGAAV\n",
      "_Q28224_Chlorocebus_aethiops        NLSPNRNQSAKVIRADPQGCRRRHSSETFSSTPSATRVGNTVPFGAGAAI\n",
      "_P35570_Rattus_norvegicus           NLSPNHNQSAKVIRADTQGCRRRHSSETFSAP---TRAANTVSFGAGAAG\n",
      "_P35569_Mus_musculus                NLSPNHNQSAKVIRADTQGCRRRHSSETFSAP---TRAGNTVPFGAGAAV\n",
      "_P84770_Xenopus_laevis              SLSPNRNPSAKVIRAGDPQGRRRHSSETFSST------PTTARVTTGPVS\n",
      "                                    .****:* *******.    **********:.       .*. . :*.. \n",
      "\n",
      "P35568_Homo_sapiens                 GGGGGSSSS-SEDVKRHSSASFENVWLRPGELGGAPKEPAKLCGAAGGLE\n",
      "_Q28224_Chlorocebus_aethiops        GGSGGSSSS-SEDVKRHSSASFENVWLRPGELGGAPKEPAQLCGAAGGLE\n",
      "_P35570_Rattus_norvegicus           GGSGGG----SEDVKRHSSASFENVWLRPGDLGGASKESAPGCGAAGGLE\n",
      "_P35569_Mus_musculus                GGSGGGGGGGSEDVKRHSSASFENVWLRPGDLGGVSKESAPVCGAAGGLE\n",
      "_P84770_Xenopus_laevis              G----------EDVKRHSSASFENVWLRPGEIARRDS-----LQPSDHTH\n",
      "                                    *          *******************::.   .       .:.  .\n",
      "\n",
      "P35568_Homo_sapiens                 NGLNYIDLDLVKDFKQCPQECTPEPQPPPPPPPHQPLGSGESSSTRRSSE\n",
      "_Q28224_Chlorocebus_aethiops        NGLNYIDLDLVKDFKQRPQECTPQPQPPPPPPPHQPLGSSESSSTRRSSE\n",
      "_P35570_Rattus_norvegicus           KSLNYIDLDLVKDVKQHPQDCPSQQQSLPPPPPHQPLGSNEGSSPRRSSE\n",
      "_P35569_Mus_musculus                KSLNYIDLDLAK---EHSQDCPSQQQSLPPPPPHQPLGSNEGNSPRRSSE\n",
      "_P84770_Xenopus_laevis              NGLNYIDLDLAKDLSSLDH-CNSHQSGVSHP-----------------SD\n",
      "                                    :.********.*   .  : * .. .  . *                 *:\n",
      "\n",
      "P35568_Homo_sapiens                 DLSAYASISFQKQPEDRQ------\n",
      "_Q28224_Chlorocebus_aethiops        DLSAYASISFQKQPEDLQ------\n",
      "_P35570_Rattus_norvegicus           DLSTYASINFQKQPEDRQ------\n",
      "_P35569_Mus_musculus                DLSNYASISFQKQPEDRQ------\n",
      "_P84770_Xenopus_laevis              DLSPYASITFHKLEEHRSQAETEE\n",
      "                                    *** ****.*:*  *. .      \n",
      "\n",
      "\n",
      "\n"
     ]
    }
   ],
   "source": [
    "align = AlignIO.read(\"allOrg_CDS_prot_fromUniprot.aln\", \"clustal\")\n",
    "print(\"Número de linhas: %i\" % len(align)) \n",
    "\n",
    "\n",
    "subs = align.substitutions\n",
    "# print(subs)"
   ]
  },
  {
   "cell_type": "code",
   "execution_count": 31,
   "id": "81f55192",
   "metadata": {},
   "outputs": [],
   "source": [
    "count = AlignIO.convert(\"allOrg_CDS_prot_fromUniprot.aln\", \"clustal\",\"allOrg_CDS_prot_fromUniprot.sth\", \"stockholm\")"
   ]
  },
  {
   "cell_type": "code",
   "execution_count": 32,
   "id": "2bf1d841",
   "metadata": {},
   "outputs": [],
   "source": [
    "alignment = AlignIO.read(\"allOrg_CDS_prot_fromUniprot.sth\", \"stockholm\")\n",
    "calculator = DistanceCalculator('blosum62')\n",
    "dm = calculator.get_distance(alignment)\n",
    "# print(dm)"
   ]
  },
  {
   "cell_type": "code",
   "execution_count": 33,
   "id": "36ff5671",
   "metadata": {},
   "outputs": [],
   "source": [
    "constructor = DistanceTreeConstructor() \n",
    "upgmatree = constructor.upgma(dm)\n",
    "# print(upgmatree)"
   ]
  },
  {
   "cell_type": "code",
   "execution_count": 34,
   "id": "97584052",
   "metadata": {},
   "outputs": [],
   "source": [
    "njtree = constructor.nj(dm)\n",
    "# print(njtree)"
   ]
  },
  {
   "cell_type": "code",
   "execution_count": 35,
   "id": "2d4e6dd0",
   "metadata": {},
   "outputs": [
    {
     "data": {
      "text/plain": [
       "2"
      ]
     },
     "execution_count": 35,
     "metadata": {},
     "output_type": "execute_result"
    }
   ],
   "source": [
    "Phylo.write([upgmatree, njtree],\"phylotree_IRS1.nhx\",\"newick\")"
   ]
  },
  {
   "cell_type": "code",
   "execution_count": 36,
   "id": "8f9e5a98",
   "metadata": {},
   "outputs": [
    {
     "name": "stdout",
     "output_type": "stream",
     "text": [
      "       _ P35568_Homo_sapiens\n",
      "  ____|\n",
      " |    |_ _Q28224_Chlorocebus_aethiops\n",
      " |\n",
      "_|     _ _P35569_Mus_musculus\n",
      " |____|\n",
      " |    |_ _P35570_Rattus_norvegicus\n",
      " |\n",
      " |_______________________________________________ _P84770_Xenopus_laevis\n",
      "\n"
     ]
    }
   ],
   "source": [
    "Phylo.draw_ascii(njtree)"
   ]
  },
  {
   "cell_type": "code",
   "execution_count": 37,
   "id": "e9f7f512",
   "metadata": {},
   "outputs": [
    {
     "name": "stdout",
     "output_type": "stream",
     "text": [
      "  _______________________________________ _P84770_Xenopus_laevis\n",
      " |\n",
      "_|                                             __ _P35569_Mus_musculus\n",
      " |                                     _______|\n",
      " |                                    |       |__ _P35570_Rattus_norvegicus\n",
      " |____________________________________|\n",
      "                                      |        __ _Q28224_Chlorocebus_aethiops\n",
      "                                      |_______|\n",
      "                                              |__ P35568_Homo_sapiens\n",
      "\n"
     ]
    }
   ],
   "source": [
    "Phylo.draw_ascii(upgmatree)"
   ]
  },
  {
   "cell_type": "code",
   "execution_count": 1,
   "id": "0f77501f",
   "metadata": {},
   "outputs": [],
   "source": [
    "# string link: https://string-db.org/cgi/network?taskId=bbOoq41xuF5p&sessionId=byBYhzUYg9Mw"
   ]
  }
 ],
 "metadata": {
  "kernelspec": {
   "display_name": "Python 3 (ipykernel)",
   "language": "python",
   "name": "python3"
  },
  "language_info": {
   "codemirror_mode": {
    "name": "ipython",
    "version": 3
   },
   "file_extension": ".py",
   "mimetype": "text/x-python",
   "name": "python",
   "nbconvert_exporter": "python",
   "pygments_lexer": "ipython3",
   "version": "3.9.12"
  }
 },
 "nbformat": 4,
 "nbformat_minor": 5
}
