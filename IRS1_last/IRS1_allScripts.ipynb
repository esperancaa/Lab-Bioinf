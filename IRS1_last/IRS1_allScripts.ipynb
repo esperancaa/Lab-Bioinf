{
 "cells": [
  {
   "cell_type": "markdown",
   "id": "a899206f",
   "metadata": {},
   "source": [
    "## Searching for IRS1 sequence"
   ]
  },
  {
   "cell_type": "code",
   "execution_count": 3,
   "id": "75864545",
   "metadata": {},
   "outputs": [],
   "source": [
    "from Bio import Entrez, SeqIO, Medline\n",
    "from Bio.Blast import NCBIXML \n",
    "from Bio.Blast import NCBIWWW\n",
    "from Bio.Align.Applications import ClustalwCommandline\n",
    "from Bio import AlignIO\n",
    "from Bio.Align import MultipleSeqAlignment\n",
    "from Bio import AlignIO\n",
    "from Bio.Phylo.TreeConstruction import DistanceCalculator, DistanceTreeConstructor\n",
    "from Bio import Phylo\n",
    "import requests, sys, json\n",
    "import re"
   ]
  },
  {
   "cell_type": "code",
   "execution_count": 4,
   "id": "84f9bbd6",
   "metadata": {},
   "outputs": [
    {
     "name": "stdout",
     "output_type": "stream",
     "text": [
      "Title: Chordin like-1 regulates osteoblast and adipocyte differentiation through stabilizing insulin-like growth factor binding protein 3.\n",
      "Authors: ['Sun H', 'Wang S', 'Yang Z', 'Tian L', 'Li X', 'Zhou J', 'Wang B']\n",
      "Source: Stem Cells. 2023 Jan 22:sxad009. doi: 10.1093/stmcls/sxad009.\n",
      "\n",
      "Title: HIIT Ameliorates Inflammation and Lipid Metabolism by Regulating Macrophage Polarization and Mitochondrial Dynamics in the Liver of Type 2 Diabetes Mellitus Mice.\n",
      "Authors: ['Wang Y', 'Guo Y', 'Xu Y', 'Wang W', 'Zhuang S', 'Wang R', 'Xiao W']\n",
      "Source: Metabolites. 2022 Dec 21;13(1):14. doi: 10.3390/metabo13010014.\n",
      "\n",
      "Title: Sediment pollutant exposures caused hepatotoxicity and disturbed glycogenesis.\n",
      "Authors: ['Lin MW', 'Yu XR', 'Chen JY', 'Wei YS', 'Chen HY', 'Tsai YT', 'Lin LH', 'Liao EC', 'Kung HY', 'Young SS', 'Chan HL', 'Chou HC']\n",
      "Source: Ecotoxicol Environ Saf. 2023 Jan 19;251:114559. doi: 10.1016/j.ecoenv.2023.114559.\n",
      "\n",
      "Title: Alpha-Mangosteen lessens high-fat/high-glucose diet and low-dose streptozotocin induced-hepatic manifestations in the insulin resistance rat model.\n",
      "Authors: ['Soetikno V', 'Andini P', 'Iskandar M', 'Matheos CC', 'Herdiman JA', 'Kyle IK', 'Suma MNI', 'Louisa M', 'Estuningtyas A']\n",
      "Source: Pharm Biol. 2023 Dec;61(1):241-248. doi: 10.1080/13880209.2023.2166086.\n",
      "\n",
      "Title: Olive Leaves Extract and Oleuropein Improve Insulin Sensitivity in 3T3-L1 Cells and in High-Fat Diet-Treated Rats via PI3K/AkT Signaling Pathway.\n",
      "Authors: ['Hadrich F', 'Mahmoudi A', 'Chamkha M', 'Isoda H', 'Sayadi S']\n",
      "Source: Oxid Med Cell Longev. 2023 Jan 7;2023:6828230. doi: 10.1155/2023/6828230. eCollection 2023.\n",
      "\n"
     ]
    }
   ],
   "source": [
    "#pubmed search\n",
    "database = 'PubMed'\n",
    "word = 'irs1 insulin'\n",
    "res= 15 \n",
    "email= \"karynalysenko@ua.pt\"\n",
    "\n",
    "Entrez.email= email\n",
    "handle=Entrez.esearch(db = database, term=word, retmax= res)\n",
    "record=Entrez.read(handle)\n",
    "handle.close()\n",
    "idlist= record['IdList']\n",
    "\n",
    "handle = Entrez.efetch(db=database, id=idlist, rettype=\"medline\", retmode=\"text\")\n",
    "records = list(Medline.parse(handle))\n",
    "\n",
    "\n",
    "for record in records[0:5]:\n",
    "    #print(record) \n",
    "    #print(\"PMID:\",record.get(\"PMID\",\"-\"))\n",
    "    print(\"Title:\", record.get(\"TI\", \"-\"))\n",
    "    #print('abstract:', record.get('AB', '-'))\n",
    "    print(\"Authors:\", record.get(\"AU\", \"-\"))\n",
    "    print(\"Source:\", record.get(\"SO\", \"-\"))\n",
    "    print(\"\")"
   ]
  },
  {
   "cell_type": "code",
   "execution_count": 5,
   "id": "3937251f",
   "metadata": {},
   "outputs": [
    {
     "name": "stdout",
     "output_type": "stream",
     "text": [
      "Title: Potential mechanisms involved in regulating muscle protein turnover after acute exercise: A brief review.\n",
      "Authors: ['Hajj-Boutros G', 'Karelis AD', 'Cefis M', 'Morais JA', 'Casgrain J', 'Gouspillou G', 'Sonjak V']\n",
      "Source: Front Physiol. 2023 Jan 09;13:. doi:10.3389/fphys.2022.1106425.\n",
      "\n",
      "Title: Regulation of autophagy, lipid metabolism, and neurodegenerative pathology by heparan sulfate proteoglycans.\n",
      "Authors: ['Schultheis N', 'Becker R', 'Berhanu G', 'Kapral A', 'Roseman M', 'Shah S', 'Connell A', 'Selleck S']\n",
      "Source: Front Genet. 2023 Jan 09;13:. doi:10.3389/fgene.2022.1012706.\n",
      "\n",
      "Title: A host–gut microbial amino acid co-metabolite, p-cresol glucuronide, promotes blood–brain barrier integrity in vivo.\n",
      "Authors: ['Stachulski AV', 'Knausenberger TBA', 'Shah SN', 'Hoyles L', 'McArthur S']\n",
      "Source: Tissue Barriers. ;11(1):. doi:10.1080/21688370.2022.2073175.\n",
      "\n",
      "Title: Resistin-like molecules: a marker, mediator and therapeutic target for multiple diseases.\n",
      "Authors: ['Shi Y', 'Zhu N', 'Qiu Y', 'Tan J', 'Wang F', 'Qin L', 'Dai A']\n",
      "Source: Cell Commun Signal. 2023 Jan 23;21:. doi:10.1186/s12964-022-01032-w.\n",
      "\n",
      "Title: Reduced circulating growth hormone and insulin-like growth factor-1 and delayed growth of premature rats are aggravated by longer daily duration of chronic intermittent hypoxia exposure.\n",
      "Authors: ['Zhang C', 'Du X', 'Li J', 'Zhang J', 'Yin G']\n",
      "Source: Front Pediatr. 2023 Jan 09;10:. doi:10.3389/fped.2022.1008282.\n",
      "\n",
      "Title: Gut microbiota disturbances and protein-energy wasting in chronic kidney disease: a narrative review.\n",
      "Authors: ['Martín-del-Campo F', 'Avesani CM', 'Stenvinkel P', 'Lindholm B', 'Cueto-Manzano AM', 'Cortés-Sanabria L']\n",
      "Source: J Nephrol. ;:1-11. doi:10.1007/s40620-022-01560-1.\n",
      "\n",
      "Title: ASGR1: an emerging therapeutic target in hypercholesterolemia.\n",
      "Authors: ['Zhao W', 'Xu S', 'Weng J']\n",
      "Source: Signal Transduct Target Ther. 2023 Jan 23;8:. doi:10.1038/s41392-023-01319-5.\n",
      "\n",
      "Title: The expression pattern of GDF15 in human brain changes during aging and in Alzheimer’s disease.\n",
      "Authors: ['Chiariello A', 'Valente S', 'Pasquinelli G', 'Baracca A', 'Sgarbi G', 'Solaini G', 'Medici V', 'Fantini V', 'Poloni TE', 'Tognocchi M', 'Arcaro M', 'Galimberti D', 'Franceschi C', 'Capri M', 'Salvioli S', 'Conte M']\n",
      "Source: Front Aging Neurosci. 2023 Jan 09;14:. doi:10.3389/fnagi.2022.1058665.\n",
      "\n",
      "Title: Triggering receptor expressed on myeloid cells-1 deletion in mice attenuates high-fat diet-induced obesity.\n",
      "Authors: ['Brustolin B', 'Touly N', 'Maillefer M', 'Parisot L', 'Di Pillo E', 'Derive M', 'Gibot S']\n",
      "Source: Front Endocrinol (Lausanne). 2023 Jan 09;13:. doi:10.3389/fendo.2022.983827.\n",
      "\n",
      "Title: Corticosterone induces obesity partly via promoting intestinal cell proliferation and survival.\n",
      "Authors: ['Wang G', 'Li S', 'Li Y', 'Zhang M', 'Xu T', 'Li T', 'Cao L', 'Lu J']\n",
      "Source: Front Endocrinol (Lausanne). 2023 Jan 09;13:. doi:10.3389/fendo.2022.1052487.\n",
      "\n"
     ]
    }
   ],
   "source": [
    "#pubmed search\n",
    "database = 'PMC'\n",
    "word = 'insulin signaling homo sapiens'\n",
    "res= 10 \n",
    "email= \"karynalysenko@ua.pt\"\n",
    "\n",
    "Entrez.email= email\n",
    "handle=Entrez.esearch(db = database, term=word, retmax= res)\n",
    "record=Entrez.read(handle)\n",
    "handle.close()\n",
    "idlist= record['IdList']\n",
    "\n",
    "handle = Entrez.efetch(db=database, id=idlist, rettype=\"medline\", retmode=\"text\")\n",
    "records = list(Medline.parse(handle))\n",
    "\n",
    "\n",
    "for record in records:\n",
    "    #print(record) \n",
    "    #print(\"PMID:\",record.get(\"PMID\",\"-\"))\n",
    "    print(\"Title:\", record.get(\"TI\", \"-\"))\n",
    "    #print('abstract:', record.get('AB', '-'))\n",
    "    print(\"Authors:\", record.get(\"AU\", \"-\"))\n",
    "    print(\"Source:\", record.get(\"SO\", \"-\"))\n",
    "    print(\"\")"
   ]
  },
  {
   "cell_type": "code",
   "execution_count": 6,
   "id": "cc897b6b",
   "metadata": {
    "scrolled": true
   },
   "outputs": [
    {
     "name": "stdout",
     "output_type": "stream",
     "text": [
      "NM_005544.3 - Homo sapiens insulin receptor substrate 1 (IRS1), mRNA\n",
      "NM_001100818.2 - Homo sapiens phosphotyrosine interaction domain containing 1 (PID1), transcript variant 2, mRNA\n",
      "NM_001330158.2 - Homo sapiens phosphotyrosine interaction domain containing 1 (PID1), transcript variant 5, mRNA\n",
      "NM_001330157.2 - Homo sapiens phosphotyrosine interaction domain containing 1 (PID1), transcript variant 4, mRNA\n",
      "NM_017933.5 - Homo sapiens phosphotyrosine interaction domain containing 1 (PID1), transcript variant 1, mRNA\n",
      "NM_001330156.1 - Homo sapiens phosphotyrosine interaction domain containing 1 (PID1), transcript variant 3, mRNA\n",
      "NG_015830.1 - Homo sapiens insulin receptor substrate 1 (IRS1), RefSeqGene on chromosome 2\n",
      "CM000253.1 - Homo sapiens chromosome 2, whole genome shotgun sequence\n",
      "CH471063.1 - Homo sapiens 211000035834619 genomic scaffold, whole genome shotgun sequence\n"
     ]
    }
   ],
   "source": [
    "#ncbi search to find the sequence of IRS1\n",
    "database = 'nucleotide'\n",
    "word = 'irs1 and homo sapiens and Chromosome 2 and not predicted and not unverified '\n",
    "res= '15'\n",
    "email= 'karyanlysenko@ua.pt'\n",
    "Entrez.email= email\n",
    "handle_search=Entrez.esearch(db = database, term=word, retmax= res)\n",
    "record=Entrez.read(handle_search)\n",
    "handle_search.close()\n",
    "idlist= record['IdList']\n",
    "handle = Entrez.efetch(db=database, id=idlist, rettype=\"gb\") \n",
    "records = list(SeqIO.parse(handle,\"gb\"))\n",
    "handle.close()\n",
    "for info in records:\n",
    "    print(info.id, '-', info.description)\n",
    "    #print('length of seq:', len(info.seq)) #to check the length of the sequences"
   ]
  },
  {
   "cell_type": "markdown",
   "id": "4caa0e74",
   "metadata": {},
   "source": [
    "The selection of the id has to be done manually as there is no pattern in writing the titles of the queries.\\\n",
    "The id __NG_015830.1__ is the only one where the annotated sequence is not a whole genome of the chromossome, is not a mRNA and actually is RefSeq. This means that the sequence is being used as a standard for well-characterized genes. So id __NG_015830.1__ will be used from now on."
   ]
  },
  {
   "cell_type": "code",
   "execution_count": 7,
   "id": "d80ac53c",
   "metadata": {},
   "outputs": [],
   "source": [
    "#The correspondent information of NG_015830.1 was downloaded to a file \n",
    "import os\n",
    "Entrez.email = \"karynalysenko@ua.pt\"\n",
    "filename = \"NG_015830_1.gb\"\n",
    "if not os.path.isfile(filename):\n",
    "    net_handle = Entrez.efetch(db=\"nucleotide\", id=\"NG_015830.1\", rettype=\"gb\", retmode=\"text\")\n",
    "    out_handle = open(filename, \"w\")\n",
    "    out_handle.write(net_handle.read())\n",
    "    out_handle.close()\n",
    "    net_handle.close()"
   ]
  },
  {
   "cell_type": "code",
   "execution_count": 8,
   "id": "aedeb39d",
   "metadata": {},
   "outputs": [
    {
     "name": "stdout",
     "output_type": "stream",
     "text": [
      "The length of the sequence: 74474\n",
      "\n",
      "Type of features: {'source': 1, 'gene': 2, 'mRNA': 2, 'exon': 2, 'CDS': 1, 'misc_feature': 46}\n",
      "\n",
      "Comment from NCBI: REVIEWED REFSEQ: This record has been curated by NCBI staff. The\n",
      "reference sequence was derived from AC010735.11.\n",
      "This sequence is a reference standard in the RefSeqGene project.\n",
      "Summary: This gene encodes a protein which is phosphorylated by\n",
      "insulin receptor tyrosine kinase. Mutations in this gene are\n",
      "associated with type II diabetes and susceptibility to insulin\n",
      "resistance. [provided by RefSeq, Nov 2009].\n",
      "\n",
      "Location of the CDS on the original sequence: [5052:8781](+)\n",
      "\n",
      "Associated Genbank protein info of CDS: NP_005535.1\n"
     ]
    }
   ],
   "source": [
    "record = SeqIO.read(open(\"NG_015830_1.gb\"), format=\"genbank\")\n",
    "position=0\n",
    "record_types={}\n",
    "for x in record.features:\n",
    "    record_types[x.type]=record_types.get(x.type,0)+1\n",
    "for i in range(len(record.features)):\n",
    "    if record.features[i].type == \"CDS\":\n",
    "        position=i\n",
    "print(\"The length of the sequence: {}\\n\".format(len(record.seq)))\n",
    "print(\"Type of features: {}\\n\".format(record_types))\n",
    "print(\"Comment from NCBI: {}\\n\".format(record.annotations[\"comment\"]))\n",
    "#checking the location of the CDS on the original sequence\n",
    "print(\"Location of the CDS on the original sequence: {}\\n\".format(record.features[position].location))\n",
    "print(\"Associated Genbank protein info of CDS: {}\".format(\"\".join(record.features[position].qualifiers['protein_id'])))"
   ]
  },
  {
   "cell_type": "code",
   "execution_count": 9,
   "id": "0d3ee7d4",
   "metadata": {},
   "outputs": [],
   "source": [
    "CDS_nuc_seq_location=record.seq[int(record.features[position].location.start):int(record.features[position].location.end)]"
   ]
  },
  {
   "cell_type": "code",
   "execution_count": 10,
   "id": "da3f3af2",
   "metadata": {},
   "outputs": [],
   "source": [
    "#saving the CDS_nucleotides and CD_aminoacid seqs in files\n",
    "filename = \"NG_015830_1.gb\"\n",
    "filename_CDS_nucl = \"CDS_nucleot_seq.fasta\"\n",
    "filename_CDS_prot = \"CDS_prot_seq.fasta\"\n",
    "input_handle  = open(filename, \"r\")\n",
    "output_handle_nucl = open(filename_CDS_nucl, \"w\")\n",
    "output_handle_prot = open(filename_CDS_prot, \"w\")\n",
    "for seq_record in SeqIO.parse(input_handle, \"genbank\"):\n",
    "    protein_id=\"\".join(record.features[position].qualifiers['protein_id'])\n",
    "    output_handle_nucl.write(\">\\n%s\" % (CDS_nuc_seq_location))\n",
    "    output_handle_prot.write(\">%s\\n%s\" % (protein_id,\"\".join(record.features[position].qualifiers['translation']))) #without join, output is a list\n",
    "    \n",
    "output_handle_nucl.close()\n",
    "output_handle_prot.close()\n",
    "input_handle.close()"
   ]
  },
  {
   "cell_type": "markdown",
   "id": "58e42387",
   "metadata": {},
   "source": [
    "## BLASTN - for all organisms"
   ]
  },
  {
   "cell_type": "code",
   "execution_count": 11,
   "id": "698804b4",
   "metadata": {},
   "outputs": [
    {
     "name": "stdout",
     "output_type": "stream",
     "text": [
      "3729\n"
     ]
    }
   ],
   "source": [
    "record_blastn = SeqIO.read(open(\"CDS_nucleot_seq.fasta\"), format=\"fasta\") \n",
    "print(len(record_blastn.seq))"
   ]
  },
  {
   "cell_type": "code",
   "execution_count": 41,
   "id": "2b947b75",
   "metadata": {},
   "outputs": [],
   "source": [
    "Blastn = NCBIWWW.qblast(\"blastn\", \"nt\", record_blastn.seq) #not filtered for Homo sapiens\n",
    "with open('blastn_CDS_nucleot_seq.xml', \"w\") as out_handle:\n",
    "        out_handle.write(Blastn.read())\n",
    "Blastn.close()"
   ]
  },
  {
   "cell_type": "code",
   "execution_count": 12,
   "id": "8c97eefc",
   "metadata": {},
   "outputs": [
    {
     "name": "stdout",
     "output_type": "stream",
     "text": [
      "\n",
      "Accession:  XM_047444224\n",
      "Definition:  PREDICTED: Homo sapiens insulin receptor substrate 1 (IRS1), transcript variant X2, mRNA\n",
      "E-value:  0.0\n",
      "\n",
      "Accession:  XM_047444223\n",
      "Definition:  PREDICTED: Homo sapiens insulin receptor substrate 1 (IRS1), transcript variant X1, mRNA\n",
      "E-value:  0.0\n",
      "\n",
      "Accession:  NM_005544\n",
      "Definition:  Homo sapiens insulin receptor substrate 1 (IRS1), mRNA\n",
      "E-value:  0.0\n",
      "\n",
      "Accession:  NG_015830\n",
      "Definition:  Homo sapiens insulin receptor substrate 1 (IRS1), RefSeqGene on chromosome 2\n",
      "E-value:  0.0\n",
      "\n",
      "Accession:  AC010735\n",
      "Definition:  Homo sapiens BAC clone RP11-395N3 from 2, complete sequence\n",
      "E-value:  0.0\n"
     ]
    }
   ],
   "source": [
    "results_Blastn = open(\"blastn_CDS_nucleot_seq.xml\")\n",
    "blastn_records = NCBIXML.read(results_Blastn)\n",
    "for parameter in blastn_records.alignments[0:5]:\n",
    "    print()\n",
    "    print('Accession: ', parameter.accession)\n",
    "    print('Definition: ', parameter.hit_def)    \n",
    "    for e_v in parameter.hsps:\n",
    "        print('E-value: ', e_v.expect)"
   ]
  },
  {
   "cell_type": "code",
   "execution_count": 13,
   "id": "2bfbc986",
   "metadata": {},
   "outputs": [
    {
     "name": "stdout",
     "output_type": "stream",
     "text": [
      "['NM_005544', 'NG_015830', 'AC010735', 'S62539', 'BC053895', 'LT743046', 'KJ891488', 'AB384351', 'EU831611', 'EU831698', 'S85963', 'U43502']\n",
      "Total 38 PREDICTED seqs found and remaining 8 ids are from Homo sapiens\n"
     ]
    }
   ],
   "source": [
    "#filtering the \"predicted\" alignments\n",
    "results_Blastn= open('blastn_CDS_nucleot_seq.xml')\n",
    "blastn_records = NCBIXML.read(results_Blastn)\n",
    "E_VALUE_THRESH = 0.001\n",
    "count_preditc, count_homo=0,0\n",
    "list_filtered_alignments=[]\n",
    "for alignment in  blastn_records.alignments:\n",
    "    for hsp in alignment.hsps:\n",
    "        if hsp.expect < E_VALUE_THRESH:\n",
    "            exist = re.search(r'PREDICTED:\\s', alignment.title)\n",
    "            if exist:\n",
    "                # print( existe[0] )\n",
    "                pre = re.match(r'PREDICTED:\\s', exist[0] )\n",
    "                if pre:\n",
    "                    count_preditc+=1\n",
    "                    #print(id)\n",
    "            else:\n",
    "                list_filtered_alignments.append(alignment.accession)\n",
    "                homo=re.search(r'Homo\\ssapiens',alignment.title)\n",
    "                if homo:\n",
    "                    count_homo+=1\n",
    "print(list_filtered_alignments)\n",
    "print('Total {} PREDICTED seqs found and remaining {} ids are from Homo sapiens'.format(count_preditc, count_homo))\n",
    "#counting of Homo sapiens it's not conclusive, just to have an ideia, because the titles don't follow any pattern"
   ]
  },
  {
   "cell_type": "code",
   "execution_count": 12,
   "id": "d3dda171",
   "metadata": {},
   "outputs": [],
   "source": [
    "with open('CDS_nucleotide_result_blast.txt', 'w') as f:\n",
    "    for line in list_filtered_alignments:\n",
    "        f.write(f\"{line}\\n\")"
   ]
  },
  {
   "cell_type": "markdown",
   "id": "bfb3690a",
   "metadata": {},
   "source": [
    "## BLASTP"
   ]
  },
  {
   "cell_type": "code",
   "execution_count": 14,
   "id": "8c8008be",
   "metadata": {},
   "outputs": [
    {
     "name": "stdout",
     "output_type": "stream",
     "text": [
      "1242\n"
     ]
    }
   ],
   "source": [
    "record_blastp = SeqIO.read(open(\"CDS_prot_seq.fasta\"), format=\"fasta\") \n",
    "print(len(record_blastp.seq))"
   ]
  },
  {
   "cell_type": "code",
   "execution_count": 15,
   "id": "74737a75",
   "metadata": {},
   "outputs": [],
   "source": [
    "Blastp = NCBIWWW.qblast(\"blastp\", \"swissprot\", record_blastp.seq) #not filtered for Homo sapiens\n",
    "with open('blastp_CDS_prot_seq.xml', \"w\") as out_handle:\n",
    "        out_handle.write(Blastp.read())\n",
    "Blastp.close()"
   ]
  },
  {
   "cell_type": "code",
   "execution_count": 15,
   "id": "dc1babf5",
   "metadata": {},
   "outputs": [
    {
     "name": "stdout",
     "output_type": "stream",
     "text": [
      "\n",
      "Accession:  P35568\n",
      "Definition:  RecName: Full=Insulin receptor substrate 1; Short=IRS-1 [Homo sapiens]\n",
      "E-value:  0.0\n",
      "\n",
      "Accession:  Q28224\n",
      "Definition:  RecName: Full=Insulin receptor substrate 1; Short=IRS-1 [Chlorocebus aethiops]\n",
      "E-value:  0.0\n",
      "\n",
      "Accession:  P35570\n",
      "Definition:  RecName: Full=Insulin receptor substrate 1; Short=IRS-1; AltName: Full=pp185 [Rattus norvegicus]\n",
      "E-value:  0.0\n",
      "\n",
      "Accession:  P35569\n",
      "Definition:  RecName: Full=Insulin receptor substrate 1; Short=IRS-1 [Mus musculus]\n",
      "E-value:  0.0\n",
      "\n",
      "Accession:  P84770\n",
      "Definition:  RecName: Full=Insulin receptor substrate 1-B; Short=IRS1-B; Short=xIRS-1-B; AltName: Full=XIRS-L' [Xenopus laevis]\n",
      "E-value:  0.0\n"
     ]
    }
   ],
   "source": [
    "results_Blastp = open(\"blastp_CDS_prot_seq.xml\")\n",
    "blastp_records = NCBIXML.read(results_Blastp)\n",
    "for parameter in blastp_records.alignments[0:5]:\n",
    "    print()\n",
    "    print('Accession: ', parameter.accession)\n",
    "    print('Definition: ', parameter.hit_def)    \n",
    "    for e_v in parameter.hsps:\n",
    "        print('E-value: ', e_v.expect)"
   ]
  },
  {
   "cell_type": "code",
   "execution_count": 3,
   "id": "20ecd302",
   "metadata": {},
   "outputs": [
    {
     "name": "stdout",
     "output_type": "stream",
     "text": [
      "number of times: 1 that appeared specie: [Bos taurus]\n",
      "number of times: 1 that appeared specie: [Chlorocebus aethiops]\n",
      "number of times: 1 that appeared specie: [Drosophila ananassae]\n",
      "number of times: 1 that appeared specie: [Drosophila erecta]\n",
      "number of times: 1 that appeared specie: [Drosophila melanogaster]\n",
      "number of times: 1 that appeared specie: [Drosophila sechellia]\n",
      "number of times: 1 that appeared specie: [Drosophila yakuba]\n",
      "number of times: 9 that appeared specie: [Homo sapiens]\n",
      "number of times: 1 that appeared specie: [Mesocricetus auratus]\n",
      "number of times: 6 that appeared specie: [Mus musculus]\n",
      "number of times: 2 that appeared specie: [Rattus norvegicus]\n",
      "number of times: 4 that appeared specie: [Xenopus laevis]\n",
      "number of times: 2 that appeared specie: [Xenopus tropicalis]\n",
      "{'B4NZ70', 'Q9Z0Y7', 'P35570', 'Q9XTN2', 'Q9Y4H2', 'Q5RJW5', 'Q99PF6', 'P35569', 'P81122', 'Q91615', 'B3MPN6', 'Q6P4Y6', 'P84770', 'B4HWI2', 'Q99KE3', 'A6QLU3', 'Q9DF49', 'Q9Z1S8', 'O14654', 'Q8WWW8', 'Q13480', 'P35568', 'B3N946', 'Q28224', 'Q9EQH1', 'Q9UQC2', 'Q8TEW6', 'Q2WGN9', 'Q9QYY0'}\n"
     ]
    }
   ],
   "source": [
    "#not necessary\n",
    "#this part was adapted below\n",
    "# results_Blastp= open('blastp_CDS_prot_seq.xml')\n",
    "# blastp_records = NCBIXML.read(results_Blastp)\n",
    "# E_VALUE_THRESH = 0.001\n",
    "# list_filtered_alignments,list_species=[],[]\n",
    "# for alignment in  blastp_records.alignments:\n",
    "#     for hsp in alignment.hsps:\n",
    "# #         print(hsp.identities)    # maybe add more \n",
    "#         if hsp.expect < E_VALUE_THRESH:\n",
    "#             list_filtered_alignments.append(alignment.accession)\n",
    "#             title_organism=re.search(r'\\[.+\\s.+\\]', alignment.title)\n",
    "#             if title_organism:\n",
    "#                 m = re.match(r'\\[.+\\s.+\\]', title_organism[0] )\n",
    "#                 specie = m.group(0)\n",
    "#                 #print(specie)\n",
    "#                 list_species.append(specie)\n",
    "# for x in sorted(set(list_species)):\n",
    "#     print(\"number of times: {} that appeared specie: {}\".format(list_species.count(x),x))\n",
    "\n",
    "# print(set(list_filtered_alignments))\n",
    "#print(len(list_filtered_alignments))"
   ]
  },
  {
   "cell_type": "code",
   "execution_count": 16,
   "id": "5bc3970d",
   "metadata": {},
   "outputs": [
    {
     "name": "stdout",
     "output_type": "stream",
     "text": [
      "1242\n"
     ]
    }
   ],
   "source": [
    "#FINAL\n",
    "#has to be apart because of NCBIXML.read() and not parse\n",
    "results_Blastp= open('blastp_CDS_prot_seq.xml')\n",
    "blastp_records_r = NCBIXML.read(results_Blastp)\n",
    "first=blastp_records_r.alignments[0]\n",
    "len_max_seq=first.hsps[0].align_length\n",
    "print(len_max_seq)"
   ]
  },
  {
   "cell_type": "code",
   "execution_count": 14,
   "id": "d4a9bdd6",
   "metadata": {},
   "outputs": [],
   "source": [
    "#função não aplicável por causa do resto do código, que está construído para listas (coverage e identity)\n",
    "# def read_xml(filename):\n",
    "#     results_Blastp= open(filename)\n",
    "#     blastp_records = NCBIXML.parse(results_Blastp)\n",
    "#     alltog=[]\n",
    "\n",
    "#     for alignment in  blastp_records:\n",
    "#         for a in alignment.alignments:\n",
    "#             for b in a.hsps:\n",
    "#                 list_accession,list_identities,list_coverage_start, list_coverage_stop,list_alignLen=[],[],[],[],[]\n",
    "#                 list_accession.append(a.accession)\n",
    "#                 list_coverage_start.append(b.sbjct_start)\n",
    "#                 list_coverage_stop.append(b.sbjct_end)\n",
    "#                 list_identities.append(b.identities)\n",
    "#                 list_alignLen.append(b.align_length)\n",
    "#             alltog.append(list_accession+list_coverage_start+list_coverage_start+list_coverage_stop+list_identities+list_alignLen)\n",
    "#     return alltog \n",
    "# print(read_xml('blastp_CDS_prot_seq.xml')[0][0])"
   ]
  },
  {
   "cell_type": "code",
   "execution_count": 17,
   "id": "8f964def",
   "metadata": {},
   "outputs": [],
   "source": [
    "#FINAL\n",
    "results_Blastp= open('blastp_CDS_prot_seq.xml')\n",
    "blastp_records = NCBIXML.parse(results_Blastp)\n",
    "list_accession,list_identities,list_coverage_start, list_coverage_stop,list_alignLen=[],[],[],[],[]\n",
    "list_organism=[]\n",
    "E_VALUE_THRESH = 0.001\n",
    "for alignment in  blastp_records:\n",
    "    for a in alignment.alignments:\n",
    "        for b in a.hsps:\n",
    "            if b.expect < E_VALUE_THRESH:\n",
    "                title_organism=re.search(r'\\[.+\\s.+\\]', a.title)\n",
    "                if title_organism:\n",
    "                    m = re.match(r'\\[(.+\\s.+)\\]', title_organism[0] )\n",
    "                    list_accession.append(a.accession)\n",
    "                    list_coverage_start.append(b.sbjct_start)\n",
    "                    list_coverage_stop.append(b.sbjct_end)\n",
    "                    list_identities.append(b.identities)\n",
    "                    list_alignLen.append(b.align_length)\n",
    "                    list_organism.append(m.group(1))\n",
    "            #print(a.accession, b.align_length, b.identities, b.expect, b.sbjct_start, b.sbjct_end)\n",
    "            \n",
    "#calculation of %identity                        \n",
    "def identity(list_i, list_a):\n",
    "    perc_list_identities=[]\n",
    "    for index in range(len(list_i)):\n",
    "        perc_list_identities.append(round(list_i[index]*100/list_a[index]))\n",
    "    return perc_list_identities\n",
    "\n",
    "#calculation of the %coverage - for all hsps of all accessions\n",
    "def coverage(list_end,list_start):\n",
    "    perc_list_coverage=[]\n",
    "    for index in range(len(list_identities)):\n",
    "        perc_list_coverage.append(round((1+list_end[index]-list_start[index])/len_max_seq*100))\n",
    "    return perc_list_coverage\n",
    "\n",
    "#selecting the max coverage and max identity per hsps/accession\n",
    "def max_values_by_id(ids, covs, idents): \n",
    "    unique_ids = []\n",
    "    max_coverage = []\n",
    "    max_identity = []\n",
    "    for id, cov, ident in zip(ids, covs,idents):\n",
    "        if id in unique_ids:\n",
    "            idx = unique_ids.index(id)\n",
    "            max_coverage[idx] = max(max_coverage[idx], cov)\n",
    "            max_identity[idx] = max(max_identity[idx], ident)\n",
    "        else:\n",
    "            unique_ids.append(id)\n",
    "            max_coverage.append(cov)\n",
    "            max_identity.append(ident)\n",
    "    return unique_ids, max_coverage, max_identity\n",
    "\n",
    "beta_max=max_values_by_id(list_accession, coverage(list_coverage_stop, list_coverage_start),identity(list_identities,list_alignLen))\n"
   ]
  },
  {
   "cell_type": "code",
   "execution_count": 18,
   "id": "548780c7",
   "metadata": {
    "scrolled": true
   },
   "outputs": [
    {
     "name": "stdout",
     "output_type": "stream",
     "text": [
      "___Thresholds___\n",
      "coverage: 50%   |\n",
      "identity: 50%   |\n",
      "e-value: 0.001% |\n",
      "\n",
      "   ID     %coverage  %identity       Organism\n",
      "|P35568|      100       100         Homo sapiens\n",
      "|Q28224|      101*       97    Chlorocebus aethiops\n",
      "|P35570|       99        89    Rattus norvegicus\n",
      "|P35569|       99        88         Mus musculus\n",
      "|P84770|       87        58       Xenopus laevis\n",
      "|Q91615|       71        55       Xenopus laevis\n",
      "\n",
      "* means that the subject sequence is longer than the query sequence\n"
     ]
    }
   ],
   "source": [
    "#FINAL\n",
    "thresold_coverage=50\n",
    "thresold_identity=50\n",
    "print('___Thresholds___')\n",
    "print('coverage: {}%   |'.format(thresold_coverage))\n",
    "print('identity: {}%   |'.format(thresold_identity))\n",
    "print('e-value: {}% |\\n'.format(E_VALUE_THRESH))\n",
    "print('{:>5}{:>14}{:>11}{:>15}'.format('ID','%coverage','%identity', 'Organism'))\n",
    "count=0\n",
    "filtragem= []\n",
    "for id, cov, ident, specie in zip(beta_max[0], beta_max[1], beta_max[2], list_organism):\n",
    "    if int(cov)>thresold_coverage and ident>thresold_identity:\n",
    "        if int(cov)>100:\n",
    "            print('|{:>5}|{:>9}*{:>9}{:>24}'.format(id, cov, ident, specie))\n",
    "            count+=1\n",
    "        else:\n",
    "            print('|{:>5}|{:>9}{:>10}{:>21}'.format(id, cov, ident, specie))\n",
    "        filtragem.append(f\"{id} {specie}\")\n",
    "  \n",
    "if count>0:\n",
    "    print('\\n* means that the subject sequence is longer than the query sequence')"
   ]
  },
  {
   "cell_type": "code",
   "execution_count": 19,
   "id": "9d55c45b",
   "metadata": {},
   "outputs": [],
   "source": [
    "#saving previous list but filtered, without repeting same organisms\n",
    "lista_sem_repetidos= []\n",
    "seen = set()\n",
    "for x in filtragem:\n",
    "    parts = x.split()\n",
    "    organi = parts[1] + '_' + parts[2]    \n",
    "    if organi in seen:\n",
    "        filtragem.remove(x)\n",
    "    else:\n",
    "        seen.add(organi)\n",
    "        lista_sem_repetidos.append(x)      \n",
    "# print(lista_sem_repetidos)\n",
    "\n",
    "lista_ids = []\n",
    "with open('CDS_protein_result_blastp.txt', 'w') as f:\n",
    "    for x in lista_sem_repetidos:\n",
    "        IDS = x.split()\n",
    "        lista_ids.append(IDS[0])\n",
    "        f.write(f\"{IDS[0]}\\n\")\n",
    "# print(lista_ids)"
   ]
  },
  {
   "cell_type": "code",
   "execution_count": 20,
   "id": "9dcc1ff6",
   "metadata": {},
   "outputs": [
    {
     "name": "stdout",
     "output_type": "stream",
     "text": [
      "['P35568 Homo sapiens', 'Q28224 Chlorocebus aethiops', 'P35570 Rattus norvegicus', 'P35569 Mus musculus', 'P84770 Xenopus laevis']\n",
      "['P35568 Homo sapiens', 'Q28224 Chlorocebus aethiops', 'P35570 Rattus norvegicus', 'P35569 Mus musculus', 'P84770 Xenopus laevis']\n"
     ]
    }
   ],
   "source": [
    "print(lista_sem_repetidos)\n",
    "print(filtragem)"
   ]
  },
  {
   "cell_type": "markdown",
   "id": "985579d0",
   "metadata": {},
   "source": [
    "The output of Blastp gave more hits. So the list of ids of the last script will be saved and used on Uniprot search."
   ]
  },
  {
   "cell_type": "markdown",
   "id": "a3282855",
   "metadata": {},
   "source": [
    "## Uniprot search of Blastp results"
   ]
  },
  {
   "cell_type": "code",
   "execution_count": 21,
   "id": "1a307228",
   "metadata": {},
   "outputs": [],
   "source": [
    "def get_url(url, **kwargs):\n",
    "    response = requests.get(url, **kwargs);\n",
    "    if not response.ok:\n",
    "        print(response.text)\n",
    "        response.raise_for_status()\n",
    "        sys.exit()\n",
    "    return response"
   ]
  },
  {
   "cell_type": "code",
   "execution_count": 48,
   "id": "6ecedc15",
   "metadata": {},
   "outputs": [],
   "source": [
    "#ORIGINAL -- WORKING ON THIS BELOW\n",
    "#saving sequences from Uniprot\n",
    "# results_Blastp= open('blastp_CDS_prot_seq.xml')\n",
    "# blastp_records = NCBIXML.read(results_Blastp)\n",
    "# titles_list=[]\n",
    "# for alignment in  blastp_records.alignments:   \n",
    "#     titles_list.append(alignment.title)\n",
    "\n",
    "# file= open(\"CDS_protein_result_blastp.txt\", \"r\")\n",
    "# fields=\"sequence\"\n",
    "# WEBSITE_API=\"https://rest.uniprot.org\"\n",
    "# seqs=[]\n",
    "\n",
    "# for i in file:\n",
    "#     r=get_url(\"{}/uniprotkb/search?query={} AND (reviewed:true)&fields={}&size=1&format=tsv\".format(WEBSITE_API,i, fields))\n",
    "#     seqs.append(str(r.content))\n",
    "\n",
    "# with open('allOrg_CDS_prot_fromUniprot.fasta', 'w') as f:\n",
    "#     for index, seq in enumerate(seqs):\n",
    "#         existe = re.search(r'b\\'Sequence\\\\n(.+?(?=\\\\n\\'))', seq, re.DOTALL)\n",
    "#         if existe:\n",
    "#             m = re.match( r'b\\'Sequence\\\\n(.+?(?=\\\\n\\'))', seq, re.DOTALL )\n",
    "#             f.write(f\">{titles_list[index]}\\n{m.group(1)}\\n\\n\")                    \n",
    "#             print(m.group(1))       "
   ]
  },
  {
   "cell_type": "code",
   "execution_count": 71,
   "id": "b7418b9b",
   "metadata": {},
   "outputs": [],
   "source": [
    "#OLD\n",
    "# file= open(\"CDS_protein_result_blastp.txt\", \"r\")\n",
    "# fields=\"accession,organism_name,protein_name,cc_subcellular_location,cc_function\"\n",
    "# WEBSITE_API=\"https://rest.uniprot.org\"\n",
    "# with open('uniprot_result_CDS_filtered.txt', 'w',encoding='utf-8') as f:\n",
    "#     for i in file:\n",
    "#         r=get_url(\"{}/uniprotkb/search?query={} AND (reviewed:true)&fields={}&size=1&format=tsv\".format(WEBSITE_API,i, fields))\n",
    "#         print(r.text)\n",
    "#         f.write(r.text)\n",
    "#         f.write('\\n')"
   ]
  },
  {
   "cell_type": "code",
   "execution_count": 22,
   "id": "cfdb84ff",
   "metadata": {},
   "outputs": [
    {
     "name": "stdout",
     "output_type": "stream",
     "text": [
      "P35568_Homo_sapiens\n"
     ]
    }
   ],
   "source": [
    "a=\", \".join(lista_sem_repetidos)\n",
    "b=a.replace(\" \",\"_\")\n",
    "c=b.split(\",\")\n",
    "print(c[0])"
   ]
  },
  {
   "cell_type": "code",
   "execution_count": 23,
   "id": "5a7e5c74",
   "metadata": {},
   "outputs": [],
   "source": [
    "fileUniprot= open(\"CDS_protein_result_blastp.txt\", \"r\")\n",
    "fields=\"sequence\"\n",
    "WEBSITE_API=\"https://rest.uniprot.org\"\n",
    "seqs=[]\n",
    "\n",
    "for i in fileUniprot:\n",
    "    r=get_url(\"{}/uniprotkb/search?query={} AND (reviewed:true)&fields={}&size=1&format=tsv\".format(WEBSITE_API,i, fields))\n",
    "    seqs.append(str(r.content))\n",
    "\n",
    "with open('allOrg_CDS_prot_fromUniprot.fasta', 'w') as f:\n",
    "    for index, seq in enumerate(seqs):\n",
    "        existe = re.search(r'b\\'Sequence\\\\n(.+?(?=\\\\n\\'))', seq, re.DOTALL)\n",
    "        if existe:\n",
    "            m = re.match( r'b\\'Sequence\\\\n(.+?(?=\\\\n\\'))', seq, re.DOTALL )\n",
    "            f.write(f\">{c[index]}\\n{m.group(1)}\\n\\n\")                    \n",
    "#             print(m.group(1))"
   ]
  },
  {
   "cell_type": "code",
   "execution_count": 24,
   "id": "473a0f75",
   "metadata": {},
   "outputs": [],
   "source": [
    "fileUniprot= open(\"CDS_protein_result_blastp.txt\", \"r\")\n",
    "fields=['accession','organism_name','protein_name','cc_function','cc_subcellular_location']\n",
    "WEBSITE_API=\"https://rest.uniprot.org\"\n",
    "\n",
    "def get_field_for_id(ID_PROT, field): \n",
    "    response = get_url(\"{}/uniprotkb/search?query={}&fields={}&size=1&format=tsv\".format(WEBSITE_API,ID_PROT,field))\n",
    "    return str(response.content)\n",
    "\n",
    "def get_info_uniprot(fileUniprot):\n",
    "    results = []\n",
    "    result = []\n",
    "    tmp = []\n",
    "    uniprot_final_list=[]\n",
    "    \n",
    "    for first_index in fileUniprot:\n",
    "        tmp= []\n",
    "        for field in fields:\n",
    "            result = get_field_for_id(first_index, field)\n",
    "            tmp.append(result)\n",
    "        results.append(tmp)\n",
    "#     print(results)\n",
    "    for ind in results:\n",
    "        uniprot_list=[]\n",
    "        for i in ind:\n",
    "            entry = re.search(r'b\\'Entry\\\\n(.+?(?=\\\\n\\'))', str(i), re.DOTALL)\n",
    "            organism = re.search(r'b\\'Organism\\\\n(.+?(?=\\\\n\\'))', str(i), re.DOTALL)\n",
    "            protein = re.search(r'Protein names\\\\n(.+?(?=\\\\n))', str(i), re.DOTALL)\n",
    "            function = re.search(r'Function \\[CC\\]\\\\n.{9} (.+?(?=\\\\n))', str(i), re.DOTALL )\n",
    "            location_exist = re.search(r'b\\'Subcellular location \\[CC\\]\\\\nSUBCELLULAR LOCATION: (.+?(?=\\\\n\\'))', str(i), re.DOTALL )\n",
    "            location_notexist = re.search( r'b\\'Subcellular location \\[CC\\]\\\\n\\\\n\\'',str(i), re.DOTALL )   \n",
    "            if entry:\n",
    "                uniprot_list.append(entry.group(1))\n",
    "            if organism:\n",
    "                uniprot_list.append(organism.group(1))\n",
    "            if protein:\n",
    "                uniprot_list.append(protein.group(1))\n",
    "            if location_exist:\n",
    "                uniprot_list.append(+location_exist.group(1))\n",
    "            if location_notexist:\n",
    "                uniprot_list.append('N/A')\n",
    "            if function:\n",
    "                uniprot_list.append(function.group(1))\n",
    "        uniprot_final_list.append(uniprot_list)\n",
    "    return uniprot_final_list"
   ]
  },
  {
   "cell_type": "code",
   "execution_count": 73,
   "id": "f4e9a0e6",
   "metadata": {},
   "outputs": [
    {
     "data": {
      "text/plain": [
       "[['P35568',\n",
       "  'Homo sapiens (Human)',\n",
       "  'Insulin receptor substrate 1 (IRS-1)',\n",
       "  'May mediate the control of various cellular processes by insulin. When phosphorylated by the insulin receptor binds specifically to various cellular proteins containing SH2 domains such as phosphatidylinositol 3-kinase p85 subunit or GRB2. Activates phosphatidylinositol 3-kinase when bound to the regulatory p85 subunit (By similarity). {ECO:0000250, ECO:0000269|PubMed:16878150}.',\n",
       "  'N/A'],\n",
       " ['Q28224',\n",
       "  'Chlorocebus aethiops (Green monkey) (Cercopithecus aethiops)',\n",
       "  'Insulin receptor substrate 1 (IRS-1)',\n",
       "  'May mediate the control of various cellular processes by insulin. When phosphorylated by the insulin receptor binds specifically to various cellular proteins containing SH2 domains such as phosphatidylinositol 3-kinase p85 subunit or GRB2. Activates phosphatidylinositol 3-kinase when bound to the regulatory p85 subunit (By similarity). {ECO:0000250}.',\n",
       "  'N/A'],\n",
       " ['P35570',\n",
       "  'Rattus norvegicus (Rat)',\n",
       "  'Insulin receptor substrate 1 (IRS-1) (pp185)',\n",
       "  'May mediate the control of various cellular processes by insulin. When phosphorylated by the insulin receptor binds specifically to various cellular proteins containing SH2 domains such as phosphatidylinositol 3-kinase p85 subunit or GRB2. Activates phosphatidylinositol 3-kinase when bound to the regulatory p85 subunit. {ECO:0000269|PubMed:1380456}.',\n",
       "  'N/A'],\n",
       " ['P35569',\n",
       "  'Mus musculus (Mouse)',\n",
       "  'Insulin receptor substrate 1 (IRS-1)',\n",
       "  'May mediate the control of various cellular processes by insulin. When phosphorylated by the insulin receptor binds specifically to various cellular proteins containing SH2 domains such as phosphatidylinositol 3-kinase p85 subunit or GRB2. Activates phosphatidylinositol 3-kinase when bound to the regulatory p85 subunit (By similarity). {ECO:0000250}.',\n",
       "  'N/A'],\n",
       " ['P84770',\n",
       "  'Xenopus laevis (African clawed frog)',\n",
       "  \"Insulin receptor substrate 1-B (IRS1-B) (xIRS-1-B) (XIRS-L')\",\n",
       "  'May mediate the control of various cellular processes by insulin. When phosphorylated by the insulin receptor binds specifically to various cellular proteins containing SH2 domains such as phosphatidylinositol 3-kinase p85 subunit or grb2. Activates phosphatidylinositol 3-kinase when bound to the regulatory p85 subunit (By similarity). {ECO:0000250}.',\n",
       "  'N/A']]"
      ]
     },
     "execution_count": 73,
     "metadata": {},
     "output_type": "execute_result"
    }
   ],
   "source": [
    "get_info_uniprot(fileUniprot)"
   ]
  },
  {
   "cell_type": "code",
   "execution_count": 25,
   "id": "457075de",
   "metadata": {},
   "outputs": [
    {
     "name": "stdout",
     "output_type": "stream",
     "text": [
      "Id: P35568\n",
      "Organism: Homo sapiens (Human)\n",
      "Protein name: Insulin receptor substrate 1 (IRS-1)\n",
      "Subcelular location: N/A\n",
      "Function:  May mediate the control of various cellular processes by insulin. When phosphorylated by the insulin receptor binds specifically to various cellular proteins containing SH2 domains such as phosphatidylinositol 3-kinase p85 subunit or GRB2. Activates phosphatidylinositol 3-kinase when bound to the regulatory p85 subunit (By similarity). {ECO:0000250, ECO:0000269|PubMed:16878150}.\n",
      "\n",
      "\n",
      "Id: Q28224\n",
      "Organism: Chlorocebus aethiops (Green monkey) (Cercopithecus aethiops)\n",
      "Protein name: Insulin receptor substrate 1 (IRS-1)\n",
      "Subcelular location: N/A\n",
      "Function:  May mediate the control of various cellular processes by insulin. When phosphorylated by the insulin receptor binds specifically to various cellular proteins containing SH2 domains such as phosphatidylinositol 3-kinase p85 subunit or GRB2. Activates phosphatidylinositol 3-kinase when bound to the regulatory p85 subunit (By similarity). {ECO:0000250}.\n",
      "\n",
      "\n",
      "Id: P35570\n",
      "Organism: Rattus norvegicus (Rat)\n",
      "Protein name: Insulin receptor substrate 1 (IRS-1) (pp185)\n",
      "Subcelular location: N/A\n",
      "Function:  May mediate the control of various cellular processes by insulin. When phosphorylated by the insulin receptor binds specifically to various cellular proteins containing SH2 domains such as phosphatidylinositol 3-kinase p85 subunit or GRB2. Activates phosphatidylinositol 3-kinase when bound to the regulatory p85 subunit. {ECO:0000269|PubMed:1380456}.\n",
      "\n",
      "\n",
      "Id: P35569\n",
      "Organism: Mus musculus (Mouse)\n",
      "Protein name: Insulin receptor substrate 1 (IRS-1)\n",
      "Subcelular location: N/A\n",
      "Function:  May mediate the control of various cellular processes by insulin. When phosphorylated by the insulin receptor binds specifically to various cellular proteins containing SH2 domains such as phosphatidylinositol 3-kinase p85 subunit or GRB2. Activates phosphatidylinositol 3-kinase when bound to the regulatory p85 subunit (By similarity). {ECO:0000250}.\n",
      "\n",
      "\n",
      "Id: P84770\n",
      "Organism: Xenopus laevis (African clawed frog)\n",
      "Protein name: Insulin receptor substrate 1-B (IRS1-B) (xIRS-1-B) (XIRS-L')\n",
      "Subcelular location: N/A\n",
      "Function:  May mediate the control of various cellular processes by insulin. When phosphorylated by the insulin receptor binds specifically to various cellular proteins containing SH2 domains such as phosphatidylinositol 3-kinase p85 subunit or grb2. Activates phosphatidylinositol 3-kinase when bound to the regulatory p85 subunit (By similarity). {ECO:0000250}.\n",
      "\n",
      "\n"
     ]
    }
   ],
   "source": [
    "fileUniprot= open(\"CDS_protein_result_blastp.txt\", \"r\")\n",
    "allInfo=get_info_uniprot(fileUniprot)\n",
    "for index in allInfo:\n",
    "    print('Id: {}\\nOrganism: {}\\nProtein name: {}\\nSubcelular location: {}\\nFunction:  {}\\n\\n'.format(index[0], index[1], index[2], index[4], index[3]))\n",
    "    "
   ]
  },
  {
   "cell_type": "markdown",
   "id": "b63358cb",
   "metadata": {},
   "source": [
    "## Alignment and Phylo"
   ]
  },
  {
   "cell_type": "code",
   "execution_count": 67,
   "id": "e895c624",
   "metadata": {},
   "outputs": [
    {
     "data": {
      "text/plain": [
       "('\\n\\n\\n CLUSTAL 2.1 Multiple Sequence Alignments\\n\\n\\nSequence format is Pearson\\nSequence 1: P35568_Homo_sapiens          1242 aa\\nSequence 2: Q28224_Chlorocebus_aethiops  1251 aa\\nSequence 3: P35570_Rattus_norvegicus     1235 aa\\nSequence 4: P35569_Mus_musculus          2335 aa\\nStart of Pairwise alignments\\nAligning...\\n\\nSequences (1:2) Aligned. Score:  97\\nSequences (1:3) Aligned. Score:  90\\nSequences (1:4) Aligned. Score:  89\\nSequences (2:3) Aligned. Score:  90\\nSequences (2:4) Aligned. Score:  88\\nSequences (3:4) Aligned. Score:  97\\nGuide tree file created:   [allOrg_CDS_prot_fromUniprot.dnd]\\n\\nThere are 3 groups\\nStart of Multiple Alignment\\n\\nAligning...\\nGroup 1: Sequences:   2      Score:26736\\nGroup 2: Sequences:   2      Score:26436\\nGroup 3: Sequences:   4      Score:25319\\nAlignment Score 43037\\n\\nCLUSTAL-Alignment file created  [allOrg_CDS_prot_fromUniprot.aln]\\n\\n',\n",
       " '')"
      ]
     },
     "execution_count": 67,
     "metadata": {},
     "output_type": "execute_result"
    }
   ],
   "source": [
    "#Clustalw\n",
    "dir = r'C:\\Program Files (x86)\\ClustalW2\\clustalw2'\n",
    "in_file = r'allOrg_CDS_prot_fromUniprot.fasta'\n",
    "\n",
    "clustalw_cline = ClustalwCommandline(dir, infile=in_file)\n",
    "clustalw_cline()"
   ]
  },
  {
   "cell_type": "code",
   "execution_count": 70,
   "id": "7aa91102",
   "metadata": {},
   "outputs": [],
   "source": [
    "cline = ClustalwCommandline(\"clustalw\", infile=\"allOrg_CDS_prot_fromUniprot.fasta\", outfile=\"allOrg_CDS_prot_fromUniprot.aln\")"
   ]
  },
  {
   "cell_type": "code",
   "execution_count": 69,
   "id": "8416b5ce",
   "metadata": {},
   "outputs": [
    {
     "ename": "FileNotFoundError",
     "evalue": "[Errno 2] No such file or directory: 'allOrg_CDS_prot_fromUniprot_teste.aln'",
     "output_type": "error",
     "traceback": [
      "\u001b[1;31m---------------------------------------------------------------------------\u001b[0m",
      "\u001b[1;31mFileNotFoundError\u001b[0m                         Traceback (most recent call last)",
      "Input \u001b[1;32mIn [69]\u001b[0m, in \u001b[0;36m<cell line: 1>\u001b[1;34m()\u001b[0m\n\u001b[1;32m----> 1\u001b[0m align \u001b[38;5;241m=\u001b[39m \u001b[43mAlignIO\u001b[49m\u001b[38;5;241;43m.\u001b[39;49m\u001b[43mread\u001b[49m\u001b[43m(\u001b[49m\u001b[38;5;124;43m\"\u001b[39;49m\u001b[38;5;124;43mallOrg_CDS_prot_fromUniprot_teste.aln\u001b[39;49m\u001b[38;5;124;43m\"\u001b[39;49m\u001b[43m,\u001b[49m\u001b[43m \u001b[49m\u001b[38;5;124;43m\"\u001b[39;49m\u001b[38;5;124;43mclustal\u001b[39;49m\u001b[38;5;124;43m\"\u001b[39;49m\u001b[43m)\u001b[49m\n\u001b[0;32m      2\u001b[0m \u001b[38;5;28mprint\u001b[39m(\u001b[38;5;124m\"\u001b[39m\u001b[38;5;124mNúmero de linhas: \u001b[39m\u001b[38;5;132;01m%i\u001b[39;00m\u001b[38;5;124m\"\u001b[39m \u001b[38;5;241m%\u001b[39m \u001b[38;5;28mlen\u001b[39m(align)) \n\u001b[0;32m      3\u001b[0m \u001b[38;5;28mprint\u001b[39m(\u001b[38;5;28mformat\u001b[39m(align, \u001b[38;5;124m\"\u001b[39m\u001b[38;5;124mclustal\u001b[39m\u001b[38;5;124m\"\u001b[39m))\n",
      "File \u001b[1;32m~\\anaconda3\\lib\\site-packages\\Bio\\AlignIO\\__init__.py:390\u001b[0m, in \u001b[0;36mread\u001b[1;34m(handle, format, seq_count)\u001b[0m\n\u001b[0;32m    388\u001b[0m iterator \u001b[38;5;241m=\u001b[39m parse(handle, \u001b[38;5;28mformat\u001b[39m, seq_count)\n\u001b[0;32m    389\u001b[0m \u001b[38;5;28;01mtry\u001b[39;00m:\n\u001b[1;32m--> 390\u001b[0m     alignment \u001b[38;5;241m=\u001b[39m \u001b[38;5;28;43mnext\u001b[39;49m\u001b[43m(\u001b[49m\u001b[43miterator\u001b[49m\u001b[43m)\u001b[49m\n\u001b[0;32m    391\u001b[0m \u001b[38;5;28;01mexcept\u001b[39;00m \u001b[38;5;167;01mStopIteration\u001b[39;00m:\n\u001b[0;32m    392\u001b[0m     \u001b[38;5;28;01mraise\u001b[39;00m \u001b[38;5;167;01mValueError\u001b[39;00m(\u001b[38;5;124m\"\u001b[39m\u001b[38;5;124mNo records found in handle\u001b[39m\u001b[38;5;124m\"\u001b[39m) \u001b[38;5;28;01mfrom\u001b[39;00m \u001b[38;5;28mNone\u001b[39m\n",
      "File \u001b[1;32m~\\anaconda3\\lib\\site-packages\\Bio\\AlignIO\\__init__.py:329\u001b[0m, in \u001b[0;36mparse\u001b[1;34m(handle, format, seq_count)\u001b[0m\n\u001b[0;32m    326\u001b[0m \u001b[38;5;28;01mif\u001b[39;00m seq_count \u001b[38;5;129;01mis\u001b[39;00m \u001b[38;5;129;01mnot\u001b[39;00m \u001b[38;5;28;01mNone\u001b[39;00m \u001b[38;5;129;01mand\u001b[39;00m \u001b[38;5;129;01mnot\u001b[39;00m \u001b[38;5;28misinstance\u001b[39m(seq_count, \u001b[38;5;28mint\u001b[39m):\n\u001b[0;32m    327\u001b[0m     \u001b[38;5;28;01mraise\u001b[39;00m \u001b[38;5;167;01mTypeError\u001b[39;00m(\u001b[38;5;124m\"\u001b[39m\u001b[38;5;124mNeed integer for seq_count (sequences per alignment)\u001b[39m\u001b[38;5;124m\"\u001b[39m)\n\u001b[1;32m--> 329\u001b[0m \u001b[38;5;28;01mwith\u001b[39;00m as_handle(handle) \u001b[38;5;28;01mas\u001b[39;00m fp:\n\u001b[0;32m    330\u001b[0m     \u001b[38;5;66;03m# Map the file format to a sequence iterator:\u001b[39;00m\n\u001b[0;32m    331\u001b[0m     \u001b[38;5;28;01mif\u001b[39;00m \u001b[38;5;28mformat\u001b[39m \u001b[38;5;129;01min\u001b[39;00m _FormatToIterator:\n\u001b[0;32m    332\u001b[0m         iterator_generator \u001b[38;5;241m=\u001b[39m _FormatToIterator[\u001b[38;5;28mformat\u001b[39m]\n",
      "File \u001b[1;32m~\\anaconda3\\lib\\contextlib.py:119\u001b[0m, in \u001b[0;36m_GeneratorContextManager.__enter__\u001b[1;34m(self)\u001b[0m\n\u001b[0;32m    117\u001b[0m \u001b[38;5;28;01mdel\u001b[39;00m \u001b[38;5;28mself\u001b[39m\u001b[38;5;241m.\u001b[39margs, \u001b[38;5;28mself\u001b[39m\u001b[38;5;241m.\u001b[39mkwds, \u001b[38;5;28mself\u001b[39m\u001b[38;5;241m.\u001b[39mfunc\n\u001b[0;32m    118\u001b[0m \u001b[38;5;28;01mtry\u001b[39;00m:\n\u001b[1;32m--> 119\u001b[0m     \u001b[38;5;28;01mreturn\u001b[39;00m \u001b[38;5;28;43mnext\u001b[39;49m\u001b[43m(\u001b[49m\u001b[38;5;28;43mself\u001b[39;49m\u001b[38;5;241;43m.\u001b[39;49m\u001b[43mgen\u001b[49m\u001b[43m)\u001b[49m\n\u001b[0;32m    120\u001b[0m \u001b[38;5;28;01mexcept\u001b[39;00m \u001b[38;5;167;01mStopIteration\u001b[39;00m:\n\u001b[0;32m    121\u001b[0m     \u001b[38;5;28;01mraise\u001b[39;00m \u001b[38;5;167;01mRuntimeError\u001b[39;00m(\u001b[38;5;124m\"\u001b[39m\u001b[38;5;124mgenerator didn\u001b[39m\u001b[38;5;124m'\u001b[39m\u001b[38;5;124mt yield\u001b[39m\u001b[38;5;124m\"\u001b[39m) \u001b[38;5;28;01mfrom\u001b[39;00m \u001b[38;5;28mNone\u001b[39m\n",
      "File \u001b[1;32m~\\anaconda3\\lib\\site-packages\\Bio\\File.py:72\u001b[0m, in \u001b[0;36mas_handle\u001b[1;34m(handleish, mode, **kwargs)\u001b[0m\n\u001b[0;32m     30\u001b[0m \u001b[38;5;124mr\u001b[39m\u001b[38;5;124;03m\"\"\"Context manager to ensure we are using a handle.\u001b[39;00m\n\u001b[0;32m     31\u001b[0m \n\u001b[0;32m     32\u001b[0m \u001b[38;5;124;03mContext manager for arguments that can be passed to SeqIO and AlignIO read, write,\u001b[39;00m\n\u001b[1;32m   (...)\u001b[0m\n\u001b[0;32m     69\u001b[0m \n\u001b[0;32m     70\u001b[0m \u001b[38;5;124;03m\"\"\"\u001b[39;00m\n\u001b[0;32m     71\u001b[0m \u001b[38;5;28;01mtry\u001b[39;00m:\n\u001b[1;32m---> 72\u001b[0m     \u001b[38;5;28;01mwith\u001b[39;00m \u001b[38;5;28mopen\u001b[39m(handleish, mode, \u001b[38;5;241m*\u001b[39m\u001b[38;5;241m*\u001b[39mkwargs) \u001b[38;5;28;01mas\u001b[39;00m fp:\n\u001b[0;32m     73\u001b[0m         \u001b[38;5;28;01myield\u001b[39;00m fp\n\u001b[0;32m     74\u001b[0m \u001b[38;5;28;01mexcept\u001b[39;00m \u001b[38;5;167;01mTypeError\u001b[39;00m:\n",
      "\u001b[1;31mFileNotFoundError\u001b[0m: [Errno 2] No such file or directory: 'allOrg_CDS_prot_fromUniprot_teste.aln'"
     ]
    }
   ],
   "source": [
    "align = AlignIO.read(\"allOrg_CDS_prot_fromUniprot_teste.aln\", \"clustal\")\n",
    "print(\"Número de linhas: %i\" % len(align)) \n",
    "print(format(align, \"clustal\"))\n",
    "\n",
    "subs = align.substitutions\n",
    "# print(subs)"
   ]
  },
  {
   "cell_type": "code",
   "execution_count": 496,
   "id": "81f55192",
   "metadata": {},
   "outputs": [],
   "source": [
    "count = AlignIO.convert(\"allOrg_CDS_prot_fromUniprot.aln\", \"clustal\",\"allOrg_CDS_prot_fromUniprot.sth\", \"stockholm\")"
   ]
  },
  {
   "cell_type": "code",
   "execution_count": 497,
   "id": "2bf1d841",
   "metadata": {},
   "outputs": [],
   "source": [
    "alignment = AlignIO.read(\"allOrg_CDS_prot_fromUniprot.sth\", \"stockholm\")\n",
    "calculator = DistanceCalculator('blosum62')\n",
    "dm = calculator.get_distance(alignment)\n",
    "# print(dm)"
   ]
  },
  {
   "cell_type": "code",
   "execution_count": 498,
   "id": "36ff5671",
   "metadata": {},
   "outputs": [],
   "source": [
    "constructor = DistanceTreeConstructor() \n",
    "upgmatree = constructor.upgma(dm)\n",
    "# print(upgmatree)"
   ]
  },
  {
   "cell_type": "code",
   "execution_count": 499,
   "id": "97584052",
   "metadata": {},
   "outputs": [],
   "source": [
    "njtree = constructor.nj(dm)\n",
    "# print(njtree)"
   ]
  },
  {
   "cell_type": "code",
   "execution_count": 500,
   "id": "2d4e6dd0",
   "metadata": {},
   "outputs": [
    {
     "data": {
      "text/plain": [
       "2"
      ]
     },
     "execution_count": 500,
     "metadata": {},
     "output_type": "execute_result"
    }
   ],
   "source": [
    "Phylo.write([upgmatree, njtree],\"phylotree_IRS1.nhx\",\"newick\")"
   ]
  },
  {
   "cell_type": "code",
   "execution_count": 501,
   "id": "8f9e5a98",
   "metadata": {},
   "outputs": [
    {
     "name": "stdout",
     "output_type": "stream",
     "text": [
      "         _ sp|P35568.1|\n",
      "  ______|\n",
      " |      |_ sp|Q28224.1|\n",
      " |\n",
      "_|       _ sp|P35569.1|\n",
      " |______|\n",
      " |      |_ sp|P35570.1|\n",
      " |\n",
      " |_______________________________________________________________ sp|P84770.1|\n",
      "\n"
     ]
    }
   ],
   "source": [
    "Phylo.draw_ascii(njtree)"
   ]
  },
  {
   "cell_type": "code",
   "execution_count": 15,
   "id": "e9f7f512",
   "metadata": {},
   "outputs": [],
   "source": [
    "# Phylo.draw_ascii(upgmatree)"
   ]
  },
  {
   "cell_type": "code",
   "execution_count": 1,
   "id": "0f77501f",
   "metadata": {},
   "outputs": [],
   "source": [
    "# string link: https://string-db.org/cgi/network?taskId=bbOoq41xuF5p&sessionId=byBYhzUYg9Mw"
   ]
  }
 ],
 "metadata": {
  "kernelspec": {
   "display_name": "Python 3 (ipykernel)",
   "language": "python",
   "name": "python3"
  },
  "language_info": {
   "codemirror_mode": {
    "name": "ipython",
    "version": 3
   },
   "file_extension": ".py",
   "mimetype": "text/x-python",
   "name": "python",
   "nbconvert_exporter": "python",
   "pygments_lexer": "ipython3",
   "version": "3.9.12"
  }
 },
 "nbformat": 4,
 "nbformat_minor": 5
}
