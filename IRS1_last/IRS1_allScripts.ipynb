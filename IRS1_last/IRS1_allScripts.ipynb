{
 "cells": [
  {
   "cell_type": "markdown",
   "id": "a899206f",
   "metadata": {},
   "source": [
    "## Searching for IRS1 sequence"
   ]
  },
  {
   "cell_type": "code",
   "execution_count": 1,
   "id": "75864545",
   "metadata": {},
   "outputs": [],
   "source": [
    "from Bio import Entrez, SeqIO, Medline\n",
    "from Bio.Blast import NCBIXML \n",
    "from Bio.Blast import NCBIWWW\n",
    "from Bio.Align.Applications import ClustalwCommandline\n",
    "from Bio import AlignIO\n",
    "from Bio.Align import MultipleSeqAlignment\n",
    "from Bio import AlignIO\n",
    "from Bio.Phylo.TreeConstruction import DistanceCalculator, DistanceTreeConstructor\n",
    "from Bio import Phylo\n",
    "import requests, sys, json\n",
    "import re"
   ]
  },
  {
   "cell_type": "code",
   "execution_count": 16,
   "id": "84f9bbd6",
   "metadata": {},
   "outputs": [
    {
     "name": "stdout",
     "output_type": "stream",
     "text": [
      "Title: Effect of Codonopsis Radix and Polygonati Rhizoma on the regulation of the IRS1/PI3K/AKT signaling pathway in type 2 diabetic mice.\n",
      "Authors: ['Mao YP', 'Song YM', 'Pan SW', 'Li N', 'Wang WX', 'Feng BB', 'Zhang JH']\n",
      "Source: Front Endocrinol (Lausanne). 2022 Dec 14;13:1068555. doi: 10.3389/fendo.2022.1068555. eCollection 2022.\n",
      "\n",
      "Title: The identities of insulin signaling pathway are affected by overexpression of Tau and its phosphorylation form.\n",
      "Authors: ['Ma N', 'Liang Y', 'Yue L', 'Liu P', 'Xu Y', 'Zhu C']\n",
      "Source: Front Aging Neurosci. 2022 Dec 16;14:1057281. doi: 10.3389/fnagi.2022.1057281. eCollection 2022.\n",
      "\n",
      "Title: Insulin ameliorates dim blue light at night-induced apoptosis in hippocampal neurons via the IR/IRS1/AKT/GSK3beta/beta-catenin signaling pathway.\n",
      "Authors: ['Liu Q', 'Wang Z', 'Cao J', 'Dong Y', 'Chen Y']\n",
      "Source: Ecotoxicol Environ Saf. 2022 Dec 29;250:114488. doi: 10.1016/j.ecoenv.2022.114488.\n",
      "\n",
      "Title: Sodium oxamate reduces lactate production to improve the glucose homeostasis of Micropterus salmoides fed high-carbohydrate diets.\n",
      "Authors: ['Shen HC', 'Chen ZQ', 'Liu XC', 'Guan JF', 'Xie DZ', 'Li YY', 'Xu C']\n",
      "Source: Am J Physiol Regul Integr Comp Physiol. 2022 Dec 26. doi: 10.1152/ajpregu.00226.2022.\n",
      "\n",
      "Title: Long-Term Hyperglycemia Causes Depressive Behaviors in Mice with Hypoactive Glutamatergic Activity in the Medial Prefrontal Cortex, Which Is Not Reversed by Insulin Treatment.\n",
      "Authors: ['Baek JH', 'Son H', 'Kang JS', 'Yoo DY', 'Chung HJ', 'Lee DK', 'Kim HJ']\n",
      "Source: Cells. 2022 Dec 12;11(24):4012. doi: 10.3390/cells11244012.\n",
      "\n"
     ]
    }
   ],
   "source": [
    "#pubmed search\n",
    "database = 'PubMed'\n",
    "word = 'irs1 insulin'\n",
    "res= 15 \n",
    "email= \"karynalysenko@ua.pt\"\n",
    "\n",
    "Entrez.email= email\n",
    "handle=Entrez.esearch(db = database, term=word, retmax= res)\n",
    "record=Entrez.read(handle)\n",
    "handle.close()\n",
    "idlist= record['IdList']\n",
    "\n",
    "handle = Entrez.efetch(db=database, id=idlist, rettype=\"medline\", retmode=\"text\")\n",
    "records = list(Medline.parse(handle))\n",
    "\n",
    "\n",
    "for record in records[0:5]:\n",
    "    #print(record) \n",
    "    #print(\"PMID:\",record.get(\"PMID\",\"-\"))\n",
    "    print(\"Title:\", record.get(\"TI\", \"-\"))\n",
    "    #print('abstract:', record.get('AB', '-'))\n",
    "    print(\"Authors:\", record.get(\"AU\", \"-\"))\n",
    "    print(\"Source:\", record.get(\"SO\", \"-\"))\n",
    "    print(\"\")"
   ]
  },
  {
   "cell_type": "code",
   "execution_count": 219,
   "id": "2d249180",
   "metadata": {},
   "outputs": [
    {
     "name": "stdout",
     "output_type": "stream",
     "text": [
      "Title: Antigen-specific depletion of CD4+ T cells by CAR T cells reveals distinct roles of higher and lower affinity TCRs during autoimmunity.\n",
      "Authors: ['Yi J', 'Miller AT', 'Archambault AS', 'Jones AJ', 'Bradstreet TR', 'Bandla S', 'Hsu YS', 'Edelson BT', 'Zhou YW', 'Fremont DH', 'Egawa T', 'Singh N', 'Wu GF', 'Hsieh CS']\n",
      "Source: Sci Immunol. 2022 Oct 14;7(76):eabo0777. Epub 2022 Oct 07 doi:10.1126/sciimmunol.abo0777.\n",
      "\n",
      "Title: Circular RNA circGlis3 protects against islet β-cell dysfunction and apoptosis in obesity.\n",
      "Authors: ['Liu Y', 'Yang Y', 'Xu C', 'Liu J', 'Chen J', 'Li G', 'Huang B', 'Pan Y', 'Zhang Y', 'Wei Q', 'Pandol SJ', 'Zhang F', 'Li L', 'Jin L']\n",
      "Source: Nat Commun. 2023 Jan 21;14:. doi:10.1038/s41467-023-35998-z.\n",
      "\n",
      "Title: Obesity promotes radioresistance through SERPINE1-mediated aggressiveness and DNA repair of triple-negative breast cancer.\n",
      "Authors: ['Su YH', 'Wu YZ', 'Ann DK', 'Chen JLY', 'Kuo CY']\n",
      "Source: Cell Death Dis. 2023 Jan 21;14(1):. doi:10.1038/s41419-023-05576-8.\n",
      "\n",
      "Title: Drug Metabolism of Hepatocyte-like Organoids and Their Applicability in In Vitro Toxicity Testing.\n",
      "Authors: ['Bouwmeester MC', 'Tao Y', 'Proença S', 'van Steenbeek FG', 'Samsom RA', 'Nijmeijer SM', 'Sinnige T', 'van der Laan LJW', 'Legler J', 'Schneeberger K', 'Kramer NI', 'Spee B']\n",
      "Source: Molecules. 2023 Jan 07;28(2):. doi:10.3390/molecules28020621.\n",
      "\n",
      "Title: Advanced Glycation End-Products and Their Effects on Gut Health.\n",
      "Authors: ['Phuong-Nguyen K', 'McNeill BA', 'Aston-Mourney K', 'Rivera LR']\n",
      "Source: Nutrients. 2023 Jan 13;15(2):. doi:10.3390/nu15020405.\n",
      "\n",
      "Title: Emerging TACnology: Heterobifunctional Small Molecule Inducers of Targeted Posttranslational Protein Modifications.\n",
      "Authors: ['Heitel P']\n",
      "Source: Molecules. 2023 Jan 10;28(2):. doi:10.3390/molecules28020690.\n",
      "\n",
      "Title: Defining the Molecular Mechanisms of the Relaxant Action of Adiponectin on Murine Gastric Fundus Smooth Muscle: Potential Translational Perspectives on Eating Disorder Management.\n",
      "Authors: ['Garella R', 'Cassioli E', 'Chellini F', 'Tani A', 'Rossi E', 'Idrizaj E', 'Guasti D', 'Comeglio P', 'Palmieri F', 'Parigi M', 'Vignozzi L', 'Baccari MC', 'Ricca V', 'Sassoli C', 'Castellini G', 'Squecco R']\n",
      "Source: Int J Mol Sci. 2023 Jan 05;24(2):. doi:10.3390/ijms24021082.\n",
      "\n",
      "Title: Wound Healing Properties of Natural Products: Mechanisms of Action.\n",
      "Authors: ['Criollo-Mendoza MS', 'Contreras-Angulo LA', 'Leyva-López N', 'Gutiérrez-Grijalva EP', 'Jiménez-Ortega LA', 'Heredia JB']\n",
      "Source: Molecules. 2023 Jan 06;28(2):. doi:10.3390/molecules28020598.\n",
      "\n",
      "Title: Application of Marine Natural Products against Alzheimer’s Disease: Past, Present and Future.\n",
      "Authors: ['Hu D', 'Jin Y', 'Hou X', 'Zhu Y', 'Chen D', 'Tai J', 'Chen Q', 'Shi C', 'Ye J', 'Wu M', 'Zhang H', 'Lu Y']\n",
      "Source: Mar Drugs. 2023 Jan 05;21(1):. doi:10.3390/md21010043.\n",
      "\n",
      "Title: Type 1 Diabetes Mellitus: A Review on Advances and Challenges in Creating Insulin Producing Devices.\n",
      "Authors: ['Rodrigues Oliveira SM', 'Rebocho A', 'Ahmadpour E', 'Nissapatorn V', 'de Lourdes Pereira M']\n",
      "Source: Micromachines (Basel). 2023 Jan 06;14(1):. doi:10.3390/mi14010151.\n",
      "\n",
      "Title: Protective Effect of Vegan Microbiota on Liver Steatosis Is Conveyed by Dietary Fiber: Implications for Fecal Microbiota Transfer Therapy.\n",
      "Authors: ['Daskova N', 'Heczkova M', 'Modos I', 'Hradecky J', 'Hudcovic T', 'Kuzma M', 'Pelantova H', 'Buskova I', 'Sticova E', 'Funda D', 'Golias J', 'Drabonova B', 'Jarkovska J', 'Kralova M', 'Cibulkova I', 'Gojda J', 'Cahova M']\n",
      "Source: Nutrients. 2023 Jan 15;15(2):. doi:10.3390/nu15020454.\n",
      "\n",
      "Title: Current Therapy and Liver Transplantation for Portopulmonary Hypertension in Japan.\n",
      "Authors: ['Tokushige K', 'Kogiso T', 'Egawa H']\n",
      "Source: J Clin Med. 2023 Jan 10;12(2):. doi:10.3390/jcm12020562.\n",
      "\n",
      "Title: MicroRNAs in Ruminants and Their Potential Role in Nutrition and Physiology.\n",
      "Authors: ['Ojo OE', 'Kreuzer-Redmer S']\n",
      "Source: Vet Sci. 2023 Jan 14;10(1):. doi:10.3390/vetsci10010057.\n",
      "\n",
      "Title: Natural Products as Outstanding Alternatives in Diabetes Mellitus: A Patent Review.\n",
      "Authors: ['Rodríguez IA', 'Serafini M', 'Alves IA', 'Lang KL', 'Silva FRMB', 'Aragón DM']\n",
      "Source: Pharmaceutics. 2022 Dec 27;15(1):. doi:10.3390/pharmaceutics15010085.\n",
      "\n",
      "Title: Recombinant Human Prolidase (rhPEPD) Induces Wound Healing in Experimental Model of Inflammation through Activation of EGFR Signalling in Fibroblasts.\n",
      "Authors: ['Baszanowska W', 'Niziol M', 'Oscilowska I', 'Czyrko-Horczak J', 'Miltyk W', 'Palka J']\n",
      "Source: Molecules. 2023 Jan 14;28(2):. doi:10.3390/molecules28020851.\n",
      "\n",
      "Title: Naringin and Naringenin Polyphenols in Neurological Diseases: Understandings from a Therapeutic Viewpoint.\n",
      "Authors: ['Emran TB', 'Islam F', 'Nath N', 'Sutradhar H', 'Das R', 'Mitra S', 'Alshahrani MM', 'Alhasaniah AH', 'Sharma R']\n",
      "Source: Life (Basel). 2022 Dec 29;13(1):. doi:10.3390/life13010099.\n",
      "\n",
      "Title: Combined Gamma Conglutin and Lupanine Treatment Exhibits In Vivo an Enhanced Antidiabetic Effect by Modulating the Liver Gene Expression Profile.\n",
      "Authors: ['Guerra-Ávila PL', 'Guzmán TJ', 'Domínguez-Rosales JA', 'García-López PM', 'Cervantes-Garduño AB', 'Wink M', 'Gurrola-Díaz CM']\n",
      "Source: Pharmaceuticals (Basel). 2023 Jan 13;16(1):. doi:10.3390/ph16010117.\n",
      "\n",
      "Title: FABP4 Controls Fat Mass Expandability (Adipocyte Size and Number) through Inhibition of CD36/SR-B2 Signalling.\n",
      "Authors: ['Berger E', 'Géloën A']\n",
      "Source: Int J Mol Sci. 2023 Jan 05;24(2):. doi:10.3390/ijms24021032.\n",
      "\n",
      "Title: Pharmacological and Molecular Insight on the Cardioprotective Role of Apigenin.\n",
      "Authors: ['Thomas SD', 'Jha NK', 'Jha SK', 'Sadek B', 'Ojha S']\n",
      "Source: Nutrients. 2023 Jan 12;15(2):. doi:10.3390/nu15020385.\n",
      "\n",
      "Title: MAFLD and Celiac Disease in Children.\n",
      "Authors: ['Scapaticci S', 'Venanzi A', 'Chiarelli F', 'Giannini C']\n",
      "Source: Int J Mol Sci. 2023 Jan 16;24(2):. doi:10.3390/ijms24021764.\n",
      "\n"
     ]
    }
   ],
   "source": [
    "#pubmed search\n",
    "database = 'PMC'\n",
    "word = 'insulin signaling homo sapiens'\n",
    "res= 20 \n",
    "email= \"karynalysenko@ua.pt\"\n",
    "\n",
    "Entrez.email= email\n",
    "handle=Entrez.esearch(db = database, term=word, retmax= res)\n",
    "record=Entrez.read(handle)\n",
    "handle.close()\n",
    "idlist= record['IdList']\n",
    "\n",
    "handle = Entrez.efetch(db=database, id=idlist, rettype=\"medline\", retmode=\"text\")\n",
    "records = list(Medline.parse(handle))\n",
    "\n",
    "\n",
    "for record in records:\n",
    "    #print(record) \n",
    "    #print(\"PMID:\",record.get(\"PMID\",\"-\"))\n",
    "    print(\"Title:\", record.get(\"TI\", \"-\"))\n",
    "    #print('abstract:', record.get('AB', '-'))\n",
    "    print(\"Authors:\", record.get(\"AU\", \"-\"))\n",
    "    print(\"Source:\", record.get(\"SO\", \"-\"))\n",
    "    print(\"\")"
   ]
  },
  {
   "cell_type": "code",
   "execution_count": 23,
   "id": "cc897b6b",
   "metadata": {
    "scrolled": true
   },
   "outputs": [
    {
     "name": "stdout",
     "output_type": "stream",
     "text": [
      "NM_005544.3 - Homo sapiens insulin receptor substrate 1 (IRS1), mRNA\n",
      "NM_001100818.2 - Homo sapiens phosphotyrosine interaction domain containing 1 (PID1), transcript variant 2, mRNA\n",
      "NM_001330158.2 - Homo sapiens phosphotyrosine interaction domain containing 1 (PID1), transcript variant 5, mRNA\n",
      "NM_001330157.2 - Homo sapiens phosphotyrosine interaction domain containing 1 (PID1), transcript variant 4, mRNA\n",
      "NM_017933.5 - Homo sapiens phosphotyrosine interaction domain containing 1 (PID1), transcript variant 1, mRNA\n",
      "NM_001330156.1 - Homo sapiens phosphotyrosine interaction domain containing 1 (PID1), transcript variant 3, mRNA\n",
      "NG_015830.1 - Homo sapiens insulin receptor substrate 1 (IRS1), RefSeqGene on chromosome 2\n",
      "CM000253.1 - Homo sapiens chromosome 2, whole genome shotgun sequence\n",
      "CH471063.1 - Homo sapiens 211000035834619 genomic scaffold, whole genome shotgun sequence\n"
     ]
    }
   ],
   "source": [
    "#ncbi search to find the sequence of IRS1\n",
    "database = 'nucleotide'\n",
    "word = 'irs1 and homo sapiens and Chromosome 2 and not predicted and not unverified '\n",
    "res= '15'\n",
    "email= 'karyanlysenko@ua.pt'\n",
    "Entrez.email= email\n",
    "handle_search=Entrez.esearch(db = database, term=word, retmax= res)\n",
    "record=Entrez.read(handle_search)\n",
    "handle_search.close()\n",
    "idlist= record['IdList']\n",
    "handle = Entrez.efetch(db=database, id=idlist, rettype=\"gb\") \n",
    "records = list(SeqIO.parse(handle,\"gb\"))\n",
    "handle.close()\n",
    "for info in records:\n",
    "    print(info.id, '-', info.description)\n",
    "    #print('length of seq:', len(info.seq)) #to check the length of the sequences"
   ]
  },
  {
   "cell_type": "markdown",
   "id": "4caa0e74",
   "metadata": {},
   "source": [
    "The selection of the id has to be done manually as there is no pattern in writing the titles of the queries.\\\n",
    "The id __NG_015830.1__ is the only one where the annotated sequence is not a whole genome of the chromossome, is not a mRNA and actually is RefSeq. This means that the sequence is being used as a standard for well-characterized genes. So id __NG_015830.1__ will be used from now on."
   ]
  },
  {
   "cell_type": "code",
   "execution_count": 7,
   "id": "d80ac53c",
   "metadata": {},
   "outputs": [],
   "source": [
    "#The correspondent information of NG_015830.1 was downloaded to a file\n",
    "import os\n",
    "Entrez.email = \"karynalysenko@ua.pt\"\n",
    "filename = \"NG_015830_1.gb\"\n",
    "if not os.path.isfile(filename):\n",
    "    net_handle = Entrez.efetch(db=\"nucleotide\", id=\"NG_015830.1\", rettype=\"gb\", retmode=\"text\")\n",
    "    out_handle = open(filename, \"w\")\n",
    "    out_handle.write(net_handle.read())\n",
    "    out_handle.close()\n",
    "    net_handle.close()"
   ]
  },
  {
   "cell_type": "code",
   "execution_count": 25,
   "id": "aedeb39d",
   "metadata": {},
   "outputs": [
    {
     "name": "stdout",
     "output_type": "stream",
     "text": [
      "The length of the sequence: 74474\n",
      "\n",
      "Type of features: {'source': 1, 'gene': 2, 'mRNA': 2, 'exon': 2, 'CDS': 1, 'misc_feature': 46}\n",
      "\n",
      "Comment from NCBI: REVIEWED REFSEQ: This record has been curated by NCBI staff. The\n",
      "reference sequence was derived from AC010735.11.\n",
      "This sequence is a reference standard in the RefSeqGene project.\n",
      "Summary: This gene encodes a protein which is phosphorylated by\n",
      "insulin receptor tyrosine kinase. Mutations in this gene are\n",
      "associated with type II diabetes and susceptibility to insulin\n",
      "resistance. [provided by RefSeq, Nov 2009].\n",
      "\n",
      "Location of the CDS on the original sequence: [5052:8781](+)\n"
     ]
    }
   ],
   "source": [
    "record = SeqIO.read(open(\"NG_015830_1.gb\"), format=\"genbank\")\n",
    "position=0\n",
    "record_types={}\n",
    "for x in record.features:\n",
    "    record_types[x.type]=record_types.get(x.type,0)+1\n",
    "for i in range(len(record.features)):\n",
    "    if record.features[i].type == \"CDS\":\n",
    "        position=i\n",
    "print(\"The length of the sequence: {}\\n\".format(len(record.seq)))\n",
    "print(\"Type of features: {}\\n\".format(record_types))\n",
    "print(\"Comment from NCBI: {}\\n\".format(record.annotations[\"comment\"]))\n",
    "#checking the location of the CDS on the original sequence\n",
    "print(\"Location of the CDS on the original sequence: {}\".format(record.features[position].location))"
   ]
  },
  {
   "cell_type": "code",
   "execution_count": 34,
   "id": "0d3ee7d4",
   "metadata": {},
   "outputs": [],
   "source": [
    "CDS_nuc_seq_location=record.seq[int(record.features[position].location.start):int(record.features[position].location.end)]"
   ]
  },
  {
   "cell_type": "code",
   "execution_count": 33,
   "id": "da3f3af2",
   "metadata": {},
   "outputs": [],
   "source": [
    "#saving the CDS_nucleotides and CD_aminoacid seqs in files\n",
    "filename = \"NG_015830_1.gb\"\n",
    "filename_CDS_nucl = \"CDS_nucleot_seq-test.fasta\"\n",
    "filename_CDS_prot = \"CDS_prot_seq.fasta\"\n",
    "input_handle  = open(filename, \"r\")\n",
    "output_handle_nucl = open(filename_CDS_nucl, \"w\")\n",
    "output_handle_prot = open(filename_CDS_prot, \"w\")\n",
    "for seq_record in SeqIO.parse(input_handle, \"genbank\"):\n",
    "    output_handle_nucl.write(\">\\n%s\" % (CDS_nuc_seq_location))\n",
    "    output_handle_prot.write(\">\\n%s\" % (\"\".join(record.features[position].qualifiers['translation']))) #without join, output is a list\n",
    "    \n",
    "output_handle_nucl.close()\n",
    "output_handle_prot.close()\n",
    "input_handle.close()"
   ]
  },
  {
   "cell_type": "markdown",
   "id": "58e42387",
   "metadata": {},
   "source": [
    "## BLASTN - for all organisms"
   ]
  },
  {
   "cell_type": "code",
   "execution_count": 4,
   "id": "698804b4",
   "metadata": {},
   "outputs": [
    {
     "name": "stdout",
     "output_type": "stream",
     "text": [
      "3729\n"
     ]
    }
   ],
   "source": [
    "record_blastn = SeqIO.read(open(\"CDS_nucleot_seq.fasta\"), format=\"fasta\") \n",
    "print(len(record_blastn.seq))"
   ]
  },
  {
   "cell_type": "code",
   "execution_count": 41,
   "id": "2b947b75",
   "metadata": {},
   "outputs": [],
   "source": [
    "Blastn = NCBIWWW.qblast(\"blastn\", \"nt\", record_blastn.seq) #not filtered for Homo sapiens\n",
    "with open('blastn_CDS_nucleot_seq.xml', \"w\") as out_handle:\n",
    "        out_handle.write(Blastn.read())\n",
    "Blastn.close()"
   ]
  },
  {
   "cell_type": "code",
   "execution_count": 46,
   "id": "8c97eefc",
   "metadata": {},
   "outputs": [
    {
     "name": "stdout",
     "output_type": "stream",
     "text": [
      "Number of alignments: 50\n",
      "\n",
      "Accession:  XM_047444224\n",
      "Definition:  PREDICTED: Homo sapiens insulin receptor substrate 1 (IRS1), transcript variant X2, mRNA\n",
      "E-value:  0.0\n",
      "\n",
      "Accession:  XM_047444223\n",
      "Definition:  PREDICTED: Homo sapiens insulin receptor substrate 1 (IRS1), transcript variant X1, mRNA\n",
      "E-value:  0.0\n",
      "\n",
      "Accession:  NM_005544\n",
      "Definition:  Homo sapiens insulin receptor substrate 1 (IRS1), mRNA\n",
      "E-value:  0.0\n",
      "\n",
      "Accession:  NG_015830\n",
      "Definition:  Homo sapiens insulin receptor substrate 1 (IRS1), RefSeqGene on chromosome 2\n",
      "E-value:  0.0\n",
      "\n",
      "Accession:  AC010735\n",
      "Definition:  Homo sapiens BAC clone RP11-395N3 from 2, complete sequence\n",
      "E-value:  0.0\n"
     ]
    }
   ],
   "source": [
    "results_Blastn = open(\"blastn_CDS_nucleot_seq.xml\")\n",
    "blastn_records = NCBIXML.read(results_Blastn)\n",
    "for parameter in blastn_records.alignments[0:5]:\n",
    "    print()\n",
    "    print('Accession: ', parameter.accession)\n",
    "    print('Definition: ', parameter.hit_def)    \n",
    "    for e_v in parameter.hsps:\n",
    "        print('E-value: ', e_v.expect)"
   ]
  },
  {
   "cell_type": "code",
   "execution_count": 49,
   "id": "2bfbc986",
   "metadata": {},
   "outputs": [
    {
     "name": "stdout",
     "output_type": "stream",
     "text": [
      "['NM_005544', 'NG_015830', 'AC010735', 'S62539', 'BC053895', 'LT743046', 'KJ891488', 'AB384351', 'EU831611', 'EU831698', 'S85963', 'U43502']\n",
      "Total 38 PREDICTED seqs found and remaining 8 ids are from Homo sapiens\n"
     ]
    }
   ],
   "source": [
    "#filtering the \"predicted\" alignments\n",
    "results_Blastn= open('blastn_CDS_nucleot_seq.xml')\n",
    "blastn_records = NCBIXML.read(results_Blastn)\n",
    "E_VALUE_THRESH = 0.001\n",
    "count_preditc, count_homo=0,0\n",
    "list_filtered_alignments=[]\n",
    "for alignment in  blastn_records.alignments:\n",
    "    for hsp in alignment.hsps:\n",
    "        if hsp.expect < E_VALUE_THRESH:\n",
    "            exist = re.search(r'PREDICTED:\\s', alignment.title)\n",
    "            if exist:\n",
    "                # print( existe[0] )\n",
    "                pre = re.match(r'PREDICTED:\\s', exist[0] )\n",
    "                if pre:\n",
    "                    count_preditc+=1\n",
    "                    #print(id)\n",
    "            else:\n",
    "                list_filtered_alignments.append(alignment.accession)\n",
    "                homo=re.search(r'Homo\\ssapiens',alignment.title)\n",
    "                if homo:\n",
    "                    count_homo+=1\n",
    "print(list_filtered_alignments)\n",
    "print('Total {} PREDICTED seqs found and remaining {} ids are from Homo sapiens'.format(count_preditc, count_homo))\n",
    "#counting of Homo sapiens it's not conclusive, just to have an ideia, because the titles don't follow any pattern"
   ]
  },
  {
   "cell_type": "code",
   "execution_count": null,
   "id": "d3dda171",
   "metadata": {},
   "outputs": [],
   "source": [
    "with open('CDS_nucleotide_result_blast.txt', 'w') as f:\n",
    "    for line in list_filtered_alignments:\n",
    "        f.write(f\"{line}\\n\")"
   ]
  },
  {
   "cell_type": "markdown",
   "id": "bfb3690a",
   "metadata": {},
   "source": [
    "## BLASTP"
   ]
  },
  {
   "cell_type": "code",
   "execution_count": 14,
   "id": "8c8008be",
   "metadata": {},
   "outputs": [
    {
     "name": "stdout",
     "output_type": "stream",
     "text": [
      "1242\n"
     ]
    }
   ],
   "source": [
    "record_blastp = SeqIO.read(open(\"CDS_prot_seq.fasta\"), format=\"fasta\") \n",
    "print(len(record_blastp.seq))"
   ]
  },
  {
   "cell_type": "code",
   "execution_count": 15,
   "id": "74737a75",
   "metadata": {},
   "outputs": [],
   "source": [
    "Blastp = NCBIWWW.qblast(\"blastp\", \"swissprot\", record_blastp.seq) #not filtered for Homo sapiens\n",
    "with open('blastp_CDS_prot_seq.xml', \"w\") as out_handle:\n",
    "        out_handle.write(Blastp.read())\n",
    "Blastp.close()"
   ]
  },
  {
   "cell_type": "code",
   "execution_count": 61,
   "id": "dc1babf5",
   "metadata": {},
   "outputs": [
    {
     "name": "stdout",
     "output_type": "stream",
     "text": [
      "\n",
      "Accession:  P35568\n",
      "Definition:  RecName: Full=Insulin receptor substrate 1; Short=IRS-1 [Homo sapiens]\n",
      "E-value:  0.0\n",
      "\n",
      "Accession:  Q28224\n",
      "Definition:  RecName: Full=Insulin receptor substrate 1; Short=IRS-1 [Chlorocebus aethiops]\n",
      "E-value:  0.0\n",
      "\n",
      "Accession:  P35570\n",
      "Definition:  RecName: Full=Insulin receptor substrate 1; Short=IRS-1; AltName: Full=pp185 [Rattus norvegicus]\n",
      "E-value:  0.0\n",
      "\n",
      "Accession:  P35569\n",
      "Definition:  RecName: Full=Insulin receptor substrate 1; Short=IRS-1 [Mus musculus]\n",
      "E-value:  0.0\n",
      "\n",
      "Accession:  P84770\n",
      "Definition:  RecName: Full=Insulin receptor substrate 1-B; Short=IRS1-B; Short=xIRS-1-B; AltName: Full=XIRS-L' [Xenopus laevis]\n",
      "E-value:  0.0\n"
     ]
    }
   ],
   "source": [
    "results_Blastp = open(\"blastp_CDS_prot_seq.xml\")\n",
    "blastp_records = NCBIXML.read(results_Blastp)\n",
    "for parameter in blastp_records.alignments[0:5]:\n",
    "    print()\n",
    "    print('Accession: ', parameter.accession)\n",
    "    print('Definition: ', parameter.hit_def)    \n",
    "    for e_v in parameter.hsps:\n",
    "        print('E-value: ', e_v.expect)"
   ]
  },
  {
   "cell_type": "code",
   "execution_count": 3,
   "id": "20ecd302",
   "metadata": {},
   "outputs": [
    {
     "name": "stdout",
     "output_type": "stream",
     "text": [
      "number of times: 1 that appeared specie: [Bos taurus]\n",
      "number of times: 1 that appeared specie: [Chlorocebus aethiops]\n",
      "number of times: 1 that appeared specie: [Drosophila ananassae]\n",
      "number of times: 1 that appeared specie: [Drosophila erecta]\n",
      "number of times: 1 that appeared specie: [Drosophila melanogaster]\n",
      "number of times: 1 that appeared specie: [Drosophila sechellia]\n",
      "number of times: 1 that appeared specie: [Drosophila yakuba]\n",
      "number of times: 9 that appeared specie: [Homo sapiens]\n",
      "number of times: 1 that appeared specie: [Mesocricetus auratus]\n",
      "number of times: 6 that appeared specie: [Mus musculus]\n",
      "number of times: 2 that appeared specie: [Rattus norvegicus]\n",
      "number of times: 4 that appeared specie: [Xenopus laevis]\n",
      "number of times: 2 that appeared specie: [Xenopus tropicalis]\n",
      "{'B4NZ70', 'Q9Z0Y7', 'P35570', 'Q9XTN2', 'Q9Y4H2', 'Q5RJW5', 'Q99PF6', 'P35569', 'P81122', 'Q91615', 'B3MPN6', 'Q6P4Y6', 'P84770', 'B4HWI2', 'Q99KE3', 'A6QLU3', 'Q9DF49', 'Q9Z1S8', 'O14654', 'Q8WWW8', 'Q13480', 'P35568', 'B3N946', 'Q28224', 'Q9EQH1', 'Q9UQC2', 'Q8TEW6', 'Q2WGN9', 'Q9QYY0'}\n"
     ]
    }
   ],
   "source": [
    "#this part was adapted below\n",
    "results_Blastp= open('blastp_CDS_prot_seq.xml')\n",
    "blastp_records = NCBIXML.read(results_Blastp)\n",
    "E_VALUE_THRESH = 0.001\n",
    "list_filtered_alignments,list_species=[],[]\n",
    "for alignment in  blastp_records.alignments:\n",
    "    for hsp in alignment.hsps:\n",
    "#         print(hsp.identities)    # maybe add more \n",
    "        if hsp.expect < E_VALUE_THRESH:\n",
    "            list_filtered_alignments.append(alignment.accession)\n",
    "            title_organism=re.search(r'\\[.+\\s.+\\]', alignment.title)\n",
    "            if title_organism:\n",
    "                m = re.match(r'\\[.+\\s.+\\]', title_organism[0] )\n",
    "                specie = m.group(0)\n",
    "                #print(specie)\n",
    "                list_species.append(specie)\n",
    "for x in sorted(set(list_species)):\n",
    "    print(\"number of times: {} that appeared specie: {}\".format(list_species.count(x),x))\n",
    "\n",
    "print(set(list_filtered_alignments))\n",
    "#print(len(list_filtered_alignments))"
   ]
  },
  {
   "cell_type": "code",
   "execution_count": 432,
   "id": "5bc3970d",
   "metadata": {},
   "outputs": [
    {
     "name": "stdout",
     "output_type": "stream",
     "text": [
      "1242\n"
     ]
    }
   ],
   "source": [
    "#has to be apart because of NCBIXML.read() and not parse\n",
    "results_Blastp= open('blastp_CDS_prot_seq.xml')\n",
    "blastp_records_r = NCBIXML.read(results_Blastp)\n",
    "first=blastp_records_r.alignments[0]\n",
    "len_max_seq=first.hsps[0].align_length\n",
    "print(len_max_seq)"
   ]
  },
  {
   "cell_type": "code",
   "execution_count": 14,
   "id": "2a5ecceb",
   "metadata": {},
   "outputs": [],
   "source": [
    "#função não aplicável por causa do resto do código, que está construído para listas (coverage e identity)\n",
    "# def read_xml(filename):\n",
    "#     results_Blastp= open(filename)\n",
    "#     blastp_records = NCBIXML.parse(results_Blastp)\n",
    "#     alltog=[]\n",
    "\n",
    "#     for alignment in  blastp_records:\n",
    "#         for a in alignment.alignments:\n",
    "#             for b in a.hsps:\n",
    "#                 list_accession,list_identities,list_coverage_start, list_coverage_stop,list_alignLen=[],[],[],[],[]\n",
    "#                 list_accession.append(a.accession)\n",
    "#                 list_coverage_start.append(b.sbjct_start)\n",
    "#                 list_coverage_stop.append(b.sbjct_end)\n",
    "#                 list_identities.append(b.identities)\n",
    "#                 list_alignLen.append(b.align_length)\n",
    "#             alltog.append(list_accession+list_coverage_start+list_coverage_start+list_coverage_stop+list_identities+list_alignLen)\n",
    "#     return alltog \n",
    "# print(read_xml('blastp_CDS_prot_seq.xml')[0][0])"
   ]
  },
  {
   "cell_type": "code",
   "execution_count": 433,
   "id": "8f964def",
   "metadata": {},
   "outputs": [],
   "source": [
    "results_Blastp= open('blastp_CDS_prot_seq.xml')\n",
    "blastp_records = NCBIXML.parse(results_Blastp)\n",
    "list_accession,list_identities,list_coverage_start, list_coverage_stop,list_alignLen=[],[],[],[],[]\n",
    "list_organism=[]\n",
    "E_VALUE_THRESH = 0.001\n",
    "for alignment in  blastp_records:\n",
    "    for a in alignment.alignments:\n",
    "        for b in a.hsps:\n",
    "            if b.expect < E_VALUE_THRESH:\n",
    "                title_organism=re.search(r'\\[.+\\s.+\\]', a.title)\n",
    "                if title_organism:\n",
    "                    m = re.match(r'\\[(.+\\s.+)\\]', title_organism[0] )\n",
    "                    list_accession.append(a.accession)\n",
    "                    list_coverage_start.append(b.sbjct_start)\n",
    "                    list_coverage_stop.append(b.sbjct_end)\n",
    "                    list_identities.append(b.identities)\n",
    "                    list_alignLen.append(b.align_length)\n",
    "                    list_organism.append(m.group(1))\n",
    "            #print(a.accession, b.align_length, b.identities, b.expect, b.sbjct_start, b.sbjct_end)\n",
    "            \n",
    "#calculation of %identity                        \n",
    "def identity(list_i, list_a):\n",
    "    perc_list_identities=[]\n",
    "    for index in range(len(list_i)):\n",
    "        perc_list_identities.append(round(list_i[index]*100/list_a[index]))\n",
    "    return perc_list_identities\n",
    "\n",
    "#calculation of the %coverage - for all hsps of all accessions\n",
    "def coverage(list_end,list_start):\n",
    "    perc_list_coverage=[]\n",
    "    for index in range(len(list_identities)):\n",
    "        perc_list_coverage.append(round((1+list_end[index]-list_start[index])/len_max_seq*100))\n",
    "    return perc_list_coverage\n",
    "\n",
    "#selecting the max coverage and max identity per hsps/accession\n",
    "def max_values_by_id(ids, covs, idents): \n",
    "    unique_ids = []\n",
    "    max_coverage = []\n",
    "    max_identity = []\n",
    "    for id, cov, ident in zip(ids, covs,idents):\n",
    "        if id in unique_ids:\n",
    "            idx = unique_ids.index(id)\n",
    "            max_coverage[idx] = max(max_coverage[idx], cov)\n",
    "            max_identity[idx] = max(max_identity[idx], ident)\n",
    "        else:\n",
    "            unique_ids.append(id)\n",
    "            max_coverage.append(cov)\n",
    "            max_identity.append(ident)\n",
    "    return unique_ids, max_coverage, max_identity\n",
    "\n",
    "beta_max=max_values_by_id(list_accession, coverage(list_coverage_stop, list_coverage_start),identity(list_identities,list_alignLen))\n"
   ]
  },
  {
   "cell_type": "code",
   "execution_count": 435,
   "id": "548780c7",
   "metadata": {
    "scrolled": true
   },
   "outputs": [
    {
     "name": "stdout",
     "output_type": "stream",
     "text": [
      "___Thresholds___\n",
      "coverage: 50%   |\n",
      "identity: 50%   |\n",
      "e-value: 0.001% |\n",
      "\n",
      "   ID     %coverage  %identity       Organism\n",
      "|P35568|      100       100         Homo sapiens\n",
      "|Q28224|      101*       97    Chlorocebus aethiops\n",
      "|P35570|       99        89    Rattus norvegicus\n",
      "|P35569|       99        88         Mus musculus\n",
      "|P84770|       87        58       Xenopus laevis\n",
      "|Q91615|       71        55       Xenopus laevis\n",
      "\n",
      "* means that the subject sequence is longer than the query sequence\n"
     ]
    }
   ],
   "source": [
    "thresold_coverage=50\n",
    "thresold_identity=50\n",
    "print('___Thresholds___')\n",
    "print('coverage: {}%   |'.format(thresold_coverage))\n",
    "print('identity: {}%   |'.format(thresold_identity))\n",
    "print('e-value: {}% |\\n'.format(E_VALUE_THRESH))\n",
    "print('{:>5}{:>14}{:>11}{:>15}'.format('ID','%coverage','%identity', 'Organism'))\n",
    "count=0\n",
    "filtragem= []\n",
    "for id, cov, ident, specie in zip(beta_max[0], beta_max[1], beta_max[2], list_organism):\n",
    "    if int(cov)>thresold_coverage and ident>thresold_identity:\n",
    "        if int(cov)>100:\n",
    "            print('|{:>5}|{:>9}*{:>9}{:>24}'.format(id, cov, ident, specie))\n",
    "            count+=1\n",
    "        else:\n",
    "            print('|{:>5}|{:>9}{:>10}{:>21}'.format(id, cov, ident, specie))\n",
    "        filtragem.append(f\"{id} {specie}\")\n",
    "  \n",
    "if count>0:\n",
    "    print('\\n* means that the subject sequence is longer than the query sequence')"
   ]
  },
  {
   "cell_type": "code",
   "execution_count": 444,
   "id": "5ec7f027",
   "metadata": {},
   "outputs": [],
   "source": [
    "#saving previous list but filtered, without repeting same organisms\n",
    "lista_sem_repetidos= []\n",
    "seen = set()\n",
    "for x in filtragem:\n",
    "    parts = x.split()\n",
    "    organi = parts[1] + ' ' + parts[2]\n",
    "    if organi in seen:\n",
    "        filtragem.remove(x)\n",
    "    else:\n",
    "        seen.add(organi)\n",
    "        lista_sem_repetidos.append(x)      \n",
    "# print(lista_sem_repetidos)\n",
    "\n",
    "lista_ids = []\n",
    "with open('CDS_protein_result_blastp.txt', 'w') as f:\n",
    "    for x in lista_sem_repetidos:\n",
    "        IDS = x.split()\n",
    "        lista_ids.append(IDS[0])\n",
    "        f.write(f\"{IDS[0]}\\n\")\n",
    "# print(lista_ids)"
   ]
  },
  {
   "cell_type": "markdown",
   "id": "985579d0",
   "metadata": {},
   "source": [
    "The output of Blastp gave more hits. So the list of ids of the last script will be saved and used on Uniprot search."
   ]
  },
  {
   "cell_type": "markdown",
   "id": "a3282855",
   "metadata": {},
   "source": [
    "## Uniprot search of Blastp results"
   ]
  },
  {
   "cell_type": "code",
   "execution_count": 437,
   "id": "1a307228",
   "metadata": {},
   "outputs": [],
   "source": [
    "def get_url(url, **kwargs):\n",
    "    response = requests.get(url, **kwargs);\n",
    "    if not response.ok:\n",
    "        print(response.text)\n",
    "        response.raise_for_status()\n",
    "        sys.exit()\n",
    "    return response"
   ]
  },
  {
   "cell_type": "code",
   "execution_count": 438,
   "id": "6ecedc15",
   "metadata": {},
   "outputs": [],
   "source": [
    "#saving sequences from Uniprot\n",
    "results_Blastp= open('blastp_CDS_prot_seq.xml')\n",
    "blastp_records = NCBIXML.read(results_Blastp)\n",
    "titles_list=[]\n",
    "for alignment in  blastp_records.alignments:   \n",
    "    titles_list.append(alignment.title)\n",
    "\n",
    "file= open(\"CDS_protein_result_blastp.txt\", \"r\")\n",
    "fields=\"sequence\"\n",
    "WEBSITE_API=\"https://rest.uniprot.org\"\n",
    "seqs=[]\n",
    "\n",
    "for i in file:\n",
    "    r=get_url(\"{}/uniprotkb/search?query={} AND (reviewed:true)&fields={}&size=1&format=tsv\".format(WEBSITE_API,i, fields))\n",
    "    seqs.append(str(r.content))\n",
    "\n",
    "with open('allOrg_CDS_prot_fromUniprot.fasta', 'w') as f:\n",
    "    for index, seq in enumerate(seqs):\n",
    "        existe = re.search(r'b\\'Sequence\\\\n(.+?(?=\\\\n\\'))', seq, re.DOTALL)\n",
    "        if existe:\n",
    "            m = re.match( r'b\\'Sequence\\\\n(.+?(?=\\\\n\\'))', seq, re.DOTALL )\n",
    "            f.write(f\">{titles_list[index]}\\n{m.group(1)}\\n\\n\")                    \n",
    "#             print(m.group(1))       "
   ]
  },
  {
   "cell_type": "code",
   "execution_count": null,
   "id": "0e665a05",
   "metadata": {},
   "outputs": [],
   "source": [
    "#another easier way to do this but doesn't work in all cases\n",
    "# from Bio import SwissProt\n",
    "# from Bio import ExPASy\n",
    "# with ExPASy.get_sprot_raw(\"P35568\") as handle:\n",
    "#     seq_record = SeqIO.read(handle, \"swiss\")\n",
    "#     print(seq_record.id)\n",
    "#     #print(seq_record.entry_name, \"\\n\")\n",
    "#     #print(\", \".join(seq_record.accessions), \"\\n\")\n",
    "#     #print(seq_record.keywords, \"\\n\")\n",
    "#     #print(seq_record.organism, \"\\n\")\n",
    "#     #print(len(seq_record.sequence), \"aa\", \"\\n\")\n",
    "#     print(seq_record.seq)"
   ]
  },
  {
   "cell_type": "code",
   "execution_count": 439,
   "id": "b7418b9b",
   "metadata": {},
   "outputs": [
    {
     "name": "stdout",
     "output_type": "stream",
     "text": [
      "Entry\tOrganism\tProtein names\tSubcellular location [CC]\tFunction [CC]\n",
      "P35568\tHomo sapiens (Human)\tInsulin receptor substrate 1 (IRS-1)\t\tFUNCTION: May mediate the control of various cellular processes by insulin. When phosphorylated by the insulin receptor binds specifically to various cellular proteins containing SH2 domains such as phosphatidylinositol 3-kinase p85 subunit or GRB2. Activates phosphatidylinositol 3-kinase when bound to the regulatory p85 subunit (By similarity). {ECO:0000250, ECO:0000269|PubMed:16878150}.\n",
      "\n",
      "Entry\tOrganism\tProtein names\tSubcellular location [CC]\tFunction [CC]\n",
      "Q28224\tChlorocebus aethiops (Green monkey) (Cercopithecus aethiops)\tInsulin receptor substrate 1 (IRS-1)\t\tFUNCTION: May mediate the control of various cellular processes by insulin. When phosphorylated by the insulin receptor binds specifically to various cellular proteins containing SH2 domains such as phosphatidylinositol 3-kinase p85 subunit or GRB2. Activates phosphatidylinositol 3-kinase when bound to the regulatory p85 subunit (By similarity). {ECO:0000250}.\n",
      "\n",
      "Entry\tOrganism\tProtein names\tSubcellular location [CC]\tFunction [CC]\n",
      "P35570\tRattus norvegicus (Rat)\tInsulin receptor substrate 1 (IRS-1) (pp185)\t\tFUNCTION: May mediate the control of various cellular processes by insulin. When phosphorylated by the insulin receptor binds specifically to various cellular proteins containing SH2 domains such as phosphatidylinositol 3-kinase p85 subunit or GRB2. Activates phosphatidylinositol 3-kinase when bound to the regulatory p85 subunit. {ECO:0000269|PubMed:1380456}.\n",
      "\n",
      "Entry\tOrganism\tProtein names\tSubcellular location [CC]\tFunction [CC]\n",
      "P35569\tMus musculus (Mouse)\tInsulin receptor substrate 1 (IRS-1)\t\tFUNCTION: May mediate the control of various cellular processes by insulin. When phosphorylated by the insulin receptor binds specifically to various cellular proteins containing SH2 domains such as phosphatidylinositol 3-kinase p85 subunit or GRB2. Activates phosphatidylinositol 3-kinase when bound to the regulatory p85 subunit (By similarity). {ECO:0000250}.\n",
      "\n",
      "Entry\tOrganism\tProtein names\tSubcellular location [CC]\tFunction [CC]\n",
      "P84770\tXenopus laevis (African clawed frog)\tInsulin receptor substrate 1-B (IRS1-B) (xIRS-1-B) (XIRS-L')\t\tFUNCTION: May mediate the control of various cellular processes by insulin. When phosphorylated by the insulin receptor binds specifically to various cellular proteins containing SH2 domains such as phosphatidylinositol 3-kinase p85 subunit or grb2. Activates phosphatidylinositol 3-kinase when bound to the regulatory p85 subunit (By similarity). {ECO:0000250}.\n",
      "\n"
     ]
    }
   ],
   "source": [
    "file= open(\"CDS_protein_result_blastp.txt\", \"r\")\n",
    "fields=\"accession,organism_name,protein_name,cc_subcellular_location,cc_function\"\n",
    "WEBSITE_API=\"https://rest.uniprot.org\"\n",
    "with open('uniprot_result_CDS_filtered.txt', 'w',encoding='utf-8') as f:\n",
    "    for i in file:\n",
    "        r=get_url(\"{}/uniprotkb/search?query={} AND (reviewed:true)&fields={}&size=1&format=tsv\".format(WEBSITE_API,i, fields))\n",
    "        print(r.text)\n",
    "        f.write(r.text)\n",
    "        f.write('\\n')"
   ]
  },
  {
   "cell_type": "code",
   "execution_count": 508,
   "id": "13b0dad8",
   "metadata": {},
   "outputs": [
    {
     "data": {
      "text/plain": [
       "[['P35568',\n",
       "  'Homo sapiens (Human)',\n",
       "  'Insulin receptor substrate 1 (IRS-1)',\n",
       "  'May mediate the control of various cellular processes by insulin. When phosphorylated by the insulin receptor binds specifically to various cellular proteins containing SH2 domains such as phosphatidylinositol 3-kinase p85 subunit or GRB2. Activates phosphatidylinositol 3-kinase when bound to the regulatory p85 subunit (By similarity). {ECO:0000250, ECO:0000269|PubMed:16878150}.',\n",
       "  'N/A'],\n",
       " ['Q28224',\n",
       "  'Chlorocebus aethiops (Green monkey) (Cercopithecus aethiops)',\n",
       "  'Insulin receptor substrate 1 (IRS-1)',\n",
       "  'May mediate the control of various cellular processes by insulin. When phosphorylated by the insulin receptor binds specifically to various cellular proteins containing SH2 domains such as phosphatidylinositol 3-kinase p85 subunit or GRB2. Activates phosphatidylinositol 3-kinase when bound to the regulatory p85 subunit (By similarity). {ECO:0000250}.',\n",
       "  'N/A'],\n",
       " ['P35570',\n",
       "  'Rattus norvegicus (Rat)',\n",
       "  'Insulin receptor substrate 1 (IRS-1) (pp185)',\n",
       "  'May mediate the control of various cellular processes by insulin. When phosphorylated by the insulin receptor binds specifically to various cellular proteins containing SH2 domains such as phosphatidylinositol 3-kinase p85 subunit or GRB2. Activates phosphatidylinositol 3-kinase when bound to the regulatory p85 subunit. {ECO:0000269|PubMed:1380456}.',\n",
       "  'N/A'],\n",
       " ['P35569',\n",
       "  'Mus musculus (Mouse)',\n",
       "  'Insulin receptor substrate 1 (IRS-1)',\n",
       "  'May mediate the control of various cellular processes by insulin. When phosphorylated by the insulin receptor binds specifically to various cellular proteins containing SH2 domains such as phosphatidylinositol 3-kinase p85 subunit or GRB2. Activates phosphatidylinositol 3-kinase when bound to the regulatory p85 subunit (By similarity). {ECO:0000250}.',\n",
       "  'N/A'],\n",
       " ['P84770',\n",
       "  'Xenopus laevis (African clawed frog)',\n",
       "  \"Insulin receptor substrate 1-B (IRS1-B) (xIRS-1-B) (XIRS-L')\",\n",
       "  'May mediate the control of various cellular processes by insulin. When phosphorylated by the insulin receptor binds specifically to various cellular proteins containing SH2 domains such as phosphatidylinositol 3-kinase p85 subunit or grb2. Activates phosphatidylinositol 3-kinase when bound to the regulatory p85 subunit (By similarity). {ECO:0000250}.',\n",
       "  'N/A']]"
      ]
     },
     "execution_count": 508,
     "metadata": {},
     "output_type": "execute_result"
    }
   ],
   "source": [
    "fileUniprot= open(\"CDS_protein_result_blastp.txt\", \"r\")\n",
    "fields=['accession','organism_name','protein_name','cc_function','cc_subcellular_location']\n",
    "WEBSITE_API=\"https://rest.uniprot.org\"\n",
    "\n",
    "def get_field_for_id(ID_PROT, field): \n",
    "    response = get_url(\"{}/uniprotkb/search?query={}&fields={}&size=1&format=tsv\".format(WEBSITE_API,ID_PROT,field))\n",
    "    return str(response.content)\n",
    "\n",
    "def get_info_uniprot(fileUniprot):\n",
    "    results = []\n",
    "    result = []\n",
    "    tmp = []\n",
    "    uniprot_final_list=[]\n",
    "    \n",
    "    for first_index in fileUniprot:\n",
    "        tmp= []\n",
    "        for field in fields:\n",
    "            result = get_field_for_id(first_index, field)\n",
    "            tmp.append(result)\n",
    "        results.append(tmp)\n",
    "#     print(results)\n",
    "    for ind in results:\n",
    "        uniprot_list=[]\n",
    "        for i in ind:\n",
    "            entry = re.search(r'b\\'Entry\\\\n(.+?(?=\\\\n\\'))', str(i), re.DOTALL)\n",
    "            organism = re.search(r'b\\'Organism\\\\n(.+?(?=\\\\n\\'))', str(i), re.DOTALL)\n",
    "            protein = re.search(r'Protein names\\\\n(.+?(?=\\\\n))', str(i), re.DOTALL)\n",
    "            function = re.search(r'Function \\[CC\\]\\\\n.{9} (.+?(?=\\\\n))', str(i), re.DOTALL )\n",
    "            location_exist = re.search(r'b\\'Subcellular location \\[CC\\]\\\\nSUBCELLULAR LOCATION: (.+?(?=\\\\n\\'))', str(i), re.DOTALL )\n",
    "            location_notexist = re.search( r'b\\'Subcellular location \\[CC\\]\\\\n\\\\n\\'',str(i), re.DOTALL )   \n",
    "            if entry:\n",
    "                ent=entry.group(1)\n",
    "                uniprot_list.append(entry.group(1))\n",
    "            if organism:\n",
    "                uniprot_list.append(organism.group(1))\n",
    "            if protein:\n",
    "                uniprot_list.append(protein.group(1))\n",
    "            if location_exist:\n",
    "                uniprot_list.append(+location_exist.group(1))\n",
    "            if location_notexist:\n",
    "                uniprot_list.append('N/A')\n",
    "            if function:\n",
    "                uniprot_list.append(function.group(1))\n",
    "        uniprot_final_list.append(uniprot_list)\n",
    "    return uniprot_final_list\n",
    "get_info_uniprot(fileUniprot)"
   ]
  },
  {
   "cell_type": "code",
   "execution_count": 492,
   "id": "d6e15693",
   "metadata": {},
   "outputs": [
    {
     "name": "stdout",
     "output_type": "stream",
     "text": [
      "['Id: P35568', 'Organism: Homo sapiens (Human)', 'Protein name:Insulin receptor substrate 1 (IRS-1)', 'Function: May mediate the control of various cellular processes by insulin. When phosphorylated by the insulin receptor binds specifically to various cellular proteins containing SH2 domains such as phosphatidylinositol 3-kinase p85 subunit or GRB2. Activates phosphatidylinositol 3-kinase when bound to the regulatory p85 subunit (By similarity). {ECO:0000250, ECO:0000269|PubMed:16878150}.', 'Subcelular location: N/A']\n",
      "\n",
      "['Id: Q28224', 'Organism: Chlorocebus aethiops (Green monkey) (Cercopithecus aethiops)', 'Protein name:Insulin receptor substrate 1 (IRS-1)', 'Function: May mediate the control of various cellular processes by insulin. When phosphorylated by the insulin receptor binds specifically to various cellular proteins containing SH2 domains such as phosphatidylinositol 3-kinase p85 subunit or GRB2. Activates phosphatidylinositol 3-kinase when bound to the regulatory p85 subunit (By similarity). {ECO:0000250}.', 'Subcelular location: N/A']\n",
      "\n",
      "['Id: P35570', 'Organism: Rattus norvegicus (Rat)', 'Protein name:Insulin receptor substrate 1 (IRS-1) (pp185)', 'Function: May mediate the control of various cellular processes by insulin. When phosphorylated by the insulin receptor binds specifically to various cellular proteins containing SH2 domains such as phosphatidylinositol 3-kinase p85 subunit or GRB2. Activates phosphatidylinositol 3-kinase when bound to the regulatory p85 subunit. {ECO:0000269|PubMed:1380456}.', 'Subcelular location: N/A']\n",
      "\n",
      "['Id: P35569', 'Organism: Mus musculus (Mouse)', 'Protein name:Insulin receptor substrate 1 (IRS-1)', 'Function: May mediate the control of various cellular processes by insulin. When phosphorylated by the insulin receptor binds specifically to various cellular proteins containing SH2 domains such as phosphatidylinositol 3-kinase p85 subunit or GRB2. Activates phosphatidylinositol 3-kinase when bound to the regulatory p85 subunit (By similarity). {ECO:0000250}.', 'Subcelular location: N/A']\n",
      "\n",
      "['Id: P84770', 'Organism: Xenopus laevis (African clawed frog)', \"Protein name:Insulin receptor substrate 1-B (IRS1-B) (xIRS-1-B) (XIRS-L')\", 'Function: May mediate the control of various cellular processes by insulin. When phosphorylated by the insulin receptor binds specifically to various cellular proteins containing SH2 domains such as phosphatidylinositol 3-kinase p85 subunit or grb2. Activates phosphatidylinositol 3-kinase when bound to the regulatory p85 subunit (By similarity). {ECO:0000250}.', 'Subcelular location: N/A']\n",
      "\n"
     ]
    }
   ],
   "source": [
    "fileUniprot= open(\"CDS_protein_result_blastp.txt\", \"r\")\n",
    "\n",
    "for i in get_info_uniprot(fileUniprot):\n",
    "    print('{}\\n'.format(i))"
   ]
  },
  {
   "cell_type": "code",
   "execution_count": 556,
   "id": "97204d0f",
   "metadata": {},
   "outputs": [
    {
     "name": "stdout",
     "output_type": "stream",
     "text": [
      "Id: P35568\n",
      "Organism: Homo sapiens (Human)\n",
      "Protein name: Insulin receptor substrate 1 (IRS-1)\n",
      "Subcelular location: N/A\n",
      "Function:  May mediate the control of various cellular processes by insulin. When phosphorylated by the insulin receptor binds specifically to various cellular proteins containing SH2 domains such as phosphatidylinositol 3-kinase p85 subunit or GRB2. Activates phosphatidylinositol 3-kinase when bound to the regulatory p85 subunit (By similarity). {ECO:0000250, ECO:0000269|PubMed:16878150}.\n",
      "\n",
      "\n",
      "Id: Q28224\n",
      "Organism: Chlorocebus aethiops (Green monkey) (Cercopithecus aethiops)\n",
      "Protein name: Insulin receptor substrate 1 (IRS-1)\n",
      "Subcelular location: N/A\n",
      "Function:  May mediate the control of various cellular processes by insulin. When phosphorylated by the insulin receptor binds specifically to various cellular proteins containing SH2 domains such as phosphatidylinositol 3-kinase p85 subunit or GRB2. Activates phosphatidylinositol 3-kinase when bound to the regulatory p85 subunit (By similarity). {ECO:0000250}.\n",
      "\n",
      "\n",
      "Id: P35570\n",
      "Organism: Rattus norvegicus (Rat)\n",
      "Protein name: Insulin receptor substrate 1 (IRS-1) (pp185)\n",
      "Subcelular location: N/A\n",
      "Function:  May mediate the control of various cellular processes by insulin. When phosphorylated by the insulin receptor binds specifically to various cellular proteins containing SH2 domains such as phosphatidylinositol 3-kinase p85 subunit or GRB2. Activates phosphatidylinositol 3-kinase when bound to the regulatory p85 subunit. {ECO:0000269|PubMed:1380456}.\n",
      "\n",
      "\n",
      "Id: P35569\n",
      "Organism: Mus musculus (Mouse)\n",
      "Protein name: Insulin receptor substrate 1 (IRS-1)\n",
      "Subcelular location: N/A\n",
      "Function:  May mediate the control of various cellular processes by insulin. When phosphorylated by the insulin receptor binds specifically to various cellular proteins containing SH2 domains such as phosphatidylinositol 3-kinase p85 subunit or GRB2. Activates phosphatidylinositol 3-kinase when bound to the regulatory p85 subunit (By similarity). {ECO:0000250}.\n",
      "\n",
      "\n",
      "Id: P84770\n",
      "Organism: Xenopus laevis (African clawed frog)\n",
      "Protein name: Insulin receptor substrate 1-B (IRS1-B) (xIRS-1-B) (XIRS-L')\n",
      "Subcelular location: N/A\n",
      "Function:  May mediate the control of various cellular processes by insulin. When phosphorylated by the insulin receptor binds specifically to various cellular proteins containing SH2 domains such as phosphatidylinositol 3-kinase p85 subunit or grb2. Activates phosphatidylinositol 3-kinase when bound to the regulatory p85 subunit (By similarity). {ECO:0000250}.\n",
      "\n",
      "\n"
     ]
    }
   ],
   "source": [
    "fileUniprot= open(\"CDS_protein_result_blastp.txt\", \"r\")\n",
    "allInfo=get_info_uniprot(fileUniprot)\n",
    "for index in allInfo:\n",
    "    print('Id: {}\\nOrganism: {}\\nProtein name: {}\\nSubcelular location: {}\\nFunction:  {}\\n\\n'.format(index[0], index[1], index[2], index[4], index[3]))\n",
    "    "
   ]
  },
  {
   "cell_type": "markdown",
   "id": "b63358cb",
   "metadata": {},
   "source": [
    "## Alignment and Phylo"
   ]
  },
  {
   "cell_type": "code",
   "execution_count": 494,
   "id": "e895c624",
   "metadata": {},
   "outputs": [],
   "source": [
    "#Clustalw\n",
    "dir = r'C:\\Program Files (x86)\\ClustalW2\\clustalw2'\n",
    "in_file = r'allOrg_CDS_prot_fromUniprot.fasta'\n",
    "\n",
    "clustalw_cline = ClustalwCommandline(dir, infile=in_file)\n",
    "clustalw_cline()\n",
    "cline = ClustalwCommandline(\"clustalw\", infile=\"allOrg_CDS_prot_fromUniprot.fasta\", outfile=\"allOrg_CDS_prot_fromUniprot.aln\")"
   ]
  },
  {
   "cell_type": "code",
   "execution_count": 495,
   "id": "8416b5ce",
   "metadata": {},
   "outputs": [
    {
     "name": "stdout",
     "output_type": "stream",
     "text": [
      "Número de linhas: 5\n",
      "CLUSTAL 2.1 multiple sequence alignment\n",
      "\n",
      "\n",
      "sp|P35568.1|                        MASPPE---SDGFSDVRKVGYLRKPKSMHKRFFVLRAASEAGGPARLEYY\n",
      "sp|Q28224.1|                        MASPPE---SDGFSDVRKVGYLRKPKSMHKRFFVLRAASETGDPARLEYY\n",
      "sp|P35570.1|                        MASPPD---TDGFSDVRKVGYLRKPKSMHKRFFVLRAASEAGGPARLEYY\n",
      "sp|P35569.1|                        MASPPD---TDGFSDVRKVGYLRKPKSMHKRFFVLRAASEAGGPARLEYY\n",
      "sp|P84770.1|                        MASPTDPQAQENFSDVRKVGYLRKPKSMHKRFFVLRAASES-SLARLEYY\n",
      "                                    ****.:    :.****************************: . ******\n",
      "\n",
      "sp|P35568.1|                        ENEKKWRHKSSAPKRSIPLESCFNINKRADSKNKHLVALYTRDEHFAIAA\n",
      "sp|Q28224.1|                        ENEKKWRHKSSAPKRSIPLESCFNINKRADSKNKHLVALYTRDEHFAIAA\n",
      "sp|P35570.1|                        ENEKKWRHKSSAPKRSIPLESCFNINKRADSKNKHLVALYTRDEHFAIAA\n",
      "sp|P35569.1|                        ENEKKWRHKSSAPKRSIPLESCFNINKRADSKNKHLVALYTRDEHFAIAA\n",
      "sp|P84770.1|                        ENEKKWRHKSGAPKRSIPLESCFNINKRADSKNKHLVALYTKDECFAIAA\n",
      "                                    **********.******************************:** *****\n",
      "\n",
      "sp|P35568.1|                        DSEAEQDSWYQALLQLHNRAKGHHDGAAALGAGGGGGSCSGSSGLGEAGE\n",
      "sp|Q28224.1|                        DSEAEQDSWYQALLQLHNRAKGHHDGAAALGAGGGGGSCSGSSGLGEAGE\n",
      "sp|P35570.1|                        DSEAEQDSWYQALLQLHNRAKAHHDGAG----GGCGGSCSGSSGVGEAGE\n",
      "sp|P35569.1|                        DSEAEQDSWYQALLQLHNRAKAHHDGAG----GGCGGSCSGSSGVGEAGE\n",
      "sp|P84770.1|                        ECEQEQEGWYQALVDLHNRGKTHHQHHN------HDGAVNG-VHDGLNGD\n",
      "                                    :.* **:.*****::****.* **:          .*: .*    *  *:\n",
      "\n",
      "sp|P35568.1|                        DLSYGDVPPGPAFKEVWQVILKPKGLGQTKNLIGIYRLCLTSKTISFVKL\n",
      "sp|Q28224.1|                        DLSYGDVPPGPAFKEVWQVILKPKGLGQTKNLIGIYRLCLTSKTISFVKL\n",
      "sp|P35570.1|                        DLSY-DTGPGPAFKEVWQVILKPKGLGQTKNLIGIYRLCLTSKTISFVKL\n",
      "sp|P35569.1|                        DLSY-DTGPGPAFKEVWQVILKPKGLGQTKNLIGIYRLCLTSKTISFVKL\n",
      "sp|P84770.1|                        EVYGEVTPPGLAFKEVWQVIMKPKGLGQLKNLVGIYRLCLTNRTISLVKL\n",
      "                                    ::    . ** *********:******* ***:********.:***:***\n",
      "\n",
      "sp|P35568.1|                        NSEAAAVVLQLMNIRRCGHSENFFFIEVGRSAVTGPGEFWMQVDDSVVAQ\n",
      "sp|Q28224.1|                        NSEAAAVVLQLMNIRRCGHSENFFFIEVGRSAVTGPGEFWMQVDDSVVAQ\n",
      "sp|P35570.1|                        NSEAAAVVLQLMNIRRCGHSENFFFIEVGRSAVTGPGEFWMQVDDSVVAQ\n",
      "sp|P35569.1|                        NSEAAAVVLQLMNIRRCGHSENFFFIEVGRSAVTGPGEFWMQVDDSVVAQ\n",
      "sp|P84770.1|                        NSDAAAVVLQLMNIRRCGHSENFFFIEVGRSAVTGAGEFWMQVDDSVVAQ\n",
      "                                    **:********************************.**************\n",
      "\n",
      "sp|P35568.1|                        NMHETILEAMRAMSDEFRPRSKSQSSSNCSNPISVPLRRHHLNNPPPSQV\n",
      "sp|Q28224.1|                        NMHETILEAMRAMSDEFRPRSKSQSSSNCSNPISVPLRRHHLNNPPPSQV\n",
      "sp|P35570.1|                        NMHETILEAMRAMSDEFRPRTKSQSSSSCSNPISVPLRRHHLNNPPPSQV\n",
      "sp|P35569.1|                        NMHETILEAMRAMSDEFRPRSKSQSSSSCSNPISVPLRRHHLNNPPPSQV\n",
      "sp|P84770.1|                        NMHETILEAMKALSDEFRPRSKSQSSSNCSNPISVPLRRHHLNHPPPSQV\n",
      "                                    **********:*:*******:******.***************:******\n",
      "\n",
      "sp|P35568.1|                        GLTRRSRTESITATSPASMVGGK-PGSFRVRASSDGEGTMSRPASVDGSP\n",
      "sp|Q28224.1|                        GLTRRSRTESITATSPASMVGGK-PGSFRVRASSDGEGTMSRPASVDGSP\n",
      "sp|P35570.1|                        GLTRRSRTESITATSPASMVGGK-PGSFRVRASSDGEGTMSRPASVDGSP\n",
      "sp|P35569.1|                        GLTRRSRTESITATSPASMVGGK-PGSFRVRASSDGEGTMSRPASVDGSP\n",
      "sp|P84770.1|                        GLNRRARTESATATSPAGGAAKHGSSSFRVRASSDGEGTMSRPASMEGSP\n",
      "                                    **.**:**** ******. .. : ..*******************::***\n",
      "\n",
      "sp|P35568.1|                        VSPSTNRTHAHRHRGSARLHPPLNHSRSIPMPASRCSPSATSPVSLSSSS\n",
      "sp|Q28224.1|                        VSPSTNRTHAHRHRGSARLHPPLNHSRSIPMPASRCSPSATSPVSLSSSS\n",
      "sp|P35570.1|                        VSPSTNRTHAHRHRGSSRLHPPLNHSRSIPMPSSRCSPSATSPVSLSSSS\n",
      "sp|P35569.1|                        VSPSTNRTHAHRHRGSSRLHPPLNHSRSIPMPSSRCSPSATSPVSLSSSS\n",
      "sp|P84770.1|                        VSPSASRTQSHRHRGSSRLHPPLNHSRSIPMPATRCSPSATSPVSLSSSS\n",
      "                                    ****:.**::******:***************::****************\n",
      "\n",
      "sp|P35568.1|                        TSGHGSTSDCLFPRRSSASVSGSPSDGGFISSDEYGSSPCDFRSSFRSVT\n",
      "sp|Q28224.1|                        TSGHGSTSDCLFPRRSSASVSGSPSDGGFISSDEYGSSPCDFRSSFRSVT\n",
      "sp|P35570.1|                        TSGHGSTSDCLFPRRSSASVSGSPSDGGFISSDEYGSSPCDFRSSFRSVT\n",
      "sp|P35569.1|                        TSGHGSTSDCLFPRRSSASVSGSPSDGGFISSDEYGSSPCDFRSSFRSVT\n",
      "sp|P84770.1|                        TSGHGSTSDCMCPRRSSASISGSPSDGGFISSDEYGSSPCDFRSSFRSVT\n",
      "                                    **********: *******:******************************\n",
      "\n",
      "sp|P35568.1|                        PDSLGHTPPARGEEELSNYICMGGKGPSTLTAPNGHYILSRGGNGHRCTP\n",
      "sp|Q28224.1|                        PDSLGHTPPARGEEELSNYICMGGKGPSTLTAPNGHYILSRGGNGHRYTP\n",
      "sp|P35570.1|                        PDSLGHTPPARGEEELSNYICMGGKGASTLTAPNGHYILSRGGNGHRYIP\n",
      "sp|P35569.1|                        PDSLGHTPPARGEEELSNYICMGGKGASTLAAPNGHYILSRGGNGHRYIP\n",
      "sp|P84770.1|                        PDSMGHTPPAR-EEELNNYICMGKSSSHLQRGPQQRYQPSRG--------\n",
      "                                    ***:******* ****.****** ...    .*: :*  ***        \n",
      "\n",
      "sp|P35568.1|                        GTGLGTSPALAGDEAASAADLDNRFRKRTHSAGTSP-TITHQKTPSQSSV\n",
      "sp|Q28224.1|                        GTGLGTSPALAGDEASSAADLDNRFRKRTHSAGTSP-TITHQKTPSQSSV\n",
      "sp|P35570.1|                        GATMGTSPALTGDEAAGAADLDNRFRKRTHSAGTSP-TISHQKTPSQSSV\n",
      "sp|P35569.1|                        GANLGTSPALPGDEAAGAADLDNRFRKRTHSAGTSP-TISHQKTPSQSSV\n",
      "sp|P84770.1|                        ---------------EELTDFDKVFRKRTHSSGTSPPTVSHQKTPSQS--\n",
      "                                                      :*:*: *******:**** *::********  \n",
      "\n",
      "sp|P35568.1|                        ASIEEYTEMMP-AYPPGGGSGGRLPGHRHSAFVPTRSYPEEGLEMHPLER\n",
      "sp|Q28224.1|                        ASIEEYTEMMP-AYPPGGGSGGRLPGHRHSAFVPTHSYPEEGLEMHPLER\n",
      "sp|P35570.1|                        VSIEEYTEMMPAAYPPGGGSGGRLPGYRHSAFVPTHSYPEEGLEMHHLER\n",
      "sp|P35569.1|                        ASIEEYTEMMPAAYPPGGGSGGRLPGYRHSAFVPTHSYPEEGLEMHHLER\n",
      "sp|P84770.1|                        -SIEEYTEMMP-------THPVRLTSFRHSAFVPTYSYPEECLDLHLEGS\n",
      "                                     **********           **...******** ***** *::*    \n",
      "\n",
      "sp|P35568.1|                        RGGHHRPDSSTLHTDDGYMPMSPGVAPVPSGRKGSGDYMPMSPKSVSAPQ\n",
      "sp|Q28224.1|                        RGGHHRPDSSTLHTDDGYMPMSPGVAPVPSSRKGSGDYMPMSPKSVSAPQ\n",
      "sp|P35570.1|                        RGGHHRPDSSNLHTDDGYMPMSPGVAPVPSNRKGNGDYMPMSPKSVSAPQ\n",
      "sp|P35569.1|                        RGGHHRPDTSNLHTDDGYMPMSPGVAPVPSNRKGNGDYMPMSPKSVSAPQ\n",
      "sp|P84770.1|                        RANHK---------DDGYMPMSPGVAPVSTKTN---DYMPMSPKSVSAPQ\n",
      "                                    *..*:         **************.:  :   **************\n",
      "\n",
      "sp|P35568.1|                        QIINPIRRHPQRVDPNGYMMMSPSGGCSPDIGGGPSSSSSSSNAVPSGTS\n",
      "sp|Q28224.1|                        QIINPIRRHPQRVDPNGYMMMSPSGGCSPDIGGGPSSSSSS--TVPSGSS\n",
      "sp|P35570.1|                        QIINPIRRHPQRVDPNGYMMMSPSGSCSPDIGGG-SCSSSSISAAPSGSS\n",
      "sp|P35569.1|                        QIINPIRRHPQRVDPNGYMMMSPSGSCSPDIGGG-SSSSSSISAAPSGSS\n",
      "sp|P84770.1|                        QIINP--RWHSAVDSNGYMMMSPSGSCS-----------------PDNTN\n",
      "                                    *****  *  . **.**********.**                 *..:.\n",
      "\n",
      "sp|P35568.1|                        YGKLWTNGVGGHHSHVLPHPKPPVESSGGKLLPCTGDYMNMSPVGDSNTS\n",
      "sp|Q28224.1|                        YGKLWTKGVGAHNSQVLLHPKPPVESSGGKLLPCTGDYMNMSPVGDSNTS\n",
      "sp|P35570.1|                        YGKPWTNGVGGHHTHALPHAKPPVESGGGKLLPCTGDYMNMSPVGDSNTS\n",
      "sp|P35569.1|                        YGKPWTNGVGGHHTHALPHAKPPVESGGGKLLPCTGDYMNMSPVGDSNTS\n",
      "sp|P84770.1|                        YSKIWTNGT---------NPKLSIDSIEG-KLPCS-DYINMSPASGSTTS\n",
      "                                    *.* **:*.         :.* .::*  *  ***: **:****...*.**\n",
      "\n",
      "sp|P35568.1|                        SPSDCYYGPEDPQHKPVLSYYSLPRSFKHTQRPGEPEEGARHQHLRLSTS\n",
      "sp|Q28224.1|                        SPSDCYYGPEDPQHKPVLSYYSLPRSFKHTQRPGEPEEGARHQHLRLSTS\n",
      "sp|P35570.1|                        SPSECYYGPEDPQHKPVLSYYSLPRSFKHTQRPGEPEEGARHQHLRLSSS\n",
      "sp|P35569.1|                        SPSECYYGPEDPQHKPVLSYYSLPRSFKHTQRPGEPEEGARHQHLRLSSS\n",
      "sp|P84770.1|                        TPPDSYLNSVEESTKPVYSYFSLPRSFKHVHRKSE------DGNLRISAN\n",
      "                                    :*.:.* .. : . *** **:********.:* .*      . :**:*:.\n",
      "\n",
      "sp|P35568.1|                        SGRLLYAATADDSSSSTSSDSLGGGYCGARLEPSLPHPHHQVLQPHLPRK\n",
      "sp|Q28224.1|                        SGRLLYAATADDSSSSTSSDSLGGGYCGARLEPSLPHPHHQVLQPHLPRK\n",
      "sp|P35570.1|                        SGRLRYTATAEDSSSSTSSDSLGGGYCGARPESSVTHPHHHALQPHLPRK\n",
      "sp|P35569.1|                        SGRLRYTATAEDSSSSTSSDSLGGGYCGARPESSLTHPHHHVLQPHLPRK\n",
      "sp|P84770.1|                        SGHNLYTE--DSSSSSTSSDSLGG------------------QDPQQPRK\n",
      "                                    **:  *:   :.************                   :*: ***\n",
      "\n",
      "sp|P35568.1|                        VDTAAQTNSRLARPTRLSLGDP-KASTLPRAREQQQQQQ-----------\n",
      "sp|Q28224.1|                        VDTAAQTNSRLARPTRLSLGDP-KASTLPRAREQQQQQQQQQQQQQQQQQ\n",
      "sp|P35570.1|                        VDTAAQTNSRLARPTRLSLGDP-KASTLPRVREQQQQQQQQQQ-------\n",
      "sp|P35569.1|                        VDTAAQTNSRLARPTRLSLGDP-KASTLPRVREQQQQQQ-----------\n",
      "sp|P84770.1|                        GEGCIQG-KRLTRPTRLSLENSSKASTLPRVREP----------------\n",
      "                                     : . *  .**:******* :. *******.**                 \n",
      "\n",
      "sp|P35568.1|                        PLLHPPEPKSPGEYVNIEFGSDQSGYLSGPVAFHSSPSVRCPSQLQPAPR\n",
      "sp|Q28224.1|                        PLLHPPEPKSPGEYVNIEFGSDQPGYLSGPVASRSSPSVRCPSQLQPAPR\n",
      "sp|P35570.1|                        SSLHPPEPKSPGEYVNIEFGSGQPGYLAGPATSRSSPSVRCLPQLHPAPR\n",
      "sp|P35569.1|                        SSLHPPEPKSPGEYVNIEFGSGQPGYLAGPATSRSSPSVRCPPQLHPAPR\n",
      "sp|P84770.1|                        --ALPPEPKSPGEYVNIEFN---DKVFSG----GLVPSMCSLPFVQSRVV\n",
      "                                        ***************.      ::*       **: . . ::.   \n",
      "\n",
      "sp|P35568.1|                        EEETGTEEYMKMDLGPGRRAAWQESTGVEMGRLGPA----PPGAASICR-\n",
      "sp|Q28224.1|                        EEETGTEEYMKMDLGPGRRAAWQESTGVEMGRLGPA----PPGAASICR-\n",
      "sp|P35570.1|                        EE-TGSEEYMNMDLGPGRRATWQESGGVELGRVGPA----PPGAASICR-\n",
      "sp|P35569.1|                        EE-TGSEEYMNMDLGPGRRATWQESGGVELGRIGPA----PPGSATVCR-\n",
      "sp|P84770.1|                        PQRENLSEYMNMDLGVWRAKTSYASTSSYEPPNKPVNSVCPTETCSSSRP\n",
      "                                     :  . .***:****  *  :   * .       *.    *. :.: .* \n",
      "\n",
      "sp|P35568.1|                        PTRAVPSSRGDYMTMQMSCPRQSYVDTSPAAPVSYADMRTGIAAEEVSLP\n",
      "sp|Q28224.1|                        PTRAVPSSRGDYMTMQMSCPRQSYVDTSPIAPVSYADMRTGIAAEEVSLP\n",
      "sp|P35570.1|                        PTRSVPNSRGDYMTMQIGCPRQSYVDTSPVAPVSYADMRTGIAAEKVSLP\n",
      "sp|P35569.1|                        PTRSVPNSRGDYMTMQIGCPRQSYVDTSPVAPVSYADMRTGIAAEKASLP\n",
      "sp|P84770.1|                        PIRGKPISR-DYMSMQLGSLCP---DYSQVPPTRLSAKSITLSSSKSNYA\n",
      "                                    * *. * ** ***:**:..      * *  .*.  :     :::.: . .\n",
      "\n",
      "sp|P35568.1|                        RATMAAASSSSAASASP-TGPQGA-AELAAHSSLLGGPQGPGGMSAFTRV\n",
      "sp|Q28224.1|                        RATMAAAASSSAASASP-TGPQGA-AELAAHSSLLGGAQGPGGMSAFTRV\n",
      "sp|P35570.1|                        RTTGAAPPPSSTASASASVTPQGA-AEQAAHSSLLGGPQGPGGMSAFTRV\n",
      "sp|P35569.1|                        RPTGAAPPPSSTASSSASVTPQGATAEQATHSSLLGGPQGPGGMSAFTRV\n",
      "sp|P84770.1|                        EMSSGRVSDNIPAIAPASNSSLSE----ASRSSLLGQGSGP---SAFTRV\n",
      "                                    . : .  . . .* :..   . .     *::*****  .**   ******\n",
      "\n",
      "sp|P35568.1|                        NLSPNRNQSAKVIRADPQGCRRRHSSETFSSTPSATRVGNTVPFGAGAAV\n",
      "sp|Q28224.1|                        NLSPNRNQSAKVIRADPQGCRRRHSSETFSSTPSATRVGNTVPFGAGAAI\n",
      "sp|P35570.1|                        NLSPNHNQSAKVIRADTQGCRRRHSSETFSAP---TRAANTVSFGAGAAG\n",
      "sp|P35569.1|                        NLSPNHNQSAKVIRADTQGCRRRHSSETFSAP---TRAGNTVPFGAGAAV\n",
      "sp|P84770.1|                        SLSPNRNPSAKVIRAGDPQGRRRHSSETFSST------PTTARVTTGPVS\n",
      "                                    .****:* *******.    **********:.       .*. . :*.. \n",
      "\n",
      "sp|P35568.1|                        GGGGGSSSS-SEDVKRHSSASFENVWLRPGELGGAPKEPAKLCGAAGGLE\n",
      "sp|Q28224.1|                        GGSGGSSSS-SEDVKRHSSASFENVWLRPGELGGAPKEPAQLCGAAGGLE\n",
      "sp|P35570.1|                        GGSGGG----SEDVKRHSSASFENVWLRPGDLGGASKESAPGCGAAGGLE\n",
      "sp|P35569.1|                        GGSGGGGGGGSEDVKRHSSASFENVWLRPGDLGGVSKESAPVCGAAGGLE\n",
      "sp|P84770.1|                        G----------EDVKRHSSASFENVWLRPGEIARRDS-----LQPSDHTH\n",
      "                                    *          *******************::.   .       .:.  .\n",
      "\n",
      "sp|P35568.1|                        NGLNYIDLDLVKDFKQCPQECTPEPQPPPPPPPHQPLGSGESSSTRRSSE\n",
      "sp|Q28224.1|                        NGLNYIDLDLVKDFKQRPQECTPQPQPPPPPPPHQPLGSSESSSTRRSSE\n",
      "sp|P35570.1|                        KSLNYIDLDLVKDVKQHPQDCPSQQQSLPPPPPHQPLGSNEGSSPRRSSE\n",
      "sp|P35569.1|                        KSLNYIDLDLAK---EHSQDCPSQQQSLPPPPPHQPLGSNEGNSPRRSSE\n",
      "sp|P84770.1|                        NGLNYIDLDLAKDLSSLDH-CNSHQSGVSHP-----------------SD\n",
      "                                    :.********.*   .  : * .. .  . *                 *:\n",
      "\n",
      "sp|P35568.1|                        DLSAYASISFQKQPEDRQ------\n",
      "sp|Q28224.1|                        DLSAYASISFQKQPEDLQ------\n",
      "sp|P35570.1|                        DLSTYASINFQKQPEDRQ------\n",
      "sp|P35569.1|                        DLSNYASISFQKQPEDRQ------\n",
      "sp|P84770.1|                        DLSPYASITFHKLEEHRSQAETEE\n",
      "                                    *** ****.*:*  *. .      \n",
      "\n",
      "\n",
      "\n"
     ]
    }
   ],
   "source": [
    "align = AlignIO.read(\"allOrg_CDS_prot_fromUniprot.aln\", \"clustal\")\n",
    "print(\"Número de linhas: %i\" % len(align)) \n",
    "print(format(align, \"clustal\"))\n",
    "\n",
    "subs = align.substitutions\n",
    "# print(subs)"
   ]
  },
  {
   "cell_type": "code",
   "execution_count": 496,
   "id": "81f55192",
   "metadata": {},
   "outputs": [],
   "source": [
    "count = AlignIO.convert(\"allOrg_CDS_prot_fromUniprot.aln\", \"clustal\",\"allOrg_CDS_prot_fromUniprot.sth\", \"stockholm\")"
   ]
  },
  {
   "cell_type": "code",
   "execution_count": 497,
   "id": "2bf1d841",
   "metadata": {},
   "outputs": [],
   "source": [
    "alignment = AlignIO.read(\"allOrg_CDS_prot_fromUniprot.sth\", \"stockholm\")\n",
    "calculator = DistanceCalculator('blosum62')\n",
    "dm = calculator.get_distance(alignment)\n",
    "# print(dm)"
   ]
  },
  {
   "cell_type": "code",
   "execution_count": 498,
   "id": "36ff5671",
   "metadata": {},
   "outputs": [],
   "source": [
    "constructor = DistanceTreeConstructor() \n",
    "upgmatree = constructor.upgma(dm)\n",
    "# print(upgmatree)"
   ]
  },
  {
   "cell_type": "code",
   "execution_count": 499,
   "id": "97584052",
   "metadata": {},
   "outputs": [],
   "source": [
    "njtree = constructor.nj(dm)\n",
    "# print(njtree)"
   ]
  },
  {
   "cell_type": "code",
   "execution_count": 500,
   "id": "2d4e6dd0",
   "metadata": {},
   "outputs": [
    {
     "data": {
      "text/plain": [
       "2"
      ]
     },
     "execution_count": 500,
     "metadata": {},
     "output_type": "execute_result"
    }
   ],
   "source": [
    "Phylo.write([upgmatree, njtree],\"phylotree_IRS1.nhx\",\"newick\")"
   ]
  },
  {
   "cell_type": "code",
   "execution_count": 501,
   "id": "8f9e5a98",
   "metadata": {},
   "outputs": [
    {
     "name": "stdout",
     "output_type": "stream",
     "text": [
      "         _ sp|P35568.1|\n",
      "  ______|\n",
      " |      |_ sp|Q28224.1|\n",
      " |\n",
      "_|       _ sp|P35569.1|\n",
      " |______|\n",
      " |      |_ sp|P35570.1|\n",
      " |\n",
      " |_______________________________________________________________ sp|P84770.1|\n",
      "\n"
     ]
    }
   ],
   "source": [
    "Phylo.draw_ascii(njtree)"
   ]
  },
  {
   "cell_type": "code",
   "execution_count": 15,
   "id": "e9f7f512",
   "metadata": {},
   "outputs": [],
   "source": [
    "# Phylo.draw_ascii(upgmatree)"
   ]
  },
  {
   "cell_type": "code",
   "execution_count": 1,
   "id": "0f77501f",
   "metadata": {},
   "outputs": [],
   "source": [
    "# string link: https://string-db.org/cgi/network?taskId=bbOoq41xuF5p&sessionId=byBYhzUYg9Mw"
   ]
  }
 ],
 "metadata": {
  "kernelspec": {
   "display_name": "Python 3 (ipykernel)",
   "language": "python",
   "name": "python3"
  },
  "language_info": {
   "codemirror_mode": {
    "name": "ipython",
    "version": 3
   },
   "file_extension": ".py",
   "mimetype": "text/x-python",
   "name": "python",
   "nbconvert_exporter": "python",
   "pygments_lexer": "ipython3",
   "version": "3.9.12"
  }
 },
 "nbformat": 4,
 "nbformat_minor": 5
}
