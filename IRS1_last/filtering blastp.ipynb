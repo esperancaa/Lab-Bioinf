{
 "cells": [
  {
   "cell_type": "code",
   "execution_count": 2,
   "id": "413ca015",
   "metadata": {},
   "outputs": [],
   "source": [
    "from Bio import Entrez, SeqIO, Medline\n",
    "from Bio.Blast import NCBIXML \n",
    "from Bio.Blast import NCBIWWW\n",
    "from Bio.Align.Applications import ClustalwCommandline\n",
    "from Bio import AlignIO\n",
    "from Bio.Align import MultipleSeqAlignment\n",
    "from Bio import AlignIO\n",
    "from Bio.Phylo.TreeConstruction import DistanceCalculator, DistanceTreeConstructor\n",
    "from Bio import Phylo\n",
    "import requests, sys, json\n",
    "import re"
   ]
  },
  {
   "cell_type": "code",
   "execution_count": 36,
   "id": "6e71b3a2",
   "metadata": {},
   "outputs": [
    {
     "data": {
      "text/plain": [
       "670"
      ]
     },
     "execution_count": 36,
     "metadata": {},
     "output_type": "execute_result"
    }
   ],
   "source": [
    "#filter by identities and coverage - not working when blastp alignment has several hsps\n",
    "results_Blastp= open('gui.xml')\n",
    "blastp_records_r = NCBIXML.read(results_Blastp)\n",
    "first=blastp_records_r.alignments[0]\n",
    "len_max_seq=first.hsps[0].align_length\n",
    "len_max_seq"
   ]
  },
  {
   "cell_type": "code",
   "execution_count": 37,
   "id": "f9ce730e",
   "metadata": {},
   "outputs": [],
   "source": [
    "results_Blastp= open('gui.xml')\n",
    "blastp_records = NCBIXML.parse(results_Blastp)\n",
    "list_accession,list_identities,list_coverage_start, list_coverage_stop,list_alignLen=[],[],[],[],[]\n",
    "\n",
    "for alignment in  blastp_records:\n",
    "    for a in alignment.alignments:\n",
    "        for b in a.hsps:\n",
    "            list_accession.append(a.accession)\n",
    "            list_coverage_start.append(b.sbjct_start)\n",
    "            list_coverage_stop.append(b.sbjct_end)\n",
    "            list_identities.append(b.identities)\n",
    "            list_alignLen.append(b.align_length)\n",
    "            #print(a.accession, b.align_length, b.identities, b.expect, b.sbjct_start, b.sbjct_end)\n",
    "\n",
    "#calculation of %identity                        \n",
    "def identity(list_i, list_a):\n",
    "    perc_list_identities=[]\n",
    "    for index in range(len(list_i)):\n",
    "        perc_list_identities.append(round(list_i[index]*100/list_a[index]))\n",
    "    return perc_list_identities\n",
    "\n",
    "#calculation of the %coverage - for all hsps of all accessions\n",
    "def coverage(list_end,list_start):\n",
    "    perc_list_coverage=[]\n",
    "    for index in range(len(list_identities)):\n",
    "        perc_list_coverage.append(round((1+list_end[index]-list_start[index])/len_max_seq*100))\n",
    "    return perc_list_coverage\n",
    "\n",
    "#selecting the max coverage and max identity per hsps/accession\n",
    "def max_values_by_id(ids, covs, idents): \n",
    "    unique_ids = []\n",
    "    max_coverage = []\n",
    "    max_identity = []\n",
    "    for id, cov, ident in zip(ids, covs,idents):\n",
    "        if id in unique_ids:\n",
    "            idx = unique_ids.index(id)\n",
    "            max_coverage[idx] = max(max_coverage[idx], cov)\n",
    "            max_identity[idx] = max(max_identity[idx], ident)\n",
    "        else:\n",
    "            unique_ids.append(id)\n",
    "            max_coverage.append(cov)\n",
    "            max_identity.append(ident)\n",
    "    return unique_ids, max_coverage, max_identity\n",
    "\n",
    "beta_max=max_values_by_id(list_accession, coverage(list_coverage_stop, list_coverage_start),identity(list_identities,list_alignLen))\n"
   ]
  },
  {
   "cell_type": "code",
   "execution_count": 26,
   "id": "7623d242",
   "metadata": {},
   "outputs": [
    {
     "name": "stdout",
     "output_type": "stream",
     "text": [
      "(['Q9NVP1', 'Q8K363', 'Q9VD51', 'Q1EA54', 'A4R8B5', 'A1CIQ5', 'Q5BBY1', 'Q4IEK8', 'A1CW14', 'Q4WQM4', 'A2Q9T6', 'Q0UR48', 'Q54S03', 'A3LNR6', 'Q2UUN6', 'Q7S2N9', 'Q09916', 'Q03532', 'Q6CXB7', 'Q6BH93', 'Q6FIL3', 'Q74Z73', 'P0CQ84', 'A5E2Z9', 'A5DID7', 'Q6C7D2', 'Q4P6N0', 'Q0CZS8', 'Q5AK59', 'Q2GMX1', 'Q84T03', 'Q9LIH9', 'Q9SB89', 'Q0DBS1', 'Q13206', 'Q80Y44', 'Q5ZJF6', 'A1CTZ2', 'Q4P5U4', 'Q1EB31', 'Q0CMM5', 'Q4WM60', 'A1DNF9', 'A7ESL8', 'Q2H2J1', 'Q5BFU1', 'Q0UMB9', 'Q2UHB7', 'A2QS00', 'Q54Q94'], [100, 99, 68, 86, 78, 89, 86, 82, 89, 89, 75, 85, 70, 75, 78, 78, 68, 73, 70, 68, 71, 66, 80, 73, 68, 67, 66, 83, 68, 83, 70, 70, 69, 70, 65, 65, 65, 71, 72, 66, 68, 69, 68, 63, 65, 69, 69, 68, 67, 67], [100, 86, 79, 57, 60, 55, 57, 58, 55, 55, 62, 57, 65, 61, 59, 60, 66, 60, 62, 65, 62, 64, 57, 60, 63, 62, 65, 56, 63, 55, 59, 59, 58, 56, 46, 46, 46, 43, 42, 43, 43, 43, 43, 45, 44, 43, 42, 42, 43, 42])\n"
     ]
    }
   ],
   "source": [
    "# print(beta_max)"
   ]
  },
  {
   "cell_type": "code",
   "execution_count": 40,
   "id": "ed510e80",
   "metadata": {},
   "outputs": [
    {
     "name": "stdout",
     "output_type": "stream",
     "text": [
      "   ID    %coverage    %identity\n",
      "Q9NVP1      100         100\n",
      "Q8K363       99          86\n",
      "Q9VD51       68          79\n",
      "Q1EA54       86          57\n",
      "A4R8B5       78          60\n",
      "A1CIQ5       89          55\n",
      "Q5BBY1       86          57\n",
      "Q4IEK8       82          58\n",
      "A1CW14       89          55\n",
      "Q4WQM4       89          55\n",
      "A2Q9T6       75          62\n",
      "Q0UR48       85          57\n",
      "Q54S03       70          65\n",
      "A3LNR6       75          61\n",
      "Q2UUN6       78          59\n",
      "Q7S2N9       78          60\n",
      "Q09916       68          66\n",
      "Q03532       73          60\n",
      "Q6CXB7       70          62\n",
      "Q6BH93       68          65\n",
      "Q6FIL3       71          62\n",
      "Q74Z73       66          64\n",
      "P0CQ84       80          57\n",
      "A5E2Z9       73          60\n",
      "A5DID7       68          63\n",
      "Q6C7D2       67          62\n",
      "Q4P6N0       66          65\n",
      "Q0CZS8       83          56\n",
      "Q5AK59       68          63\n",
      "Q2GMX1       83          55\n",
      "Q84T03       70          59\n",
      "Q9LIH9       70          59\n",
      "Q9SB89       69          58\n",
      "Q0DBS1       70          56\n",
      "Q13206       65          46\n",
      "Q80Y44       65          46\n",
      "Q5ZJF6       65          46\n",
      "A1CTZ2       71          43\n",
      "Q4P5U4       72          42\n",
      "Q1EB31       66          43\n",
      "Q0CMM5       68          43\n",
      "Q4WM60       69          43\n",
      "A1DNF9       68          43\n",
      "A7ESL8       63          45\n",
      "Q2H2J1       65          44\n",
      "Q5BFU1       69          43\n",
      "Q0UMB9       69          42\n",
      "Q2UHB7       68          42\n",
      "A2QS00       67          43\n",
      "Q54Q94       67          42\n"
     ]
    }
   ],
   "source": [
    "print('{:>5}    {:>5}    {:>5}'.format('ID','%coverage','%identity'))\n",
    "thresold_coverage=30\n",
    "thresold_identity=30\n",
    "\n",
    "for id, cov, ident in zip(beta_max[0], beta_max[1], beta_max[2]):\n",
    "#     print('{:>5}{:>9}{:>12}'.format(id,cov, ident))\n",
    "    if cov>thresold_coverage and ident>thresold_identity:\n",
    "        print('{:>5}{:>9}{:>12}'.format(id,cov, ident))"
   ]
  }
 ],
 "metadata": {
  "kernelspec": {
   "display_name": "Python 3 (ipykernel)",
   "language": "python",
   "name": "python3"
  },
  "language_info": {
   "codemirror_mode": {
    "name": "ipython",
    "version": 3
   },
   "file_extension": ".py",
   "mimetype": "text/x-python",
   "name": "python",
   "nbconvert_exporter": "python",
   "pygments_lexer": "ipython3",
   "version": "3.9.12"
  }
 },
 "nbformat": 4,
 "nbformat_minor": 5
}
