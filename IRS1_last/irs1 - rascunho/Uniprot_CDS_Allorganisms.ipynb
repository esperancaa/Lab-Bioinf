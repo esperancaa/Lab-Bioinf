{
 "cells": [
  {
   "cell_type": "code",
   "execution_count": 1,
   "id": "b22e8273",
   "metadata": {},
   "outputs": [],
   "source": [
    "file= open(\"CDS_protein_result_blast.txt\", \"r\")\n",
    "# print(file.read())"
   ]
  },
  {
   "cell_type": "code",
   "execution_count": 2,
   "id": "9013ab2a",
   "metadata": {},
   "outputs": [],
   "source": [
    "import requests, sys, json\n",
    "def get_url(url, **kwargs):\n",
    "    response = requests.get(url, **kwargs);\n",
    "\n",
    "    if not response.ok:\n",
    "        print(response.text)\n",
    "        response.raise_for_status()\n",
    "        sys.exit()\n",
    "\n",
    "    return response"
   ]
  },
  {
   "cell_type": "code",
   "execution_count": 1,
   "id": "f0578521",
   "metadata": {},
   "outputs": [
    {
     "name": "stdout",
     "output_type": "stream",
     "text": [
      "Entry\tOrganism\tProtein names\tSubcellular location [CC]\tFunction [CC]\n",
      "P35568\tHomo sapiens (Human)\tInsulin receptor substrate 1 (IRS-1)\t\tFUNCTION: May mediate the control of various cellular processes by insulin. When phosphorylated by the insulin receptor binds specifically to various cellular proteins containing SH2 domains such as phosphatidylinositol 3-kinase p85 subunit or GRB2. Activates phosphatidylinositol 3-kinase when bound to the regulatory p85 subunit (By similarity). {ECO:0000250, ECO:0000269|PubMed:16878150}.\n",
      "\n",
      "Entry\tOrganism\tProtein names\tSubcellular location [CC]\tFunction [CC]\n",
      "Q28224\tChlorocebus aethiops (Green monkey) (Cercopithecus aethiops)\tInsulin receptor substrate 1 (IRS-1)\t\tFUNCTION: May mediate the control of various cellular processes by insulin. When phosphorylated by the insulin receptor binds specifically to various cellular proteins containing SH2 domains such as phosphatidylinositol 3-kinase p85 subunit or GRB2. Activates phosphatidylinositol 3-kinase when bound to the regulatory p85 subunit (By similarity). {ECO:0000250}.\n",
      "\n",
      "Entry\tOrganism\tProtein names\tSubcellular location [CC]\tFunction [CC]\n",
      "P35570\tRattus norvegicus (Rat)\tInsulin receptor substrate 1 (IRS-1) (pp185)\t\tFUNCTION: May mediate the control of various cellular processes by insulin. When phosphorylated by the insulin receptor binds specifically to various cellular proteins containing SH2 domains such as phosphatidylinositol 3-kinase p85 subunit or GRB2. Activates phosphatidylinositol 3-kinase when bound to the regulatory p85 subunit. {ECO:0000269|PubMed:1380456}.\n",
      "\n",
      "Entry\tOrganism\tProtein names\tSubcellular location [CC]\tFunction [CC]\n",
      "P35569\tMus musculus (Mouse)\tInsulin receptor substrate 1 (IRS-1)\t\tFUNCTION: May mediate the control of various cellular processes by insulin. When phosphorylated by the insulin receptor binds specifically to various cellular proteins containing SH2 domains such as phosphatidylinositol 3-kinase p85 subunit or GRB2. Activates phosphatidylinositol 3-kinase when bound to the regulatory p85 subunit (By similarity). {ECO:0000250}.\n",
      "\n",
      "Entry\tOrganism\tProtein names\tSubcellular location [CC]\tFunction [CC]\n",
      "P84770\tXenopus laevis (African clawed frog)\tInsulin receptor substrate 1-B (IRS1-B) (xIRS-1-B) (XIRS-L')\t\tFUNCTION: May mediate the control of various cellular processes by insulin. When phosphorylated by the insulin receptor binds specifically to various cellular proteins containing SH2 domains such as phosphatidylinositol 3-kinase p85 subunit or grb2. Activates phosphatidylinositol 3-kinase when bound to the regulatory p85 subunit (By similarity). {ECO:0000250}.\n",
      "\n",
      "Entry\tOrganism\tProtein names\tSubcellular location [CC]\tFunction [CC]\n",
      "Q91615\tXenopus laevis (African clawed frog)\tInsulin receptor substrate 1-A (IRS1-A) (xIRS-1-A) (XIRS-L)\t\tFUNCTION: May mediate the control of various cellular processes by insulin. When phosphorylated by the insulin receptor binds specifically to various cellular proteins containing SH2 domains such as phosphatidylinositol 3-kinase p85 subunit or grb2. Activates phosphatidylinositol 3-kinase when bound to the regulatory p85 subunit (By similarity). {ECO:0000250}.\n",
      "\n",
      "Entry\tOrganism\tProtein names\tSubcellular location [CC]\tFunction [CC]\n",
      "Q9DF49\tXenopus laevis (African clawed frog)\tInsulin receptor substrate 2-A (IRS-2-A) (Insulin receptor substrate-undetermined designation) (Insulin receptor substrate-unique) (xIRS-u)\t\tFUNCTION: Potentiates insulin signaling. {ECO:0000269|PubMed:9717835}.\n",
      "\n",
      "Entry\tOrganism\tProtein names\tSubcellular location [CC]\tFunction [CC]\n",
      "Q5RJW5\tXenopus laevis (African clawed frog)\tInsulin receptor substrate 2-B (IRS-2-B)\t\tFUNCTION: Potentiates insulin signaling. {ECO:0000250}.\n",
      "\n",
      "Entry\tOrganism\tProtein names\tSubcellular location [CC]\tFunction [CC]\n",
      "P81122\tMus musculus (Mouse)\tInsulin receptor substrate 2 (IRS-2) (4PS)\tSUBCELLULAR LOCATION: Cytoplasm, cytosol {ECO:0000269|PubMed:17636024}.\tFUNCTION: May mediate the control of various cellular processes by insulin.\n",
      "\n",
      "Entry\tOrganism\tProtein names\tSubcellular location [CC]\tFunction [CC]\n",
      "Q9Y4H2\tHomo sapiens (Human)\tInsulin receptor substrate 2 (IRS-2)\tSUBCELLULAR LOCATION: Cytoplasm, cytosol {ECO:0000250}.\tFUNCTION: May mediate the control of various cellular processes by insulin.\n",
      "\n",
      "Entry\tOrganism\tProtein names\tSubcellular location [CC]\tFunction [CC]\n",
      "Q9Y4H2\tHomo sapiens (Human)\tInsulin receptor substrate 2 (IRS-2)\tSUBCELLULAR LOCATION: Cytoplasm, cytosol {ECO:0000250}.\tFUNCTION: May mediate the control of various cellular processes by insulin.\n",
      "\n",
      "Entry\tOrganism\tProtein names\tSubcellular location [CC]\tFunction [CC]\n",
      "Q6P4Y6\tXenopus tropicalis (Western clawed frog) (Silurana tropicalis)\tInsulin receptor substrate 1 (IRS-1)\t\tFUNCTION: May mediate the control of various cellular processes by insulin. When phosphorylated by the insulin receptor binds specifically to various cellular proteins containing SH2 domains such as phosphatidylinositol 3-kinase p85 subunit or grb2. Activates phosphatidylinositol 3-kinase when bound to the regulatory p85 subunit (By similarity). {ECO:0000250}.\n",
      "\n",
      "Entry\tOrganism\tProtein names\tSubcellular location [CC]\tFunction [CC]\n",
      "Q6P4Y6\tXenopus tropicalis (Western clawed frog) (Silurana tropicalis)\tInsulin receptor substrate 1 (IRS-1)\t\tFUNCTION: May mediate the control of various cellular processes by insulin. When phosphorylated by the insulin receptor binds specifically to various cellular proteins containing SH2 domains such as phosphatidylinositol 3-kinase p85 subunit or grb2. Activates phosphatidylinositol 3-kinase when bound to the regulatory p85 subunit (By similarity). {ECO:0000250}.\n",
      "\n",
      "Entry\tOrganism\tProtein names\tSubcellular location [CC]\tFunction [CC]\n",
      "O14654\tHomo sapiens (Human)\tInsulin receptor substrate 4 (IRS-4) (160 kDa phosphotyrosine protein) (py160) (Phosphoprotein of 160 kDa) (pp160)\tSUBCELLULAR LOCATION: Cell membrane {ECO:0000269|PubMed:9553137}; Peripheral membrane protein {ECO:0000269|PubMed:9553137}; Cytoplasmic side {ECO:0000269|PubMed:9553137}.\tFUNCTION: Acts as an interface between multiple growth factor receptors possessing tyrosine kinase activity, such as insulin receptor, IGF1R and FGFR1, and a complex network of intracellular signaling molecules containing SH2 domains. Involved in the IGF1R mitogenic signaling pathway. Promotes the AKT1 signaling pathway and BAD phosphorylation during insulin stimulation without activation of RPS6KB1 or the inhibition of apoptosis. Interaction with GRB2 enhances insulin-stimulated mitogen-activated protein kinase activity. May be involved in nonreceptor tyrosine kinase signaling in myoblasts. Plays a pivotal role in the proliferation/differentiation of hepatoblastoma cell through EPHB2 activation upon IGF1 stimulation. May play a role in the signal transduction in response to insulin and to a lesser extent in response to IL4 and GH on mitogenesis. Plays a role in growth, reproduction and glucose homeostasis. May act as negative regulators of the IGF1 signaling pathway by suppressing the function of IRS1 and IRS2. {ECO:0000269|PubMed:10531310, ECO:0000269|PubMed:10594015, ECO:0000269|PubMed:12639902, ECO:0000269|PubMed:17408801, ECO:0000269|PubMed:9553137}.\n",
      "\n",
      "Entry\tOrganism\tProtein names\tSubcellular location [CC]\tFunction [CC]\n",
      "Q9Z0Y7\tMus musculus (Mouse)\tInsulin receptor substrate 4 (IRS-4) (Phosphoprotein of 160 kDa) (pp160)\tSUBCELLULAR LOCATION: Cell membrane; Peripheral membrane protein; Cytoplasmic side.\tFUNCTION: Acts as an interface between multiple growth factor receptors possessing tyrosine kinase activity, such as insulin receptor, IGF1R and FGFR1, and a complex network of intracellular signaling molecules containing SH2 domains. Involved in the IGF1R mitogenic signaling pathway. Promotes the AKT1 signaling pathway and BAD phosphorylation during insulin stimulation without activation of RPS6KB1 or the inhibition of apoptosis. Interaction with GRB2 enhances insulin-stimulated mitogen-activated protein kinase activity. May be involved in nonreceptor tyrosine kinase signaling in myoblasts. Plays a pivotal role in the proliferation/differentiation of hepatoblastoma cell through EPHB2 activation upon IGF1 stimulation. May play a role in the signal transduction in response to insulin and to a lesser extent in response to IL4 and GH on mitogenesis. Plays a role in growth, reproduction and glucose homeostasis. May act as negative regulators of the IGF1 signaling pathway by suppressing the function of IRS1 and IRS2. {ECO:0000269|PubMed:10403832, ECO:0000269|PubMed:10644546, ECO:0000269|PubMed:11113178, ECO:0000269|PubMed:12618213}.\n",
      "\n"
     ]
    },
    {
     "name": "stdout",
     "output_type": "stream",
     "text": [
      "Entry\tOrganism\tProtein names\tSubcellular location [CC]\tFunction [CC]\n",
      "B3N946\tDrosophila erecta (Fruit fly)\tInsulin receptor substrate 1 (Protein chico)\t\tFUNCTION: Activates phosphatidylinositol 3-kinase when bound to the regulatory p85 subunit. May mediate the control of various cellular processes by insulin-like peptides. When phosphorylated by the insulin receptor binds specifically to various cellular proteins containing SH2 domains. Involved in control of cell proliferation, cell size, and body and organ growth throughout development. Also has a role in a signaling pathway controlling the physiological response required to endure periods of low nutrient conditions. Insulin/insulin-like growth factor (IGF) signaling pathway has a role in regulating aging and is necessary in the ovary for vitellogenic maturation (By similarity). {ECO:0000250|UniProtKB:P35570, ECO:0000250|UniProtKB:Q9XTN2}.\n",
      "\n",
      "Entry\tOrganism\tProtein names\tSubcellular location [CC]\tFunction [CC]\n",
      "B4NZ70\tDrosophila yakuba (Fruit fly)\tInsulin receptor substrate 1 (Protein chico)\t\tFUNCTION: Activates phosphatidylinositol 3-kinase when bound to the regulatory p85 subunit. May mediate the control of various cellular processes by insulin-like peptides. When phosphorylated by the insulin receptor binds specifically to various cellular proteins containing SH2 domains. Involved in control of cell proliferation, cell size, and body and organ growth throughout development. Also has a role in a signaling pathway controlling the physiological response required to endure periods of low nutrient conditions. Insulin/insulin-like growth factor (IGF) signaling pathway has a role in regulating aging and is necessary in the ovary for vitellogenic maturation (By similarity). {ECO:0000250|UniProtKB:P35570, ECO:0000250|UniProtKB:Q9XTN2}.\n",
      "\n",
      "Entry\tOrganism\tProtein names\tSubcellular location [CC]\tFunction [CC]\n",
      "B4HWI2\tDrosophila sechellia (Fruit fly)\tInsulin receptor substrate 1 (Protein chico)\t\tFUNCTION: Activates phosphatidylinositol 3-kinase when bound to the regulatory p85 subunit. May mediate the control of various cellular processes by insulin-like peptides. When phosphorylated by the insulin receptor binds specifically to various cellular proteins containing SH2 domains. Involved in control of cell proliferation, cell size, and body and organ growth throughout development. Also has a role in a signaling pathway controlling the physiological response required to endure periods of low nutrient conditions. Insulin/insulin-like growth factor (IGF) signaling pathway has a role in regulating aging and is necessary in the ovary for vitellogenic maturation (By similarity). {ECO:0000250|UniProtKB:P35570, ECO:0000250|UniProtKB:Q9XTN2}.\n",
      "\n",
      "Entry\tOrganism\tProtein names\tSubcellular location [CC]\tFunction [CC]\n",
      "Q9XTN2\tDrosophila melanogaster (Fruit fly)\tInsulin receptor substrate 1 (dIRS) (Protein chico)\t\tFUNCTION: Activates phosphatidylinositol 3-kinase when bound to the regulatory p85 subunit (By similarity). May mediate the control of various cellular processes by insulin-like peptides. When phosphorylated by the insulin receptor binds specifically to various cellular proteins containing SH2 domains. Involved in control of cell proliferation, cell size, and body and organ growth throughout development. Also has a role in a signaling pathway controlling the physiological response required to endure periods of low nutrient conditions. Insulin/insulin-like growth factor (IGF) signaling pathway has a role in regulating aging and is necessary in the ovary for vitellogenic maturation. {ECO:0000250, ECO:0000269|PubMed:10399915, ECO:0000269|PubMed:10801879, ECO:0000269|PubMed:11292874, ECO:0000269|PubMed:15890189}.\n",
      "\n",
      "Entry\tOrganism\tProtein names\tSubcellular location [CC]\tFunction [CC]\n",
      "B3MPN6\tDrosophila ananassae (Fruit fly)\tInsulin receptor substrate 1 (Protein chico)\t\tFUNCTION: Activates phosphatidylinositol 3-kinase when bound to the regulatory p85 subunit. May mediate the control of various cellular processes by insulin-like peptides. When phosphorylated by the insulin receptor binds specifically to various cellular proteins containing SH2 domains. Involved in control of cell proliferation, cell size, and body and organ growth throughout development. Also has a role in a signaling pathway controlling the physiological response required to endure periods of low nutrient conditions. Insulin/insulin-like growth factor (IGF) signaling pathway has a role in regulating aging and is necessary in the ovary for vitellogenic maturation (By similarity). {ECO:0000250|UniProtKB:P35570, ECO:0000250|UniProtKB:Q9XTN2}.\n",
      "\n",
      "Entry\tOrganism\tProtein names\tSubcellular location [CC]\tFunction [CC]\n",
      "Q9Z1S8\tMus musculus (Mouse)\tGRB2-associated-binding protein 2 (GRB2-associated binder 2) (Growth factor receptor bound protein 2-associated protein 2) (PH domain-containing adaptor molecule p97)\tSUBCELLULAR LOCATION: Cytoplasm {ECO:0000250}. Cell membrane {ECO:0000250}.\tFUNCTION: Adapter protein which acts downstream of several membrane receptors including cytokine, antigen, hormone, cell matrix and growth factor receptors to regulate multiple signaling pathways. Regulates osteoclast differentiation mediating the TNFRSF11A/RANK signaling. In allergic response, it plays a role in mast cells activation and degranulation through PI-3-kinase regulation. Also involved in the regulation of cell proliferation and hematopoiesis. {ECO:0000269|PubMed:10068651, ECO:0000269|PubMed:11449275, ECO:0000269|PubMed:15750601, ECO:0000269|PubMed:17374739, ECO:0000269|PubMed:9885561}.\n",
      "\n",
      "Entry\tOrganism\tProtein names\tSubcellular location [CC]\tFunction [CC]\n",
      "Q9EQH1\tRattus norvegicus (Rat)\tGRB2-associated-binding protein 2 (GRB2-associated binder 2) (Growth factor receptor bound protein 2-associated protein 2)\tSUBCELLULAR LOCATION: Cytoplasm {ECO:0000250}. Cell membrane {ECO:0000250}.\tFUNCTION: Adapter protein which acts downstream of several membrane receptors including cytokine, antigen, hormone, cell matrix and growth factor receptors to regulate multiple signaling pathways. Regulates osteoclast differentiation mediating the TNFRSF11A/RANK signaling. In allergic response, it plays a role in mast cells activation and degranulation through PI-3-kinase regulation. Also involved in the regulation of cell proliferation and hematopoiesis (By similarity). {ECO:0000250}.\n",
      "\n",
      "Entry\tOrganism\tProtein names\tSubcellular location [CC]\tFunction [CC]\n",
      "Q9UQC2\tHomo sapiens (Human)\tGRB2-associated-binding protein 2 (GRB2-associated binder 2) (Growth factor receptor bound protein 2-associated protein 2) (pp100)\tSUBCELLULAR LOCATION: Cytoplasm {ECO:0000269|PubMed:19172738}. Cell membrane {ECO:0000269|PubMed:19172738}.\tFUNCTION: Adapter protein which acts downstream of several membrane receptors including cytokine, antigen, hormone, cell matrix and growth factor receptors to regulate multiple signaling pathways. Regulates osteoclast differentiation mediating the TNFRSF11A/RANK signaling. In allergic response, it plays a role in mast cells activation and degranulation through PI-3-kinase regulation. Also involved in the regulation of cell proliferation and hematopoiesis. {ECO:0000269|PubMed:15750601, ECO:0000269|PubMed:19172738}.\n",
      "\n",
      "Entry\tOrganism\tProtein names\tSubcellular location [CC]\tFunction [CC]\n",
      "Q99PF6\tMesocricetus auratus (Golden hamster)\tGRB2-associated-binding protein 1 (GRB2-associated binder 1) (Growth factor receptor bound protein 2-associated protein 1)\t\tFUNCTION: Adapter protein that plays a role in intracellular signaling cascades triggered by activated receptor-type kinases. Plays a role in FGFR1 signaling. Probably involved in signaling by the epidermal growth factor receptor (EGFR) and the insulin receptor (INSR). Involved in the MET/HGF-signaling pathway. {ECO:0000250|UniProtKB:Q13480}.\n",
      "\n",
      "Entry\tOrganism\tProtein names\tSubcellular location [CC]\tFunction [CC]\n",
      "A6QLU3\tBos taurus (Bovine)\tGRB2-associated-binding protein 1 (GRB2-associated binder 1) (Growth factor receptor bound protein 2-associated protein 1)\t\tFUNCTION: Adapter protein that plays a role in intracellular signaling cascades triggered by activated receptor-type kinases. Plays a role in FGFR1 signaling. Probably involved in signaling by the epidermal growth factor receptor (EGFR) and the insulin receptor (INSR). Involved in the MET/HGF-signaling pathway. {ECO:0000250|UniProtKB:Q13480}.\n",
      "\n"
     ]
    },
    {
     "name": "stdout",
     "output_type": "stream",
     "text": [
      "Entry\tOrganism\tProtein names\tSubcellular location [CC]\tFunction [CC]\n",
      "Q13480\tHomo sapiens (Human)\tGRB2-associated-binding protein 1 (GRB2-associated binder 1) (Growth factor receptor bound protein 2-associated protein 1)\t\tFUNCTION: Adapter protein that plays a role in intracellular signaling cascades triggered by activated receptor-type kinases. Plays a role in FGFR1 signaling. Probably involved in signaling by the epidermal growth factor receptor (EGFR) and the insulin receptor (INSR). Involved in the MET/HGF-signaling pathway (PubMed:29408807). {ECO:0000269|PubMed:29408807}.\n",
      "\n",
      "Entry\tOrganism\tProtein names\tSubcellular location [CC]\tFunction [CC]\n",
      "Q9QYY0\tMus musculus (Mouse)\tGRB2-associated-binding protein 1 (GRB2-associated binder 1) (Growth factor receptor bound protein 2-associated protein 1)\t\tFUNCTION: Adapter protein that plays a role in intracellular signaling cascades triggered by activated receptor-type kinases. Plays a role in FGFR1 signaling. Probably involved in signaling by the epidermal growth factor receptor (EGFR) and the insulin receptor (INSR). Involved in the MET/HGF-signaling pathway. {ECO:0000250|UniProtKB:Q13480}.\n",
      "\n",
      "Entry\tOrganism\tProtein names\tSubcellular location [CC]\tFunction [CC]\n",
      "Q2WGN9\tHomo sapiens (Human)\tGRB2-associated-binding protein 4 (GRB2-associated binder 2-like) (GAB2-like) (GRB2-associated binder 4) (GRB2-associated-binding protein 2-like) (Growth factor receptor bound protein 2-associated protein 4)\t\t\n",
      "\n",
      "Entry\tOrganism\tProtein names\tSubcellular location [CC]\tFunction [CC]\n",
      "Q8WWW8\tHomo sapiens (Human)\tGRB2-associated-binding protein 3 (GRB2-associated binder 3) (Growth factor receptor bound protein 2-associated protein 3)\t\t\n",
      "\n",
      "Entry\tOrganism\tProtein names\tSubcellular location [CC]\tFunction [CC]\n",
      "Q8TEW6\tHomo sapiens (Human)\tDocking protein 4 (Downstream of tyrosine kinase 4) (Insulin receptor substrate 5) (IRS-5) (IRS5)\t\tFUNCTION: DOK proteins are enzymatically inert adaptor or scaffolding proteins. They provide a docking platform for the assembly of multimolecular signaling complexes. DOK4 functions in RET-mediated neurite outgrowth and plays a positive role in activation of the MAP kinase pathway (By similarity). Putative link with downstream effectors of RET in neuronal differentiation. May be involved in the regulation of the immune response induced by T-cells. {ECO:0000250}.\n",
      "\n",
      "Entry\tOrganism\tProtein names\tSubcellular location [CC]\tFunction [CC]\n",
      "Q99KE3\tMus musculus (Mouse)\tDocking protein 4 (Downstream of tyrosine kinase 4)\t\tFUNCTION: DOK proteins are enzymatically inert adaptor or scaffolding proteins. They provide a docking platform for the assembly of multimolecular signaling complexes. DOK4 functions in RET-mediated neurite outgrowth and plays a positive role in activation of the MAP kinase pathway (By similarity). Putative link with downstream effectors of RET in neuronal differentiation. May be involved in the regulation of the immune response induced by T-cells (By similarity). {ECO:0000250}.\n",
      "\n"
     ]
    }
   ],
   "source": [
    "#não mexer\n",
    "fields=\"accession,organism_name,protein_name,cc_subcellular_location,cc_function\"\n",
    "WEBSITE_API=\"https://rest.uniprot.org\"\n",
    "with open('uniprot_result_CDS_filtered.txt', 'w',encoding='utf-8') as f:\n",
    "    for i in file:\n",
    "        r=get_url(\"{}/uniprotkb/search?query={} AND (reviewed:true)&fields={}&size=1&format=tsv\".format(WEBSITE_API,i, fields))\n",
    "        print(r.text)\n",
    "        f.write(r.text)\n",
    "        f.write('\\n')\n",
    "    "
   ]
  }
 ],
 "metadata": {
  "kernelspec": {
   "display_name": "Python 3 (ipykernel)",
   "language": "python",
   "name": "python3"
  },
  "language_info": {
   "codemirror_mode": {
    "name": "ipython",
    "version": 3
   },
   "file_extension": ".py",
   "mimetype": "text/x-python",
   "name": "python",
   "nbconvert_exporter": "python",
   "pygments_lexer": "ipython3",
   "version": "3.9.12"
  }
 },
 "nbformat": 4,
 "nbformat_minor": 5
}
