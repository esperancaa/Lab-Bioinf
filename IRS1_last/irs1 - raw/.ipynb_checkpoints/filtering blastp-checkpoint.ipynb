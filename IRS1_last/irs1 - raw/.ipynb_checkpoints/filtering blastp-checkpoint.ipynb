{
 "cells": [
  {
   "cell_type": "code",
   "execution_count": 2,
   "id": "413ca015",
   "metadata": {},
   "outputs": [],
   "source": [
    "from Bio import Entrez, SeqIO, Medline\n",
    "from Bio.Blast import NCBIXML \n",
    "from Bio.Blast import NCBIWWW\n",
    "from Bio.Align.Applications import ClustalwCommandline\n",
    "from Bio import AlignIO\n",
    "from Bio.Align import MultipleSeqAlignment\n",
    "from Bio import AlignIO\n",
    "from Bio.Phylo.TreeConstruction import DistanceCalculator, DistanceTreeConstructor\n",
    "from Bio import Phylo\n",
    "import requests, sys, json\n",
    "import re"
   ]
  },
  {
   "cell_type": "code",
   "execution_count": 15,
   "id": "6e71b3a2",
   "metadata": {},
   "outputs": [
    {
     "data": {
      "text/plain": [
       "1586"
      ]
     },
     "execution_count": 15,
     "metadata": {},
     "output_type": "execute_result"
    }
   ],
   "source": [
    "#filter by identities and coverage - not working when blastp alignment has several hsps\n",
    "results_Blastp= open('rod.xml')\n",
    "blastp_records_r = NCBIXML.read(results_Blastp)\n",
    "first=blastp_records_r.alignments[0]\n",
    "len_max_seq=first.hsps[0].align_length\n",
    "len_max_seq"
   ]
  },
  {
   "cell_type": "code",
   "execution_count": 57,
   "id": "f9ce730e",
   "metadata": {},
   "outputs": [
    {
     "name": "stdout",
     "output_type": "stream",
     "text": [
      "P10070 1586 1569 0.0 1 1586\n",
      "Q0VGT2 1578 1307 0.0 1 1544\n",
      "Q91661 1458 801 0.0 1 1361\n",
      "Q9IA31 1133 620 0.0 124 1193\n",
      "Q9IA31 70 51 1.2649e-18 1475 1544\n",
      "P55879 665 523 0.0 1 654\n",
      "Q91660 1174 614 0.0 128 1231\n",
      "Q91660 100 67 1.0109e-28 1469 1568\n",
      "P10071 1135 616 0.0 124 1192\n",
      "P10071 101 69 2.03333e-29 1479 1579\n",
      "Q5IS56 1135 616 0.0 124 1192\n",
      "Q5IS56 101 69 2.90113e-29 1479 1579\n",
      "Q61602 1103 604 0.0 124 1165\n",
      "Q61602 101 70 3.0062e-30 1482 1582\n",
      "Q91690 1056 484 0.0 12 920\n",
      "Q91690 170 66 7.41706e-16 1204 1360\n",
      "P55878 607 305 1.01429e-154 14 544\n",
      "P08151 888 377 1.29323e-152 68 765\n",
      "P08151 89 35 0.00386513 1032 1103\n",
      "P47806 807 358 8.14919e-148 75 700\n",
      "P47806 89 36 7.80045e-05 1037 1108\n",
      "P19538 428 210 6.04686e-96 196 614\n",
      "P19538 299 74 0.924313 831 1093\n",
      "P19538 44 16 3.53196 1353 1396\n",
      "Q8NEA6 202 117 9.86856e-66 323 520\n",
      "Q8NEA6 65 35 2.34383e-06 132 196\n",
      "Q6XP49 175 110 3.06807e-65 347 520\n",
      "Q6XP49 65 34 3.44366e-06 133 197\n",
      "Q8NBF1 168 107 4.49768e-64 190 356\n",
      "Q8K1M4 169 106 9.93642e-63 360 527\n",
      "P34708 168 99 1.50114e-59 206 372\n",
      "Q17308 164 97 1.13205e-57 228 390\n",
      "Q98T94 180 90 8.04265e-52 160 334\n",
      "Q9BZE0 169 88 8.7567e-52 154 318\n",
      "Q8VDL9 169 86 2.98231e-51 154 318\n",
      "Q7K0S9 152 84 7.57114e-51 130 278\n",
      "Q61467 165 85 2.21083e-48 134 296\n",
      "Q9IB89 160 83 5.04667e-48 266 424\n",
      "Q9IB89 127 33 0.00924902 264 365\n",
      "O77027 104 83 8.01e-48 1 104\n",
      "O77027 94 28 0.00284909 1 88\n",
      "Q8N9L1 148 82 1.03597e-47 144 289\n",
      "Q7TQ40 172 84 1.37675e-47 362 532\n",
      "A0JC51 166 85 1.82075e-47 278 442\n",
      "Q96T25 145 80 4.36874e-47 431 574\n",
      "Q96T25 120 44 1.25385e-18 460 573\n",
      "O60481 166 83 9.2348e-47 247 409\n",
      "Q9YIB7 168 83 1.04215e-46 267 431\n",
      "Q91689 167 84 1.11015e-46 272 435\n",
      "O95409 168 84 1.8307e-46 250 414\n",
      "Q62520 168 84 2.29093e-46 250 414\n",
      "Q62521 166 82 2.9077e-46 246 408\n",
      "Q8JJC0 163 82 8.03924e-46 221 380\n",
      "Q8JJC0 128 33 0.00551381 219 322\n",
      "O73689 163 81 9.06193e-46 220 379\n",
      "O73689 128 33 0.0036128 218 321\n",
      "Q15915 163 82 1.67739e-45 224 383\n",
      "Q15915 128 33 0.00486671 222 325\n",
      "P46684 163 82 1.72556e-45 224 383\n",
      "P46684 128 33 0.0049511 222 325\n",
      "P39768 176 85 3.82603e-44 203 376\n",
      "Q6DJQ6 163 79 2.26982e-43 221 380\n",
      "O57311 163 79 2.49419e-43 221 380\n",
      "A6QQW0 146 62 5.10108e-29 244 382\n",
      "A6QQW0 149 53 1.35094e-24 214 354\n",
      "A6QQW0 121 47 9.9046e-23 209 325\n",
      "A6QQW0 109 48 1.39844e-19 188 295\n",
      "A6QQW0 126 41 1.4674e-11 303 420\n",
      "Q91853 146 62 1.13512e-28 262 400\n",
      "Q91853 158 57 5.87411e-25 232 381\n",
      "Q91853 121 47 4.90235e-22 227 343\n",
      "Q91853 135 52 3.29831e-18 219 343\n",
      "Q91853 152 43 4.42206e-10 292 438\n",
      "P52747 146 62 1.30998e-28 269 407\n",
      "P52747 149 53 2.09288e-24 239 379\n",
      "P52747 121 48 7.61145e-23 234 350\n",
      "P52747 109 48 1.01168e-19 213 320\n",
      "P52747 152 44 3.52512e-10 299 445\n",
      "Q58DZ6 146 62 1.42188e-28 262 400\n",
      "Q58DZ6 158 57 6.69194e-25 232 381\n",
      "Q58DZ6 121 48 7.762e-23 227 343\n",
      "Q58DZ6 120 49 6.3213e-19 225 343\n",
      "Q58DZ6 152 43 3.80152e-10 292 438\n",
      "Q1LYE3 153 64 1.49189e-27 262 406\n",
      "Q1LYE3 124 49 2.09254e-21 224 343\n",
      "Q1LYE3 122 48 8.28171e-19 223 343\n",
      "Q1LYE3 126 41 1.09791e-09 321 438\n",
      "Q14872 168 64 1.40054e-25 126 285\n",
      "Q14872 125 48 2.48634e-16 202 319\n"
     ]
    }
   ],
   "source": [
    "# # filter by identities and coverage - not working when blastp alignment has several hsps\n",
    "results_Blastp= open('rod.xml')\n",
    "blastp_records = NCBIXML.parse(results_Blastp)\n",
    "\n",
    "#print(\" id  |  length of seq |  query seq=subj seq  | e-value  \")\n",
    "\n",
    "\n",
    "for alignment in  blastp_records:\n",
    "    list_identities,list_coverage_start, list_coverage_stop,list_alignLen=[],[],[],[]\n",
    "\n",
    "    for a in alignment.alignments:\n",
    "        for b in a.hsps:\n",
    "            list_coverage_start.append(b.sbjct_start)\n",
    "            list_coverage_stop.append(b.sbjct_end)\n",
    "            list_identities.append(b.identities)\n",
    "            list_alignLen.append(b.align_length)\n",
    "            print(a.accession, b.align_length, b.identities, b.expect, b.sbjct_start, b.sbjct_end)\n",
    "            \n",
    "#print(list_identities)            \n",
    "def identity(list_i,list_a):\n",
    "    perc_list_identities=[]\n",
    "    for index in range(len(list_identities)):\n",
    "        perc_list_identities.append(round(list_i[index]*100/list_a[index]))\n",
    "    return perc_list_identities\n",
    "\n",
    "def coverage(list_end,list_start):\n",
    "    perc_list_coverage=[]\n",
    "    for index in range(len(list_identities)):\n",
    "        perc_list_coverage.append(round((list_end[index]-list_start[index])/len_max_seq*100))\n",
    "    return perc_list_coverage\n",
    "\n"
   ]
  },
  {
   "cell_type": "code",
   "execution_count": 20,
   "id": "32b9a60b",
   "metadata": {},
   "outputs": [
    {
     "name": "stdout",
     "output_type": "stream",
     "text": [
      "[99, 83, 55, 55, 73, 79, 52, 67, 54, 68, 54, 68, 55, 69, 46, 39, 50, 42, 39, 44, 40, 49, 25, 36, 58, 54, 63, 52, 64, 63, 59, 59, 50, 52, 51, 55, 52, 52, 26, 80, 30, 55, 49, 51, 55, 37, 50, 49, 50, 50, 50, 49, 50, 26, 50, 26, 50, 26, 50, 26, 48, 48, 48, 42, 36, 39, 44, 33, 42, 36, 39, 39, 28, 42, 36, 40, 44, 29, 42, 36, 40, 41, 28, 42, 40, 39, 33, 38, 38]\n"
     ]
    }
   ],
   "source": [
    "print(identity(list_identities,list_alignLen))"
   ]
  },
  {
   "cell_type": "code",
   "execution_count": 60,
   "id": "eebb87ff",
   "metadata": {},
   "outputs": [
    {
     "name": "stdout",
     "output_type": "stream",
     "text": [
      "[100, 97, 86, 67, 4, 41, 70, 6, 67, 6, 67, 6, 66, 6, 57, 10, 33, 44, 4, 39, 4, 26, 17, 3, 12, 4, 11, 4, 10, 11, 10, 10, 11, 10, 10, 9, 10, 10, 6, 6, 5, 9, 11, 10, 9, 7, 10, 10, 10, 10, 10, 10, 10, 6, 10, 6, 10, 6, 10, 6, 11, 10, 10, 9, 9, 7, 7, 7, 9, 9, 7, 8, 9, 9, 9, 7, 7, 9, 9, 9, 7, 7, 9, 9, 8, 8, 7, 10, 7]\n"
     ]
    }
   ],
   "source": [
    "print(coverage(list_coverage_stop, list_coverage_start))\n",
    "#dá bem em Q9BZE0 mas mal no 3º (aparwntwmente é o denominador do calculo da função)"
   ]
  }
 ],
 "metadata": {
  "kernelspec": {
   "display_name": "Python 3 (ipykernel)",
   "language": "python",
   "name": "python3"
  },
  "language_info": {
   "codemirror_mode": {
    "name": "ipython",
    "version": 3
   },
   "file_extension": ".py",
   "mimetype": "text/x-python",
   "name": "python",
   "nbconvert_exporter": "python",
   "pygments_lexer": "ipython3",
   "version": "3.9.12"
  }
 },
 "nbformat": 4,
 "nbformat_minor": 5
}
